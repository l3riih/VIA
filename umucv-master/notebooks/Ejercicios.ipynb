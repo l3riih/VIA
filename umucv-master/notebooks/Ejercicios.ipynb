{
 "cells": [
  {
   "cell_type": "markdown",
   "source": [
    "\n",
    "Primero medimos el objeto que mide unos 11 cm:"
   ],
   "metadata": {
    "collapsed": false
   }
  },
  {
   "cell_type": "markdown",
   "source": [
    "<img src=\"../code/foto/webcam_screenshot_27.04.2023.png\" alt=\"Texto alternativo\" width=\"300\" height=\"200\">\n"
   ],
   "metadata": {
    "collapsed": false
   }
  },
  {
   "cell_type": "markdown",
   "source": [
    "Despues calculamos f: Mis disculpas por la confusión. Aquí tienes la ecuación resultante con un carácter de escape:\n",
    "\n",
    "Para despejar f de la ecuación $u = f \\frac{X}{Z}$, podemos seguir los siguientes pasos:\n",
    "\n",
    "   $$f = u \\frac{Z}{X}$$\n",
    "\n",
    "Dado que $u = 694 \\, \\text{pix}$, $Z = 30 \\, \\text{cm}$ y $X = 11 \\, \\text{cm}$, podemos reemplazar estos valores en la ecuación $f = u \\frac{Z}{X}$:\n",
    "\n",
    "$$f = 694 \\, \\text{pix} \\cdot \\frac{30 \\, \\text{cm}}{11 \\, \\text{cm}}$$\n",
    "\n",
    "Realizando la operación, obtenemos:\n",
    "\n",
    "$$f = 694 \\, \\text{pix} \\cdot \\frac{30}{11} \\approx 1894.18 \\, \\text{pix}$$\n",
    "\n",
    "Por lo tanto, con los valores proporcionados, $f \\approx 1892\\, \\text{pix}$.\n",
    "\n",
    "Ahora calculamos el FOV Sabiendo que la resolution de la camara es de 1280x720:\n",
    "\n",
    "\n",
    "\n",
    "$$\\tan\\left(\\frac{FOV}{2}\\right) = \\frac{\\frac{1280}{2}}{1892}$$\n",
    "\n",
    "Simplificando la expresión, tenemos:\n",
    "\n",
    "$$\\tan\\left(\\frac{FOV}{2}\\right) = \\frac{640}{1892} \\approx 0.3382$$\n",
    "\n",
    "\n",
    "Para el fov horizontal:\n",
    "\n",
    "\n",
    "$$\\tan\\left(\\frac{FOV}{2}\\right) = \\frac{\\frac{720}{2}}{1892}$$\n",
    "\n",
    "Simplificando la expresión, tenemos:\n",
    "\n",
    "$$\\tan\\left(\\frac{FOV}{2}\\right) = \\frac{360}{1892} \\approx 0.1902$$\n",
    "\n",
    "\n",
    "\n",
    "\n",
    "\n"
   ],
   "metadata": {
    "collapsed": false
   }
  },
  {
   "cell_type": "code",
   "execution_count": 5,
   "metadata": {
    "collapsed": true,
    "ExecuteTime": {
     "start_time": "2023-04-27T15:15:29.316159Z",
     "end_time": "2023-04-27T15:15:30.046613Z"
    }
   },
   "outputs": [
    {
     "name": "stdout",
     "output_type": "stream",
     "text": [
      "/bin/zsh: /home/l3riian/anaconda3/lib/python3.10/site-packages/cv2/../../../../lib/libncursesw.so.6: no version information available (required by /bin/zsh)\r\n",
      "processing ../code/calibrate/Calib/20230427-150459-0.png...\r\n",
      "chessboard not found\r\n",
      "processing ../code/calibrate/Calib/20230427-150459-1.png...\r\n",
      "ok\r\n",
      "processing ../code/calibrate/Calib/20230427-150459-2.png...\r\n",
      "ok\r\n",
      "processing ../code/calibrate/Calib/20230427-150459-3.png...\r\n",
      "ok\r\n",
      "processing ../code/calibrate/Calib/20230427-150459-4.png...\r\n",
      "ok\r\n",
      "processing ../code/calibrate/Calib/20230427-150459-5.png...\r\n",
      "ok\r\n",
      "processing ../code/calibrate/Calib/20230427-150459-6.png...\r\n",
      "ok\r\n",
      "processing ../code/calibrate/Calib/20230427-150459-7.png...\r\n",
      "ok\r\n",
      "processing ../code/calibrate/Calib/20230427-150459-8.png...\r\n",
      "chessboard not found\r\n",
      "processing ../code/calibrate/Calib/20230427-150459-9.png...\r\n",
      "ok\r\n",
      "processing ../code/calibrate/Calib/20230427-150459-10.png...\r\n",
      "ok\r\n",
      "processing ../code/calibrate/Calib/20230427-150459-11.png...\r\n",
      "ok\r\n",
      "processing ../code/calibrate/Calib/20230427-150459-12.png...\r\n",
      "ok\r\n",
      "processing ../code/calibrate/Calib/20230427-150459-13.png...\r\n",
      "ok\r\n",
      "processing ../code/calibrate/Calib/20230427-150459-14.png...\r\n",
      "chessboard not found\r\n",
      "processing ../code/calibrate/Calib/20230427-150459-15.png...\r\n",
      "ok\r\n",
      "processing ../code/calibrate/Calib/20230427-150459-16.png...\r\n",
      "chessboard not found\r\n",
      "processing ../code/calibrate/Calib/20230427-150459-17.png...\r\n",
      "ok\r\n",
      "processing ../code/calibrate/Calib/20230427-150459-18.png...\r\n",
      "ok\r\n",
      "RMS: 0.0816821770189622\r\n",
      "camera matrix:\r\n",
      " [[344.73974245   0.         131.52411057]\r\n",
      " [  0.         346.60026398  73.47873522]\r\n",
      " [  0.           0.           1.        ]]\r\n",
      "distortion coefficients:  [-6.93747728e-02  1.39298611e+00  5.38937825e-04  5.97616768e-03\r\n",
      " -1.03895981e+01]\r\n"
     ]
    }
   ],
   "source": [
    "!python  ../code/calibrate/calibrate.py \"../code/calibrate/Calib/*.png\"\n",
    "\n"
   ]
  },
  {
   "cell_type": "markdown",
   "source": [
    "Obtenemos una f de 344 pixeles, para las images tuvimos que reducir su resolucion, asi que multiplicamos esto por 5 y nos da 1720 pix\n",
    "Que se encuentra dentro del rango de error.\n"
   ],
   "metadata": {
    "collapsed": false
   }
  }
 ],
 "metadata": {
  "kernelspec": {
   "display_name": "Python 3",
   "language": "python",
   "name": "python3"
  },
  "language_info": {
   "codemirror_mode": {
    "name": "ipython",
    "version": 2
   },
   "file_extension": ".py",
   "mimetype": "text/x-python",
   "name": "python",
   "nbconvert_exporter": "python",
   "pygments_lexer": "ipython2",
   "version": "2.7.6"
  }
 },
 "nbformat": 4,
 "nbformat_minor": 0
}
