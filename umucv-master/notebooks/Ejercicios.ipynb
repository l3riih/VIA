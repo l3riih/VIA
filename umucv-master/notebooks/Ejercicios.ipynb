{
 "cells": [
  {
   "cell_type": "markdown",
   "source": [
    "\n",
    "Primero medimos el objeto que mide unos 11 cm:"
   ],
   "metadata": {
    "collapsed": false
   }
  },
  {
   "cell_type": "markdown",
   "source": [
    "<img src=\"../code/foto/webcam_screenshot_27.04.2023.png\" alt=\"Texto alternativo\" width=\"300\" height=\"200\">\n"
   ],
   "metadata": {
    "collapsed": false
   }
  },
  {
   "cell_type": "markdown",
   "source": [
    "Despues calculamos f: Mis disculpas por la confusión. Aquí tienes la ecuación resultante con un carácter de escape:\n",
    "\n",
    "Para despejar f de la ecuación $u = f \\frac{X}{Z}$, podemos seguir los siguientes pasos:\n",
    "\n",
    "   $$f = u \\frac{Z}{X}$$\n",
    "\n",
    "Dado que $u = 190\\, \\text{pix}$, $Z = 30 \\, \\text{cm}$ y $X = 11 \\, \\text{cm}$, podemos reemplazar estos valores en la ecuación $f = u \\frac{Z}{X}$:\n",
    "\n",
    "$$f = 190 \\, \\text{pix} \\cdot \\frac{30 \\, \\text{cm}}{11 \\, \\text{cm}}$$\n",
    "\n",
    "Realizando la operación, obtenemos:\n",
    "\n",
    "$$f = 190 \\, \\text{pix} \\cdot \\frac{30}{11} \\approx 518\\, \\text{pix}$$\n",
    "\n",
    "Por lo tanto, con los valores proporcionados, $f \\approx 518\\, \\text{pix}$.\n",
    "\n",
    "Ahora calculamos el FOV Sabiendo que la resolution de la camara es de 640x480:\n",
    "\n",
    "\n",
    "\n",
    "$$\\tan\\left(\\frac{FOV}{2}\\right) = \\frac{\\frac{640}{2}}{518}$$\n",
    "\n",
    "Simplificando la expresión, tenemos:\n",
    "\n",
    "$$\\tan\\left(\\frac{FOV}{2}\\right) = \\frac{320}{518} \\approx 63.4$$\n",
    "\n",
    "\n",
    "Para el fov horizontal:\n",
    "\n",
    "\n",
    "$$\\tan\\left(\\frac{FOV}{2}\\right) = \\frac{\\frac{480}{2}}{518}$$\n",
    "\n",
    "Simplificando la expresión, tenemos:\n",
    "\n",
    "$$\\tan\\left(\\frac{FOV}{2}\\right) = \\frac{240}{518} \\approx 49.71$$\n",
    "\n",
    "\n",
    "\n",
    "\n",
    "\n"
   ],
   "metadata": {
    "collapsed": false
   }
  },
  {
   "cell_type": "code",
   "execution_count": 1,
   "metadata": {
    "collapsed": true,
    "ExecuteTime": {
     "start_time": "2023-04-27T18:40:50.496259Z",
     "end_time": "2023-04-27T18:40:56.615051Z"
    }
   },
   "outputs": [
    {
     "name": "stdout",
     "output_type": "stream",
     "text": [
      "processing ../code/calibrate/calibracion/20230427-182417.png...\r\n",
      "chessboard not found\r\n",
      "processing ../code/calibrate/calibracion/20230427-182421.png...\r\n",
      "ok\r\n",
      "processing ../code/calibrate/calibracion/20230427-182426.png...\r\n",
      "ok\r\n",
      "processing ../code/calibrate/calibracion/20230427-182428.png...\r\n",
      "ok\r\n",
      "processing ../code/calibrate/calibracion/20230427-182431.png...\r\n",
      "ok\r\n",
      "processing ../code/calibrate/calibracion/20230427-182432.png...\r\n",
      "ok\r\n",
      "processing ../code/calibrate/calibracion/20230427-182435.png...\r\n",
      "ok\r\n",
      "processing ../code/calibrate/calibracion/20230427-182437.png...\r\n",
      "chessboard not found\r\n",
      "processing ../code/calibrate/calibracion/20230427-182452.png...\r\n",
      "chessboard not found\r\n",
      "processing ../code/calibrate/calibracion/20230427-182454.png...\r\n",
      "chessboard not found\r\n",
      "processing ../code/calibrate/calibracion/20230427-182457.png...\r\n",
      "ok\r\n",
      "processing ../code/calibrate/calibracion/20230427-182458.png...\r\n",
      "chessboard not found\r\n",
      "processing ../code/calibrate/calibracion/20230427-182501.png...\r\n",
      "chessboard not found\r\n",
      "processing ../code/calibrate/calibracion/20230427-182503.png...\r\n",
      "chessboard not found\r\n",
      "processing ../code/calibrate/calibracion/20230427-182514.png...\r\n",
      "ok\r\n",
      "processing ../code/calibrate/calibracion/20230427-182517.png...\r\n",
      "ok\r\n",
      "processing ../code/calibrate/calibracion/20230427-182518.png...\r\n",
      "ok\r\n",
      "processing ../code/calibrate/calibracion/20230427-182521.png...\r\n",
      "ok\r\n",
      "processing ../code/calibrate/calibracion/20230427-182524.png...\r\n",
      "ok\r\n",
      "processing ../code/calibrate/calibracion/20230427-182525.png...\r\n",
      "ok\r\n",
      "processing ../code/calibrate/calibracion/20230427-182527.png...\r\n",
      "chessboard not found\r\n",
      "processing ../code/calibrate/calibracion/20230427-182529.png...\r\n",
      "chessboard not found\r\n",
      "processing ../code/calibrate/calibracion/20230427-182530.png...\r\n",
      "ok\r\n",
      "processing ../code/calibrate/calibracion/20230427-182535.png...\r\n",
      "ok\r\n",
      "processing ../code/calibrate/calibracion/20230427-182537.png...\r\n",
      "ok\r\n",
      "processing ../code/calibrate/calibracion/20230427-182539.png...\r\n",
      "ok\r\n",
      "processing ../code/calibrate/calibracion/20230427-182541.png...\r\n",
      "ok\r\n",
      "processing ../code/calibrate/calibracion/20230427-182543.png...\r\n",
      "ok\r\n",
      "processing ../code/calibrate/calibracion/20230427-182546.png...\r\n",
      "ok\r\n",
      "processing ../code/calibrate/calibracion/20230427-182549.png...\r\n",
      "ok\r\n",
      "processing ../code/calibrate/calibracion/20230427-182552.png...\r\n",
      "ok\r\n",
      "processing ../code/calibrate/calibracion/20230427-182553.png...\r\n",
      "ok\r\n",
      "processing ../code/calibrate/calibracion/20230427-182555.png...\r\n",
      "ok\r\n",
      "processing ../code/calibrate/calibracion/20230427-182558.png...\r\n",
      "ok\r\n",
      "processing ../code/calibrate/calibracion/20230427-182601.png...\r\n",
      "chessboard not found\r\n",
      "processing ../code/calibrate/calibracion/20230427-182603.png...\r\n",
      "chessboard not found\r\n",
      "processing ../code/calibrate/calibracion/20230427-182604.png...\r\n",
      "chessboard not found\r\n",
      "processing ../code/calibrate/calibracion/20230427-182608.png...\r\n",
      "ok\r\n",
      "processing ../code/calibrate/calibracion/20230427-182609.png...\r\n",
      "ok\r\n",
      "processing ../code/calibrate/calibracion/20230427-182611.png...\r\n",
      "ok\r\n",
      "processing ../code/calibrate/calibracion/20230427-182612.png...\r\n",
      "ok\r\n",
      "processing ../code/calibrate/calibracion/20230427-182614.png...\r\n",
      "ok\r\n",
      "processing ../code/calibrate/calibracion/20230427-182615.png...\r\n",
      "ok\r\n",
      "processing ../code/calibrate/calibracion/20230427-182616.png...\r\n",
      "ok\r\n",
      "processing ../code/calibrate/calibracion/20230427-182619.png...\r\n",
      "ok\r\n",
      "processing ../code/calibrate/calibracion/20230427-182620.png...\r\n",
      "ok\r\n",
      "processing ../code/calibrate/calibracion/20230427-182622.png...\r\n",
      "ok\r\n",
      "processing ../code/calibrate/calibracion/20230427-182626.png...\r\n",
      "ok\r\n",
      "processing ../code/calibrate/calibracion/20230427-182628.png...\r\n",
      "ok\r\n",
      "processing ../code/calibrate/calibracion/20230427-182630.png...\r\n",
      "ok\r\n",
      "processing ../code/calibrate/calibracion/20230427-182633.png...\r\n",
      "ok\r\n",
      "processing ../code/calibrate/calibracion/20230427-182637.png...\r\n",
      "ok\r\n",
      "RMS: 0.17706081417506297\r\n",
      "camera matrix:\r\n",
      " [[481.96453059   0.         315.27503383]\r\n",
      " [  0.         480.91443158 242.32994995]\r\n",
      " [  0.           0.           1.        ]]\r\n",
      "distortion coefficients:  [-0.03915493  0.47253059  0.00127137 -0.00450464 -0.95854875]\r\n"
     ]
    }
   ],
   "source": [
    "!python  ../code/calibrate/calibrate.py \"../code/calibrate/calibracion/*.png\"\n",
    "\n"
   ]
  },
  {
   "cell_type": "markdown",
   "source": [
    "Obtenemos una f de 481 píxeles.\n",
    "Que se encuentra dentro del rango de error aceptable.\n",
    "\n",
    "c) Ahora calculamos la altura de la camara calculamos la distancia a la que tenemos que estar para cubrir el ancho de la pista\n",
    "$$\\frac{481 \\times 2800}{640} \\approx 21 m $$\n",
    "Aquí utilizamos la fórmula de la calibracion aproximada solo que utilizando el f preciso.\n",
    "No se calcula para la altura, pues para cubrirla nos daria una distancia menor de 15 metros approx.\n",
    "\n",
    "\n",
    "d)Ahora hacemos un scrip que mida angulos.\n",
    "\n"
   ],
   "metadata": {
    "collapsed": false
   }
  },
  {
   "cell_type": "code",
   "execution_count": 3,
   "outputs": [
    {
     "name": "stdout",
     "output_type": "stream",
     "text": [
      "640x480 30.0fps\r\n"
     ]
    }
   ],
   "source": [
    "!python medirAngulos.py"
   ],
   "metadata": {
    "collapsed": false,
    "ExecuteTime": {
     "start_time": "2023-04-27T19:19:21.227897Z",
     "end_time": "2023-04-27T19:20:51.309930Z"
    }
   }
  },
  {
   "cell_type": "markdown",
   "source": [
    "**ACTIVIDAD**. Construye un detector de movimiento en una región de interés de la imagen marcada manualmente. Guarda 2 ó 3 segundos de la secuencia detectada en un archivo de vídeo. Muestra el objeto seleccionado anulando el fondo. Impleméntalo de dos maneras: a) Utilizando un substractor de fondo de opencv como en los ejemplos backsub0.py y backsub.py. b) Mediante un procedimiento sencillo que construya un modelo de fondo con frames anteriores y compare con el actual."
   ],
   "metadata": {
    "collapsed": false
   }
  },
  {
   "cell_type": "markdown",
   "source": [
    "**COLOR**. Construye un contador de objetos que tengan un color característico en la escena, simplemente pinchando con el ratón en dos o tres de ellos."
   ],
   "metadata": {
    "collapsed": false
   }
  },
  {
   "cell_type": "markdown",
   "source": [
    "**FILTROS**. Amplía el código de la práctica 4 para mostrar en vivo el efecto de diferentes filtros, seleccionando con el teclado el filtro deseado y modificando sus parámetros (p.ej. el nivel de suavizado) con trackbars. Aplica el filtro en un ROI para comparar el resultado con el resto de la imagen ([ejemplo](../images/demos/ej-c4.png)). Opcional: **a)** Comprueba la propiedad de \"cascading\" del filtro gaussiano. **b)** Comprueba la propiedad de \"separabilidad\" del filtro gaussiano. **c)** Implementa en Python dede cero (usando bucles) el algoritmo de convolución con una máscara general y compara su eficiencia con la versión de OpenCV. **c)** Impleméntalo en C y haz un \"wrapper\" para utilizarlo desde Python (consulta al profesor). **d)** Implementa el box filter con la imagen integral. **e)** Añade la posibilidad de seleccionar varios filtros para aplicarlos sucesivamente.\n"
   ],
   "metadata": {
    "collapsed": false
   }
  },
  {
   "cell_type": "markdown",
   "source": [
    "**SIFT**. Escribe una aplicación de reconocimiento de objetos (p. ej. carátulas de CD, portadas de libros, cuadros de pintores, etc.) con la webcam basada en el número de coincidencias de *keypoints*. [Más información](FAQ.ipynb#Ejercicio-SIFT)."
   ],
   "metadata": {
    "collapsed": false
   }
  },
  {
   "cell_type": "markdown",
   "source": [
    "RECTIF. Rectifica la imagen de un plano para medir distancias (tomando manualmente referencias conocidas). Por ejemplo, mide la distancia entre las monedas en coins.png o la distancia a la que se realiza el disparo en gol-eder.png. Las coordenadas reales de los puntos de referencia y sus posiciones en la imagen deben pasarse como parámetro en un archivo de texto. Aunque puedes mostrar la imagen rectificada para comprobar las operaciones, debes marcar los puntos y mostrar el resultado sobre la imagen original. Verifica los resultados con imágenes originales tomadas por ti."
   ],
   "metadata": {
    "collapsed": false
   }
  }
 ],
 "metadata": {
  "kernelspec": {
   "display_name": "Python 3",
   "language": "python",
   "name": "python3"
  },
  "language_info": {
   "codemirror_mode": {
    "name": "ipython",
    "version": 2
   },
   "file_extension": ".py",
   "mimetype": "text/x-python",
   "name": "python",
   "nbconvert_exporter": "python",
   "pygments_lexer": "ipython2",
   "version": "2.7.6"
  }
 },
 "nbformat": 4,
 "nbformat_minor": 0
}
