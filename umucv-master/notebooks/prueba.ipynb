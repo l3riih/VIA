{
 "cells": [
  {
   "cell_type": "code",
   "execution_count": 19,
   "metadata": {
    "collapsed": true,
    "ExecuteTime": {
     "start_time": "2023-04-28T19:43:04.486297Z",
     "end_time": "2023-04-28T19:43:04.529184Z"
    }
   },
   "outputs": [
    {
     "name": "stdout",
     "output_type": "stream",
     "text": [
      "[0 0 0 1 2]\n"
     ]
    }
   ],
   "source": [
    "import numpy as np\n",
    "\n",
    "def sub(arr, num):\n",
    "    result = np.empty_like(arr)\n",
    "    for i in range(len(arr)):\n",
    "\n",
    "        if  arr[i] - num < 0:\n",
    "            result[i] = 0\n",
    "        else:\n",
    "            result[i] = arr[i] - num\n",
    "    return result\n",
    "\n",
    "# Ejemplo de uso\n",
    "array = np.array([1, 2, 3, 4, 5]).astype(np.uint8)\n",
    "numero = 3\n",
    "\n",
    "resultado = sub(array, numero)\n",
    "print(resultado)"
   ]
  },
  {
   "cell_type": "code",
   "execution_count": null,
   "outputs": [],
   "source": [],
   "metadata": {
    "collapsed": false
   }
  }
 ],
 "metadata": {
  "kernelspec": {
   "display_name": "Python 3",
   "language": "python",
   "name": "python3"
  },
  "language_info": {
   "codemirror_mode": {
    "name": "ipython",
    "version": 2
   },
   "file_extension": ".py",
   "mimetype": "text/x-python",
   "name": "python",
   "nbconvert_exporter": "python",
   "pygments_lexer": "ipython2",
   "version": "2.7.6"
  }
 },
 "nbformat": 4,
 "nbformat_minor": 0
}
