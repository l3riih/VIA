{
 "cells": [
  {
   "cell_type": "markdown",
   "metadata": {},
   "source": [
    "# Introducción a Python"
   ]
  },
  {
   "cell_type": "markdown",
   "metadata": {
    "heading_collapsed": true
   },
   "source": [
    "## Introducción"
   ]
  },
  {
   "cell_type": "markdown",
   "metadata": {
    "hidden": true
   },
   "source": [
    "[Python](https://www.python.org/) es un lenguaje de propósito general sencillo y expresivo. Permite acceder cómodamente a una amplia colección de bibliotecas útiles en todos los campos de la informática. Su uso en ciencia y tecnología es cada vez mayor."
   ]
  },
  {
   "cell_type": "markdown",
   "metadata": {
    "hidden": true
   },
   "source": [
    "Es un lenguaje interpretado, con tipos de datos dinámicos y manejo automático de memoria, que puede utilizarse tanto para escribir programas de forma tradicional como para experimentar en un entorno interactivo. Incluye las construcciones más importantes de programación funcional y admite programación orientada a objetos.\n",
    "\n",
    "La sintaxis es simple e intuitiva pero hay que tener en cuenta algunas características:\n",
    "\n",
    "\n",
    "- Los bloques de instrucciones de las construcciones condicionales, bucles y funciones se delimitan mediante la \"indentación del código\": no se utiliza \"end\" ni `{` `}`.\n",
    "\n",
    "- Los índices para acceder a los arrays o listas comienzan en 0 y acaban en tamaño-1. Las secuencias (*range*) usadas en bucles o *list comprehensions* no incluyen el límite superior.\n",
    "\n",
    "- Algunas funciones tienen la sintaxis tradicional `f(x)`, `g(x,a)`, mientras que otras se expresan como `x.f()`, `x.g(a)`, etc., indicando que el \"objeto\" `x` se modifica de alguna forma.\n",
    "\n",
    "- Los arrays y las listas son \"mutables\": su asignación a otra variable **no** crea una copia del objeto original sino una \"referencia\" a través de la cual se puede modificar la estructura original.\n",
    "\n",
    "- Las funciones pueden leer directamente el valor de variables globales, pero para modificarlas hay que declararlas como `global`. La asignación de variables dentro de una función crea variables locales.\n",
    "\n",
    "- La única forma de crear un ámbito de variables es definir una función. Los índices de los bucles son visibles a la salida."
   ]
  },
  {
   "cell_type": "markdown",
   "metadata": {
    "heading_collapsed": true,
    "hidden": true
   },
   "source": [
    "### Instalación"
   ]
  },
  {
   "cell_type": "markdown",
   "metadata": {
    "hidden": true
   },
   "source": [
    "[Anaconda](https://www.anaconda.com/distribution)"
   ]
  },
  {
   "cell_type": "markdown",
   "metadata": {
    "hidden": true
   },
   "source": [
    "Si partimos de la instalación mínima [miniconda](https://conda.io/miniconda.html) necesitamos los siguiente paquetes:"
   ]
  },
  {
   "cell_type": "markdown",
   "metadata": {
    "hidden": true
   },
   "source": [
    "    > conda install jupyter numpy scipy sympy matplotlib"
   ]
  },
  {
   "cell_type": "markdown",
   "metadata": {
    "hidden": true
   },
   "source": [
    "Arrancamos el \"servidor\" de notebooks con\n",
    "\n",
    "    > jupyter notebook"
   ]
  },
  {
   "cell_type": "markdown",
   "metadata": {
    "hidden": true
   },
   "source": [
    "Las celdas de código se evalúan pulsando Mayúsculas-Entrar."
   ]
  },
  {
   "cell_type": "markdown",
   "metadata": {
    "heading_collapsed": true
   },
   "source": [
    "## Tipos simples"
   ]
  },
  {
   "cell_type": "markdown",
   "metadata": {
    "hidden": true
   },
   "source": [
    "Cadenas de caracteres:"
   ]
  },
  {
   "cell_type": "code",
   "execution_count": 1,
   "metadata": {
    "hidden": true
   },
   "outputs": [],
   "source": [
    "s = 'Hola' "
   ]
  },
  {
   "cell_type": "code",
   "execution_count": 2,
   "metadata": {
    "hidden": true
   },
   "outputs": [
    {
     "data": {
      "text/plain": [
       "'Hola'"
      ]
     },
     "execution_count": 2,
     "metadata": {},
     "output_type": "execute_result"
    }
   ],
   "source": [
    "s"
   ]
  },
  {
   "cell_type": "code",
   "execution_count": 3,
   "metadata": {
    "hidden": true
   },
   "outputs": [
    {
     "name": "stdout",
     "output_type": "stream",
     "text": [
      "Hola\n"
     ]
    }
   ],
   "source": [
    "print(s)"
   ]
  },
  {
   "cell_type": "code",
   "execution_count": 4,
   "metadata": {
    "hidden": true
   },
   "outputs": [
    {
     "data": {
      "text/plain": [
       "str"
      ]
     },
     "execution_count": 4,
     "metadata": {},
     "output_type": "execute_result"
    }
   ],
   "source": [
    "type(s)"
   ]
  },
  {
   "cell_type": "markdown",
   "metadata": {
    "hidden": true
   },
   "source": [
    "Se admiten diferentes tipos de delimitadores y cadenas multilínea."
   ]
  },
  {
   "cell_type": "code",
   "execution_count": 5,
   "metadata": {
    "hidden": true
   },
   "outputs": [
    {
     "data": {
      "text/plain": [
       "'Hola amigos!'"
      ]
     },
     "execution_count": 5,
     "metadata": {},
     "output_type": "execute_result"
    }
   ],
   "source": [
    "\"Hola\" + ''' amigos!'''"
   ]
  },
  {
   "cell_type": "markdown",
   "metadata": {
    "hidden": true
   },
   "source": [
    "Variables lógicas:"
   ]
  },
  {
   "cell_type": "code",
   "execution_count": 6,
   "metadata": {
    "hidden": true
   },
   "outputs": [],
   "source": [
    "c = 3 < 4"
   ]
  },
  {
   "cell_type": "code",
   "execution_count": 7,
   "metadata": {
    "hidden": true
   },
   "outputs": [
    {
     "data": {
      "text/plain": [
       "bool"
      ]
     },
     "execution_count": 7,
     "metadata": {},
     "output_type": "execute_result"
    }
   ],
   "source": [
    "type(c)"
   ]
  },
  {
   "cell_type": "code",
   "execution_count": 8,
   "metadata": {
    "hidden": true
   },
   "outputs": [
    {
     "data": {
      "text/plain": [
       "True"
      ]
     },
     "execution_count": 8,
     "metadata": {},
     "output_type": "execute_result"
    }
   ],
   "source": [
    "c and (2==1+1) or not (3 != 5)"
   ]
  },
  {
   "cell_type": "markdown",
   "metadata": {
    "hidden": true
   },
   "source": [
    "Números reales aproximados con coma flotante de doble precisión:"
   ]
  },
  {
   "cell_type": "code",
   "execution_count": 9,
   "metadata": {
    "hidden": true
   },
   "outputs": [],
   "source": [
    "x = 3.5"
   ]
  },
  {
   "cell_type": "code",
   "execution_count": 10,
   "metadata": {
    "hidden": true
   },
   "outputs": [
    {
     "data": {
      "text/plain": [
       "float"
      ]
     },
     "execution_count": 10,
     "metadata": {},
     "output_type": "execute_result"
    }
   ],
   "source": [
    "type(x)"
   ]
  },
  {
   "cell_type": "markdown",
   "metadata": {
    "hidden": true
   },
   "source": [
    "Los enteros tienen tamaño ilimitado:"
   ]
  },
  {
   "cell_type": "code",
   "execution_count": 11,
   "metadata": {
    "hidden": true
   },
   "outputs": [],
   "source": [
    "x = 20"
   ]
  },
  {
   "cell_type": "code",
   "execution_count": 12,
   "metadata": {
    "hidden": true
   },
   "outputs": [
    {
     "data": {
      "text/plain": [
       "int"
      ]
     },
     "execution_count": 12,
     "metadata": {},
     "output_type": "execute_result"
    }
   ],
   "source": [
    "type(x)"
   ]
  },
  {
   "cell_type": "code",
   "execution_count": 13,
   "metadata": {
    "hidden": true
   },
   "outputs": [
    {
     "data": {
      "text/plain": [
       "104857600000000000000000000"
      ]
     },
     "execution_count": 13,
     "metadata": {},
     "output_type": "execute_result"
    }
   ],
   "source": [
    "x**x"
   ]
  },
  {
   "cell_type": "markdown",
   "metadata": {
    "hidden": true
   },
   "source": [
    "Variable compleja:"
   ]
  },
  {
   "cell_type": "code",
   "execution_count": 14,
   "metadata": {
    "hidden": true
   },
   "outputs": [
    {
     "data": {
      "text/plain": [
       "(2+0j)"
      ]
     },
     "execution_count": 14,
     "metadata": {},
     "output_type": "execute_result"
    }
   ],
   "source": [
    "(1+1j)*(1-1j)"
   ]
  },
  {
   "cell_type": "code",
   "execution_count": 15,
   "metadata": {
    "hidden": true
   },
   "outputs": [
    {
     "data": {
      "text/plain": [
       "1j"
      ]
     },
     "execution_count": 15,
     "metadata": {},
     "output_type": "execute_result"
    }
   ],
   "source": [
    "import cmath\n",
    "\n",
    "cmath.sqrt(-1)"
   ]
  },
  {
   "cell_type": "markdown",
   "metadata": {
    "collapsed": true,
    "heading_collapsed": true
   },
   "source": [
    "## Control"
   ]
  },
  {
   "cell_type": "markdown",
   "metadata": {
    "hidden": true
   },
   "source": [
    "Condiciones:"
   ]
  },
  {
   "cell_type": "code",
   "execution_count": 16,
   "metadata": {
    "hidden": true
   },
   "outputs": [
    {
     "name": "stdout",
     "output_type": "stream",
     "text": [
      "7  es impar\n",
      "me gustan los impares\n"
     ]
    }
   ],
   "source": [
    "k = 7\n",
    "\n",
    "if k%2 == 0:\n",
    "    print(k,\" es par\")\n",
    "else:\n",
    "    print(k,\" es impar\")\n",
    "    print(\"me gustan los impares\")"
   ]
  },
  {
   "cell_type": "markdown",
   "metadata": {
    "hidden": true
   },
   "source": [
    "Bucles:"
   ]
  },
  {
   "cell_type": "code",
   "execution_count": 17,
   "metadata": {
    "hidden": true
   },
   "outputs": [
    {
     "name": "stdout",
     "output_type": "stream",
     "text": [
      "1\n",
      "2\n",
      "3\n"
     ]
    }
   ],
   "source": [
    "for k in [1,2,3]:\n",
    "    print(k)"
   ]
  },
  {
   "cell_type": "code",
   "execution_count": 18,
   "metadata": {
    "hidden": true
   },
   "outputs": [
    {
     "name": "stdout",
     "output_type": "stream",
     "text": [
      "0\n",
      "1\n",
      "2\n",
      "3\n",
      "4\n"
     ]
    }
   ],
   "source": [
    "for k in range(5):\n",
    "    print(k)"
   ]
  },
  {
   "cell_type": "code",
   "execution_count": 19,
   "metadata": {
    "hidden": true
   },
   "outputs": [
    {
     "data": {
      "text/plain": [
       "24"
      ]
     },
     "execution_count": 19,
     "metadata": {},
     "output_type": "execute_result"
    }
   ],
   "source": [
    "k = 1\n",
    "p = 1\n",
    "while k < 5:\n",
    "    p = p*k\n",
    "    k = k+1\n",
    "p"
   ]
  },
  {
   "cell_type": "markdown",
   "metadata": {
    "heading_collapsed": true
   },
   "source": [
    "## Contenedores"
   ]
  },
  {
   "cell_type": "markdown",
   "metadata": {
    "heading_collapsed": true,
    "hidden": true
   },
   "source": [
    "### Tuplas"
   ]
  },
  {
   "cell_type": "code",
   "execution_count": 20,
   "metadata": {
    "hidden": true
   },
   "outputs": [],
   "source": [
    "t = (2,'rojo')"
   ]
  },
  {
   "cell_type": "code",
   "execution_count": 21,
   "metadata": {
    "hidden": true
   },
   "outputs": [
    {
     "data": {
      "text/plain": [
       "(2, 'rojo')"
      ]
     },
     "execution_count": 21,
     "metadata": {},
     "output_type": "execute_result"
    }
   ],
   "source": [
    "t"
   ]
  },
  {
   "cell_type": "code",
   "execution_count": 22,
   "metadata": {
    "hidden": true
   },
   "outputs": [
    {
     "data": {
      "text/plain": [
       "2"
      ]
     },
     "execution_count": 22,
     "metadata": {},
     "output_type": "execute_result"
    }
   ],
   "source": [
    "t[0]"
   ]
  },
  {
   "cell_type": "markdown",
   "metadata": {
    "hidden": true
   },
   "source": [
    "Son inmutables."
   ]
  },
  {
   "cell_type": "markdown",
   "metadata": {
    "heading_collapsed": true,
    "hidden": true
   },
   "source": [
    "### Listas"
   ]
  },
  {
   "cell_type": "code",
   "execution_count": 23,
   "metadata": {
    "hidden": true
   },
   "outputs": [],
   "source": [
    "l = [1,-2,67,0,8,1,3]"
   ]
  },
  {
   "cell_type": "code",
   "execution_count": 24,
   "metadata": {
    "hidden": true
   },
   "outputs": [
    {
     "data": {
      "text/plain": [
       "list"
      ]
     },
     "execution_count": 24,
     "metadata": {},
     "output_type": "execute_result"
    }
   ],
   "source": [
    "type(l)"
   ]
  },
  {
   "cell_type": "markdown",
   "metadata": {
    "hidden": true
   },
   "source": [
    "También admite elementos de diferentes tipos, incluyendo otras listas, tuplas, o cualquier otro tipo de datos, aunque lo normal es trabajar con listas homogéneas (con elementos del mismo tipo) cuyos elementos pueden procesarse todos de la misma manera usando un bucle."
   ]
  },
  {
   "cell_type": "markdown",
   "metadata": {
    "hidden": true
   },
   "source": [
    "La extracción de elementos (\"indexado\"), la longitud de la lista y la suma de sus elementos se consiguen exactamente igual que en las tuplas:"
   ]
  },
  {
   "cell_type": "code",
   "execution_count": 25,
   "metadata": {
    "hidden": true
   },
   "outputs": [
    {
     "data": {
      "text/plain": [
       "(67, 7, 78)"
      ]
     },
     "execution_count": 25,
     "metadata": {},
     "output_type": "execute_result"
    }
   ],
   "source": [
    "l[2], len(l), sum(l)"
   ]
  },
  {
   "cell_type": "markdown",
   "metadata": {
    "hidden": true
   },
   "source": [
    "Sin embargo, las listas se diferencian en una característica fundamental. Son **mutables**: podemos añadir o quitar elementos de ellas."
   ]
  },
  {
   "cell_type": "code",
   "execution_count": 26,
   "metadata": {
    "hidden": true
   },
   "outputs": [
    {
     "data": {
      "text/plain": [
       "[1, -2, 67, 0, 8, 1, 3, 28]"
      ]
     },
     "execution_count": 26,
     "metadata": {},
     "output_type": "execute_result"
    }
   ],
   "source": [
    "l.append(28)\n",
    "\n",
    "l"
   ]
  },
  {
   "cell_type": "code",
   "execution_count": 27,
   "metadata": {
    "hidden": true
   },
   "outputs": [
    {
     "data": {
      "text/plain": [
       "[1, -2, 67, 0, 8, 1, 3, 28, -2, 4]"
      ]
     },
     "execution_count": 27,
     "metadata": {},
     "output_type": "execute_result"
    }
   ],
   "source": [
    "l += [-2,4]\n",
    "\n",
    "l"
   ]
  },
  {
   "cell_type": "code",
   "execution_count": 28,
   "metadata": {
    "hidden": true
   },
   "outputs": [
    {
     "data": {
      "text/plain": [
       "[1, -2, 67, 8, 1, 3, 28, -2, 4]"
      ]
     },
     "execution_count": 28,
     "metadata": {},
     "output_type": "execute_result"
    }
   ],
   "source": [
    "l.remove(0)\n",
    "\n",
    "l"
   ]
  },
  {
   "cell_type": "code",
   "execution_count": 29,
   "metadata": {
    "hidden": true
   },
   "outputs": [
    {
     "data": {
      "text/plain": [
       "[1, -2, 7, 8, 1, 3, 28, -2, 4]"
      ]
     },
     "execution_count": 29,
     "metadata": {},
     "output_type": "execute_result"
    }
   ],
   "source": [
    "l[2] = 7\n",
    "\n",
    "l"
   ]
  },
  {
   "cell_type": "code",
   "execution_count": 30,
   "metadata": {
    "hidden": true
   },
   "outputs": [
    {
     "data": {
      "text/plain": [
       "4"
      ]
     },
     "execution_count": 30,
     "metadata": {},
     "output_type": "execute_result"
    }
   ],
   "source": [
    "l.pop()"
   ]
  },
  {
   "cell_type": "code",
   "execution_count": 31,
   "metadata": {
    "hidden": true
   },
   "outputs": [
    {
     "data": {
      "text/plain": [
       "[1, -2, 7, 8, 1, 3, 28, -2]"
      ]
     },
     "execution_count": 31,
     "metadata": {},
     "output_type": "execute_result"
    }
   ],
   "source": [
    "l"
   ]
  },
  {
   "cell_type": "code",
   "execution_count": 32,
   "metadata": {
    "hidden": true
   },
   "outputs": [],
   "source": [
    "del l[2]"
   ]
  },
  {
   "cell_type": "code",
   "execution_count": 33,
   "metadata": {
    "hidden": true
   },
   "outputs": [
    {
     "data": {
      "text/plain": [
       "[1, -2, 8, 1, 3, 28, -2]"
      ]
     },
     "execution_count": 33,
     "metadata": {},
     "output_type": "execute_result"
    }
   ],
   "source": [
    "l"
   ]
  },
  {
   "cell_type": "code",
   "execution_count": 34,
   "metadata": {
    "hidden": true
   },
   "outputs": [
    {
     "data": {
      "text/plain": [
       "[1, -2, 8, 100, 1, 3, 28, -2]"
      ]
     },
     "execution_count": 34,
     "metadata": {},
     "output_type": "execute_result"
    }
   ],
   "source": [
    "l.insert(3,100)\n",
    "\n",
    "l"
   ]
  },
  {
   "cell_type": "markdown",
   "metadata": {
    "heading_collapsed": true,
    "hidden": true
   },
   "source": [
    "### Conjuntos"
   ]
  },
  {
   "cell_type": "markdown",
   "metadata": {
    "hidden": true
   },
   "source": [
    "El tipo `set` trata de reproducir el concepto matemático de conjunto. Se construye con llaves y los elementos duplicados se eliminan automáticamente."
   ]
  },
  {
   "cell_type": "code",
   "execution_count": 35,
   "metadata": {
    "hidden": true
   },
   "outputs": [
    {
     "data": {
      "text/plain": [
       "{1, 2, 7, 8}"
      ]
     },
     "execution_count": 35,
     "metadata": {},
     "output_type": "execute_result"
    }
   ],
   "source": [
    "C = {1,2,7,1,8,2,1}\n",
    "C"
   ]
  },
  {
   "cell_type": "markdown",
   "metadata": {
    "hidden": true
   },
   "source": [
    "Las operaciones de conjuntos están disponibles con símbolos o con \"métodos\" (funciones en forma de sufijo) . Los detalles pueden encontrarse en la [documentación](https://docs.python.org/3.6/library/stdtypes.html?highlight=set#set)."
   ]
  },
  {
   "cell_type": "code",
   "execution_count": 36,
   "metadata": {
    "hidden": true
   },
   "outputs": [
    {
     "data": {
      "text/plain": [
       "{0, 1, 2, 7, 8}"
      ]
     },
     "execution_count": 36,
     "metadata": {},
     "output_type": "execute_result"
    }
   ],
   "source": [
    "C.union({0,8})"
   ]
  },
  {
   "cell_type": "code",
   "execution_count": 37,
   "metadata": {
    "hidden": true
   },
   "outputs": [
    {
     "data": {
      "text/plain": [
       "{0, 1, 2, 7, 8}"
      ]
     },
     "execution_count": 37,
     "metadata": {},
     "output_type": "execute_result"
    }
   ],
   "source": [
    "C | {0,8}"
   ]
  },
  {
   "cell_type": "code",
   "execution_count": 38,
   "metadata": {
    "hidden": true
   },
   "outputs": [
    {
     "data": {
      "text/plain": [
       "{2}"
      ]
     },
     "execution_count": 38,
     "metadata": {},
     "output_type": "execute_result"
    }
   ],
   "source": [
    "C & {5,2}"
   ]
  },
  {
   "cell_type": "code",
   "execution_count": 39,
   "metadata": {
    "hidden": true
   },
   "outputs": [
    {
     "data": {
      "text/plain": [
       "{1, 7}"
      ]
     },
     "execution_count": 39,
     "metadata": {},
     "output_type": "execute_result"
    }
   ],
   "source": [
    "C - {2,8,0,5}"
   ]
  },
  {
   "cell_type": "code",
   "execution_count": 40,
   "metadata": {
    "hidden": true
   },
   "outputs": [
    {
     "data": {
      "text/plain": [
       "False"
      ]
     },
     "execution_count": 40,
     "metadata": {},
     "output_type": "execute_result"
    }
   ],
   "source": [
    "5 in C"
   ]
  },
  {
   "cell_type": "code",
   "execution_count": 41,
   "metadata": {
    "hidden": true
   },
   "outputs": [
    {
     "data": {
      "text/plain": [
       "True"
      ]
     },
     "execution_count": 41,
     "metadata": {},
     "output_type": "execute_result"
    }
   ],
   "source": [
    "{1,2} < {5,2,1}"
   ]
  },
  {
   "cell_type": "markdown",
   "metadata": {
    "heading_collapsed": true,
    "hidden": true
   },
   "source": [
    "### Diccionarios"
   ]
  },
  {
   "cell_type": "markdown",
   "metadata": {
    "hidden": true
   },
   "source": [
    "Es un array asociativo (el índice puede ser cualquier tipo (inmutable)). Es una estructura muy utilizada en Python."
   ]
  },
  {
   "cell_type": "code",
   "execution_count": 42,
   "metadata": {
    "hidden": true
   },
   "outputs": [],
   "source": [
    "d = {'lunes': 8, 'martes' : [1,2,3], 3: 5}"
   ]
  },
  {
   "cell_type": "code",
   "execution_count": 43,
   "metadata": {
    "hidden": true
   },
   "outputs": [
    {
     "data": {
      "text/plain": [
       "[1, 2, 3]"
      ]
     },
     "execution_count": 43,
     "metadata": {},
     "output_type": "execute_result"
    }
   ],
   "source": [
    "d['martes']"
   ]
  },
  {
   "cell_type": "code",
   "execution_count": 44,
   "metadata": {
    "hidden": true
   },
   "outputs": [
    {
     "data": {
      "text/plain": [
       "dict_keys(['lunes', 'martes', 3])"
      ]
     },
     "execution_count": 44,
     "metadata": {},
     "output_type": "execute_result"
    }
   ],
   "source": [
    "d.keys()"
   ]
  },
  {
   "cell_type": "code",
   "execution_count": 45,
   "metadata": {
    "hidden": true
   },
   "outputs": [
    {
     "data": {
      "text/plain": [
       "dict_values([8, [1, 2, 3], 5])"
      ]
     },
     "execution_count": 45,
     "metadata": {},
     "output_type": "execute_result"
    }
   ],
   "source": [
    "d.values()"
   ]
  },
  {
   "cell_type": "markdown",
   "metadata": {
    "heading_collapsed": true,
    "hidden": true
   },
   "source": [
    "### Iteración en contenedores"
   ]
  },
  {
   "cell_type": "markdown",
   "metadata": {
    "hidden": true
   },
   "source": [
    "Si queremos procesar todos los elementos de un contenedor podemos hacer un bucle y acceder a cada uno de ellos con la operación de indexado."
   ]
  },
  {
   "cell_type": "code",
   "execution_count": 46,
   "metadata": {
    "hidden": true
   },
   "outputs": [
    {
     "name": "stdout",
     "output_type": "stream",
     "text": [
      "1\n",
      "2\n",
      "3\n",
      "4\n",
      "5\n"
     ]
    }
   ],
   "source": [
    "lista = [1,2,3,4,5]\n",
    "\n",
    "for k in range(len(lista)):\n",
    "    print(lista[k])"
   ]
  },
  {
   "cell_type": "markdown",
   "metadata": {
    "hidden": true
   },
   "source": [
    "Esta construcción es tan común que en Python podemos escribirla de forma mucho más natural:"
   ]
  },
  {
   "cell_type": "code",
   "execution_count": 47,
   "metadata": {
    "hidden": true
   },
   "outputs": [
    {
     "name": "stdout",
     "output_type": "stream",
     "text": [
      "1\n",
      "2\n",
      "3\n",
      "4\n",
      "5\n"
     ]
    }
   ],
   "source": [
    "for x in lista:\n",
    "    print(x)"
   ]
  },
  {
   "cell_type": "markdown",
   "metadata": {
    "hidden": true
   },
   "source": [
    "Esto funciona incluso en contenedores como `set` que no admiten el indexado. Los tipos contenedores se pueden \"recorrer\" directamente mediante un bucle `for`, visitando todos sus elementos."
   ]
  },
  {
   "cell_type": "markdown",
   "metadata": {
    "heading_collapsed": true,
    "hidden": true
   },
   "source": [
    "### Conversión"
   ]
  },
  {
   "cell_type": "markdown",
   "metadata": {
    "hidden": true
   },
   "source": [
    "El nombre de un contenedor es a la vez una función para construir un contenedor de ese tipo a partir de otro contenedor cualquiera."
   ]
  },
  {
   "cell_type": "code",
   "execution_count": 48,
   "metadata": {
    "hidden": true
   },
   "outputs": [
    {
     "data": {
      "text/plain": [
       "(4, 2, 2, 3, 3, 3, 3, 1)"
      ]
     },
     "execution_count": 48,
     "metadata": {},
     "output_type": "execute_result"
    }
   ],
   "source": [
    "l = [4,2,2,3,3,3,3,1]\n",
    "\n",
    "tuple(l)"
   ]
  },
  {
   "cell_type": "code",
   "execution_count": 49,
   "metadata": {
    "hidden": true
   },
   "outputs": [
    {
     "data": {
      "text/plain": [
       "{1, 2, 3, 4}"
      ]
     },
     "execution_count": 49,
     "metadata": {},
     "output_type": "execute_result"
    }
   ],
   "source": [
    "set(l)"
   ]
  },
  {
   "cell_type": "code",
   "execution_count": 50,
   "metadata": {
    "hidden": true
   },
   "outputs": [
    {
     "data": {
      "text/plain": [
       "[3, 4, 5]"
      ]
     },
     "execution_count": 50,
     "metadata": {},
     "output_type": "execute_result"
    }
   ],
   "source": [
    "list({5,4,3})"
   ]
  },
  {
   "cell_type": "code",
   "execution_count": 51,
   "metadata": {
    "hidden": true
   },
   "outputs": [
    {
     "data": {
      "text/plain": [
       "[0, 1, 2, 3, 4, 5, 6, 7, 8, 9]"
      ]
     },
     "execution_count": 51,
     "metadata": {},
     "output_type": "execute_result"
    }
   ],
   "source": [
    "list(range(10))"
   ]
  },
  {
   "cell_type": "markdown",
   "metadata": {
    "hidden": true
   },
   "source": [
    "Esta característica funciona con cualquier otro tipo, no solo con contenedores:"
   ]
  },
  {
   "cell_type": "code",
   "execution_count": 52,
   "metadata": {
    "hidden": true
   },
   "outputs": [
    {
     "data": {
      "text/plain": [
       "5.0"
      ]
     },
     "execution_count": 52,
     "metadata": {},
     "output_type": "execute_result"
    }
   ],
   "source": [
    "float(5)"
   ]
  },
  {
   "cell_type": "code",
   "execution_count": 53,
   "metadata": {
    "hidden": true
   },
   "outputs": [
    {
     "data": {
      "text/plain": [
       "54"
      ]
     },
     "execution_count": 53,
     "metadata": {},
     "output_type": "execute_result"
    }
   ],
   "source": [
    "int('54')"
   ]
  },
  {
   "cell_type": "markdown",
   "metadata": {
    "hidden": true
   },
   "source": [
    "Si la conversión no es posible se producirá un error."
   ]
  },
  {
   "cell_type": "markdown",
   "metadata": {
    "heading_collapsed": true,
    "hidden": true
   },
   "source": [
    "### Subsecuencias"
   ]
  },
  {
   "cell_type": "code",
   "execution_count": 54,
   "metadata": {
    "hidden": true
   },
   "outputs": [
    {
     "data": {
      "text/plain": [
       "[0, 1, 2, 3, 4, 5, 6, 7, 8, 9, 10, 11, 12, 13, 14, 15, 16, 17, 18, 19]"
      ]
     },
     "execution_count": 54,
     "metadata": {},
     "output_type": "execute_result"
    }
   ],
   "source": [
    "l = list(range(20))\n",
    "\n",
    "l"
   ]
  },
  {
   "cell_type": "code",
   "execution_count": 55,
   "metadata": {
    "hidden": true
   },
   "outputs": [
    {
     "data": {
      "text/plain": [
       "[0, 1, 2, 3, 4]"
      ]
     },
     "execution_count": 55,
     "metadata": {},
     "output_type": "execute_result"
    }
   ],
   "source": [
    "l[:5]"
   ]
  },
  {
   "cell_type": "code",
   "execution_count": 56,
   "metadata": {
    "hidden": true
   },
   "outputs": [
    {
     "data": {
      "text/plain": [
       "[4, 5, 6, 7, 8, 9, 10, 11, 12, 13, 14, 15, 16, 17, 18, 19]"
      ]
     },
     "execution_count": 56,
     "metadata": {},
     "output_type": "execute_result"
    }
   ],
   "source": [
    "l[4:]"
   ]
  },
  {
   "cell_type": "code",
   "execution_count": 57,
   "metadata": {
    "hidden": true
   },
   "outputs": [
    {
     "data": {
      "text/plain": [
       "[17, 18, 19]"
      ]
     },
     "execution_count": 57,
     "metadata": {},
     "output_type": "execute_result"
    }
   ],
   "source": [
    "l[-3:]"
   ]
  },
  {
   "cell_type": "code",
   "execution_count": 58,
   "metadata": {
    "hidden": true
   },
   "outputs": [
    {
     "data": {
      "text/plain": [
       "[5, 7, 9]"
      ]
     },
     "execution_count": 58,
     "metadata": {},
     "output_type": "execute_result"
    }
   ],
   "source": [
    "l[5:10:2]"
   ]
  },
  {
   "cell_type": "code",
   "execution_count": 59,
   "metadata": {
    "hidden": true
   },
   "outputs": [
    {
     "data": {
      "text/plain": [
       "[19, 18, 17, 16, 15, 14, 13, 12, 11, 10, 9, 8, 7, 6, 5, 4, 3, 2, 1, 0]"
      ]
     },
     "execution_count": 59,
     "metadata": {},
     "output_type": "execute_result"
    }
   ],
   "source": [
    "l[::-1]"
   ]
  },
  {
   "cell_type": "code",
   "execution_count": 60,
   "metadata": {
    "hidden": true
   },
   "outputs": [
    {
     "data": {
      "text/plain": [
       "[0, 1, 2, 3, 4, 5, 6, 7, 8, 9, 0, 0, 0, 14, 15, 16, 17, 18, 19]"
      ]
     },
     "execution_count": 60,
     "metadata": {},
     "output_type": "execute_result"
    }
   ],
   "source": [
    "l[10:14] = [0,0,0]\n",
    "\n",
    "l"
   ]
  },
  {
   "cell_type": "markdown",
   "metadata": {
    "heading_collapsed": true,
    "hidden": true
   },
   "source": [
    "### *List comprehensions*"
   ]
  },
  {
   "cell_type": "markdown",
   "metadata": {
    "hidden": true
   },
   "source": [
    "Cuando utilizamos un bucle para recorrer una lista o realizar un gran número de cálculos los resultados intermedios se pueden imprimir si se desea, pero en cualquier caso al final se pierden.\n",
    "\n",
    "Muchas veces surge la necesidad de construir una lista (o cualquier otro tipo de contenedor) a partir de los elementos de otra. Una forma de programarlo es empezar con una lista vacía e iterar mediante un bucle añadiendo elementos."
   ]
  },
  {
   "cell_type": "markdown",
   "metadata": {
    "hidden": true
   },
   "source": [
    "Supongamos que queremos construir una lista con los 100 primeros números cuadrados $1,4,9,16,\\ldots,10000$. En principio parece razonable hacer lo siguiente:"
   ]
  },
  {
   "cell_type": "code",
   "execution_count": 61,
   "metadata": {
    "hidden": true,
    "scrolled": false
   },
   "outputs": [
    {
     "name": "stdout",
     "output_type": "stream",
     "text": [
      "[1, 4, 9, 16, 25, 36, 49, 64, 81, 100, 121, 144, 169, 196, 225, 256, 289, 324, 361, 400, 441, 484, 529, 576, 625, 676, 729, 784, 841, 900, 961, 1024, 1089, 1156, 1225, 1296, 1369, 1444, 1521, 1600, 1681, 1764, 1849, 1936, 2025, 2116, 2209, 2304, 2401, 2500, 2601, 2704, 2809, 2916, 3025, 3136, 3249, 3364, 3481, 3600, 3721, 3844, 3969, 4096, 4225, 4356, 4489, 4624, 4761, 4900, 5041, 5184, 5329, 5476, 5625, 5776, 5929, 6084, 6241, 6400, 6561, 6724, 6889, 7056, 7225, 7396, 7569, 7744, 7921, 8100, 8281, 8464, 8649, 8836, 9025, 9216, 9409, 9604, 9801, 10000]\n"
     ]
    }
   ],
   "source": [
    "r = []\n",
    "for k in range(1,101):\n",
    "    r.append(k**2)\n",
    "\n",
    "print(r)"
   ]
  },
  {
   "cell_type": "markdown",
   "metadata": {
    "hidden": true
   },
   "source": [
    "No está mal, pero los lenguajes modernos proporcionan una herramienta mucho más elegante para expresar este tipo de cálculos. Se conoce como [list comprehension](https://en.wikipedia.org/wiki/List_comprehension) y trata de imitar la notación matemática para definir conjuntos:"
   ]
  },
  {
   "cell_type": "markdown",
   "metadata": {
    "hidden": true
   },
   "source": [
    "$$ r = \\{ k^2 \\; : \\; \\forall k \\in \\mathbb{N},  \\;1 \\leq k \\leq 100 \\} $$"
   ]
  },
  {
   "cell_type": "code",
   "execution_count": 62,
   "metadata": {
    "hidden": true
   },
   "outputs": [
    {
     "name": "stdout",
     "output_type": "stream",
     "text": [
      "[1, 4, 9, 16, 25, 36, 49, 64, 81, 100, 121, 144, 169, 196, 225, 256, 289, 324, 361, 400, 441, 484, 529, 576, 625, 676, 729, 784, 841, 900, 961, 1024, 1089, 1156, 1225, 1296, 1369, 1444, 1521, 1600, 1681, 1764, 1849, 1936, 2025, 2116, 2209, 2304, 2401, 2500, 2601, 2704, 2809, 2916, 3025, 3136, 3249, 3364, 3481, 3600, 3721, 3844, 3969, 4096, 4225, 4356, 4489, 4624, 4761, 4900, 5041, 5184, 5329, 5476, 5625, 5776, 5929, 6084, 6241, 6400, 6561, 6724, 6889, 7056, 7225, 7396, 7569, 7744, 7921, 8100, 8281, 8464, 8649, 8836, 9025, 9216, 9409, 9604, 9801, 10000]\n"
     ]
    }
   ],
   "source": [
    "r = [ k**2 for k in range(1,101) ]\n",
    "\n",
    "print(r)"
   ]
  },
  {
   "cell_type": "code",
   "execution_count": 63,
   "metadata": {
    "hidden": true
   },
   "outputs": [
    {
     "data": {
      "text/plain": [
       "[0, 7, 14, 21, 28, 35, 42, 49, 56, 63, 70, 77, 84, 91, 98]"
      ]
     },
     "execution_count": 63,
     "metadata": {},
     "output_type": "execute_result"
    }
   ],
   "source": [
    "[ k for k in range(100) if k%7 == 0 ]"
   ]
  },
  {
   "cell_type": "code",
   "execution_count": 64,
   "metadata": {
    "hidden": true
   },
   "outputs": [
    {
     "data": {
      "text/plain": [
       "[(4, 6), (5, 5), (5, 6), (6, 4), (6, 5), (6, 6)]"
      ]
     },
     "execution_count": 64,
     "metadata": {},
     "output_type": "execute_result"
    }
   ],
   "source": [
    "[(a,b) for a in range(1,7) for b in range(1,7) if a + b >= 10 ]"
   ]
  },
  {
   "cell_type": "code",
   "execution_count": 65,
   "metadata": {
    "hidden": true
   },
   "outputs": [
    {
     "data": {
      "text/plain": [
       "{2, 3, 4, 5, 6, 7, 8, 9, 10, 11, 12}"
      ]
     },
     "execution_count": 65,
     "metadata": {},
     "output_type": "execute_result"
    }
   ],
   "source": [
    "{ a+b for a in range(1,7) for b in range(1,7) }"
   ]
  },
  {
   "cell_type": "code",
   "execution_count": 66,
   "metadata": {
    "hidden": true
   },
   "outputs": [
    {
     "data": {
      "text/plain": [
       "338350"
      ]
     },
     "execution_count": 66,
     "metadata": {},
     "output_type": "execute_result"
    }
   ],
   "source": [
    "sum([k**2 for k in range(100+1)])"
   ]
  },
  {
   "cell_type": "markdown",
   "metadata": {
    "heading_collapsed": true,
    "hidden": true
   },
   "source": [
    "### Desestructuración"
   ]
  },
  {
   "cell_type": "markdown",
   "metadata": {
    "hidden": true
   },
   "source": [
    "En Python es posible asignar nombres a los elementos de una secuencia de forma muy natural.\n",
    "\n",
    "Supongamos que tenemos una tupla como la siguiente"
   ]
  },
  {
   "cell_type": "code",
   "execution_count": 67,
   "metadata": {
    "hidden": true
   },
   "outputs": [],
   "source": [
    "t = (3,4,5)"
   ]
  },
  {
   "cell_type": "markdown",
   "metadata": {
    "hidden": true
   },
   "source": [
    "y queremos operar con sus elementos. Podemos acceder con un índice:"
   ]
  },
  {
   "cell_type": "code",
   "execution_count": 68,
   "metadata": {
    "hidden": true
   },
   "outputs": [
    {
     "data": {
      "text/plain": [
       "9"
      ]
     },
     "execution_count": 68,
     "metadata": {},
     "output_type": "execute_result"
    }
   ],
   "source": [
    "t[1] + t[2]"
   ]
  },
  {
   "cell_type": "markdown",
   "metadata": {
    "hidden": true
   },
   "source": [
    "No hay ningún problema pero el acceso con índice se hace pesado si los elementos aparecen varias veces en el código. En estos casos es mejor ponerles nombre. Podemos hacer"
   ]
  },
  {
   "cell_type": "code",
   "execution_count": 69,
   "metadata": {
    "hidden": true
   },
   "outputs": [
    {
     "data": {
      "text/plain": [
       "9"
      ]
     },
     "execution_count": 69,
     "metadata": {},
     "output_type": "execute_result"
    }
   ],
   "source": [
    "b = t[1]\n",
    "c = t[2]\n",
    "\n",
    "b+c"
   ]
  },
  {
   "cell_type": "markdown",
   "metadata": {
    "hidden": true
   },
   "source": [
    "Sin embargo Python nos permite algo más elegante:"
   ]
  },
  {
   "cell_type": "code",
   "execution_count": 70,
   "metadata": {
    "hidden": true
   },
   "outputs": [
    {
     "data": {
      "text/plain": [
       "9"
      ]
     },
     "execution_count": 70,
     "metadata": {},
     "output_type": "execute_result"
    }
   ],
   "source": [
    "_,b,c = t\n",
    "\n",
    "b+c"
   ]
  },
  {
   "cell_type": "markdown",
   "metadata": {
    "hidden": true
   },
   "source": [
    "(El nombre `_`  se suele usar cuando no necesitamos ese elemento.)\n",
    "\n",
    "Usando esta característica podemos escribir varias asignaciones de una vez:"
   ]
  },
  {
   "cell_type": "code",
   "execution_count": 71,
   "metadata": {
    "hidden": true
   },
   "outputs": [],
   "source": [
    "x,y = 23,45"
   ]
  },
  {
   "cell_type": "markdown",
   "metadata": {
    "hidden": true
   },
   "source": [
    "Un nombre con asterisco captura dentro de una lista todos los elementos restantes:"
   ]
  },
  {
   "cell_type": "code",
   "execution_count": 72,
   "metadata": {
    "hidden": true
   },
   "outputs": [],
   "source": [
    "s = 'Alberto'\n",
    "\n",
    "x, y, *z, w = s"
   ]
  },
  {
   "cell_type": "code",
   "execution_count": 73,
   "metadata": {
    "hidden": true
   },
   "outputs": [
    {
     "data": {
      "text/plain": [
       "'l'"
      ]
     },
     "execution_count": 73,
     "metadata": {},
     "output_type": "execute_result"
    }
   ],
   "source": [
    "y"
   ]
  },
  {
   "cell_type": "code",
   "execution_count": 74,
   "metadata": {
    "hidden": true
   },
   "outputs": [
    {
     "data": {
      "text/plain": [
       "['b', 'e', 'r', 't']"
      ]
     },
     "execution_count": 74,
     "metadata": {},
     "output_type": "execute_result"
    }
   ],
   "source": [
    "z"
   ]
  },
  {
   "cell_type": "markdown",
   "metadata": {
    "hidden": true
   },
   "source": [
    "La desestructuración de argumentos es muy práctica en combinación con las *list comprehensions*:"
   ]
  },
  {
   "cell_type": "code",
   "execution_count": 75,
   "metadata": {
    "hidden": true
   },
   "outputs": [
    {
     "data": {
      "text/plain": [
       "[(0, 0), (1, 1), (2, 4), (3, 9), (4, 16)]"
      ]
     },
     "execution_count": 75,
     "metadata": {},
     "output_type": "execute_result"
    }
   ],
   "source": [
    "l = [(k,k**2) for k in range(5)]\n",
    "l"
   ]
  },
  {
   "cell_type": "code",
   "execution_count": 76,
   "metadata": {
    "hidden": true
   },
   "outputs": [
    {
     "data": {
      "text/plain": [
       "[0, 2, 6, 12, 20]"
      ]
     },
     "execution_count": 76,
     "metadata": {},
     "output_type": "execute_result"
    }
   ],
   "source": [
    "[a+b for a,b in l]"
   ]
  },
  {
   "cell_type": "markdown",
   "metadata": {
    "heading_collapsed": true
   },
   "source": [
    "## Funciones"
   ]
  },
  {
   "cell_type": "code",
   "execution_count": 77,
   "metadata": {
    "hidden": true
   },
   "outputs": [],
   "source": [
    "def sp(n):\n",
    "    r = n**2+n+41\n",
    "    return r"
   ]
  },
  {
   "cell_type": "code",
   "execution_count": 78,
   "metadata": {
    "hidden": true
   },
   "outputs": [
    {
     "data": {
      "text/plain": [
       "71"
      ]
     },
     "execution_count": 78,
     "metadata": {},
     "output_type": "execute_result"
    }
   ],
   "source": [
    "sp(5)"
   ]
  },
  {
   "cell_type": "markdown",
   "metadata": {
    "hidden": true
   },
   "source": [
    "Se pueden devolver varios resultados en una tupla:"
   ]
  },
  {
   "cell_type": "code",
   "execution_count": 79,
   "metadata": {
    "hidden": true
   },
   "outputs": [],
   "source": [
    "import math\n",
    "\n",
    "def ecsec(a,b,c):\n",
    "    d = math.sqrt(b**2- 4*a*c)\n",
    "    s1 = (-b+d)/2/a\n",
    "    s2 = (-b-d)/2/a\n",
    "    return (s1,s2)"
   ]
  },
  {
   "cell_type": "code",
   "execution_count": 80,
   "metadata": {
    "hidden": true,
    "scrolled": true
   },
   "outputs": [
    {
     "data": {
      "text/plain": [
       "(2.0, 1.0)"
      ]
     },
     "execution_count": 80,
     "metadata": {},
     "output_type": "execute_result"
    }
   ],
   "source": [
    "ecsec(2,-6,4)"
   ]
  },
  {
   "cell_type": "markdown",
   "metadata": {
    "hidden": true
   },
   "source": [
    "Los paréntesis de la tupla son opcionales."
   ]
  },
  {
   "cell_type": "code",
   "execution_count": 81,
   "metadata": {
    "hidden": true
   },
   "outputs": [
    {
     "data": {
      "text/plain": [
       "1.0"
      ]
     },
     "execution_count": 81,
     "metadata": {},
     "output_type": "execute_result"
    }
   ],
   "source": [
    "a,b = ecsec(1,-3,2)\n",
    "\n",
    "b"
   ]
  },
  {
   "cell_type": "markdown",
   "metadata": {
    "hidden": true
   },
   "source": [
    "Las variables globales son visibles dentro de las funciones y las asignaciones crean variables locales (a menos que el nombre se declare `global`)."
   ]
  },
  {
   "cell_type": "code",
   "execution_count": 82,
   "metadata": {
    "hidden": true
   },
   "outputs": [
    {
     "name": "stdout",
     "output_type": "stream",
     "text": [
      "6\n",
      "8\n"
     ]
    }
   ],
   "source": [
    "a = 5\n",
    "\n",
    "b = 8\n",
    "\n",
    "def f(x):\n",
    "    b = a+1\n",
    "    return b\n",
    "\n",
    "print(f(3))\n",
    "print(b)"
   ]
  },
  {
   "cell_type": "code",
   "execution_count": 83,
   "metadata": {
    "hidden": true
   },
   "outputs": [
    {
     "name": "stdout",
     "output_type": "stream",
     "text": [
      "6\n",
      "6\n"
     ]
    }
   ],
   "source": [
    "a = 5\n",
    "\n",
    "b = 8\n",
    "\n",
    "def f(x):\n",
    "    global b\n",
    "    b = a+1\n",
    "    return b\n",
    "\n",
    "print(f(3))\n",
    "print(b)"
   ]
  },
  {
   "cell_type": "markdown",
   "metadata": {
    "hidden": true
   },
   "source": [
    "Argumentos por omisión:"
   ]
  },
  {
   "cell_type": "code",
   "execution_count": 84,
   "metadata": {
    "hidden": true
   },
   "outputs": [
    {
     "name": "stdout",
     "output_type": "stream",
     "text": [
      "6\n",
      "8\n"
     ]
    }
   ],
   "source": [
    "def incre(x,y=1):\n",
    "    return x + y\n",
    "\n",
    "print(incre(5))\n",
    "print(incre(5,3))"
   ]
  },
  {
   "cell_type": "markdown",
   "metadata": {
    "hidden": true
   },
   "source": [
    "Argumentos por nombre:"
   ]
  },
  {
   "cell_type": "code",
   "execution_count": 85,
   "metadata": {
    "hidden": true
   },
   "outputs": [
    {
     "data": {
      "text/plain": [
       "5"
      ]
     },
     "execution_count": 85,
     "metadata": {},
     "output_type": "execute_result"
    }
   ],
   "source": [
    "incre(y=3, x=2)"
   ]
  },
  {
   "cell_type": "markdown",
   "metadata": {
    "hidden": true
   },
   "source": [
    "Documentación:"
   ]
  },
  {
   "cell_type": "code",
   "execution_count": 86,
   "metadata": {
    "hidden": true
   },
   "outputs": [
    {
     "name": "stdout",
     "output_type": "stream",
     "text": [
      "Help on built-in function sum in module builtins:\n",
      "\n",
      "sum(iterable, start=0, /)\n",
      "    Return the sum of a 'start' value (default: 0) plus an iterable of numbers\n",
      "    \n",
      "    When the iterable is empty, return the start value.\n",
      "    This function is intended specifically for use with numeric values and may\n",
      "    reject non-numeric types.\n",
      "\n"
     ]
    }
   ],
   "source": [
    "# ? sum\n",
    "help(sum)"
   ]
  },
  {
   "cell_type": "code",
   "execution_count": 87,
   "metadata": {
    "hidden": true
   },
   "outputs": [],
   "source": [
    "def fun(n):\n",
    "    \"\"\"Una función muy simple que calcula el triple de su argumento.\"\"\"\n",
    "    return 3*n"
   ]
  },
  {
   "cell_type": "code",
   "execution_count": 88,
   "metadata": {
    "hidden": true
   },
   "outputs": [
    {
     "name": "stdout",
     "output_type": "stream",
     "text": [
      "Help on function fun in module __main__:\n",
      "\n",
      "fun(n)\n",
      "    Una función muy simple que calcula el triple de su argumento.\n",
      "\n"
     ]
    }
   ],
   "source": [
    "help(fun)"
   ]
  },
  {
   "cell_type": "markdown",
   "metadata": {
    "heading_collapsed": true,
    "hidden": true
   },
   "source": [
    "### Bibliotecas"
   ]
  },
  {
   "cell_type": "markdown",
   "metadata": {
    "hidden": true
   },
   "source": [
    "Las funciones definidas en un archivo se pueden utilizar directamente haciendo un `import`. Existe una convención para definir una función `main` que se ejecuta cuando el archivo se arranca como programa y suele usarse para ejecutar tests."
   ]
  },
  {
   "cell_type": "markdown",
   "metadata": {
    "heading_collapsed": true,
    "hidden": true
   },
   "source": [
    "### Programación funcional"
   ]
  },
  {
   "cell_type": "markdown",
   "metadata": {
    "hidden": true
   },
   "source": [
    "En Python 3 las construcciones funcionales crean secuencias \"bajo demanda\"."
   ]
  },
  {
   "cell_type": "code",
   "execution_count": 89,
   "metadata": {
    "hidden": true
   },
   "outputs": [
    {
     "data": {
      "text/plain": [
       "<map at 0x7efcb013a1d0>"
      ]
     },
     "execution_count": 89,
     "metadata": {},
     "output_type": "execute_result"
    }
   ],
   "source": [
    "map(sp,range(5))"
   ]
  },
  {
   "cell_type": "code",
   "execution_count": 90,
   "metadata": {
    "hidden": true
   },
   "outputs": [
    {
     "name": "stdout",
     "output_type": "stream",
     "text": [
      "41\n",
      "43\n",
      "47\n",
      "53\n",
      "61\n"
     ]
    }
   ],
   "source": [
    "for k in map(sp,range(5)):\n",
    "    print(k)"
   ]
  },
  {
   "cell_type": "code",
   "execution_count": 91,
   "metadata": {
    "hidden": true
   },
   "outputs": [
    {
     "data": {
      "text/plain": [
       "[41, 43, 47, 53, 61]"
      ]
     },
     "execution_count": 91,
     "metadata": {},
     "output_type": "execute_result"
    }
   ],
   "source": [
    "list(map(sp,range(5)))"
   ]
  },
  {
   "cell_type": "code",
   "execution_count": 92,
   "metadata": {
    "hidden": true
   },
   "outputs": [
    {
     "data": {
      "text/plain": [
       "[1, 3, 5, 7, 9]"
      ]
     },
     "execution_count": 92,
     "metadata": {},
     "output_type": "execute_result"
    }
   ],
   "source": [
    "list(filter(lambda x: x%2 == 1, range(10)))"
   ]
  },
  {
   "cell_type": "markdown",
   "metadata": {
    "hidden": true
   },
   "source": [
    "Es poco frecuente usar explícitamente map y filter, ya que su efecto se consigue de forma más cómoda con list comprehensions:"
   ]
  },
  {
   "cell_type": "code",
   "execution_count": 93,
   "metadata": {
    "hidden": true
   },
   "outputs": [
    {
     "data": {
      "text/plain": [
       "[36, 49, 64, 81]"
      ]
     },
     "execution_count": 93,
     "metadata": {},
     "output_type": "execute_result"
    }
   ],
   "source": [
    "[k**2 for k in range(10) if k >5 ]"
   ]
  },
  {
   "cell_type": "code",
   "execution_count": 94,
   "metadata": {
    "hidden": true
   },
   "outputs": [],
   "source": [
    "def divis(n):\n",
    "    return [k for k in range(2,n) if n%k==0]"
   ]
  },
  {
   "cell_type": "code",
   "execution_count": 95,
   "metadata": {
    "hidden": true
   },
   "outputs": [
    {
     "data": {
      "text/plain": [
       "[2, 3, 4, 6]"
      ]
     },
     "execution_count": 95,
     "metadata": {},
     "output_type": "execute_result"
    }
   ],
   "source": [
    "divis(12)"
   ]
  },
  {
   "cell_type": "code",
   "execution_count": 96,
   "metadata": {
    "hidden": true
   },
   "outputs": [
    {
     "data": {
      "text/plain": [
       "[7, 11, 13, 77, 91, 143]"
      ]
     },
     "execution_count": 96,
     "metadata": {},
     "output_type": "execute_result"
    }
   ],
   "source": [
    "divis(1001)"
   ]
  },
  {
   "cell_type": "code",
   "execution_count": 97,
   "metadata": {
    "hidden": true
   },
   "outputs": [],
   "source": [
    "def perfect(n):\n",
    "    return sum(divis(n)) + 1 == n"
   ]
  },
  {
   "cell_type": "code",
   "execution_count": 98,
   "metadata": {
    "hidden": true
   },
   "outputs": [
    {
     "data": {
      "text/plain": [
       "False"
      ]
     },
     "execution_count": 98,
     "metadata": {},
     "output_type": "execute_result"
    }
   ],
   "source": [
    "perfect(4)"
   ]
  },
  {
   "cell_type": "code",
   "execution_count": 99,
   "metadata": {
    "hidden": true
   },
   "outputs": [
    {
     "data": {
      "text/plain": [
       "True"
      ]
     },
     "execution_count": 99,
     "metadata": {},
     "output_type": "execute_result"
    }
   ],
   "source": [
    "perfect(6)"
   ]
  },
  {
   "cell_type": "code",
   "execution_count": 100,
   "metadata": {
    "hidden": true
   },
   "outputs": [],
   "source": [
    "def prime(n):\n",
    "    return divis(n)==[]"
   ]
  },
  {
   "cell_type": "code",
   "execution_count": 101,
   "metadata": {
    "hidden": true
   },
   "outputs": [
    {
     "data": {
      "text/plain": [
       "[2, 3, 5, 7, 11, 13, 17, 19]"
      ]
     },
     "execution_count": 101,
     "metadata": {},
     "output_type": "execute_result"
    }
   ],
   "source": [
    "[k for k in range(2,21) if prime(k)]"
   ]
  },
  {
   "cell_type": "code",
   "execution_count": 102,
   "metadata": {
    "hidden": true
   },
   "outputs": [],
   "source": [
    "from functools import reduce\n",
    "import operator\n",
    "\n",
    "def product(l):\n",
    "    return reduce(operator.mul,l,1)"
   ]
  },
  {
   "cell_type": "code",
   "execution_count": 103,
   "metadata": {
    "hidden": true
   },
   "outputs": [
    {
     "data": {
      "text/plain": [
       "3628800"
      ]
     },
     "execution_count": 103,
     "metadata": {},
     "output_type": "execute_result"
    }
   ],
   "source": [
    "product(range(1,10+1))"
   ]
  },
  {
   "cell_type": "markdown",
   "metadata": {
    "hidden": true
   },
   "source": [
    "Función que construye funciones:"
   ]
  },
  {
   "cell_type": "code",
   "execution_count": 104,
   "metadata": {
    "hidden": true
   },
   "outputs": [],
   "source": [
    "def mkfun(y):\n",
    "    return lambda x: x+y"
   ]
  },
  {
   "cell_type": "code",
   "execution_count": 105,
   "metadata": {
    "hidden": true
   },
   "outputs": [
    {
     "name": "stdout",
     "output_type": "stream",
     "text": [
      "11\n",
      "15\n"
     ]
    }
   ],
   "source": [
    "f = mkfun(1)\n",
    "g = mkfun(5)\n",
    "\n",
    "print(f(10))\n",
    "print(g(10))"
   ]
  },
  {
   "cell_type": "code",
   "execution_count": 106,
   "metadata": {
    "hidden": true
   },
   "outputs": [
    {
     "name": "stdout",
     "output_type": "stream",
     "text": [
      "11\n",
      "15\n"
     ]
    }
   ],
   "source": [
    "fs = list(map(mkfun,range(1,6)))\n",
    "\n",
    "print(fs[0](10))\n",
    "print(fs[4](10))"
   ]
  },
  {
   "cell_type": "markdown",
   "metadata": {
    "heading_collapsed": true
   },
   "source": [
    "## Arrays"
   ]
  },
  {
   "cell_type": "markdown",
   "metadata": {
    "hidden": true
   },
   "source": [
    "Gran parte del éxito de Python se debe a [numpy](http://www.numpy.org/)."
   ]
  },
  {
   "cell_type": "code",
   "execution_count": 107,
   "metadata": {
    "hidden": true
   },
   "outputs": [],
   "source": [
    "import numpy as np"
   ]
  },
  {
   "cell_type": "markdown",
   "metadata": {
    "hidden": true
   },
   "source": [
    "Construcción a partir de listas (u otros contenedores):"
   ]
  },
  {
   "cell_type": "code",
   "execution_count": 108,
   "metadata": {
    "hidden": true
   },
   "outputs": [],
   "source": [
    "m = np.array([[5,3, 2,10],\n",
    "              [2,0, 7, 0],\n",
    "              [1,1,-3, 6]])"
   ]
  },
  {
   "cell_type": "code",
   "execution_count": 109,
   "metadata": {
    "hidden": true
   },
   "outputs": [
    {
     "data": {
      "text/plain": [
       "7"
      ]
     },
     "execution_count": 109,
     "metadata": {},
     "output_type": "execute_result"
    }
   ],
   "source": [
    "m[1,2]"
   ]
  },
  {
   "cell_type": "markdown",
   "metadata": {
    "hidden": true
   },
   "source": [
    "Inspección de su tipo y estructura:"
   ]
  },
  {
   "cell_type": "code",
   "execution_count": 110,
   "metadata": {
    "hidden": true
   },
   "outputs": [
    {
     "data": {
      "text/plain": [
       "numpy.ndarray"
      ]
     },
     "execution_count": 110,
     "metadata": {},
     "output_type": "execute_result"
    }
   ],
   "source": [
    "type(m)"
   ]
  },
  {
   "cell_type": "code",
   "execution_count": 111,
   "metadata": {
    "hidden": true
   },
   "outputs": [
    {
     "data": {
      "text/plain": [
       "dtype('int64')"
      ]
     },
     "execution_count": 111,
     "metadata": {},
     "output_type": "execute_result"
    }
   ],
   "source": [
    "m.dtype"
   ]
  },
  {
   "cell_type": "code",
   "execution_count": 112,
   "metadata": {
    "hidden": true
   },
   "outputs": [
    {
     "data": {
      "text/plain": [
       "(3, 4)"
      ]
     },
     "execution_count": 112,
     "metadata": {},
     "output_type": "execute_result"
    }
   ],
   "source": [
    "m.shape"
   ]
  },
  {
   "cell_type": "code",
   "execution_count": 113,
   "metadata": {
    "hidden": true
   },
   "outputs": [
    {
     "data": {
      "text/plain": [
       "2"
      ]
     },
     "execution_count": 113,
     "metadata": {},
     "output_type": "execute_result"
    }
   ],
   "source": [
    "m.ndim"
   ]
  },
  {
   "cell_type": "code",
   "execution_count": 114,
   "metadata": {
    "hidden": true
   },
   "outputs": [
    {
     "data": {
      "text/plain": [
       "3"
      ]
     },
     "execution_count": 114,
     "metadata": {},
     "output_type": "execute_result"
    }
   ],
   "source": [
    "len(m)"
   ]
  },
  {
   "cell_type": "code",
   "execution_count": 115,
   "metadata": {
    "hidden": true
   },
   "outputs": [
    {
     "data": {
      "text/plain": [
       "12"
      ]
     },
     "execution_count": 115,
     "metadata": {},
     "output_type": "execute_result"
    }
   ],
   "source": [
    "m.size"
   ]
  },
  {
   "cell_type": "markdown",
   "metadata": {
    "hidden": true
   },
   "source": [
    "Las operaciones elemento a elemento son automáticas:"
   ]
  },
  {
   "cell_type": "code",
   "execution_count": 116,
   "metadata": {
    "hidden": true
   },
   "outputs": [
    {
     "data": {
      "text/plain": [
       "array([[ 27,  17,  12,  52],\n",
       "       [ 12,   2,  37,   2],\n",
       "       [  7,   7, -13,  32]])"
      ]
     },
     "execution_count": 116,
     "metadata": {},
     "output_type": "execute_result"
    }
   ],
   "source": [
    "5*m + 2"
   ]
  },
  {
   "cell_type": "markdown",
   "metadata": {
    "hidden": true
   },
   "source": [
    "Constructores especiales:"
   ]
  },
  {
   "cell_type": "code",
   "execution_count": 117,
   "metadata": {
    "hidden": true
   },
   "outputs": [
    {
     "data": {
      "text/plain": [
       "array([[0., 0., 0.],\n",
       "       [0., 0., 0.]])"
      ]
     },
     "execution_count": 117,
     "metadata": {},
     "output_type": "execute_result"
    }
   ],
   "source": [
    "np.zeros([2,3])"
   ]
  },
  {
   "cell_type": "code",
   "execution_count": 118,
   "metadata": {
    "hidden": true
   },
   "outputs": [
    {
     "data": {
      "text/plain": [
       "array([1., 1., 1., 1.])"
      ]
     },
     "execution_count": 118,
     "metadata": {},
     "output_type": "execute_result"
    }
   ],
   "source": [
    "np.ones([4])"
   ]
  },
  {
   "cell_type": "code",
   "execution_count": 119,
   "metadata": {
    "hidden": true
   },
   "outputs": [
    {
     "data": {
      "text/plain": [
       "array([0. , 0.5, 1. , 1.5, 2. , 2.5, 3. , 3.5, 4. , 4.5, 5. ])"
      ]
     },
     "execution_count": 119,
     "metadata": {},
     "output_type": "execute_result"
    }
   ],
   "source": [
    "np.linspace(0,5,11)"
   ]
  },
  {
   "cell_type": "code",
   "execution_count": 120,
   "metadata": {
    "hidden": true
   },
   "outputs": [
    {
     "data": {
      "text/plain": [
       "array([0, 1, 2, 3, 4, 5, 6, 7, 8, 9])"
      ]
     },
     "execution_count": 120,
     "metadata": {},
     "output_type": "execute_result"
    }
   ],
   "source": [
    "np.arange(10)"
   ]
  },
  {
   "cell_type": "code",
   "execution_count": 121,
   "metadata": {
    "hidden": true
   },
   "outputs": [
    {
     "data": {
      "text/plain": [
       "array([1. , 1.5, 2. , 2.5, 3. , 3.5, 4. , 4.5, 5. , 5.5, 6. , 6.5, 7. ,\n",
       "       7.5, 8. , 8.5, 9. , 9.5])"
      ]
     },
     "execution_count": 121,
     "metadata": {},
     "output_type": "execute_result"
    }
   ],
   "source": [
    "np.arange(1,10,0.5)"
   ]
  },
  {
   "cell_type": "code",
   "execution_count": 122,
   "metadata": {
    "hidden": true
   },
   "outputs": [
    {
     "data": {
      "text/plain": [
       "array([[1., 0., 0., 0., 0., 0., 0.],\n",
       "       [0., 1., 0., 0., 0., 0., 0.],\n",
       "       [0., 0., 1., 0., 0., 0., 0.],\n",
       "       [0., 0., 0., 1., 0., 0., 0.],\n",
       "       [0., 0., 0., 0., 1., 0., 0.],\n",
       "       [0., 0., 0., 0., 0., 1., 0.],\n",
       "       [0., 0., 0., 0., 0., 0., 1.]])"
      ]
     },
     "execution_count": 122,
     "metadata": {},
     "output_type": "execute_result"
    }
   ],
   "source": [
    "np.eye(7)"
   ]
  },
  {
   "cell_type": "markdown",
   "metadata": {
    "hidden": true
   },
   "source": [
    "Iteración, a lo largo de la primera dimensión:"
   ]
  },
  {
   "cell_type": "code",
   "execution_count": 123,
   "metadata": {
    "hidden": true
   },
   "outputs": [
    {
     "name": "stdout",
     "output_type": "stream",
     "text": [
      "0\n",
      "1\n",
      "2\n",
      "3\n"
     ]
    }
   ],
   "source": [
    "for e in np.arange(4):\n",
    "    print(e)"
   ]
  },
  {
   "cell_type": "code",
   "execution_count": 124,
   "metadata": {
    "hidden": true
   },
   "outputs": [
    {
     "name": "stdout",
     "output_type": "stream",
     "text": [
      "[ 5  3  2 10]\n",
      "[2 0 7 0]\n",
      "[ 1  1 -3  6]\n"
     ]
    }
   ],
   "source": [
    "for e in m:\n",
    "    print(e)"
   ]
  },
  {
   "cell_type": "code",
   "execution_count": 125,
   "metadata": {
    "hidden": true
   },
   "outputs": [
    {
     "data": {
      "text/plain": [
       "array([ 8,  4,  6, 16])"
      ]
     },
     "execution_count": 125,
     "metadata": {},
     "output_type": "execute_result"
    }
   ],
   "source": [
    "sum(m)"
   ]
  },
  {
   "cell_type": "code",
   "execution_count": 126,
   "metadata": {
    "hidden": true
   },
   "outputs": [
    {
     "data": {
      "text/plain": [
       "array([20,  9,  5])"
      ]
     },
     "execution_count": 126,
     "metadata": {},
     "output_type": "execute_result"
    }
   ],
   "source": [
    "np.sum(m,axis=1)"
   ]
  },
  {
   "cell_type": "markdown",
   "metadata": {
    "hidden": true
   },
   "source": [
    "Operaciones matriciales:"
   ]
  },
  {
   "cell_type": "code",
   "execution_count": 127,
   "metadata": {
    "hidden": true
   },
   "outputs": [
    {
     "data": {
      "text/plain": [
       "array([[ 5,  2,  1],\n",
       "       [ 3,  0,  1],\n",
       "       [ 2,  7, -3],\n",
       "       [10,  0,  6]])"
      ]
     },
     "execution_count": 127,
     "metadata": {},
     "output_type": "execute_result"
    }
   ],
   "source": [
    "m.T"
   ]
  },
  {
   "cell_type": "code",
   "execution_count": 128,
   "metadata": {
    "hidden": true
   },
   "outputs": [],
   "source": [
    "v = np.array([3,2,-5,8])"
   ]
  },
  {
   "cell_type": "markdown",
   "metadata": {
    "hidden": true
   },
   "source": [
    "El producto de matrices, el producto escalar de vectores, y su generalización para arrays multidimensionales se expresa con el símbolo `@` (que representa a la función `dot`)."
   ]
  },
  {
   "cell_type": "code",
   "execution_count": 129,
   "metadata": {
    "hidden": true
   },
   "outputs": [
    {
     "data": {
      "text/plain": [
       "array([ 91, -29,  68])"
      ]
     },
     "execution_count": 129,
     "metadata": {},
     "output_type": "execute_result"
    }
   ],
   "source": [
    "m @ v"
   ]
  },
  {
   "cell_type": "code",
   "execution_count": 130,
   "metadata": {
    "hidden": true
   },
   "outputs": [
    {
     "data": {
      "text/plain": [
       "array([[ 50,  30,  20, 100],\n",
       "       [  0,   0,   0,   0],\n",
       "       [  1,   1,  -3,   6]])"
      ]
     },
     "execution_count": 130,
     "metadata": {},
     "output_type": "execute_result"
    }
   ],
   "source": [
    "np.diag([10,0,1]) @ m"
   ]
  },
  {
   "cell_type": "markdown",
   "metadata": {
    "hidden": true
   },
   "source": [
    "Las funciones matemáticas están optimizadas para operar con arrays elemento a elemento:"
   ]
  },
  {
   "cell_type": "code",
   "execution_count": 131,
   "metadata": {
    "hidden": true
   },
   "outputs": [
    {
     "data": {
      "text/plain": [
       "array([0.        , 0.21666156, 0.43332312, 0.64998469, 0.86664625,\n",
       "       1.08330781, 1.29996937, 1.51663094, 1.7332925 , 1.94995406,\n",
       "       2.16661562, 2.38327719, 2.59993875, 2.81660031, 3.03326187,\n",
       "       3.24992343, 3.466585  , 3.68324656, 3.89990812, 4.11656968,\n",
       "       4.33323125, 4.54989281, 4.76655437, 4.98321593, 5.1998775 ,\n",
       "       5.41653906, 5.63320062, 5.84986218, 6.06652374, 6.28318531])"
      ]
     },
     "execution_count": 131,
     "metadata": {},
     "output_type": "execute_result"
    }
   ],
   "source": [
    "x = np.linspace(0,2*np.pi,30)\n",
    "\n",
    "x"
   ]
  },
  {
   "cell_type": "code",
   "execution_count": 132,
   "metadata": {
    "hidden": true
   },
   "outputs": [
    {
     "data": {
      "text/plain": [
       "array([ 1.        ,  1.12254586,  1.06727539,  0.87270255,  0.60038006,\n",
       "        0.32232498,  0.10669282,  0.00439546,  0.03917335,  0.20298123,\n",
       "        0.45755084,  0.74183837,  0.9839623 ,  1.1153946 ,  1.08473957,\n",
       "        0.86850154,  0.47679154, -0.04714542, -0.63356055, -1.19782715,\n",
       "       -1.65497221, -1.93447969, -1.99267137, -1.82040717, -1.44469911,\n",
       "       -0.92394405, -0.33764588,  0.22749718,  0.69260498,  1.        ])"
      ]
     },
     "execution_count": 132,
     "metadata": {},
     "output_type": "execute_result"
    }
   ],
   "source": [
    "y = np.sin(x) + np.cos(2*x)\n",
    "y"
   ]
  },
  {
   "cell_type": "markdown",
   "metadata": {
    "hidden": true
   },
   "source": [
    "Reconfiguración de los elementos:"
   ]
  },
  {
   "cell_type": "code",
   "execution_count": 133,
   "metadata": {
    "hidden": true
   },
   "outputs": [
    {
     "data": {
      "text/plain": [
       "array([ 0,  1,  2,  3,  4,  5,  6,  7,  8,  9, 10, 11])"
      ]
     },
     "execution_count": 133,
     "metadata": {},
     "output_type": "execute_result"
    }
   ],
   "source": [
    "np.arange(12)"
   ]
  },
  {
   "cell_type": "code",
   "execution_count": 134,
   "metadata": {
    "hidden": true
   },
   "outputs": [
    {
     "data": {
      "text/plain": [
       "array([[[ 0,  1],\n",
       "        [ 2,  3]],\n",
       "\n",
       "       [[ 4,  5],\n",
       "        [ 6,  7]],\n",
       "\n",
       "       [[ 8,  9],\n",
       "        [10, 11]]])"
      ]
     },
     "execution_count": 134,
     "metadata": {},
     "output_type": "execute_result"
    }
   ],
   "source": [
    "np.arange(12).reshape(3,2,2)"
   ]
  },
  {
   "cell_type": "markdown",
   "metadata": {
    "heading_collapsed": true,
    "hidden": true
   },
   "source": [
    "### Matrices por bloques"
   ]
  },
  {
   "cell_type": "code",
   "execution_count": 135,
   "metadata": {
    "hidden": true,
    "scrolled": true
   },
   "outputs": [
    {
     "data": {
      "text/plain": [
       "array([[  5,   3,   2,  10],\n",
       "       [  2,   0,   7,   0],\n",
       "       [  1,   1,  -3,   6],\n",
       "       [100, 200, 300, 400],\n",
       "       [  0,  10,   0,   1]])"
      ]
     },
     "execution_count": 135,
     "metadata": {},
     "output_type": "execute_result"
    }
   ],
   "source": [
    "np.append(m,[[100,200,300,400],\n",
    "             [0,  10,  0,  1] ],axis=0)"
   ]
  },
  {
   "cell_type": "code",
   "execution_count": 136,
   "metadata": {
    "hidden": true
   },
   "outputs": [
    {
     "data": {
      "text/plain": [
       "array([[0., 0., 0., 1., 1.],\n",
       "       [0., 0., 0., 1., 1.],\n",
       "       [0., 0., 0., 1., 1.]])"
      ]
     },
     "execution_count": 136,
     "metadata": {},
     "output_type": "execute_result"
    }
   ],
   "source": [
    "np.hstack([np.zeros([3,3]),np.ones([3,2])])"
   ]
  },
  {
   "cell_type": "code",
   "execution_count": 137,
   "metadata": {
    "hidden": true
   },
   "outputs": [
    {
     "data": {
      "text/plain": [
       "array([[1., 0., 0.],\n",
       "       [0., 1., 0.],\n",
       "       [0., 0., 1.],\n",
       "       [5., 5., 5.],\n",
       "       [5., 5., 5.]])"
      ]
     },
     "execution_count": 137,
     "metadata": {},
     "output_type": "execute_result"
    }
   ],
   "source": [
    "np.vstack([np.eye(3),5*np.ones([2,3])])"
   ]
  },
  {
   "cell_type": "markdown",
   "metadata": {
    "hidden": true
   },
   "source": [
    "numpy proporciona un tipo especial `matrix` para los arrays de 2 dimensiones pero [se recomienda no usarlo](https://stackoverflow.com/questions/4151128/what-are-the-differences-between-numpy-arrays-and-matrices-which-one-should-i-u) o usarlo con cuidado."
   ]
  },
  {
   "cell_type": "markdown",
   "metadata": {
    "heading_collapsed": true,
    "hidden": true
   },
   "source": [
    "### Automatic broadcasting"
   ]
  },
  {
   "cell_type": "markdown",
   "metadata": {
    "hidden": true
   },
   "source": [
    "Las operaciones elemento a elemento argumentos con las mismas dimensiones. Pero si alguna dimensión es igual a uno, se sobreentiende que los elementos se replican en esa dimensión para coincidir con el otro array."
   ]
  },
  {
   "cell_type": "code",
   "execution_count": 138,
   "metadata": {
    "hidden": true
   },
   "outputs": [],
   "source": [
    "m = np.array([[1, 2, 3, 4]\n",
    "             ,[5, 6, 7, 8]\n",
    "             ,[9,10,11,12]])"
   ]
  },
  {
   "cell_type": "code",
   "execution_count": 139,
   "metadata": {
    "hidden": true
   },
   "outputs": [
    {
     "data": {
      "text/plain": [
       "array([[11, 12, 13, 14],\n",
       "       [25, 26, 27, 28],\n",
       "       [39, 40, 41, 42]])"
      ]
     },
     "execution_count": 139,
     "metadata": {},
     "output_type": "execute_result"
    }
   ],
   "source": [
    "m + [[10],\n",
    "     [20],\n",
    "     [30]]"
   ]
  },
  {
   "cell_type": "code",
   "execution_count": 140,
   "metadata": {
    "hidden": true
   },
   "outputs": [
    {
     "data": {
      "text/plain": [
       "array([[101, 202, 303, 404],\n",
       "       [105, 206, 307, 408],\n",
       "       [109, 210, 311, 412]])"
      ]
     },
     "execution_count": 140,
     "metadata": {},
     "output_type": "execute_result"
    }
   ],
   "source": [
    "m + [100,200,300,400]"
   ]
  },
  {
   "cell_type": "code",
   "execution_count": 141,
   "metadata": {
    "hidden": true
   },
   "outputs": [
    {
     "data": {
      "text/plain": [
       "array([[101, 102, 103, 104],\n",
       "       [201, 202, 203, 204],\n",
       "       [301, 302, 303, 304]])"
      ]
     },
     "execution_count": 141,
     "metadata": {},
     "output_type": "execute_result"
    }
   ],
   "source": [
    "np.array([[1,2,3,4]])   + np.array([[100],\n",
    "                                    [200],\n",
    "                                    [300]])"
   ]
  },
  {
   "cell_type": "markdown",
   "metadata": {
    "heading_collapsed": true,
    "hidden": true
   },
   "source": [
    "### Slices\n",
    "\n",
    "Extracción de elementos y \"submatrices\" o \"subarrays\", seleccionando intervalos de filas, columnas, etc.:"
   ]
  },
  {
   "cell_type": "code",
   "execution_count": 142,
   "metadata": {
    "hidden": true
   },
   "outputs": [
    {
     "data": {
      "text/plain": [
       "array([[ 0,  1,  2,  3,  4,  5,  6],\n",
       "       [ 7,  8,  9, 10, 11, 12, 13],\n",
       "       [14, 15, 16, 17, 18, 19, 20],\n",
       "       [21, 22, 23, 24, 25, 26, 27],\n",
       "       [28, 29, 30, 31, 32, 33, 34],\n",
       "       [35, 36, 37, 38, 39, 40, 41]])"
      ]
     },
     "execution_count": 142,
     "metadata": {},
     "output_type": "execute_result"
    }
   ],
   "source": [
    "m = np.arange(42).reshape(6,7)\n",
    "m"
   ]
  },
  {
   "cell_type": "code",
   "execution_count": 143,
   "metadata": {
    "hidden": true
   },
   "outputs": [
    {
     "data": {
      "text/plain": [
       "9"
      ]
     },
     "execution_count": 143,
     "metadata": {},
     "output_type": "execute_result"
    }
   ],
   "source": [
    "m[1,2]"
   ]
  },
  {
   "cell_type": "code",
   "execution_count": 144,
   "metadata": {
    "hidden": true
   },
   "outputs": [
    {
     "data": {
      "text/plain": [
       "array([[15, 16, 17],\n",
       "       [22, 23, 24],\n",
       "       [29, 30, 31]])"
      ]
     },
     "execution_count": 144,
     "metadata": {},
     "output_type": "execute_result"
    }
   ],
   "source": [
    "m[2:5,1:4]"
   ]
  },
  {
   "cell_type": "code",
   "execution_count": 145,
   "metadata": {
    "hidden": true
   },
   "outputs": [
    {
     "data": {
      "text/plain": [
       "array([[ 4,  5,  6],\n",
       "       [11, 12, 13],\n",
       "       [18, 19, 20]])"
      ]
     },
     "execution_count": 145,
     "metadata": {},
     "output_type": "execute_result"
    }
   ],
   "source": [
    "m[:3, 4:]"
   ]
  },
  {
   "cell_type": "code",
   "execution_count": 146,
   "metadata": {
    "hidden": true
   },
   "outputs": [
    {
     "data": {
      "text/plain": [
       "array([[ 7,  8,  9, 10, 11, 12, 13],\n",
       "       [ 0,  1,  2,  3,  4,  5,  6],\n",
       "       [ 0,  1,  2,  3,  4,  5,  6],\n",
       "       [14, 15, 16, 17, 18, 19, 20],\n",
       "       [ 7,  8,  9, 10, 11, 12, 13]])"
      ]
     },
     "execution_count": 146,
     "metadata": {},
     "output_type": "execute_result"
    }
   ],
   "source": [
    "m[[1,0,0,2,1],:]"
   ]
  },
  {
   "cell_type": "markdown",
   "metadata": {
    "hidden": true
   },
   "source": [
    "Los índices negativos indican que se empieza a contar desde el final."
   ]
  },
  {
   "cell_type": "code",
   "execution_count": 147,
   "metadata": {
    "hidden": true
   },
   "outputs": [
    {
     "data": {
      "text/plain": [
       "array([[ 5,  6],\n",
       "       [12, 13],\n",
       "       [19, 20]])"
      ]
     },
     "execution_count": 147,
     "metadata": {},
     "output_type": "execute_result"
    }
   ],
   "source": [
    "# las dos últimas columnas y todas las filas menos las tres últimas.\n",
    "m[:-3,-2:]"
   ]
  },
  {
   "cell_type": "code",
   "execution_count": 148,
   "metadata": {
    "hidden": true
   },
   "outputs": [
    {
     "data": {
      "text/plain": [
       "array([ 5, 12, 19, 26, 33, 40])"
      ]
     },
     "execution_count": 148,
     "metadata": {},
     "output_type": "execute_result"
    }
   ],
   "source": [
    "# la penúltima columna\n",
    "m[:,-2]"
   ]
  },
  {
   "cell_type": "code",
   "execution_count": 149,
   "metadata": {
    "hidden": true
   },
   "outputs": [
    {
     "data": {
      "text/plain": [
       "array([[ 5],\n",
       "       [12],\n",
       "       [19],\n",
       "       [26],\n",
       "       [33],\n",
       "       [40]])"
      ]
     },
     "execution_count": 149,
     "metadata": {},
     "output_type": "execute_result"
    }
   ],
   "source": [
    "# la penúltima columna pero como array 2D (matriz), para que se vea como un vector columna\n",
    "m[:,[-2]]"
   ]
  },
  {
   "cell_type": "markdown",
   "metadata": {
    "heading_collapsed": true,
    "hidden": true
   },
   "source": [
    "### Masks"
   ]
  },
  {
   "cell_type": "markdown",
   "metadata": {
    "hidden": true
   },
   "source": [
    "Extracción de elementos que cumplen una condición:"
   ]
  },
  {
   "cell_type": "code",
   "execution_count": 150,
   "metadata": {
    "hidden": true
   },
   "outputs": [
    {
     "data": {
      "text/plain": [
       "array([0, 1, 2, 3, 4, 5, 6, 7, 8, 9])"
      ]
     },
     "execution_count": 150,
     "metadata": {},
     "output_type": "execute_result"
    }
   ],
   "source": [
    "n = np.arange(10)\n",
    "\n",
    "n"
   ]
  },
  {
   "cell_type": "code",
   "execution_count": 151,
   "metadata": {
    "hidden": true
   },
   "outputs": [
    {
     "data": {
      "text/plain": [
       "array([ True,  True,  True,  True,  True, False, False, False, False,\n",
       "       False])"
      ]
     },
     "execution_count": 151,
     "metadata": {},
     "output_type": "execute_result"
    }
   ],
   "source": [
    "n < 5"
   ]
  },
  {
   "cell_type": "code",
   "execution_count": 152,
   "metadata": {
    "hidden": true
   },
   "outputs": [
    {
     "data": {
      "text/plain": [
       "array([0, 1, 2, 3, 4])"
      ]
     },
     "execution_count": 152,
     "metadata": {},
     "output_type": "execute_result"
    }
   ],
   "source": [
    "n[n<5]"
   ]
  },
  {
   "cell_type": "code",
   "execution_count": 153,
   "metadata": {
    "hidden": true
   },
   "outputs": [
    {
     "data": {
      "text/plain": [
       "array([121, 144])"
      ]
     },
     "execution_count": 153,
     "metadata": {},
     "output_type": "execute_result"
    }
   ],
   "source": [
    "k = np.arange(1,101)\n",
    "\n",
    "(k ** 2)[(k>10) & (k**3 < 2000)]"
   ]
  },
  {
   "cell_type": "markdown",
   "metadata": {
    "heading_collapsed": true,
    "hidden": true
   },
   "source": [
    "### I/O"
   ]
  },
  {
   "cell_type": "markdown",
   "metadata": {
    "hidden": true
   },
   "source": [
    "La función `np.loadtxt` permite cargar los datos de los arrays a partir de ficheros de texto. También es posible guardar y recuperar arrays en formato binario."
   ]
  },
  {
   "cell_type": "markdown",
   "metadata": {
    "heading_collapsed": true
   },
   "source": [
    "## Gráficas"
   ]
  },
  {
   "cell_type": "markdown",
   "metadata": {
    "hidden": true
   },
   "source": [
    "Uno de los paquetes gráficos más conocidos es `matplotlib`, que puede utilizarse con un interfaz muy parecido al de Matlab/Octave."
   ]
  },
  {
   "cell_type": "code",
   "execution_count": 154,
   "metadata": {
    "hidden": true
   },
   "outputs": [],
   "source": [
    "import numpy as np\n",
    "import matplotlib.pyplot as plt\n",
    "\n",
    "# para insertar los gráficos en el notebook\n",
    "%matplotlib inline\n",
    "\n",
    "# para generar ventanas independientes\n",
    "# %matplotlib qt\n",
    "# %matplotib  tk"
   ]
  },
  {
   "cell_type": "code",
   "execution_count": 155,
   "metadata": {
    "hidden": true
   },
   "outputs": [],
   "source": [
    "x=np.linspace(0,2*np.pi,200)"
   ]
  },
  {
   "cell_type": "code",
   "execution_count": 156,
   "metadata": {
    "hidden": true
   },
   "outputs": [
    {
     "data": {
      "text/plain": [
       "[<matplotlib.lines.Line2D at 0x7efc888c93c8>]"
      ]
     },
     "execution_count": 156,
     "metadata": {},
     "output_type": "execute_result"
    },
    {
     "data": {
      "image/png": "[encoded data removed]",
      "text/plain": [
       "<Figure size 432x288 with 1 Axes>"
      ]
     },
     "metadata": {
      "needs_background": "light"
     },
     "output_type": "display_data"
    }
   ],
   "source": [
    "plt.plot(np.sin(x))"
   ]
  },
  {
   "cell_type": "code",
   "execution_count": 157,
   "metadata": {
    "hidden": true
   },
   "outputs": [
    {
     "data": {
      "image/png": "[encoded data removed]",
      "text/plain": [
       "<Figure size 432x288 with 1 Axes>"
      ]
     },
     "metadata": {
      "needs_background": "light"
     },
     "output_type": "display_data"
    }
   ],
   "source": [
    "plt.plot(np.cos(x),np.sin(x)); plt.axis('equal');"
   ]
  },
  {
   "cell_type": "code",
   "execution_count": 158,
   "metadata": {
    "hidden": true
   },
   "outputs": [
    {
     "data": {
      "image/png": "[encoded data removed]",
      "text/plain": [
       "<Figure size 432x288 with 1 Axes>"
      ]
     },
     "metadata": {
      "needs_background": "light"
     },
     "output_type": "display_data"
    }
   ],
   "source": [
    "plt.plot(x,np.sin(x), x,np.cos(x));"
   ]
  },
  {
   "cell_type": "code",
   "execution_count": 159,
   "metadata": {
    "hidden": true,
    "scrolled": true
   },
   "outputs": [
    {
     "data": {
      "image/png": "[encoded data removed]",
      "text/plain": [
       "<Figure size 432x288 with 1 Axes>"
      ]
     },
     "metadata": {
      "needs_background": "light"
     },
     "output_type": "display_data"
    }
   ],
   "source": [
    "plt.plot(x,np.sin(x),color='red')\n",
    "plt.plot(x,np.sin(2*x),color='black')\n",
    "plt.plot([1,2.5],[-0.5,0],'.',markersize=15);\n",
    "plt.legend(['hola','fun','puntos']);\n",
    "plt.xlabel('x'); plt.ylabel('y'); plt.title('bonito plot'); plt.axis('tight');"
   ]
  },
  {
   "cell_type": "markdown",
   "metadata": {
    "hidden": true
   },
   "source": [
    "El gráfico se puede exportar en el formato deseado:"
   ]
  },
  {
   "cell_type": "code",
   "execution_count": 160,
   "metadata": {
    "hidden": true
   },
   "outputs": [],
   "source": [
    "# plt.savefig('result.pdf')  # o .svg, .png, .jpg, etc."
   ]
  },
  {
   "cell_type": "code",
   "execution_count": 161,
   "metadata": {
    "hidden": true
   },
   "outputs": [
    {
     "data": {
      "image/png": "[encoded data removed]",
      "text/plain": [
       "<Figure size 432x288 with 1 Axes>"
      ]
     },
     "metadata": {
      "needs_background": "light"
     },
     "output_type": "display_data"
    }
   ],
   "source": [
    "plt.plot(x,np.exp(x)); plt.axis([0,3,-1,5]);"
   ]
  },
  {
   "cell_type": "code",
   "execution_count": 162,
   "metadata": {
    "hidden": true
   },
   "outputs": [
    {
     "data": {
      "image/png": "[encoded data removed]",
      "text/plain": [
       "<Figure size 432x288 with 1 Axes>"
      ]
     },
     "metadata": {
      "needs_background": "light"
     },
     "output_type": "display_data"
    }
   ],
   "source": [
    "for k in [1,2,3]:\n",
    "    plt.plot(x,np.sin(k*x))\n",
    "plt.grid()"
   ]
  },
  {
   "cell_type": "code",
   "execution_count": 163,
   "metadata": {
    "hidden": true
   },
   "outputs": [
    {
     "data": {
      "image/png": "[encoded data removed]",
      "text/plain": [
       "<Figure size 432x288 with 1 Axes>"
      ]
     },
     "metadata": {
      "needs_background": "light"
     },
     "output_type": "display_data"
    }
   ],
   "source": [
    "def espiral(n):\n",
    "    t = np.linspace(0,n*2*np.pi,1000)\n",
    "    r = 3 * t\n",
    "    x = r * np.cos(t)\n",
    "    y = r * np.sin(t)\n",
    "    plt.plot(x,y)\n",
    "    plt.axis('equal')\n",
    "    plt.axis('off')\n",
    "\n",
    "espiral(4)"
   ]
  },
  {
   "cell_type": "code",
   "execution_count": 164,
   "metadata": {
    "hidden": true
   },
   "outputs": [],
   "source": [
    "import numpy.random as rnd\n",
    "\n",
    "def randwalk(n,s):\n",
    "    p = s*rnd.randn(n,2)\n",
    "    r = np.cumsum(p,axis=0)\n",
    "    x = r[:,0]\n",
    "    y = r[:,1]\n",
    "    plt.plot(x,y)\n",
    "    plt.axis('equal');"
   ]
  },
  {
   "cell_type": "code",
   "execution_count": 165,
   "metadata": {
    "hidden": true
   },
   "outputs": [
    {
     "data": {
      "image/png": "[encoded data removed]",
      "text/plain": [
       "<Figure size 288x288 with 1 Axes>"
      ]
     },
     "metadata": {
      "needs_background": "light"
     },
     "output_type": "display_data"
    }
   ],
   "source": [
    "plt.figure(figsize=(4,4))\n",
    "randwalk(1000,1)"
   ]
  },
  {
   "cell_type": "code",
   "execution_count": 166,
   "metadata": {
    "hidden": true
   },
   "outputs": [
    {
     "data": {
      "image/png": "[encoded data removed]",
      "text/plain": [
       "<Figure size 576x576 with 4 Axes>"
      ]
     },
     "metadata": {
      "needs_background": "light"
     },
     "output_type": "display_data"
    }
   ],
   "source": [
    "plt.figure(figsize=(8,8))\n",
    "x = np.linspace(0,6*np.pi,100);\n",
    "\n",
    "plt.subplot(2,2,1)\n",
    "plt.plot(x,np.sin(x),'r')\n",
    "\n",
    "plt.subplot(2,2,2)\n",
    "plt.plot(x,np.cos(x))\n",
    "\n",
    "plt.subplot(2,2,3)\n",
    "plt.plot(x,np.sin(2*x))\n",
    "\n",
    "plt.subplot(2,2,4)\n",
    "plt.plot(x,np.cos(2*x),'g');"
   ]
  },
  {
   "cell_type": "code",
   "execution_count": 167,
   "metadata": {
    "hidden": true
   },
   "outputs": [],
   "source": [
    "x,y = np.mgrid[-3:3:0.2,-3:3:0.2]\n",
    "\n",
    "z = x**2-y**2-1"
   ]
  },
  {
   "cell_type": "code",
   "execution_count": 168,
   "metadata": {
    "hidden": true
   },
   "outputs": [
    {
     "data": {
      "image/png": "[encoded data removed]",
      "text/plain": [
       "<Figure size 576x432 with 1 Axes>"
      ]
     },
     "metadata": {
      "needs_background": "light"
     },
     "output_type": "display_data"
    }
   ],
   "source": [
    "from mpl_toolkits.mplot3d import Axes3D\n",
    "from matplotlib import cm\n",
    "\n",
    "fig = plt.figure(figsize=(8,6))\n",
    "ax = fig.add_subplot(111, projection='3d')\n",
    "\n",
    "ax.plot_surface(x,y,x**2-y**2, cmap=cm.coolwarm, linewidth=0.5, rstride=2, cstride=2);"
   ]
  },
  {
   "cell_type": "code",
   "execution_count": 169,
   "metadata": {
    "hidden": true
   },
   "outputs": [
    {
     "data": {
      "image/png": "[encoded data removed]",
      "text/plain": [
       "<Figure size 432x432 with 1 Axes>"
      ]
     },
     "metadata": {
      "needs_background": "light"
     },
     "output_type": "display_data"
    }
   ],
   "source": [
    "plt.figure(figsize=(6,6))\n",
    "plt.contour(x,y, z , colors=['k']);\n",
    "plt.axis('equal');"
   ]
  },
  {
   "cell_type": "markdown",
   "metadata": {
    "heading_collapsed": true,
    "hidden": true
   },
   "source": [
    "### Animaciones"
   ]
  },
  {
   "cell_type": "code",
   "execution_count": 170,
   "metadata": {
    "hidden": true
   },
   "outputs": [],
   "source": [
    "# si se produce un error:\n",
    "# conda install -c menpo ffmpeg\n",
    "\n",
    "from matplotlib import animation, rc\n",
    "from IPython.display import HTML\n",
    "rc('animation', html='html5')"
   ]
  },
  {
   "cell_type": "code",
   "execution_count": 171,
   "metadata": {
    "hidden": true
   },
   "outputs": [],
   "source": [
    "x = np.linspace(0,2,100)\n",
    "\n",
    "def wave(lam,freq,x,t):\n",
    "    return 1*np.sin(2*np.pi*(x/lam - t*freq))"
   ]
  },
  {
   "cell_type": "code",
   "execution_count": 172,
   "metadata": {
    "hidden": true
   },
   "outputs": [
    {
     "data": {
      "text/html": [
       "<video width=\"432\" height=\"288\" controls autoplay loop>\n",
       "  <source type=\"video/mp4\" src=\"data:video/mp4;base64,AAAAHGZ0eXBNNFYgAAACAGlzb21pc28yYXZjMQAAAAhmcmVlAAEqZW1kYXQAAAKgBgX//5zcRem9\n",
       "5tlIt5Ys2CDZI+7veDI2NCAtIGNvcmUgMTUyIC0gSC4yNjQvTVBFRy00IEFWQyBjb2RlYyAtIENv\n",
       "cHlsZWZ0IDIwMDMtMjAxNyAtIGh0dHA6Ly93d3cudmlkZW9sYW4ub3JnL3gyNjQuaHRtbCAtIG9w\n",
       "dGlvbnM6IGNhYmFjPTEgcmVmPTMgZGVibG9jaz0xOjA6MCBhbmFseXNlPTB4MzoweDExMyBtZT1o\n",
       "ZXggc3VibWU9NyBwc3k9MSBwc3lfcmQ9MS4wMDowLjAwIG1peGVkX3JlZj0xIG1lX3JhbmdlPTE2\n",
       "IGNocm9tYV9tZT0xIHRyZWxsaXM9MSA4eDhkY3Q9MSBjcW09MCBkZWFkem9uZT0yMSwxMSBmYXN0\n",
       "X3Bza2lwPTEgY2hyb21hX3FwX29mZnNldD0tMiB0aHJlYWRzPTYgbG9va2FoZWFkX3RocmVhZHM9\n",
       "MSBzbGljZWRfdGhyZWFkcz0wIG5yPTAgZGVjaW1hdGU9MSBpbnRlcmxhY2VkPTAgYmx1cmF5X2Nv\n",
       "bXBhdD0wIGNvbnN0cmFpbmVkX2ludHJhPTAgYmZyYW1lcz0zIGJfcHlyYW1pZD0yIGJfYWRhcHQ9\n",
       "MSBiX2JpYXM9MCBkaXJlY3Q9MSB3ZWlnaHRiPTEgb3Blbl9nb3A9MCB3ZWlnaHRwPTIga2V5aW50\n",
       "PTI1MCBrZXlpbnRfbWluPTI1IHNjZW5lY3V0PTQwIGludHJhX3JlZnJlc2g9MCByY19sb29rYWhl\n",
       "YWQ9NDAgcmM9Y3JmIG1idHJlZT0xIGNyZj0yMy4wIHFjb21wPTAuNjAgcXBtaW49MCBxcG1heD02\n",
       "OSBxcHN0ZXA9NCBpcF9yYXRpbz0xLjQwIGFxPTE6MS4wMACAAAAkQ2WIhAA3//728P4FNjuY0JcR\n",
       "zeidMx+/Fbi6NDe9zgAAAwAAN9zmRP7KkxJl37G1dBmAayOorUGfsIPaLfnjd8EbUgeev55dC8cr\n",
       "gWGT1hnOCn1MZ/R8N0tiZZ1hrU8ziXRQZhXlQsdg8t79Kea+t4MntGR+mW+XIZLYc+RCz24J4CJW\n",
       "CZT6+pgbF97ZwAnHG5G3vryoOXh5HcDYs39e85j3BUNJ0ek2VsgSKbO6IO15TlYf10mY07Ab8wgj\n",
       "2ycZf3eEGABbXiEQPzaDC5B6vcLxokLlvrHNpUPGUhmMefmdXajKZboLb3uXOfGNpOLnImATvcZd\n",
       "OlW4yIQv5xojOp4ZUDdSmcglF9KEgbVfv6jS/3PT3s+himDbt6EKBKYREHZH2zo++IEFgayhLLie\n",
       "hSzBtUL6jJgsfvtYQNSl34BgMv4tOZ5/DEsacu05lqnryTPH9CmjQ/25Jb9kWJtJbAk5Kd6G6Eh/\n",
       "PTxX6qQbkXpbKG6/GAxYfyXQh7/1F5UnAvrBhs9PCQ7pXhq/7VnfV5/W0lS6o0U2djhLe9mEDHsX\n",
       "n6XOAWQcpHuRtM7TOhjTBQD8d0YhtzNmPOYFRPdDq6mb75STsxp/AkaCShxZBlCmrG3zFqAj7lAF\n",
       "oQECJHPp09OF1o8KpNrYZTPeOtKV2SnqzD3n6SwzI+VeM1HGoJ/TnNusPCDhbznt6aS5ZY3G9bxj\n",
       "BUIBYAtbF7Od+Bz9YD8qXUuQ9Or7Wjxwd00RIIA9Qwyt116MUEdFdW5aiNQx5R99YQ7V9Uy3lY+w\n",
       "b/OAALu7bwnEblopxZxJiIZiCZ+OBucF+Tu8fSwAIS83eSYEUM8k2oCv3sql27hhRanl/X0JOsEX\n",
       "z9rJV8exE6eoMeUf9LFNG+OrRmj75gGV+nnLl7jV/+GDDwaYJ26BOue+J4tdzNh08in3fw3pk3vA\n",
       "SzW9SPVK7vhBZ413ep05sbs1TR2Vg6Slb5nPWkj3tnqerIMz7q84+qbSvd/Gra+Tpi0CuKA9BhFB\n",
       "7TAOXBnOzrURm7HH4l6XWANklnENa/5rI57rDS0S7a1VciCFFmVK/SZTjhjHd7ochcdueLNrLXts\n",
       "JetFQDgJ0wgBYZhD31FLtAw3zDO6F6XOYdVAJYgZX74far97obOmCf/R3iwSl50gyvYI5LYmD6E7\n",
       "KkCqN6K0FSBvnvy+hGM0aEVmG9wQrWrreVi/+YWLOuHVNIzFCw2rYarSe6bwpMRe+Ps5VDzBMO6e\n",
       "S5yR2YoK/GUOatUf8s2HiXmZX9L5RsbxTNMYLDQtv6Fk3t87MZF8J8boWtZqO7aSe4Y8XCaiCg6p\n",
       "SX8DqrYpXvb1LTD3gncgluYf8YXoOc3owDmFUaQsCVzGJyzZr1lKf/aCtMlmISWF9qf2OGZF8phh\n",
       "LhBWnj8NCkYhLmTVGsPNyjUcfPaQ7inRTLZ/G08zKgcfnh9ZxatnLa+PMsC7r0QPqNuVEqERZbgv\n",
       "0lfGcN8uPchrFc4poDdc1vPqp+MS4aYUHqWNWJHZhEZscMkJXlKC9z2u97ZpCk4rL//RtQdPtD8K\n",
       "bKnzbnSTeo6GM0ta/C/sUfGzOU/VyzzG5ahbX0lsPkpjgzL9NXIQb307NMyv4g5nINZlDjHTs4ac\n",
       "VW0xDSvMRwoMFLLNyG3pc0vzN45GkJKTXV/wROl6FkXSbuWPWQY6ryBPYwePnNeBl4dUhOMYvbzQ\n",
       "AV6bj+05YrkM8OKvshf0O1TIA3D36bySo0wh3r8EJxJQ0+5axm4j9kAulLshWIljQSMiXN2aJMAq\n",
       "BIIlxVOGE1fGhON9EIfaOz/WufzNHOGG/Y5VLvzDxiwb5ZRvBBSgxAhNaOa3/He5zs97KXaoFd40\n",
       "VnT2GD6VSrI5Jq5on5TtMI8FbyJiaQxBEDtLUe4+Tv3v3F5vCexmkk7gu/z4o6nwG4dJg63LKpu8\n",
       "B1Ckrtow0zDOdOtvFhhJMUaaNXJ4bzfIxmFBXkvoZ6rGmV8EiEy+Y65UiXylPdiXSlyniYWA9JZv\n",
       "7sHz/il4F1sxKDLwuP5BYu4HwAW/Gdi74PumfaVQPVItl7lS985VQ8MTixx24dbHcPiFcmpBNu5F\n",
       "nSVWbkegiT/5BS8AC7/FvMp65GY5wzNDplIhUf3TD6vgSSfOzRnBwkrmGRq89x6dVVERuf+V7Wz3\n",
       "GcdpIpsPU+iED3LUfuLsimBNDfqjafwjYRoa44q0T1V9iARRV0sSXRx5wq4C76ueyZuwQYyztKYK\n",
       "tc1mfActX0Uz1bHTEBao1/LK4EZey/vdH0XM4Zfxd2k5yzl38BXCXnQsKrAJmQ1MFdBx2iH5vqSc\n",
       "+yyxuqL9WrI7EcOPDamGNjXhnJc3rDeoAxSCOUNHMf0vEJ7/+pavHFJM6kCINk/xG50S04Byw+x/\n",
       "7menHGlU6bNaxGdU4rkqm5rO1t3GPoi6z/6jFr/6QBs5S/SpZUdvy4YYAR1TuKgoskgKbizRTRMx\n",
       "bGmIEwHqm2Ygf50gYhTnwrN+FYRKy8GmwuTNMshdjLZ8XXhxgZ6UR9N+MIpsclulxeV1WV5XY+zj\n",
       "HAhfTFEw1/XcqBj9OhJfKIOQJS3CHBAuYz8zMil87sG8mZA57rt48xEs9VwriGZTsMuGrL70GRRn\n",
       "YhQ7bZasRNxzCyUuXUB4UjQbUtnlWRmEGGTi5pyCMi+i3Dbn9qUWPGedbWdLjK7ti4O8ioow56dw\n",
       "LKuIJqMwAABp8b98JwElcMktg2nWANFSsS2EebCzU4X7j3QDuTabFwCDxPwm7oQShZtRwfXFC+CI\n",
       "Tj//VpHmBJxeOCoFjOSVaswuDcZPx6GzQyQzFFR3DcQ+IpeorRAm8E6ElOxbyvkGLqe6R6ZXvu32\n",
       "xskkcVeXYDnWwjvSXhLd1weFvUVyNykm5ZrO4HV/t+uoDgYVfdZ3St9tVAxFLIE78Mit+4d75615\n",
       "y05XBzpungnyMvHQ9jtMx4Pkz8BlrtDggOcATSssQBbwpcMke7yidGbadr5Tu8DCwy2T2tSKLhFL\n",
       "1lJ7TZo4NqNUkmrxhLK60Mf5hs34fY8vmTD9fVdeILMK1pHV5TReJXiCnUs9Fw2LAooxunpJya2U\n",
       "T0Aa8HvDbkxs/51QpjUo7QTdZueY9iQM1ocrkWfP/vgJD8D3q1DJl3eIDz7dLQA4bUf/LpJbSZjI\n",
       "DkP4kO8b6anASscDWEKQIuTHAc2/qkSDFCq6J1GoQdGPV8ivaCC/6WMtNC//a8kU2upS46cKIM3+\n",
       "LujYfOCD6M8lIvQ5cKs0HZ3QRglGWuihCytzONGCei9pqQ5xSf/Ccztzcf89mxwHUq2Nq1dcKxZK\n",
       "c4nmTg1pf8tVs208Nz7H4X2i0o2fHJUDOzpDYry3navqA/P105O7mD2qWfMX7u6WlJP2sXH6qqaS\n",
       "dCOQtUHaCD//SrHUNmyEPS8rUf6diXPcag4xI97BNPUSPZk1JNz6SLlOLW1KbX/7oCDBLT1sl//X\n",
       "GPepaAGQeW/CgiUMuvPkeYqz5Tc50pBfkDRkoSWSKS5K5gVqeGqcwJyowRoJo11JyWWgZFtWLajf\n",
       "a6z6LVEAF1O8BjqRxOCdEkJQVzdnquX6jcymSvwnRcIcooXOJjXU7KYZ6jVerkfZ86GMcLOG7bTr\n",
       "ULUn6vbpjLl8QRcCXGbBdCHds3N78F1cjfreuQ808nbKtowAQbIGHmLcMLIOz6NBvcUCTiw24zjP\n",
       "HVCHt+6OHSGngE+D88QO2YB/uk96e4RnyAvhrKc42dhPR0AaUfkojnHsius1hvChMT4Ye9qcoSCm\n",
       "IfQ5RLwJI7Xvitm6eDcSnXBCPXZ9eOTI/2Md6d7DC5EqU2Z6iACj90cwb+BM0RSvnEoYMXK4F0zH\n",
       "NyqZlweAh4+Q/pRUH/Oa3IZQLNXwD1GebPFuurBR7W+JwDyMyodX26SWYEHQQ2GudiJKJxLnA+CY\n",
       "AAm3DHvLX6P6UFVeqhRL5HvY+ZguKWRbBJe7Uvhg+iOiweSYahJ/FDIBeUiAf16Ink4rAVTP2rAd\n",
       "XrHMl/6/yOgF6vazEFZQiKAZTAEd9wauclpuJtSzb2n8trlTcx+NjHOwx/fC9cDGafSuGXxC63cz\n",
       "44aZdvlKgcx3v2QmhVnuCYWg2OIYBJxPHDC2NNBsGoz2GACLolc8jfZ/rzBFH+7HAyK0+PaZexs/\n",
       "s5gFNMxQmQRbzxvKDKgJ9RGcToVVMQ7z+bI65njlYb5PSbge3Pxa8otF/lETTWCTtcmzInWcwyW+\n",
       "1/Xv/ZX5LC+22aD0PBzbVDdHxF1csclVQ0u8olXD3u5OXDQNcLHDhMuu+2gV7KKjhRJxm3345JxI\n",
       "P/RbZX4J6rZjLL/4BDgkEwYDE5aeiPcAfl1KN0vNIProFl3qNuNICIhU8AuMXUtiWwZ7NBUtd/cZ\n",
       "wWaIKq2aXRyVPu4qTu0Y/3zP66t5SOSv7idel8NUZ22yc2ICdqSZm5GuUdGfjt6HBN+I0F5NKsvz\n",
       "sKGxvJdh/CBF3erWq4K7AEL8VyE6Wc/XeonTIfUP0KvVJJKGNFDTiY51Kmio5ZuQzrgWwPNLbQ8K\n",
       "6+d4LpKg32ImDyk4rmYw8qljp82/yUM00vudo+/2SU20AqU42wGipYC7M60qm4ucVyHLEqZE2nxl\n",
       "CMuX/Uy6xejr0A7NaQKEAjaq92TdfhDxJws2ZvUeTc1RUMKxNhbmzohfhcoRih1xjaHIQ61L7ZnH\n",
       "hvu/fByEYAn+zv4PUHT16j0ymV9yqP4DDtbcPly+PwBSMUckOImYzJO61J2lSFn6U9QOWIkNmcNu\n",
       "oRQNU3czFzYgLyx+Y2A/l2fc1z9iO4Hr65/OxGKiFmPYUBZ7Jr++RM3zQRxD3zNYHLCZo6v7voIu\n",
       "U9l8Jbm+4d5d+/4TKdiSbkEEVpCj7Rw9S+BJEpwn7X5kHOPNbCJWq33Mq8Je35kTni//IsTt5r4T\n",
       "40Dt6b1bXdsUhQ35x8A+3FdLYnOvFCAjeEZD3IbLagV58+aXzaJgfJNn8rAcy6/1O4uno7EM6g0i\n",
       "GIufg6n8lu9Yews1p3levYe90/f0cSn/L6iLlEw7wt6VRi7orun2OIe/embXVxerhjoBEUvDAsrx\n",
       "NMxte14GjwSNoDK8+BT+FyTzOtNrKCdoSTmBeJyPOkkmiKknYT9Vz0Q/L3hCvpQXt25L3zP09pzU\n",
       "QebpCQedXpAh7wv8lP+750pyManpzcnBOVlATWwyEkctlVqnu9xQzYUC3bhdEJ9o6vC8/94INQuP\n",
       "O9enjgOSbUT3xA9kNJXHZyToSd8jeeg6NXuFFf0/LUbw5YGO12STrZN+SSsgO7wtKNNeRzKVKsWc\n",
       "V9FwphFY3+i6whUA+OP70Bo8izuvjGmd88rJ+gmLzZj7x0dJ+o4z5w4yVyetj3EOcNYHNYE202tI\n",
       "Eowkwx8OoBVHMBBUEkjNpfJWNuCCbtwTlHRn47dxsu3xGii/WP7ucO/2VKbUQpCE0NbL96JWmnoV\n",
       "U2THySt503UkkcJVuJU/ET0vgoh8TvklOCkxFe/L/0YkP2YtkzdyXhGBprchotG+pvDAoJ5yDXml\n",
       "gZvkxnYPnkNxYVN9cqmC8O55PrmJr1Ny1eLucUU3f+DTJbUhzb5VsmwUyvbWu8jXtvYZZHZwf4yR\n",
       "Gf3SdatADjxYz+KgASD7EVwHmGjbpmN0nEGvkLATfTnqJk3FMvmNzY+P4ln+hkgqrqru4rFEj549\n",
       "Y+SLMbxU9Damiyf0MzHBgUCZWUNJqnuY3eR1TYE38qbZfgsRekB2ldybA7RFr+vFQRaDkSw7kVG/\n",
       "JHQrsiBQBrcV5kcwjYBBjP3cnWeXCypdkvRO8yAk9SknzrapAaz7zRa8Z8fQLJz3YNvfvXSfhL61\n",
       "GE25+ewsfzMBVDnUONaXwM2CsjtBexn0Sw76j2vUrDPa8FqQWQxPhj5vKfVJ2mnZRImc//KWN1Ip\n",
       "qSsdxfMmIzV3RzZlil0OurRkWSrK9lcbAyCBnCKlEpIu+F/7pABlQUrmb+O1E8fSB1N1G6Fq6OWh\n",
       "2x0WRG+trzjiPoIzklQCgRAjE/fpXB8qiOY659Qq8gXCxw4IXXJtXPtG5W3NeR1du/bbJpxlcUFB\n",
       "KoL0y566/2FyysWxujA19adAdZtj/EgylFXDss3PhcJXufv0abo6A8CMWLIvp+41Uu1leoPhXc7X\n",
       "BukfmkVklAJ6n7pX/sv9tiBqG4ycUno9h5ymvo5X2dY7doJOnNJyMqK0cDWWLwYkJG2xdbd/5WKS\n",
       "UwASf/jK8DioLR/iEsHGYynethOzAidYfktq4mRq7cnSwpSywwT44aONspCLqBZhKMDbqUa2R9V3\n",
       "MMCy7o1AcjjNvFa4qNMYGd35pk3zwJv2LgI6SmDQi/blzLuQgMETQKWFsuKEj1M2XTyzJtHtRTAP\n",
       "wlqhl/8IjhzGH/GERBkqtEmqpxh+8c71/MfamTVPdey6wuSk6N2J/0nuWowv5H869iAmB8ojxYVX\n",
       "5MywETPHf+Laa/kWvxmoYjbkMvSyBZ0pdhXyUCJKOmv8wW7vXOyfk33mdI8RCeHYA8mUm6bXKo6K\n",
       "1xj48LiEbtBXKfEFJu91i2gXWDW4kPFuaBDEGVho07n/gc9l/bdCjYhQeCYNOjCPKv+S4Gszqw5e\n",
       "mB4YwXp90hb9O9kaKV9kMt3xXARGandwscaw0t2dBUPxvFPWAFK1ebPZQLWBt7SvZbbJlhdjKWzR\n",
       "k72QQVN+yyqbiCauOo3cpijLpL5PGi1MmnO9FUGP9ulIMQ8BGptuQpjEIdNHIwHXfCc+dXrEX0Od\n",
       "rXi9IlPLSOlroL/04P8s0BLR13ljzDEMPRw/oiR9EBWupXtrYbnB7hINu+JElqyq/XNI6fEf9h0l\n",
       "K3pxsbJMdmSGcZOf/qErXmSGPd1PYw9hNmj0+T9EPcXtF7Bi1P3Vp1JWGBy3uikjFBsiSMkzUSaM\n",
       "aRQRTgawX24C60MMuJg0+q0WDMcVwo7UfyJOFojkft5tOIDv335ey5vuxD/dmEANewAs3ywz9TtZ\n",
       "kFLfQG+mL9QlcSyreiqeAnWD7bXivTtNzeRSAlEnBJ32dRfoxH0o+dfBhk2QzYJSY9Lkuq2L4DkX\n",
       "Fgz5rm+FHWlv1bqkaLuhvMorBKSp3PFlrOTx3HXy/bvag57fkAB9FHZBt/PwTq3BwAswL7Gan5Av\n",
       "lB/Dt4bKEguhSzNGaw4iEWneZAVjCj/K9QI6xaOeJIeeBJFqXaYIePzVakRY2Z451yJzZtPJQ/nO\n",
       "flTWq4uZ3jeugDpuwyIumddGzd48t2hOjk8eG7DH6K5g5oaDSEpNP20dDzgyaPoGM8txqkVLh59+\n",
       "d7IkV3MOh9Rx1i2HpgfkSU5UORc65estnSD/br+U2u2jMEnuT/yuq4FLI16Q96BMqTxhqn+MDmm6\n",
       "flLE77PiH0cubdhD9d26qshRuJg13Yl72Un2EnaQiWqmpK/oAU6Ot91egQOck6DIHJPKhAEIITVP\n",
       "SCQ5HbazOtv3SXLPjOxKYjwsyTilW1c0LAQ/RqiLsPh1IH8jrv4SfY0YRmWnZbXsyq/Dfoc2ZWO5\n",
       "t62bvdY8G/MODfSDCJHI5LrZV/PjriRQWfNTPXmUcqHvX/dbdnKkWci8n1YrLAglQ+4L8vuxE142\n",
       "0HtbjDGXVjTy3NhEgm3rxuQdWYcvE2O4MHcYbuhG7p8ygzzAusI58IPuCXpeRz9kHHuobanq1wMN\n",
       "YeVpst5JTOW/UTHP5mC2Bm39maxFYnfu3XNncdwxukBubTRgGYWiUDnCArmeaSRz3+U5NR/4adJm\n",
       "sPEgB3Rn6SPaD76pWe8VN+J8onEUqpVYlsuWE9W2Rn14fU2UMb3NVeGivFuK42Bl9qLQkmhEuWu7\n",
       "JjImauEAuT2QLinYjDmgO3B3shUaJXoy8+P7tKkMR7x5War/I77c3DsG7xPje6HXLXonO7BlmagM\n",
       "ZhJuxMUse/l3z9LWoM6TqJQg8ryvbgjK7c+sax8TKG19Hg/MWVIZkbmIwvo1btKc43PAO9eZkiQ7\n",
       "dq61RyUtsvOKx0Jn3R2F01ScHxqvV29HA0EjPg3Vjs/FP7V8eyK6L1BABykwC6HX7s46+SFqqq0y\n",
       "L1U5Q4v6Jt/ChaPQ0OiNQ+3unOg/LhbcSgLpP3K1LRDDcEZPvMlTWNhsq5E6ImpxnzjccPWCSwaQ\n",
       "9dyxAtPn2GFAMhdlWZ39GYAakc8apmHGbHR1VqPc+QEGRN0H7oRRweWVU93ya303N0uIutIafEA4\n",
       "BCFwBtwL+cGYOyxfhhLoEtiG/h1oRR6HnTv9ujBEJt4rm9mbkkLgbRFGoMtC7NZv9UytZBiH4nwG\n",
       "vDV/6Cv/3fTPym1LxQh+2bg9OpTtITa6jVM/LG2A51dsjNqI9qThjIWheVNxohcPOGZUY7E6E1TR\n",
       "hd/x5luT2c/NSbfq2yayaMKR7UGFdCn19fzPxF1CeYzG39HdKLTqP6gdywZzgkMzlFm/dxd/sgMP\n",
       "CEgtLhVPms5RP8nPOmfY1XZa8uHNLqK9LPhfOXhVexhqIbLVjYPJf2m96qk3oGWNu05XDf718BWI\n",
       "wHqFy57O1azNq+RBEnv34OX3+SO8iRwO1+G/3BwKf4ciHLyzN9ByXjBc5OGC6s3WbevL/YyDHJZ0\n",
       "VJWDQcJbfXaQTFm/p+JQajZMmCo3cEtjIlm7FDizGX8/3hFOXQQXMZrmg0tSC4p1a+UlnF/y52Hp\n",
       "ZKu6mvR6xHwKcY3uNYqbYvpXnW5rNipMX4iL7C1wMtP7G5q5pD+s88IBTSgr8J1pEM0TfmWPIB32\n",
       "lV5/7vwDuu4B6N78um95p5B+abFm7duPM9UKgEWUz0NV0jGEhXfzEw+GK+dahEB8Bt2uooG2BtQ0\n",
       "rOBVfR//9zoCsuzuYJFt2wB0AfN3zN4rxM7OXJG4jai8CCyrMvxZ7H0ctKMkVnYZX8NaApADkWnG\n",
       "ynW7JWmlXGCZXLBSGiSZQs5sJkxBX0oOe6mu6W/jQrNOu6S/iBkSHm5bw7CGWkbwKLYZ0RBPuOHV\n",
       "JI1MrlLSinYFHklgZZVTY4+K5xFGs3koYPIPWYD3euYsCOZXJ/XgGhWaaTyzzvo7refGLZN5lrgH\n",
       "xss+6/WwHuLKpxbMxBwImDFnl1ZU0kSrYVWtKP6S4+QUuiYWyPhM/1feoIZK5pT404lO2XWxAFuo\n",
       "jdZPZGHC2rjemLsy/Kjq+MdcWkRwz5mCn4MkT6Xnh4AZ3t1jg1zVpkuhe9XsthGiWp2XMiOCdZEA\n",
       "PLX5hEqI1ovG0w+4XVvUEpRtm+9Ubs7aLk6Dq28T1WX/BqnX9UVpFJ38IH+lr/QRQCzvTNBMaqSo\n",
       "Y+I5dRWpmIGa1odnbdGLAtIZKxrPE7aJB34TVhzxUXASvhiKxcYbwAYJHks2EDdyMFdoHXjl30ey\n",
       "Et+qjYzSxf3V56fNW4/zRLxr5MX5yxXzr7NuKI1reWqYKTFFxkOwSdd9LlYLa4z+AhuWRkrRlYK+\n",
       "hzq+AkbbazyL5MY9zeu6/IhBWWY3iZF5tQvDfj6XqFctEqRhzEWwEQOt27lT43+dnxt47tiQVZ0e\n",
       "eChWXn2McH3RKfhh/PlWk50R6L1CYaF0qcKVleQtDpmviG650f7kXWXTK+n8ogvnw4UzP1GYSdwS\n",
       "Z50rVCpWijyhDGsbQxIvs8+H7mn5QA4FD+mAG8v5RL5iMJtgNSdXXLmEWq11k/NwEp5Cd3/0w1a3\n",
       "WqhxmlC5m6whN3uJnfnUA55yipKH6KJNmT1yCUemBxN++IoPA+0d0ME5QZwfJsiGNYZHi26Ed8KT\n",
       "gs91WWgWqh726Lj2Csg+nf2CznW59Wct9HmVzO9zbxIDXoctbxr49n/kRtH2sVrCFrazp0fHr3kw\n",
       "cJ6B5ithoR5JB88sNdHJ465p3PF4aFSlkTJYfQnWSGGQ9Yc7P0f+UYYsV3kVbrPkeJMIrNg0/Cfi\n",
       "chozntJEyu/oeTXfxxhashZMLHBoADdHcb3u4Y65WALTWpoEDs+Yz5+qBdzQyLOtiShIFIofx2Ur\n",
       "Xhjg1p7COVsNMOXCebHFytu5zKsCDPbf9eTePPj/14AEf8BjD1zDNVFiczUnahwsmj2+W9ELPtRY\n",
       "CrZZlmFZp4m1FwRpZdznJgF/e2RdEvh281PJwmFw/MVOEJa0881RD5V9pEgMNM8TdelBKweNE6Ib\n",
       "EEUHVOaq7amhOi7zaC1f3b87f7HHJ419CJveb97iK21xHLzQlEgXxuUPl9S9Al5O3hKlsprurmZF\n",
       "lS04FYSTV/V5ts8dW5+axGiFK/yLxKP4BwxTtR/w/Sn3RIBG4LdDfPjxH8nsSghtyGSy4Wa4u+I9\n",
       "7UVzEuCkKqt5Jc4efcdp6/yUf67iaJsRwBrrOoDhnl+QIMME8DpiCisvRbOd77hxRyFhyp5Mwv8L\n",
       "O2PFYonzWOZ1Lf7Ur/CNe65r7LqZdsd026pjHoSS7sOhsi49jqSF9GJkdelqvNkF2e88NN2Clahp\n",
       "RSpE8ie6kmI5Ifc2ZoJQeL4gj2Yz7e9WWe/SVtU5ve6bu0/+UFseUEy3Hzm0l0QvP5s107zX9P+W\n",
       "aOmPtkRLCqamZjc/IOPMP6O6oeO0PfKkiyagvE131vd+ec5b6mP81QCDg5o9hK2QtHDWC50M6rgU\n",
       "BEcnFXtrQntPOkk5CCAmb9fmveLrvNbOXOhW9qfSca1srXhwSqx52NSaIKvkjp6zN/xTrCzsCAc9\n",
       "vosAdRdEZhuu81Do5d4IyUITGk6IU1vWhVrZliv0Aa2rhUKrz/5/n70iRFKywAMl4ilpESRSo2uP\n",
       "vQRraftFgwYdzdXqeLBkRY4J933brvITOp/l4cU9pobp4jTEXZUMLd1xMl53a9hAvrQ0X9Y4wPBf\n",
       "oG2Yb/2r+/JB6FOyY7BPQIhKLzH2PsZirNsS7+ts5MKr1iv7tzgakDSgkZJJrSpTtq+J1OzWgx//\n",
       "SDZoGNhaKy13OyIeCcXLYSjBTK9e6YbBBUZeNDmilEM0dg2A0whqvLMM/tA1gUjbPJgr35V5E4U3\n",
       "MUthIuelQJ40scDrnThpWmDzebXB3jxIa7hwajCtZ3OQdeOh86NFmgQAn5P0YsHjW/WhK2lZXOip\n",
       "LZzFx3nX8qC05qTqvhWBynsa1598ciTgekiwXRNbVR4qJ7Wy4rkJ0syX///1Dcvt7SvjFpVNlf6h\n",
       "33F+Vcs+hnqXrHPAMNNwpx47/MaI/VEDMvjLAcG4mPkqkvFJKI5XCClwx34xvN/ZwmtKWazw4z6i\n",
       "rMvoHeGV/GWzeXYZoV4EV4RI3+0QitgGjWMNKzFNZTvIJeE/6bvT5ArYMvwM+cBtQYIu7A3BQ5+v\n",
       "v1ErwQdUxnG4zloZJ/zy4JwOHiNkxRauCfkDD2wrTHYdIHQr4M81AvK2i0iMpkGGJJbLnUD0s4km\n",
       "+uMtQG80VUQjosHfZJ3899fPTs5VDcySGMFPDb7qtiJHrDAS6s8NtbiUHZcOaNejYfINysG1UPVU\n",
       "af4Q3evyBCovpwfRp0V+vm6VI2ZER9rbJT7/xd7yrO7HNm7gGJTIuEUl8tFGPyIkv3bvEHqogcbT\n",
       "dhsnKfmkv+UvTbk5pb8nsanNOfq1UgX6muYCR9Tq3G2UDH7fQ8R5NoVelEWUWYu+RaUjymrIRMnD\n",
       "57AZVly+5aoFl3ZKOHXy0H983FVezx9st/RVEr7DAYMJ0ayQsiHrIg4Znvr5gEI55sGP9eIfDNIy\n",
       "3Jl/nobir6+TRx0ClszFzv5SuUIjN0VPOWh6mwVXLpC40v9MHMSssWnZGXJx0bGYd+F08ozYY2rq\n",
       "sNyH21mYsmVo79x4xqu1H3vQAY8t3q49L5qFetsoc3sH5Hv140BhnBnrzsAcASlgK48Yw+cqF6jj\n",
       "j1GJcJNSdcU9qahcjOu0aSQFRqWuupl5btV49HGYLGGJXCvRf+5Dy/rTa2yMhvy9oeLR1FCYqHN7\n",
       "g+eVpePksLCZ8yt/rxqJFg6hPMoz1Mq0RHblJhu17DS8kxPRlcglke/T2D3Z/lU1bbqB1blCCDvO\n",
       "vRfy8IHq6D0oZsZuc3KWMK8ZI1yJ3PODYARS8BTW/u9PWKA0DqT4EY4xV0rj61pIV8fCyKyVl7VP\n",
       "pX0pbR4qrtXkcJ9n0JAmbEpDgJ3Dxa6zdP0g022rGdVBlZKXcLg6yfDPQa5IxC8umvYrOcPf1XdC\n",
       "0pQJ33z8IYmgsYpor00PVflQBrwZaQRCZOeIl7+leYTe7snyZnHwFWmd8zPU+Yxdl9nS8aiBuP1A\n",
       "gq+q6ns2xOpLV618R6/p9XNxgN0BX1OWUcQicIi2/lRJ0IGb7oS+SzUL3RkV6XliFQBaY9odMaAI\n",
       "UXXIFrVmFjAoftOCHCxwT5jxwE8IoVvSbsWyMEzFVIpGaneqbwMNdYIDzF6rP2JaTxyDiS7X9aQY\n",
       "oe8GS8zdwDEpkUAAAY06XE7Jl4y8Ll3g43SUwgBJW1SRxTxhHMkA7FMnCc7Nde/qKLjEatZgGPmo\n",
       "MGEn0sBvu1tfy4Y4QsitgDEWxlrMJo06IKPFhda8T6sAAAanQZojbEN//qeECfdyQC1HqNP8Y5u1\n",
       "FSY0yxinXZ6fmq+6n7hruCzdauuD1CH9rEnnLNJjpm+nnvK2FPa1ARKZU1hQ4l7keIHEZ2rqIy1L\n",
       "+n4W832QV0nObvFRK5ujkvKjKIjdUNcHKGUBNNHPXW0tSFIjXRE3JM6UhB7TZRHy8+IweGw7KPA+\n",
       "rREHw/+CsXwHEmWdiYQZgP1ykp+/AM7fJ3Ua1b4bLQQUbDF4oqi5ozoywjjyiG2Kp6bpstxCaI4J\n",
       "OFdX9FL3mi7UVGFFOnajUTBGgm+Xo2RDuvRUHaxjDsXChMsO3QqThtqskQ8RBQVR0uy1zUwO5Hga\n",
       "LcAX6KftYuAVfdIKU9tRghOenUFPfWq5agGxOdkUV/tcveR5i2cYpzGe3VKUL7RBzHaCLHa3/43B\n",
       "PUP7wbVBZIq1xuYhd7ZRuHQnliZ71k5K9sTqtUHxhZF07b/pHQ0U1WaAeD/8msISaFwsIz3Qd5EH\n",
       "qbf9BEUdSz3g0MV3IxR3L3WuQZNpvREka9f6H6dFRVs746eD8pJUNcgB2WBVx7G9phPNhCVoHC5+\n",
       "gQ8f9vY4ZuGZ6cmkSE3ld3tXDJDaJ5w17NpS0dJLT5ktb8vS3/99llBHI/OjxEYud1h1Lz0yRLN9\n",
       "O/n4MR/Zd2Sp7+GI04UE5EMvD9tXbsJSGzFX0iUMwuSbxtstIWwQrkVpN4YtRqaukbs+cb7npdC2\n",
       "KrGwN5PmtlZtWDM40h385hA552xVi3l8jU0wO5NnnXZzmH1aXwLlESiAID0yW+Q8EPAZjipXafdz\n",
       "o8OVn9Sohu2gG7sToR/0z4OOzXyPlM3VhtRKUO67PRkYkOHIvqZA/uOrD2Omy+1sPYmqwjPkpjuc\n",
       "xuWfhZB5RjSvrb+AFE6VqAeAStO7tCqHw0J/mJbguZZxVtmluASFbaBDSOQdptaT/BM56tnboEj1\n",
       "RtHqrtzgl3aJ8olzqEclcCLx4SnI4VeevU+AtEOKLdqMqclBgxFohu8oZ8aEGNOKAFKWsFlq9+Oy\n",
       "nxZ6c6CzOGeVGN1z0YOf2qUPtSwQ4yeLnROn6JTHSpk/FrE+KB6G83Iy10b6fnbDjQiSROnY9h2v\n",
       "P5YID2Htql4EEHyeyfc3QxwJv2ZOUnUw2LmMMsk0TOlS0U1taZnHjuiTXS3cuE+u0W7t1XDRrRuj\n",
       "roa3Sv5v3O/tBa3rcfQjtRdu2RKXUVpsQmzxGidcYZLfCPF9y7TiWefiwM99IdRBFHKf7Tv2UdTJ\n",
       "4+JpOVDrgACBvYHdtscoBtU20x5cREklMNkRhImEI2zWyFxRMd4jkpsclPTieGB9mimlwVuBxnAv\n",
       "PJVf5LnRBSt4KyuD5OPXj87yJrCs1kmQcVQMOViRI0ow7GvTMOUaKS2OX0/CKIHV3XK0O7ighPEd\n",
       "0JucmrKUeK8RHMuuItWDlwh86GSKUPQ+142iXZ8v+Y0H6MuVHQ9G0YJI2ayjccFK1ekNRPDXuU2F\n",
       "Dy/zn4yk4CKnClemPTK4gqbuT7Ktw4KZa1OBDuFq7wqbV7KQJNK1RjGfXjdAqxJQf1C+xLzF530i\n",
       "/eFs9q8+H5D12aVa+8Q1XN+1zsFpxUJYnE/F6M5Abe8kQ+FrUEiKA9enKpWOBbL7Def/QrHNJusG\n",
       "NBN9fq2/Rj0PO7i/Bzoj/UZMmQ4ML3aa4Uihpb5mKmNYvMN+BvZZr4EhEvIa7m09oom6qdBmJw/K\n",
       "jrL+wSvZgU63EwCx0WMtBMdfh6vYERLQKcje8jhH/Q3MVXtmdQtnJQm/zNlcXxjKY9Ny639uNlrt\n",
       "XZ3DazCNsmyQ2DMFv8/T6goEDOfSOrR8guzyjUac1Ymz0IFMyLPN01dCQxTHeO9ZaFCe8ExHp2dj\n",
       "fmx9SSSulDKtGyQUPgMY+wlhV5DHkRLwNyAdt1l2F1gVmMPSZ58IEFb8fj7TGRGePaXRHV4hWvQc\n",
       "GbiYEG9dXou+Be0yeE2h3c162yoQ6vMrrm6gfLPGemcgUxdq6v9RKPuLspI5dsHLQvthIppXNPVi\n",
       "p+3DSYpuu1Y2cvlgDBxC0+/AYrBymm5rK43D7cR+u9YBZZHvIZJrKqWxLWHeL9BbAEJvtmJSnyAZ\n",
       "1hBPExOlc+1SeA6B0BbHMmazBLZ8x6I2d72/OnHVMt4+qLoZ5nnA3xbyBu+1RmZYiwkj79tv6bJS\n",
       "YPEPOl0tl+60cx3YdlwBl9RkGsRji/2JUoc+jd1+W7GsCcupk7on4QxVgoHXLOVktIj8t/9R+fPw\n",
       "OLcB5TSUsPEjmQcenOkqmC3g/FbjPYj+kFT5GJAAAAKbQZ5BeIV/AnVivOWXtohr0Ovonuq6gV/F\n",
       "88ALK1gBC6VpMcAOQgq2NlxBN1464qSmDNc+mDMxSuwf6tC5/4dUvl17VdAttmPmVhJYJaSJ+86a\n",
       "ENarBRCqB5EBvXLrUzt29rtuK224c7kbPokNqLbrMvUcWauFtCxM1BPhVm5zlFkoYqI6pFgSaxsN\n",
       "nVbIwwOGJO1XG+uwgBLDpz95sPn0oc8Zu2+95hZ58eQbGhBWuIi71/y5BeR6wcQNcxHN0zTB8Wd0\n",
       "6FIWtf+6TaR9LIDQAj/2K/jxWL2wbtABKHVYrNf20XIfC920W0exfknjwLET5DQ6HZKis+2HDreO\n",
       "o+cQ9U59C++lRhFh3fHM8mUCscitvbO4cGlnOOvy0tokTeqiflSc4jjiTHCC7CfxJTqDzxPTxML2\n",
       "9ZaKDL+MAaMZFCtWY0elyLg911DCLBCYB1wn0y8d4oQeXrYlUbwjAH9fGwSc3/6ckcsOFh9DTZgW\n",
       "tD+MOKmnW2zFDyf85YlpDov4nZH3DcCxDPG152qEkq5IxAW5aJonuHnkn0qBaf86HGghD0nmNLmf\n",
       "rdoqZyuRu2VmDa0jFPc7jtt/dJc6eE5CZUvzrge2mlDSf0DseDNO/+cH3wlpW3gHEfEJmhAAZCsb\n",
       "wVBZeaPybk+lXN3+v5LpgRCIz8Dsg4i9pa7vV6tNFh80psHHHGp5zBBY6Lqjz3DZqAbDQjHV7km9\n",
       "7vWN7kYDO8h+EYbc+odOazCEOywEHQaV8zE1xCwNWXEgzjDdCa5qX1oXPsv0ZKH6x7V/hiUBdARP\n",
       "Fx8t47iKJqarf3gB+QACsTIkY+4r/U86ALZDpruCOX6gyzVE6tcUIA41qNieU95wLK8q+FMXQE7E\n",
       "QsaWdnL8/3AbCcOwHziz1wAAAdwBnmJqQr8CrkJ8ndmwXmMfRowfbmK0QDWvirzCoATaGLn1MOV6\n",
       "jVTBj45zzHYivqQB1VojcNRCSVCcOjiMsslfstNtZ3uMAN86ymuQHW1sknL9E3tpQvO9MrgufYwn\n",
       "HbC4H1ZfH1MtH+Aef+oNcp2M1kqWZleR3Kp2CMQS8qDZaqa1hEZABwGRFUvBIpS2AQn/L/uYs2pF\n",
       "BotfZ0AL6fJXFfKRReAj9PK5D2sYiADYrfF8srgy24Kdi1IGlOw0dCm9fZ8n6p5rynhUagvG3EuY\n",
       "iJzhZWvIABw8N8GH/L3r6sHrDFFiHw0S67ZL1hmoBojaQOWDwz0jfqkDZNi9ByNhWLhFvdkd/0gj\n",
       "xl+kqnBneJRwP/vk+CqmfiE0ptkgKQDXpU9rJXdwsrsrsTB79Sq3tWdN1wUF+F05tvAdW0PYbPAJ\n",
       "PNr8yJBH6Mh6eaXJDpoHTRQlH0wXiyuMZ365vd5P4Lyubt8GCTy0RdWiNOMgyL0X65Al5tv/lZCq\n",
       "fISca4kibIj52tYnn5S/3EMuRVbkOcYKHIx7noyO8+MFEqKDwubXGy0PdwqQb2kduGboJz1mVAZr\n",
       "hurHoG93qgJ19yIhjWdgTSQHf3o3Fa4Kywiw4Rzu3jD4qS7tdPMlIAAABJNBmmRJqEFomUwIb//+\n",
       "p4QIqcfgC+3Kzu8CWq7GmX4kg+sb8Kp2HQvTj/+b6ykKb0gpktMXwU+LBzh2hvx/3H/7tS7XCEs2\n",
       "buw8jBZ59lOBtBmTaANjzI817MNrmbNSiv9aHpw8TCGC6lj1qWkpg5q1O+obUdJCeDpLA13ZA0Gk\n",
       "ICcomsKGO/eDDI6ca7gwrE4mOwuVZE9zifisCSbpgFyr63MsXjIwBF5JnEL6wVxAkshVdW0gMcB0\n",
       "05U7YaN3OJ5b1ThZ2YPAv5lch1Z7ELOfl5J3QfIVE+j4zTTC9SEVD94YKYmFeL15XV3u7Y34P0IG\n",
       "ZyJ+iykAXH6mvF1P1XnXU2MAUwIO1hgQNbdHgeBzlGSWZGTjVr4pRPQO8Nbqdy3UeFs6mblQg9/C\n",
       "EeUixQ6t7Tw0ZwS1rUva33WeatvWxH9xQUgx1znCnIpcf/Z1Thk9TnWiGEpWyzLkF22r7yLaeX5V\n",
       "CT7CRH7TJD1DZaIlsKXtqwWhJo/08jO5PPZiwba0x8YibpgZmZlZvqd+IJrQMZn7OXGNPuwZRqOi\n",
       "4zbiDWF/OWV56uLvnotTk4Wn5rP14H+na+0ZbLLMtP46WOA0gVL5s/m39QVarWoGepWoQNv5dl7j\n",
       "nZk+42a6zV5VqqZ3imGn+chp35edBFEPTJ4nJFZM/V/w0ZOx/DZOxLI7OEm7StY12Er7X00+/Omv\n",
       "n+CSHMZUsVAm7EuVULyR7V1I5dIvrPf7Ho9soioUzPKPhuZqsdLggXMBLmA2EX79/2R1mBf0BJbT\n",
       "RyCmL5NA5IbKw32WBpvlBszD63Qnnjhc9w0s9oZEANP3O6uEPb4swniE1rQpb1Hag9oTyO48vxCj\n",
       "gE4DUNSZnE4ilBpU44Jz+szPYVnz6Gyo0Mxe5nuFOqa1aTVKWxPilQU4/r0Ua/YibHu02PpP5nx/\n",
       "Bt01jkJ5Pp6n+N8abrC+IWm7TB6Tp9wJ8x0iux3NBCi70Iz+0oLxKF49PDFE1jgQMZUkzrXydxjM\n",
       "NiwzxbZ4mI9jOjKRGbBdxhX6tszNqYQ3IZ78Xv1MWz/uHRFTVVvutwAmHhNiYx+2dJH+UzqdvLFg\n",
       "wZd/qf2TMOaHkvuTYMf5frSfsW+o0WWdl9EiLA2p42dW7/G3kYZPxVEavHog6fNz0Urk6Q0RQLae\n",
       "YSViX5NI50XFMAxqAEsRG2wfBN6kSL3OaiXt2Af5GqOl0sAhlDNMXZd7yw019HuJVFhZv15gpZxM\n",
       "ayndgVgNoq/46H8//aFS3z7zYfyy7IyCdaXQOzdebZda/Q3GiNs+6J07ylI2494YYjCWQFMmPpyA\n",
       "xb0WuRrrWRONMizxD+oWMn2ZVbH54E2V1goFI9rIySm7wbDPwdkGi4btaqyijLwxbYTO4PlwFvyr\n",
       "VOweZRn947/aa0WS+bkTkJlJ8Rnyk376Sj3QMy3fb8qTM1LxXrzZ5TCjwkvjIpU91WwChOgSoH9I\n",
       "1hrJO3oYuD5xsaMNpEvE4j0aT6XLG8y4IavinUBIrTKKEsn6BiWU0KX+3VXHvtQ25eOvRWxpQJw0\n",
       "uSKFn5e23g6XY62/ja3h36/1AAAEI0Gah0nhClJlMCGf/p4QNdixMGhzCNgBsAoNtTJZbMiTnv9k\n",
       "i8ZKaQnwkCV/lqfOFDaa4F6S8fhv46Jqa0dqfowMTBshG0JTPNBX5YWP01nKQK8zHGHXCt/+flNT\n",
       "K/Pk+Ncoz97goF21DlJg3uZ2bnXTkvlhmTvCx/mLt4hx3AFtf1xS8NZGSNUYd1IsCnU72MYTIo7D\n",
       "vHtg2SVTHm9X+x2Ds5quWhwMfAu6nznTwDoyMt/FNE0yEZgjF6uv4v3dHfvAnvTmwjReXiur3ULj\n",
       "Hd0JP0WQ6MoxOUf8/g11MRABxr+enplgzg+otCmPhGtEdFYieB8vLAW3xHTCEgbOqkFdKyYuohuN\n",
       "oSSOZ6FsGYhKslV6xCvdqGiDxztGpQJynN5jV5mmreCxKFnyRr7u2YqZMrtpE6+2kT8xpbSgMq1z\n",
       "xFbmI78buuAaqT1ZXJIQGxK4jDBV+mz8IOPEpLljiCL5F+qr2jfxEXKqjxW3KxzCWQ33J7F4/r6x\n",
       "P6gnn5RV6dj76kceNA80OQ3ZqrEHStTKJCiv8Bh0n4KQTxdT/gvJU1XfoCQ4CO6doz6UOidtKZRK\n",
       "Udk4um+5rNrjI/MpcTqa0xkYr71bFpySylIbfgi/DpKlozQPmTsb+ND6rG8OV/0OlxjluYmz3Sh2\n",
       "LuDGn96pvFsuHDFwkS5NhpEMRgJFoDXGbpbFBHtezRybs8wYcTLSDRUdXreoqmlkDPglHQD853Rq\n",
       "AfbOj5KFXd77kh7kTjEFtzPEdP4F/6mWTmdbT6SBaQ5bjJET/NvdUFdZ5WTMuw5FD5Wp0f9dK7jR\n",
       "vSWG0TplfPHxuqbCLQsydSRozZESfL8WXrYpKKIh+1V/9qMSZvz7LvPDw+3o+89xUXTu/x/701E6\n",
       "1itKlsy2v+J3JEm7Id21d73mgG8GHDbgo700eg+EQfm5YdQ0uBYLwhpurQcG0XX16BNrzajaA2x/\n",
       "SquLCUKlIfZDhjoOU9LZc3lrwMcuktTtY5BSGDojhhrAkYmtRE3qAYLw5N12jxgnYJXtw8vMFamC\n",
       "jlXn3yPWVQbf1bOubbVODMWnYm56BRjoDjuP591noH6E+utTX/eGquH/hdTfUM0JA8FXUYqSzGKV\n",
       "lV5q8cush+Ile/ji7g8lCAkDOkgb3/g8xLqBgdsN9g1ix+nF1J+jTONJPrnKacS6Qwt8RF9AOUeD\n",
       "pdXv0MgVsZ81cJpkafFchBbDVAEWbDXSQ22kEpf3JDsT82Dv9ce5q7IgKkapNJsL1OZcEZJ4f/n1\n",
       "mpwk7jY5gfz10Wkt2KY1C1mAaORuhIgTpOajqpCvNUaElsDGMVUnFvnqXbPMU/F89rIN/J8ri0pw\n",
       "AtfFh4zn0TExxzjGiJ2PbjcbFW74YbsiWO91U1MQ/S/zuzX3+duRiOjh5HqwT4ijq3Ca7Hh8QQAA\n",
       "AjtBnqVFNEwr/wLPkp8sh5HgR9y/Gxk6Ocvj0zRAAWlGJhsiM+2CG7JpKa+lJUxIauRC7TBwV722\n",
       "N9mqaQ+PuIhuDOctAW0/y9oeujaHgOyOUEDNSIX+C4DxdDvV4G4Xcar0Kg/hvk6UFFIn+FmvJPCV\n",
       "1SS9Pu1nK2Pbge1qBrj6s9h93yn/RWvNJFdad1mlV12+JHYUTTFPXwz7hnPPKW97lOTTObsJQa94\n",
       "ZlC6GnrOIHgMR8/8pfpaXrOZjhy8R8ELRFbAc1800acmeExS0jMdLqukNGAhe1mnFEi/YOYtk/O3\n",
       "zHckKxzLNTpvaP/BmrKNfSSlfScI85a9kDmcL7SAMS0OBcJvr8DBxrLlmCUv1KE03DyeUQN+KY65\n",
       "Mk6Qi2AIoQvVddB7s4hdLTC+gC8zoypaRrDtOrLV5qQw0dBKMtw2CndJY33+zEHOV2k9ICn1UOq/\n",
       "ftpF6dfNcPx8YZR+P/2Jn5CIsr9d0V1aqS25oGcdWZC0bePk1bVxWkW1HoPVRc7s7oyeef+i9S8r\n",
       "CV+1rfrFU4at2gT5g673mnl3e4b2uWk1A8eYwDJWuC4W7ifpoKKv4Q4okevOeFkf8blQw8IWMiFq\n",
       "jaEaejHqgFjFQ27P7w6m3dFxFCxO1mGKg9ovZJV9vtR18/Bhx/494LuUsJRI98RI42CecQJsdkfG\n",
       "3oKlxtynNWbjDhXZBG1nArRQusyKgtUmbMcNvLYxPowHWbKqkObps8hfPGqfT2BYbfEWPuwg4cHA\n",
       "0pRlAAAB6gGexmpCvwKgDHIjebHX7XhHooqYAPGnGm0ruTpSXaD+hi76UQGlOzys8J6Z2DOWz9C3\n",
       "odLpBC6q1q5ITRP9i6PbENVUmIP8hAEt1syPVpCwyUgtONOn3wv8a+RtEZvF2xNlxHdmfPSVtMCU\n",
       "W+gfi8z2lKHEY36uOzSbcEnZboSaUXfubK7VkW75yg4E1CDvpdRIy7CBihKMZOzLgnneuK0m8amV\n",
       "z1FJLU5R+ZZI31guapPdb/I/vwInHkFVINFRalNWptIxfKR9qe9U6cU4MGIItoow8XFZPAY/Jqip\n",
       "Otwd9suZUozlpeRxBOHeyl3Oz1Bv9Sd5V+vf88iN9YmitRkg0skKNAf3OaTJqvl9Nn6lZPpjLJ1G\n",
       "TY1GVGZw1RTcGn6HJLzDsnE76rBL3sQHaumCeJun1h/Gsf/4kTNxQQDBHnoEBcVKWwjLXDeYmbDK\n",
       "VxeJjd+ixkplCjmhWmTUGd1f3Slj+xwOTildY1WfgulmGBSUHnZThSiuiF/iNTp/z8PMP6kYsz8/\n",
       "qK7gENgMaZur7vB/nHy1JGDcaeLlP/aent+4h/7nkGPkjeMq6UYJdqydcURuDmVUbReWR0LwF/DT\n",
       "0rkem7b9WJnHELhvzaF/85Iuliz+JY23YY6sk8eJ1/0SfraZeDuI7oEAAAOdQZrISahBaJlMCG//\n",
       "/qeEDXZGreDnhX4AvzIZHZLr/a7c1S9NFIzsILzDqv5WeR9lznGuvsHNUF8eE2W9i/wi8ip6oPcx\n",
       "fKh7uuKEfpSf+uFwMkIte/gfZcP9wuwHdIC01WXcWC1D+XgiiMSuNRx1fTvs3Y2cBWKtzfTz211o\n",
       "hBTQzPQVPqp3LdZA3/fHqSYIdUhIVtZSY/PUZKvHi+8pB4crD4sb89QYV/ynf0hQseyEGd6NRL3x\n",
       "cVFEB2a9kTNGR/4PRwkzBm8s1udA/5tHtVWDrUSzv2Tb6vLUUG4LSxcAUti6jeSHyR7g53ZdEPvt\n",
       "3JCEnUupH0dx0JT06tCJ85hhR/z8Huy0j0UQTlRnP47/THwN63VHRgD7/1Mtc7PeoREgJ3Pdu0WL\n",
       "r4oY8ehFUE5ZUJFuQrZ5Jzn3s9aeaytBP6E/wIU5MENWlBh6HL0af+1vCg1CKG3I6B8TzxbB8zXO\n",
       "yGWXH7nnwQNk61YVBnSwHWisZTjC0in67+V61Wq8K978qidmfJlLWB9I7idQZR2uNmYfQJ4Api3t\n",
       "LJPoyba5ehHVcV2EQ7mYhEm1IgWYseqjqVr241RkFSIuqU7HcDGS5jOnf22tuCKFhaHPxA0LkgcF\n",
       "gaieXN/uliTN+8vprB/6Rtgt9VzU5bp+IFAjKsH33qrKVcfFCHYfCrIcbSzSiWzAiTKOq7VIjLOF\n",
       "35TVAc+STw8cpKSMj8VV4ENeYXhbgCXVUoGY8Eevx57zjpuw0F+rTkpePlOnzlaom1p91YwUXlfp\n",
       "LaAJcQCAI1WEH5ksltZRWeRFQ9XLldd0c7Z2nHzXPX73/+ViekZdGWlAUNuCU6dG0ZRt2pJ6fKrw\n",
       "zEZarKeS5B8x5b19n2vxRbevbt0XFoNENdUXivgfZMIPSZlgddMKBKvUyFtWaPSGsOEty5RbYcLk\n",
       "Ha7GhG3t5/Cg6PgMemoBHD3YuVbXCHgjhlZAAcuThMtUaYxOS3v/vw8c3QQcgK/2AErcz4JMCrjP\n",
       "DJImszBLk/pxvDPS8oNW0QDPVt8pl9fXFqXJOoO5q2UVYvHUJIt1ZOxflmJeXPC2GeIOhOQ3FYsZ\n",
       "yxQ6rbKw0kH95OloiRSaMu5SetPYYAhoplTKZFzjmibv9cMWrHgJv5IP8Oz6Pw7Vn7e2+ARrVVps\n",
       "aWHzbqtInkr7Pf0ZftAwOmljxlARURT1/PHX5dTZt3qmZ3mgq9pCGkRu3zHzIe8aJj3HAYf+jicd\n",
       "MAAABHRBmulJ4QpSZTAhv/6nhA12Rq3g54AlAHMtpM0L8RX/frCmbE2igfM8YrlVBl4RsIf3Hcxk\n",
       "e1t5iUy5ytGwrbj//yC+u0ahrl99pcSjXbX2w4oMfsx7vEsGRMBfG3DuHSuOHB7RS7xy9e7yjL3o\n",
       "kYfVbl/d8uxQGnQEYRMd8lIC4rioT7Bgikll1AxXW3nU3ALkzY0EdgkY7ardm0S2DRjme94dshn9\n",
       "RXQKg+Z4SRjszfhzxd+JshLbr/fyzHkqKJmJ1Nb9tTv8z42MRp/6YUX74ColyEQE9+nJonGz6Tzp\n",
       "5mmvZzqXDDgEWqGAdr8sFfflP7EEMjrwSBg+4fP+yO8N7uwiDD/3GWCsZ5ObE1RlH4fp00/eNFZx\n",
       "TTql3llINwI8Up0xCSosim7KP+VMshRdQJOuXaULae58WvcxY0wargfOc1/UwSMW+KSc6Y0+hTuQ\n",
       "B/jAU7qTlxCZCxOA7lbJ21kSYKhBassvESKIJDVNmLHrIpYT7UQrH8g2W7jrakofKmppyj6lezya\n",
       "f9+dRR+Q7jF9zIEKqK+DFnRkmRKjEXpTGenJSEk8cl35obroqoXIihzLmd9fevuqCbUWVeu+e217\n",
       "EOL9nZCrhCPNSSZl5kjY8B+nYA7yPLAQiifyz0CmQCf/3kgjYQ6oQOsILGkUp5Xo9jQoGWHo06Yz\n",
       "C2l3Y0WBWpXYrzbpS7qa6rEG7xeO2nxAW7l6My0I0jxEt2e2i2I6sOkMYkeY2fdxKyqxMbXG3SlH\n",
       "m25fdeEEChCX4CejGz+8d0qsFfN0mrqCyNgBv6Zf2dUa8xvjZzNkNS4rqWK1NMCC7AfxvHkSs5oH\n",
       "kIW8GIUv49b+jhGIKYWBuxH8eucEH22XDuREWLCsvABC+DBPBcY6MZK5a06Rtl09Z25Z485KqIyD\n",
       "AhUsb/m1MenRW9VQ9qiJLKsBVg3MMKx/Upsfu6KMAl9yyy+NFao/sXdvO5SFEBpkAda1bJ5ZVkJT\n",
       "AyO6TGjVQt/HoVApXZqCAJHkXvBOTJi+so/sraOSV+tWCBmEdc/Sqj3JvYA4RAG+ufp3LraHPk8W\n",
       "NvTNowazBobi7nnZLHahnB6E3x69r4J84GGhCDBZCOqFuGybeK7k+nxREXFnR/NP+Kpu/5oW7P5e\n",
       "rOcQXJA65k2ok2fz9Ohrk4Q0CRo/HCOrtfKF8b6ZGru+Zmch+UrImE80PSy411llTdIjofI4KY5F\n",
       "ozCDZBj8TjCq6CKPzssW5PUttWok9mrlpi49MlTVcA0UmLjGQt7Jwf+hhW1wWr7JWK9zvHlQW2iX\n",
       "Brj5LNDA7zbQaRHFAm2Ivpw9wXFyE8QrONjFHzj6AHvdZRaLdBLN6sFTtqf1Inu7rJZIpdK7+A1J\n",
       "qMuFwkvE7e5naUdPFX9RZb59Rpr7V9nraZmdwwSq8TArA9jr9gCKzkkzCSTAhsGf5ggJ0cdn70J7\n",
       "fqqZFeY4t2tu4fAXhGCVf2/nvD9AnBA85oYh5bDejZqs7DcIC+lgL6VNUaLTm53X7ZL/vvDxq2TB\n",
       "Iq/nlJAAAAO4QZsMSeEOiZTAhn/+nhAu2jV69hn0iqnNdDaAIPM7XLYdngTw4/i8hGy3qtTJNkFv\n",
       "ELUvRV/Yon/8RUd1YTndyP/Sgn6C8uD7wuvRY3krC7vAZyJzJ5MDBPYUrbLMi8O18bglxdJ7YV4e\n",
       "lsOjVx0X6vBY79HTCd9vVdqQNyBXgbGYiUPSAv35oPvhvZ1+V1LYkPdnLAPlQlEQ5PyO22Rfq3eZ\n",
       "bNPAbAox8Er7NCFDZK+ClaGfaRPEEouqCzQLVIkgCHRRJm5KRpQ4qWSPqr01kLsyMsFY9FbBoIyl\n",
       "+C2ieynRzPlCy6/+NDx4myT20eCb9vbTEhPb2VqMqAIR8qJDXhnXcZ1/J3q/47N84uF6HS2+0M4Q\n",
       "lnuyF/rmt3yS4ArFgG22BsLYSJqJbl1ESRNHnhDEoKjR6bWzFt73oC29N1FOKluuE3oR3jS3YOEh\n",
       "dKccJsYAKdFJXvnY+/rHAK9mvjnfzKbABSTEYNtHf+5n+jtZKVLuHagWdCj9tEYg45F349WR0pxw\n",
       "MhFqt9lxKmmk1QWj8eymsYngkyNncOFqPgkidE1p8ssQXSlCfDEq+UAZG95Lb5KpE0oODLUtSaCg\n",
       "87jXq9zRdIhyXfVwTD3FNyi0Yp2QkLrumqePze+wBw1/gtg+Zyj4LR0iQdJBR0fkC42WQI+F3Avp\n",
       "DXRoJSr1tdtGul7KewxPKQOBtNJMuJlI52ZuOZRtAHqxLFOY+2vFeT5eSNvVbRol41jfukXiKrZb\n",
       "uh4deDkR5YuJVtKzRbvWTUcKmWRwWS7DOc+OMx71bKOv/JKMdCrhZ9mnp8E+VfYzKVbt3aQvw3kI\n",
       "nQ7ZeOsILsFME8HHwIgluRIy+rT851cNkzq9UUcakcyTJaZh+tHrj22rU++h97AkRhRxL3XqS+5i\n",
       "WlBSxzPfrBmvxhJwPAzGCrJ6WaxVAXVBKyuUtgGhSyGZpP8aZWe/vCrgY4BFn9azbDxAateUZ8HK\n",
       "h3yAKB51q2f/MVrnCMtc5ws/XljASweth/z0XcxJgosNZD5Foz95c5dY8yJeleXmRjb8WO08/4Z0\n",
       "Re+mIKdWY7Rg7EIa0CRWfckDDW6qbCFRupF+Fzp31EFttB0pcM/GbfEhQrhl8hdtwT9N4RQn+fAg\n",
       "XevJViaN0ylOWxHYGpEvIg7gvnHeR+X+j16qDww7InOOFc+3ZC2Zski+VfzIlZ+wM9idMV292hoE\n",
       "2IETNArb3wRK9EUY7GVtbGzllvtYWcyJo52D3CVGrDknIeUkVwIrpqYmIsHyGENjYwAAAhhBnypF\n",
       "ETwr/wMUsGeT61H9YAO4Ii+QqgBY0YlkQ/O7PI/RJIKan4GeOTyIDAr9DB3qM11ewZgCBcRTeNpD\n",
       "CfnQmWpfwUctsO//9sB6Ly9NnrWwgGIJ8E2kS1+2EgIK0qjTXBVc8AArlU64dsKiDMVrC2uxrLnT\n",
       "dzFBxE5gYHNBqHER7Qz2CR4PzJYAPNrRKAM7NoXvFDM/rorieAk27I66ie09O3nL6S+un3Ga7XiO\n",
       "hYqrs5vGAPuLNCT1TyROvZJALmWRXz6bKZDz0r0nFHDV/hzOEbmoXbmvBWEwJ/bGgm6Rf4vq8N6K\n",
       "RCKnbsM94BdwJXcaxvtI2w0TABDettQlomz8O27d6fnTlTPM01L/HIfZLJm/H2ZRY/shuyB2z1V5\n",
       "pawIkWQTYbRHXB6ar9bt5lAZ9KQtxGGlBWWPpPzleZREGi7fX5s5M/yXRrLLI+gQAZfLjYAp1HJz\n",
       "3lQmLdc6ng5iEJE6yL+UY8KSGQQDMKYJBtMKyfl6FOUsXrrd34VQ3KLc9c/J/jrGWOrtkkzOGA3z\n",
       "vXZsvVp5f3QczGPJpLeHqaU91xjpknswwQKljOhoOvT+774EM3c/RTbMEPQA6PmmapyYsgQg76tU\n",
       "TlLhSzkX0F1Cf2kbO5Ual6Ul22lDQhnOk4itM9qbDDHSrfNLwWVx51D3QhaW3Vqe/oWLvbAclrtj\n",
       "6YBVusvA5unVCS9cils1mNNFgAAAAgkBn0tqQr8CoAyZcIaTGhdn7ejuAD8Rzo5pNhqzVqI1POSW\n",
       "CUM7zI4baV1K4xMUhEViOxjyiy2iCaK94hK5rxC/gQ3tPUY0iPN1jBfn4dz/yUOEhP74ohIx/4e6\n",
       "CO/dka0qQpBduZ2cc6lGYFDvdiy+H1iMu9ZnsY2LpTdm3gAg6qyHZ+gxcpGogYpC6BmtDjWtCf4/\n",
       "vqTumoyTWkxndX3lV2XrSCpZ4BLrqhjVZKXLIUAxUjEAS+3FRPXQgOmyABC1uQaCbS3n4eeJBROK\n",
       "zv87+cyaWN0AnYyhkpeH7zpp0jELtdxkrV0vIB/s9iV86wzfWBWDBWZXRec2GWmDysKFg9yxwgu/\n",
       "z5uwNSdLj/EYo9eMFpg6RfYXnDQqZFe0PVrSiOIJfgDHTtCDKdB+jHoCEUsn7HqvYFJNxeL/d0yY\n",
       "4US+JBrOaeJsy4fTMYKRxHV7CC0A9HzGfAdeFSxwRFND8OuKc2v129Adn7veq/n8BYYyt4rYpHPq\n",
       "jkKRwPnKTxXP6LLgJWbnKY9mJbR2IyNncN23rDROD/2/ohSc8P97/of0Ns2h8E3aHX1R+UmeGglD\n",
       "lOKivwmpteA8Tlf+gsmk9DHpqNbc1dR1dj2wEMjiWCiq/Frq7pOuI9h3RVt9DgAd3EJCUZtONQwg\n",
       "supJyaDoPJEca1d/2a0c4Kngw7MrhXbUtJ/JZfzoIAAAA4BBm01JqEFomUwIb//+p4QNdka7AIsJ\n",
       "ltvO8CwA1MI/hfTEwPtHtt25+tMDJPurjO5wzkQdM7vVDVYoNUTD38nl3ukhy5tgBFsy1deSej77\n",
       "FqUfFsWiEQVG8cbuJWgzKsCov1saBrQM7te7EH30rhSFny7nFpc9CBU/zz019SmQPaplvjTjYxfE\n",
       "MYOFnzzacErrE2GQR6Vo7imvQn878Ufuc1lqVwDNh4J7679GfCAwjDIDnZVZJnC+m6iOTZiskmr5\n",
       "83/EJoN4FH0gQoFsCcj7fYAVjoNPHthTPRupvVsPMbcg9t3CcsTiHntAh5d1v7ATvTxr7jh1D/bE\n",
       "EHUtT7Bgem96AGg2x3sq92YkhIDQqU5FDadd4pjLhCeXOuQDu6QZNIjXWxPcAWlpulmMhqxh5OSn\n",
       "FlACcjVvcOuZ3kMpRFHNg0CXRSgH3IOnHdjA+wWX4lqi/bILYeVHOmEWI7RQfL7uZqHZ0GT8ARTw\n",
       "6TbM3hiYKIl8CJbq3UX7/PMcln3OJbuDmv3OWnfJ1Cp5V9VvwewDb9LIgbZf1I8cFHh8EOw9ug1I\n",
       "CVZPLB2fhSz/EVRkqWL7Oyp2Pdh9huf+vmjGFEZ8EHuFJdKCycTUDjUQtQcp1wKLwXRGVOi7dAdB\n",
       "wIWHw7RYdwIl2yfBGQKNqnkZZJ56946AeeOqOG2QLilwQrYg+3eTVg4KL4I848rr2VuV/FDVlS20\n",
       "VbyZAq3bGeokFgf870bL5U35RrvB2cLaND0o+UKQI81ctmMfFQLbcj9SPsSv7h0vA2PAJDuUVx/V\n",
       "Zfe9e9Gg7AwiV8puhAqWL66c4eDFL52Gnkx+Ir810eCHHcxE8Sa6SRsobmi+tcNFN+LHbst2tLeV\n",
       "RT6HVLfl9++hJBZdQ5qzm/KWQlkfvMbLR525L/K909A4o7WQvvmKxDG6ycY+rp5Bpc5nL8JyjaPv\n",
       "lJ38jJA6LFMPCQsJ4GTD8Osw/LK36s/CTvdeznfgqG9SCzpj/yHR5Lo0TW9ItTHELQEY+MBhsOtN\n",
       "jUuFLihiTiGuXprNIAkzfUNTcdMwAQTYU/j++lQSMs47GeVnPiFza2k7ImByc8ryd1K+0Ik/xahZ\n",
       "HRbop/z6/h3hscU6B6rpKDS5SqA7RbBmS1I4YB/Y9OzEVjWiO9UU9/H+E23SKyOeN4SE7mBoLfrE\n",
       "368p2Hj32zEoxus7tklrffzjgQAAA3tBm3BJ4QpSZTAhn/6eEAa2PS/1VthrgCIYDyRsl6PoZ1zm\n",
       "d0GbnLjNQox7z1I5zLVXfiq6I9ZzwgZ7jfQPZXTYdp4g/A3Cassa40qaxiw6NVG/BycHMLQH74PG\n",
       "M7DT5YsMkgbgWtxVDIj5Dc3PgbCUf1BYCY8Ia/oLG7YhWeE6WKPwe66tpVuA2c5GdwQxhFdYqyhN\n",
       "jyw4PL2+KvcOEfjsLb0mRmIT/Hzb6yErfHYDOOl5+pCdeUQ6DDrBvNVB+GdiW0bM+uZSd+bOjcDX\n",
       "y/1kwyCyqauWncISooEzgKhDrsBe3Q+3Cg3eUnaPxOyBXqXQRnFTcMXZ392S3eDmUjrOJBFZhYmh\n",
       "ot09MREIwe+Sgt9HzZ/eOW7KsEJ+hGmpqKgfBmmXZzfw0+jESw6luS3TwgP6sr5CXSyBvzB70Qpz\n",
       "Nl+LtuoUIcTKbO+ty6lYXYbts8mPpcLN0pTmdGlcZLEYdh2LA/8QwzKu7MEUt/s2YQ6goO1GFmDs\n",
       "qH+DQG8+aQL+kIGs6jKk41bRBAF9/l/l4OmIbyeriT1NA0r/Jyr+96BETcg+lqcrNkWOBM+G/hLg\n",
       "/I9/8+n6levm6xGL+GhhGa4kap9gqQ8a0M2XLbXtIW11RXZEGgRdHFuSk6ZSljEogRIn1trPs75U\n",
       "OBKezjd9yT5o67fkf8YiYtjTRsqS2vX8IaU9geo7A+KShpwrpKpwcMbQ+FAYUW9uxE+0tGSpPWmF\n",
       "c2G+rjBD3t0IMgu/jlg43/BWb3wdoKQgBSo9qn6LSMwDBGHhtM26Q30YupIgr9gruZ4mU9iPeX3Z\n",
       "ysh/qY9nt8KnLhZZO0teAMdLApHjzO+OxqVhKsVmimiWMed4vRmqtvm7oTR8yLTge82ycHX838Ih\n",
       "JsS/VDi0YAcEaKuOXwOIK4cEKmEcSbOzccylcFnA/sXmU+nirPCfm1qK084uHR3gt9MDjEOpCZ+T\n",
       "BU35t6qFIpldiQwFJGxXnunE1oIMIv1+BOpMZVQrwvH10jOaW3buERfREnsb0r4foz9BeT+5Rb3v\n",
       "L8XpFsjAcrpzABTwxD5xUr8jY4/IDMP6J6lKO+sWLacSCwnE/EqwgwUiqjnlrfSTIiK9l8/HwkVK\n",
       "SJ1ybbaY229oNTv5P8y1WUdwLX7WG8eViW5ujA9nhOLZzYmvebrR8l47X2ivVnSPsin3hUQ9KHhT\n",
       "v0kAAAH+QZ+ORTRMK/8DFK9NktLu3zhMJACONXSrOqmAjodWa0bQg+PJg8RxtIrRsGn3QwhDL3iR\n",
       "fdrJ2Asn+AjgCqgUNBhLwzcirWQc+bzcMuVw1B1pmiuHwAtD8nEi21fHifC3l/B9cC8XK9c5HwT4\n",
       "3rjrzwiYYwOIyQuJeBHFzjt7F0PmHdCY5Pfq8oJJP856aYXOWzBq9mJjeJpjaMuYj1EuiBipu66I\n",
       "VabOSRmDDvO9EGFiXK68JMwemhOlkcaH/kvSgM/qaa1IfhqC1QbwNJCKC8YXxOJdOTZ/Hq5m1m0x\n",
       "inHYE6lHdfIdg+nQB3rXzd32pbb4XTNVTIU9yMLDFBWUkIwyFZP7W5czuctQk2GtNp4Xoub4Sx9l\n",
       "DEaXmmKuljAxSkSRKLkH7kMZ9Xs7Y0ZvIBsN28zekXj1ISf2G0SgGNkmJ96dy5X3REx+kKqiqWgX\n",
       "37UgDX1hEmyIB+rjWO+iE0hcZcQxAsLowQYo2rMblRI4tPk6MS0ycbBOMJXpQJK6yYx9z7vwb6TL\n",
       "4n31tIAGE6Cn61AnrVTqhQS9Uu//z5lIiyfaxnJqKFhDcE0WxWV4BISAdVcABZcgwzGKogfxL36Q\n",
       "Hvi+a8/5n9H2DUDSvENj+x4v0jKXGGRZjmXwSJ38hk6Rfx3KEBqTMlHxVeoVnamhkdHZ1SNfdmAd\n",
       "4kXhAAABwAGfr2pCvwKRYL4cYj33H3YAIgd2823qWwgcFGGDufInFMYOV1GgzwTMKw0mz7n075OD\n",
       "Fn6rDm5XmOG1gruLjNAi00RUc10JGLNWwjNUlzCb0mcbeG7E33356k+QiIvEGbT+iznl5RsNLXAT\n",
       "WrUBRE/phsqxcTUFMEQq/RYmhvIGzq9lusha5xv6/FuH/FOfYeVliD3QzMgwlvNk3pQYHVz7D4/S\n",
       "oYgYkpVP7ktUihgGDQSdNCdBfh3nzehpiiRjHaQ9ih4+dJad+dqI1WNvujPuZ8HdyRzy/wZlwBCu\n",
       "PrOWVd7w9V/STz37evqWJb+POSS62/fEwRrrYaEgPNurzMh6IM6J7fwI9q4aAS6TRNAw8Ew/gok+\n",
       "vcB0VQGLdXgtZKSiW7ln5kP0kfJQ+nacEGbSemFHYvwXGoSE4C8NddP2O4wvkVu4Lb4ouiG/GWas\n",
       "xJX4T8z9R/82H6qZ9w1ePkq7hmHSMgWQ9+eh+PZr6QW5/UeSl0OGeUOQBAClLxW3bz562Uixon2P\n",
       "ZIo6PajjS0D+W600EgHGauzG+En01LIakGUjxmRCI+D0cT0TOVs78QuyqtY3A1pei8i5HVd4p+AA\n",
       "AAP9QZuxSahBaJlMCGf//p4QBr4/mkXABYfXgzQ2MGFyGwJ0h4KGdkJGog2YO6vrmmJsvF4vs1QN\n",
       "lxxagW2XFltQhJowksIqEhg9oSAfUAmYDvxmICGoKFjvspbadtkovbwbXwFBIQo0075rPnxmI9uA\n",
       "v6lc5MlgYc8xOfiicXFUR0QXFlDcnkuS+5XZkPizUORRyeBEKiLDRZRAWDL4lkGMh75FIHZtwfI4\n",
       "DVgJdP5hS1G6qpvezSXgzSp/z75Y+6zzjHqOu4gOI+KruMzRwvgGaFSqJH6AZDfLw7IpCP8DbGe0\n",
       "JWkjs/HsXV2zvO0TRSVa5CeCvoD6/hNtNMIPz8isYF5kkbsmVS7QlZb8coOE+fnk1kdJGzyW0NH+\n",
       "Xgwfxe3SivEEFDVJ1uemhDSrEWdhe9N8uCzpkYeQEd6hkDOLUTua6qZQo7ey+PHMoubzf7FX9aPe\n",
       "Q2IQgTfFA045KaLPElEkVZ93mB5US9F6Af1dnnzok4DZADqIS40EcxIK3sNIO6rkOeBjw8d/apVp\n",
       "zoxSrO72B9UkazM6T3AIfcdgvyEDR3Ef5yxY3KlJkx6rgMIzLm3kTokdWP45qttCx5D14vtMXX69\n",
       "fhne2239xx+mhVu2AoX2cc/MuqusgSSu50inPzzDZtZs1MdKim08l+0RgP5Qz8En0kWvzbIFQ96K\n",
       "pZocQ4TdX9Q8WFLgUi5C9FObKA3vDgA0lwW9dM5+g276rA4+NYOqVMauZ2KRDrTL+OkpRiaFAs/F\n",
       "VsejHNecxggPN29Wr4W6mhaiDkHQEdLGMfOS5MbnGNEEnXdU1CyOtOhJ2zzsCqbum2izI82A7qQO\n",
       "Qu+/vesFmV073MM9UuzPrPt/fkOnCHeKsQGxAL2ZsMG71zyE3W1FdmdTBNlcLf7meKV0Q5jlb/dX\n",
       "i2gZi30RI29I2v43axALinWH6UFFmINZEy6iBpBI2i07PfJBAe6ZRDLiDvWxnJmGBqV8Z51xANDw\n",
       "HLWscBHmRX/zsJtcP7eL5iDQqnI3hqbHxYCi8HGqK6702qohuiotoaeDetPZUdxgqdw6O7KlKs3O\n",
       "zLCQKolgCwBXGo9nXDW9/ovXq7xHqrUov0/VUuEL2S3y/T9xvqP1Vkb9LgLsvLZHPMkyiUojIRy6\n",
       "T7s7gA6TWkgd+1gpGh4iqo8IZtYu8yoFKwFgXu28OKqIxqg4/BuYk/+ed2n9PJZrh02fv/9p1Z6q\n",
       "CTJ5BpNoHh0ICk8aWFkhum4qQX+lIPXaXbuXoQk8pvOygxK+0wmkdQALwj/41ECcVSzBPGpzJCmn\n",
       "5bkz+hwT9iuyaJ2Q6HZXjIwaUDAv/aRNd8pC5N+P4JzQwbyTJEBuLnctvdAN4+3NqkqVhWd4cQAA\n",
       "BCpBm9JJ4QpSZTAhn/6eEAa+PsIGq88gy7mePvF94KDTfnfYIU1SGSAK1SqfCbCL5NFj/AnjyoHq\n",
       "medtHac2XgjisGoa5iJoqvgZVOwp3AUJPB8dbUEshB1o7a4890vw+jxRp8AVPNXujeofJaZA1jxz\n",
       "zw4Ct33aHUkNUbKx20Yz/vipcGCgQ/G8MpvczApdlwAfEwDT0eMb6GYlNWqXqO6Te3EOnSwNf+xG\n",
       "GY5zbltnucuXrr443XhiekRJQupTGY86lZ8L6eGsqcsrqkTAaxuEVd1Vs7Qtn3tSQ7JI/aR5+HJl\n",
       "3DgGEWdj2PpaOzqR62+bU/pcDctKt/3aOT0fcZ4TT9X/iArPjWwKmBULB9Gne+vcHPV1M5/PojWh\n",
       "u4JhokqnX+cWT7Q7l416FdGZOrEhZAUjv3tIliJ1ic7lD5tKq7IAYddp/e1ukeV+jBURE95GKPrk\n",
       "JbzbnvoYMkzLoZqvHmX2Mh3lSwL/b3nDnxoEgfdTXdwRNUW8H7Bh9ZF1Xkv31tbTGMh7zU2F0BpM\n",
       "9eWAufnUrx5+IGlpbE3FhRp5Bvlg6GjCB9HqbMnFeBfYqs57QXUnH1Rkm2dcYTrdm5VxA44CQVHe\n",
       "fa57yYfE6wVJO9NRknpMvCr7sYY/s38s3ukr5QfoF/7sl8WFWYVtfVWT8IB37Q9okhV/5AwxHiBk\n",
       "hCquDQtiurUkLZquLVzc9rhMw4wDD+uLhdF3ssqJFBdHn2R1aplm1Rd9+o8H5BPmScBJxPBi8Zeu\n",
       "F5LFm0L4Lyhu23zMbTtwCdaSPKlI2goM8zZKM40yTyLIB/oHL5vrNs9mxIseYDHDUwMVoPgoRyh4\n",
       "hSe/vbCzd6BFpNYRp0P/dOaX5ISnQpej06znjKUYQFeIJfJqJcYM9H/E7J3+LhJAwyZnWyOpkCj4\n",
       "8hfDHUoC9vh0njNSITdNvg7ipTUibXja8OvqneFSQW5q+VyC8Gf/+jX1ownTuEbgKD0pxcPTIIpW\n",
       "ArBtridypBi32UCbhKTeaZOoFelsQt2iEOzULD/VW6xWpSaVyawohHST0nE54/xpozXEcN44JhvK\n",
       "XyTrxoQFs4NktrDwEx4NB0lkm/vbQO3U0WO62XB1OWcq/oRI/7WcVpDnwwR8PvhM3e1RMn0Mb4vZ\n",
       "XpSBcolGIM4N3lLlTy9recPMV7NkHHODLUslLRO8VT1SynVdNR/yqRnEaqNC43ZZjZ3u3ZXo8lQP\n",
       "eyobOWwr7Z3ed/d9KKwA26fG07YSYF9/rObRLfPY+oB6PmYk17layDRPIos6eZhK6uRrHFVUT/6i\n",
       "LVh6SPGh4mX6da/OBiV/MhZGW1Qi/J8ptfLrP/S1PLQLMjsi2+9kjP+T662yz4HOxT5CTtpj+F0V\n",
       "VNVmEvqzJVwiJOg2Kh9a79wp1eXh2l9L1pU25CW+AHxGgViA2k/CNk1RAAADFkGb80nhDomUwIZ/\n",
       "/p4QCv9GtCdIZpwAHQKchjlrUuSP7CoHHuHpWY/RzR0noFcbF/7pR6KmBDP1iHeb9wqehA7ZwXPU\n",
       "cN2UrRe0bGC40/wrVMcYrzczZKIccXh4f0+EBxzlD9ySVCy2MPlNorBnUrTHwynqzx7Gmc97Qvuf\n",
       "ACZ8T5OlkFejYqPbLws+jnwJ1bfttUp4Ob8sZ0cxEB8/0HbsCWk1qZ8Ev0GMPqPRduS0mGKulBsB\n",
       "fyceXMcNhP+GjgOFXISM73E9rOkqIzdQyHl/CnmRPF8/sN2GGXP95zfc6fqHlzSw2PVN+ji+1jeE\n",
       "MCPjfOugvXxVGst98DGVBq+lmG1vyMWj3RvQjb8Bmh0ngbZdJpgOrnCm//SRSDP27zB6QNu2cKp2\n",
       "zjKJcVgu1Nh3CyDZcVytzIZx5rpyoXBGDFriMQP2PZn3PZlc2cn1uXew3ZRozyv67Ub6tYjlkc3G\n",
       "9Twd0KCj7rSkuCbJf9BU6hQcBiJGTMiN0yiVjPdAD7B/+3raeN0ZxJ/V2Mgz0M3lTfrxR811xcU5\n",
       "+SmeK2pnMZqCc1ea/YCGiRPqTjutab6mYntNWnMAxDIrdQbGrLo3hOn5HuykD/8kT+4hszcDegi8\n",
       "b5ujX0EQVgxetBnHIt8cmFuEA38RBmII0dqQDxXhj4N1/+KJzqNvIVMpnjaA/6UozVFXgv6QdXos\n",
       "4dqDXajTDbqUZ9fvbwTIXkCKV+Mtetj2/6mhqN5TxzW3QCR2VOtArB58JYu1S5oUPND+JSKs6YTw\n",
       "Uy5jjVHNUKi2Pwyi9/ia0YsRIInfkmtSXANYJmOGwsBDsdTYWmGRlsESieuOL40x94doTIPZghz5\n",
       "eM7wWgp2k/zHo84TI0V7EOl9bFO9NHz0nKKO2IpiCQNKPubULUZ7dJKj31LQ8vD/fBciOS8Jhae9\n",
       "U7PefaAZhz1U54bYrJAe4kDhVLrvk4gJ/E6cvoqafffXVyitAdLu5O3EA5rsv5Ytri1Veb9Ss/6B\n",
       "KJ751p4Zwt322SHbjSbS6FmWdGKLIK/SRpQFzYheuPxiRNqieSAAAALeQZoUSeEPJlMCG//+p4QB\n",
       "wy23SJzz8y9rqAupK1zGjbEhz/WVZ/G5bMt47q9oZnZoN3PJiSFoLblQrQdVEoGgeLuuT7Zmmbib\n",
       "+jjVT0yVb+LHm8DmSA7p2NcoZD+eX7119I25BnmxhgpJ32wMRL9vv4Lg3TLd44lIwp1eLV7XVT7i\n",
       "QAydYAeMfGB8AlGpPsfIPyvOsn6EcPrhRc21mDcFcFARHJNDpg6pT4YPLE2A2bAbR+3sv80pxWwD\n",
       "taLEResOMVQaTWaTm25u8vQUt2FrIeKmaaVZFshmFWxFEiiL+/+2Zgob3AFeCon7zaG2NpBVpwUI\n",
       "JkO0Kwpq95aniKtf8Wm3qj7E6KX/Y3hisTMueg1eG7J1cWyJejdPipbIGyAIfGWDyklxcMeLikAn\n",
       "MVWaZ3fk0HpZ3kcPOmFAwnRn7OM1sTDG+VgQtQ8sRpGCe9dqmToJEi7s2qSWV1FS9z6IqAAkRqlt\n",
       "glHnvL5Hc3krjjHj288H7GdSLShhPkkWM5EX/T0q32GQceeMxFLhbwbR4RO7nIoTz0ufbGSNCG9H\n",
       "4PcEYBAUUDvSPvw9Ceb81byJZc7DHaruCBqxsVaKYPiw3eyhgJuPx0X67tIut1p0bQfzKD9gCLQX\n",
       "103P1K64RSckUj7WKMTG9S5QIjh4nIffxpbgpZ2Xy2Nyd/xxZh9RW+zUEirJeoDyYfa+cvfZIfjP\n",
       "OPRCqytHSlakKfS3D+loiQLFffOQuAUEAAFEhHiKQeHKFe5LNeMfOk/Y7tyFjbJ/bxfrIWR6pWQC\n",
       "mQ3g4ULrKYTvWTp0svWZaF5JEaOsz8ew0DHR+WI2icYb84yncqWwbQ6IRknakQCIQfw6mg4KkscB\n",
       "9HRoQIk3KB6L2Knkfzqaw8zhnlsO1+Jv0afxwCDr72TIiSnUq/clgb+wrYV9gU5UcnMbQ2G3Be0E\n",
       "ORjTuhEnUO9FWxfOQctMkYbzk/HMxmKeoEVp3rVr7QrjKLgAAAMLQZo1SeEPJlMCG//+p4QBwqZv\n",
       "1wBW0DKPgx9uirktRt6W/KPdqGbOu7yRGuDnxm+qmC1suuRtQ0vp/PdYmLWyMNgByFbMoMZQI8o5\n",
       "CBrouXKbEAw/3rNSjy/Xoh01Xuy7LpofykuNlqRNQ+LlOr5Ge4vfjYv6xCs8WLmPeb+1/vQCuiMY\n",
       "wjFEkx/LNOP8olkDfL/r42TH82IRDvIyWMZtei2FPMtO+2xNHGCi0DD7vKMfpWI/dS0DqXinA6Zn\n",
       "c/YFqqdbkbSbrC2xbIu4yNnrE0mh2BeGojiqSoWI2Vu50ai2Qu64Qswm4R2U1eBFiZ74WH4MxYRj\n",
       "lGz2q1KBNbmF+5mwJIN9zuY/AkpfzTRPmmRzLPk0XLvvqru7/g3TJKBLD46Y58S9mT6mMU5R1HqR\n",
       "4TsaJioEp+BaklC1s5+w10zRIm+h4YGzzKfpQKPPV2fFORgr4FWXAZd7F5jAEHNKlAOFnNxORUqj\n",
       "DwDmQ56QPoZBmTvi+dKPYmYHVxfoJuiYhPD7YXoFCrddimu9MHCG08B/iZEuISbWOlT+KHdLc1a3\n",
       "QZ8uM5e2LXkkggR22ykWHqZWVx5E1O/x6GHwIzVyr6xpg4khG2oG1cVKETmXdtI1IjVxucpsbb6h\n",
       "LjjZ3cE00eoD0gDF8/c5sMSOf21tkjKk1epDHGdK7TmINvJSgdkPbyDTmNvG1r2lw2oq2LQBqdvK\n",
       "DnASTTTIxtKs0f6gEvqwjJgfWhTMXTIm8FgtpHKz5MtViijhaoJerlOKcBScMBj02POBH5ej5a1m\n",
       "74XbAaIuG6wSE2EooLNhewG/FEJLx/kGfBkofDCV6XqjhRGFI4iQl/82F1vb2rjezFtrZHIq02V0\n",
       "f6JRUi1gA70FC8NYVZp30MwxnP+ZNJ6LGeaeYNMrbj8JNqEW6fMARFRKLwvRJ0ht8Tu3V9jB8nPa\n",
       "x9IDzaawNJLCpECsl6dPsVotolT5BXsGhXy+/oI93NAlmLWoyaHEplUTcdBH8GDe5k+xRM34tagl\n",
       "Fd05Pk12AUbQYY0vxuvyHY9V0EEAAANjQZpWSeEPJlMCHf/+qZYA5ET2VIACuy0c5wVip4qC+ium\n",
       "zSfdtPVRwx16d0jgg0rurd3Ifa6gecnHfMPKHCepVk1u4mdGgjPulDQtoI9/GBPcB0Gzzvu/pzSV\n",
       "91U3gy3paTciI4y92NKZV70oOsdBpgMVz79TfI2Gt4qxhzFTaizWuTV4aoh7bLQXGKPRJZzEyC7r\n",
       "aYM4Xb0rfl5z8qiM8eEoQmEvs3X/GNhn8sTMRCctr4ttxPIVAXWIHQmkRxZZzjLZWuGxa4A90D+p\n",
       "c2x3hHHLTgjs4XOxa7QTa0ira7e1nA+ZPsFWX4P7C59plb9IF27T5+kvQG2GSEjbkglnZP/NA1wb\n",
       "zAq6n0He378H7T7AlSfUEDKnrl54sUTQu9rfvA80w8z1C6cOvpgg7AzfaHYzJMIEKC/HpsdMcSi5\n",
       "Jx0CFdlBAGp0SLalOyH1irI50paxmYzRIzMSTtcUGT3kFrQGzfr6GkV8Ec8mNVnbgYg5ThZtFjoX\n",
       "vDXbHRNrd9gq7unacMbuC1m/Xh/XasbYeq1OylUU/C6N/j9xkqQ/KnzsBifAOZJSNqbjRif7DXT8\n",
       "vbZoa7h+UQF/9WXaVflKxsbuY1FSAIJWeQ425iuKgxKciv0Dj5WgxJlRrNOmHhpV/NxnUHGGCxWR\n",
       "KwTMY/+pnrVVf4AW48pofFAP5EvQ7KESr32pCDuB131UdmaWiDC9X3N4fdYGTewauve9xyoUn7gf\n",
       "k1XFijlQZt8umI9dwoLaJ2AWArpX96ojsNfAnvA5zuhpMPyUCrm2IJXUS9Utr5a09vWK02veYEaK\n",
       "FJyv0YY5EIdzgY6Uh6A+rHhxSi9gRVVidJ4Ut+QSVlFzXeGQLMhGE2eYNuht0IOb79wQgpxEKmgk\n",
       "GlA/JDaPzkzn+0AQAGeHjAp+ZyNAVYXnX9c3s/OHdEZHDLX/oLYjyQlGpJZgAsFGk92/w7aZ8Zvy\n",
       "VzOxi1o5CTzMGGdV/J5ULVk1FRPOd+6fAI35Xm5Gm+QzQCsjEAZpPn87ghE15xeNlKgY6NOPwa85\n",
       "nnfLQJ4bQbP9sz0O517WV1d/fB4CcDp3qu+bDUzsse1H/C/V7JDhRqVrwfyZfeWWTV11Hgkv4Ozb\n",
       "I+Sb8zQZq3L+w7qWPwQV47SDB/nh9LWXtq23hIVFLMzaJ/zMAAADtUGaeUnhDyZTAh3//qmWAORD\n",
       "nsjoAnRSLNPMgPt2fJQ7BiJfk7nDZkVcTGL+UcaIhrflPKCRqf/7Nk8vW8PB4lujChgS2qnlTX3T\n",
       "lMMmR5yNlm0JU440LtEh/3Pkrc5kpn5LN73CHCpZyzfjG99UvI1w0M6z+my7Z/sFF22hX8CWrf3I\n",
       "8O74s4wM3P5JVuyDqERkVuw2RK4nHmSywEtMosdRBt0P17tNy116yPX4a0k9RUECp37vxG1UZb+J\n",
       "OyDQHnz2xQmlI8t5GPfEIq5cfJVPqryZRUTVszXmL/WOYRMQHOJh60I5F7UrCTryEbh6jVGkjdAf\n",
       "E8N5l/hs1h8F4iTnTJC8RgYdLm5HixxE9eaAFG6hO3xrja6HvAhXmfbnI1WHraPmJ6LU+9H0h1dP\n",
       "T6r3Dge3/K0ubRqsTb8X59h2e/MIGoaOFD8+9k9GCniq1iNlBYUp7nRk+w6k4py5UMKA88At9YiP\n",
       "X0KVD/GHKbSMQiCMfFVSqWAIoC+zT/F6T4xerHvW9OHS9APXE32M7ArwI7+WT1DwkozVAqoydsdd\n",
       "kpMxRh9CgNrcfN5nglN2e7eVJAkNKl71dH1pmfghz/qyqBkNwjktjGbB0ed9k4sB5by+9jo9/GkY\n",
       "C8iwLn5NybXWdbJqhfXR3q/84bEXZJ7KEl/j6AAlhHlxFemw5mMI4wyGEHqHsYOw3v5dUEZEbYw9\n",
       "oN/5jKDUfjwgsf9XOENfyC2rdVLILtx5zCQr9djfrTYEFrHtvIx17RuWb4imtxqfnUw5vYWj2Q6b\n",
       "n2Hwqu+uFITwOz76oWJruFQVLggfrLF9lye8SDqxXGQlC2cM67fxLtxrlIeNNoOdk0rdD5xwp2kP\n",
       "xKWKeb8yX8Tx3rPOYR+hOXBFMkBsHExuTtyMbFLTeJJVvNYTmk21OecXTygWEeVjP3arkBT3Ablt\n",
       "uCRzFHi/LhdtiJN2WrIb52oWpYD2em4KCdVppMLl06nirrE6a00LXErtghh8AJazNTjLHHxdHfTj\n",
       "2VHEre9uFig5z/2ZLB78wdEHwZ9/7Ocz8o/z/6sLxdgQ9G3v7Q7J8L8UKP081+a7nk0JQpZa61US\n",
       "im0gskN9Uw5WZk/lkBlZN480/sRwuNeHIRFWYLuJU7bAkjLKkbdS2gt8vYls2SHRNF5OMxXa6H86\n",
       "DLB7BJdVQEnGJFpvivCODp0Af1OBmRUg0IsgDeNiR0BW/vROrOXSfkEIsDtpbR5YwpA94IyORiQP\n",
       "yT7+3v5FLRITSYbd5g+Ugp8yr5EAAAFxQZ6XRRE8K/8DFK859fyz4ebxiSuQXAAJ1jWL0Hw6JKjS\n",
       "93LjhyoI1trlb0yqhxLv/ixRI9yUliUQeMDB8VKT4ZyRf2FWV8N7rxOFw3KQC0+9a/TefTSxmmjw\n",
       "aaQ5t2xTeB+1h63i2K0CfCqlRwhxNKfrbPug1sI33Z5c4jXb2GioMfL/YJ7wdkLgHUTNRFWjSTyS\n",
       "3skLJLdNRiRnzy8NNT6Jkfz/I43TerHqHD7MTqt7FM1TR2QoecZytpIrxcLvdwVgd1rxfVCr6/uJ\n",
       "k5M3t5uXBocU1U9884MDacRejBD0F74cPJR0sp5H7L4ap132PjY1BvZ/DwG1B6SMvdYKae5VeY36\n",
       "KqNY/rEGN2s9TGTjju6IWxm/WoLhseeN+Deq1wUz1IVKDNPREz1djW9BgFilndjFkynysAO0cFbg\n",
       "cTIs44xJp22OgmLO9JDzIPb6sXQLdbKL1qgKMnfs4SD9OVODQGIHv7yuOvC1OADJHH+BAAABoAGe\n",
       "uGpCvwFI4IlhnI/OGwATqCVN/8oCJolN243yUjYtcKpMfwAnLQzLP/C0WKPIgLx3WMLDXmGDSkbU\n",
       "9T7bbv9DrEIlliWIYyI94c6m5UbWtGrJzqTiGC+8zx4OQnlzHWQNcJaZg4AL3e/FNlHvL7VB6BxF\n",
       "xti5JGP30ol3d8b7NZvKcs69iMu720UZOdg8qL8AftnZeNljddk7OUH2MM8lSkvYyYtDMJHUnLvW\n",
       "9gtpDW5Axechq1hP4dHmK0+RHI5ZEjDkqsWP1OE0q+1LuBLcPK9Ise0y8FZa8HsBjNB1u0RMCrYO\n",
       "blEGD7dJizMEVnTQBN9sTkpNOYTvewAbzkiVzEbRIq1LFB4nFTAL0X9nEQa/lKilvFwZx8kOOoyu\n",
       "tgGIQdtqua/gkWL82+X9M+0w2hU6ERgyGPIeCj8hpawlidhJUrYEZoDcBTnN2HJb3uOS5PhxWxuj\n",
       "Nr5aWs7JU84M+d8Q6/BhUHMYYk4++fv9E6nxX8ne+WBu7Nws3WfUEmiHth/Qu6VSEPMT0++CXlh/\n",
       "ulpo74knorIHEFszs9FAAAADu0GavEmoQWiZTAhv//6nhAGxRf/OAV3L3S0d0ZXwNPAB+S2LjjOB\n",
       "2qjCT1kii4HPypUTi91eMlOZOAR1z9Tji7IVNIIP62VOPVVNiDyWp6IGftT3SvoPKFMKimZ/Z1lc\n",
       "I1csghf6ATW3wVVrKm0fdk0FOhAO1gGJf+xN1XhZAf5/42rLH35B7ZuWuVyqsGjDnWgSmqCf4LRg\n",
       "096d7vHj0NGGZyOiP67WJSje9ysmRTYzrY9SeTJTUg75Pq7gHrLEnnY2tqrK4tiAr2pKR+EcZgqQ\n",
       "kg+iqPgogPfx9dE9kZg7D702JJ2QlI2nDQ8f/BtcQhggLvaKPm5FYaJ5fnRqjCr/LrgHCJ9Wa0Z8\n",
       "/WKWQIKFHY9rjgQzYakeOE7uBD1L1C+StQxTJlGFfcnvcqdGv4FoK/X6pYhd/qB2ML7zaQxbFejI\n",
       "DDbzn30wghD8WGsYttQU/qd/Lpk7gSs8UDodj2Hy2FjkNCOtEcyRDjLXpt34ul8Kgbzf2csQfFUj\n",
       "pD5WKXUfqCfuKuPCOrGPjeJfhjLMlQtGI/PJB39ooDtE9xKdth2IiVfs5mzg1FcqIWaumDlZOH+C\n",
       "QrRRf3Tbp0ut5rqezo8USYDr+4ZY3XIVR2epmmvV1sIudwaVuZeng5TlnYThKWnma1cCILZ15e9C\n",
       "wKpsbVyjV/aix80t9B/TojVsj0+ybzzmMQ+iZWbPE2cq4WBC3govHbMNKLOS14g9XXStJbsGr1GZ\n",
       "4tJHv5ehkkDU0hqKS4Nj85gU4qtciz/Vhtl9Q5EFlUWKzmVbr/do7zgv8UL+AXLlzm38FRmW5WGS\n",
       "RlSu7yt8xtLI7CCWjtOQF/EXaW4YkHlJAj7zHjD9cENuuahh5sSaYMpl1zcELqkLrWw3NgYqJHla\n",
       "7krM1sH91GZTh5+6aD8tp9NuUpuxWYCIOzC1/k45l1P5EAbvDXrtpHZ1h8tja91uNP27D54ArUvK\n",
       "fZqws3V5PTN4cdj/kWSzfX8wuiYBKHHIveYpUFH/Bgg/FnhzjYmGZfgp7FJlo2j0s6SDFBwlKNco\n",
       "DAW4ArsNRcTUGZUvemObn2Z/FnJHDnayxTSPSbv5QZSUNBqgcN6cdXFs5FlCJDBeOSJwIuYViK0B\n",
       "8hgjlM0N4FLywUckgBysUwuYP89SqGUlYIhf7ErGJuI9Wo4t0s/hE01GlMSzcGbhNFDqyizKgw6s\n",
       "rodyVmsJ7f4c3VOBxweZ538UI0Jz8S8uiKdMlpMm+FNDM2GbhOpLIMlABn5E87AK5naHzqHCZt/9\n",
       "bu1S7y8AAAGHQZ7aRREsK/8DFr1Jb3xz9Xay3k5Q21rJg4ABNoXmkBe2JvBYTmNHUwQbZi74YU0p\n",
       "k1iumIlwQ2pELakJy8VHcLI2Wy0G8qvnEqw40xCVhRcR5vwqVJ3wTFm6XeLTtTkzKV6Dpn31W13B\n",
       "ni3bC/T+bzp5U5s/KVbjqgInBGMf4D0Otg65Wk6UgX00RfyXzNQW5xKvhf+xujrqkkpcDBIvBnOv\n",
       "Lk/RG5ak/fYnMoP772ya7wKEEzXvzqqn5wnoMTyVhCVazle3bLZpZnGcz4ZCg2X7t/WFeCk2T43N\n",
       "3xDQRY78Ppqegio5wJp4Vlwd/5+f+BlA66nXl6V1Ie0dIOgaBDMpoXWFdN5wjLve/2KflbaWhXHB\n",
       "wscOsUZDVslwYJmPrsWtm3CiJl747qtoPSylAtW47iIH/yMCNKixJ17yTAtUe0PnHD+WqcQi3Ivk\n",
       "760UrQnkjbCw8dCYzurYps2Eh14OqQrI957WtnOpeNW6QgnmU4VVyg6wAaA/5xEVEz5dCY9qtiAX\n",
       "hwAAAcEBnvtqQr8BSFV8ZlvXsfx1MkAH0s0ZtvPDOSmzEoieQzEVGgkQ5Njwrcag/rNiUJ7WImMt\n",
       "Wa578Vj4bwDMZjWiu2K2EIpe48iWyJWXNVWiJcOrKlsFxvGNzscEYyiK8qmNlkKDNosJ3EjP7B6B\n",
       "PF/L3UjV4r5lUdtHPE47YRedPLRtTnYub/f3ZYF8G2S+ZydPz32Js6tGG0x1ov3vhtPIC3/Y3Q6V\n",
       "JBeVF7/o0un6/HbCkn4qfMejzXUbTtP4qTRf6J8uQBqQcXAA42tnye6McYEaMkJr4c8T6dCKWEjz\n",
       "RUrYBW4a+tg9kp/wX1iDKUn9dxGMagL9oZBDngj3P0WE7iVKGikcCmo6LrfiA6g3JeBfG1W0vBJZ\n",
       "BaZL8jV/Eo+ClAGs7rJZLsBU/VTT2A8BJRuNkAX5cgYOq9EirK6GFY6hlSDsC/APw34x2lN1M/Wg\n",
       "6QvOuB/7e9D7UrC1JnnovqFjtqW8KGr536fMjLuATlA9rdKaVgBWkBHvt/kLn+w83twITuXuWCU8\n",
       "tF+3m+WoPAePnb6maGwPK5ZBaqHyRa6JqwCrKxTbYC6VcnL/SYUbq7STyNDKxZP00R4trU7vGQAA\n",
       "A8FBmv9JqEFsmUwIb//+p4QBsUX/rGpZYhrdsBZJUAC5AEaldtkaQgY2itnbUXAyEOupnKUNn+Ee\n",
       "utH0TpftNc4E8XMMCoi4izey7ad4axpyefml2Kj9yvrCy4jYa6OS42P+iv4Wcl03f4Chh4A8OGku\n",
       "QusOeRmLe91Y8llBuLJsqIVfhjqdneS1CMpf523MQHIbR6BGbfb7fCK1SKYn/eepW3Tmk5eLniEI\n",
       "zVhJqxX7PHRPs21SmS512A7aUP5VgznwF2XjpjSgh6+NhOoOLYEz+iO5ZX5tVphK42MPJ8WHf74m\n",
       "E6GWG+CI/GQDVM9kcFpxayOYNSR1QX44Z7pTYntu0wVF6KSpsV8pA3lh/9SEe0QpTpOAE3ABiImx\n",
       "8TfyE7DBBa0C0+osPs9ledaKJgdqLgJpC8VHm0QiUPO2+hyiNnB0vTkU33Rt1MKMEokxCTM7U/i9\n",
       "WRjyU3Y8pox6fqjbWs9EE3asZF8l75xb4mDSRzLBa2FVXijGs5jixaM6CLi8hMm98dvjUNdncFZT\n",
       "G8RpksV9Uznlx26pW3PSSrId1fkeYIQe780cRmJUhMxtQ5x9Zb2E3ZZfYXPMPZ1gz4B5zaLG5u+s\n",
       "Ai3ey/7+UcAseqxBi6mIU8v2VdzBQI/pIQ/KjDoiezyHOgC6UM3qS0JT2SI+pNXcaUPv4o+7Xefl\n",
       "yRdylllIi1bU29bJDtk1uiZY7miGdDLGFZiEMIdyqAXJkyxtoFNsYKINTNf1evSK8mh9VtGJoNSH\n",
       "rIoslpCN8Q7Gnkqtmdwo7PyGT11K1ltzrcUt+50YGz+8xU8l3vRFom4gWd+cS/OJziSOON4yy8Yn\n",
       "s7Aesf7VIMKJDmwNUue+F1ywp6woOBH16zrm+GCPr9ydZHbyLf58mCZ/2H8nqs66P3Qg3DhLoOLi\n",
       "DYAOha/l2oSTtMQHy+zPmoZMS2jJm9gIgBh4/fJPS7p8VI3sYmdr7thm1db38ew0jmsPv6WLbgcU\n",
       "rzYDzjA3qeqAt1yhrcyMz/zfaA+gs/f1+y9IK1HYqwq19veGduyLkHkTqEu0hg/Lt2FsxGBfloCA\n",
       "aERTSk8si8qJlpthOp6ivm7rPbNmLKB9OiS47kmbFSW9s+WbrmQiDkAOoVJfHoYZANXkz5UZ5DB3\n",
       "X6IbcAKmR5aHPF3m174XoQVE8lS+QLb5O1+z89W7DHzZ7UYNfmKJ+2dEXIcpQt3J1AhPVPgAM4WJ\n",
       "0qftUQAZX86ThO4soNIvxWp+0NTDCshEIpI6KQfGU9DcbETvnZTB3V6E1JtFuElT8H49AAABikGf\n",
       "HUUVLCv/Axa9RJsuIAARU/2KdBfOKIIAAm0LzSBKsZDMQTC9r2g0phW06AMhbpBYrGVi3vdxr79P\n",
       "4zJh/w73PQxPNIVkXop1XCsPz7gy8HU+iy10W40aQJ25fveQg6xX+og/NUlhvbS9CI/Eod1Rcliw\n",
       "woEbnXrIiIivcVM5Rrw8lo+J7wTaxRYyBNOzEh8Af/U5g0UJQfZPLPMXHqZkjGmp9NvJdObPivCZ\n",
       "XkDGBzqmrFpUx6ZFp230haOINOx/BjYOnvQmcFftygGdlAuTjNrca535pA7h8wDQddwHsuJWdWX0\n",
       "0ffB67XRZm3yvuzax/JkUO2I72vR7o9NZjeuIOkh898WIdok3PdS/LzxUCNv4CgI7xkzolGHjPzW\n",
       "ILPvNskXRnEh6XOt0n63dfyJKQnUqescBv2hliF8hWRCbFvWGWMgAKRw+0MqKxhRu92fjc+j6tk4\n",
       "nHFwC/2ypX26NmYaWi4QpuhJDNOMi2ByT7O7uT8kNQUEEcLacfxapUwmPP9JKuZfHvwAAAGPAZ8+\n",
       "akK/AUhVe8PqjMcPQWlJABrjuZNSXREbYNdRKXt58/suX48TgTmSEQqL1lNJtVxzusSlHjO5hBDO\n",
       "kap4LUqiZSp4hZG0gR/KLWcLEhaGygGJIidGhEmNsA54zVy/cyxkfm+iPUCdz17A9DBww/OR602+\n",
       "vK5vYGPHa+uNl08g1MK3W8eFHSTjVQCvwxqLgAK/FGayhzsfFUeqgFtKxorjvuhUyKcZSi0fMJUi\n",
       "MHrRa26uv5P1z06xFZGgWh2Ihh+gNinSywtvCgLQ+6r7YizQ83WrLXXAPQEFNlx/iROwvQ9bb4xk\n",
       "zUW4DJrBQPz+3Xum4jvHrel0J3PcxTSZVuDMVyKXoO6TOe+Ag92+YqAND6OHWabMpBfy8uFrbkil\n",
       "IMUfBtTIVDZZtFC/DaGEfkU4Z1ku3sHAxBiQwDj4MVacsE6mvPilF4pI6vYRJ+r6l+YSeqDlIdcq\n",
       "PVbieq2AldUNVqglCx/MSrsDz/U5xA+3mqpbs1cBgDMIBE/aU56IUfQUo7Ot5RtSzDxFJfOgAAAD\n",
       "pEGbIkmoQWyZTAhv//6nhAGxRf/vMeugAA4Y7YP+ffeWaYK+aQP5D/U21FmJ+yeLKMLx5mcgwp1O\n",
       "WSgtXmDJlFGYyGejuA/V3tjZ9pyqNQ04aLizxL7HGEPzn9ZctFpFFXPYuLhl4JRqa8u20f4gApBg\n",
       "ZuZnl9bFlWS1yYcMun48r/ioH3kk3bVx1xcaud/CS7Ls5tFFM9YydKn+6BnAChpo01aw3foYAKT5\n",
       "LqJtkrqlLTJWsSnKLZb5KOZlFfEsXK/iqLzXJ+1csUK5YiByOYvhonuY/NrPn6ODn8wrdzL8Y+Ev\n",
       "CXP3BzipDf9pSUEJE8YsW2nXbTFDucph8FTBzyWAzVxff/YUMC+WYJcretCp7oFrRqjg3JuLF+V0\n",
       "O04c3GnB2xnbBZ/K7ThouxNqInTf27U5p0iHSsnaRMV0DQPJAmnrz/p2iva69hPhT9H3VWROOv0U\n",
       "ieBL3HnQRhsnOvKZ5qoGaHVjEX3FcFAsFj3gznLV+BXdh9+Pe6VzqQwEw25W9OuCsSHG/PzD7apA\n",
       "LlF+aEOjsx4XYdn/1H8x5X/r1mTRjH8XrKDwVBmGckqly6cKjLhN3YmDgDKGIPZte7zqjSmPCnRr\n",
       "Af4UGm1L+MR6qX7WwQFoGnlslr1ZGpAOe8kA4S/Hn7Mm3a7OQ0fuY5FrpWp1Q7ehEW8QvIvRh+WW\n",
       "AqjD9UsFg/HEUwZM0HGxbqd5WKQ++V2RI3tVtpRi3ggiulfyOwXh8LMYIPmhoPnYr+lI+X5Xj6HY\n",
       "40l+v4T1Pht+LR2tql5nEeTEvF5OLLmuS4iuZCO7YpB8XuEfuyFO9W6o7wSVQ2Qa+C9wujnbDmgV\n",
       "4Ls9Oc3xntOKacA4nWoYCsqTbtyZXAHN7dLBPw4m3iu1Rcs+laN9DKOBzciBn3Oq34L5nsQYAKhC\n",
       "ALEbFd+08JUTrMgpvC0Z+98dRdSCBrqX9uTeM0H9CxMgY0KZ1ka4PKPfaC5wVyc9afSa4T2ks0ae\n",
       "xki5QCmRxUnijR94SgRhKFMHg6vXfPwKdNw0q1G9cRD08NvHUjWX9z79OmdNC8TAb+cOwJAWPdl5\n",
       "m85ZALDyoiAlyWlv4QqgrbVwq52rVweWO0K2qPQ4GcfanfuFhYTdCZ0YTj5PI+5u9Wnb5kSeAABk\n",
       "xQqBdgR7Ph6+DcouFMRm6AR5bdrdxd6Crz9ZC8hW9ZkDwii9Ci+sQp+kGYMsuKeVLgRbsZ30+lVh\n",
       "ED5d9Z3F2L3N9rNdQIJJdV1NDqOBAAABlEGfQEUVLCv/Axa9RDkMPUIaCKYtK2FefOhUACcQrNuK\n",
       "FY+y61FI7jG5OJVgxccsL6TT1SXghgL/EUwiS6bsUpMGT9qeO4DogXZWZhx5M2w1O7/sH3d5quLp\n",
       "3eJMWPRW3VZDiDMEqjbqOgPpsy4ZCjCVprPEeO1HFVwVVN+8bWU0Se+Bn7kMxwY6MUJ+KsFR5YFa\n",
       "hpGUavSn+Hp2DISwAlpSg85HKRiRh0sYI4NxgL9KWbc3YzWQWwRGM4NQ3S+Ua1Tbohw60Rn9FW9r\n",
       "AqepN8uz1AIO3sFukwubfaq1vdR5Lvk+ayo71FwPnx3/hSUl4oVdTiGkLuFQFZ4OAe3PDumF95em\n",
       "MeoIu0ib2+ilHuQj6fTxhr3s5v3k3ceCAzha7CKSJ1J0LT1/SQ2VHjfdawZ5Ss0KjQDEVBmMczV3\n",
       "KFtz+6+RtNQ0hxD5z8YAH88cLSeBsvoMwuppztPhpB76EsJe0/Aqk4tKFValiPXqyvAkge2N2sjT\n",
       "2IYNCFtBcGBxiI6GZ1zzOjg1HgCEjUUcZIwjNuhgAAABggGfYWpCvwFIVXydkPACTGR+N/Qjb6lR\n",
       "72Xyue/6xTAdYdiMTcPA3LnJC1FcVtl+iohPGWrfxfXJgQuHULmSBE9u1C2a47MgS2eOexMRG3WC\n",
       "3OTfVUZlrKnEh6R/t/EQyNuFDsHUKB5izqmlj1Y2uL4zAuCHUl/mFvnAS3twDt+n9JXSRNFgB6bT\n",
       "L+XmtqSNqLBLjpfkFFpyOxrec9LOSouX5hqSFk/Lb6CpcCnr/336zFFXHwJb3aV1IcAEkbjiNTa3\n",
       "+RuFQyz7ccW+niaaHxxTSse7BtAu0g6uRHsMh5Bzq3zno2rvI1ZzqVdxuECrI8jT+/4IflIWbG8O\n",
       "8aynB+1Ot6kMOsq8t4iKJ6Emn5++xSSRQA/h9og6hqh5y0Kg5J7QC3eNt8ykTW/cJ3pc32DqS6Fr\n",
       "EqwKp/1SKdm0+9D89Jk6F59UkY2naz8UlXJKD0loKHao0KEO20UwIrc/0AXXaLK+3UJ1OatRx0bU\n",
       "4kG3MZaeGIafkV9lkla1i+MUbyNBAAADjUGbZUmoQWyZTAhv//6nhAGysR+EXi9cwEtjIU/oliwQ\n",
       "i1y5E+M4ns75omifyBegk0ZTnAeBiHslFnfB8fwkdQsXYBKi3bR+7NBkc56MO9SKVaUe4Eo57Am5\n",
       "IiqLFDf1bZ2/6ZZYYXAgOqzOa23BHCv5vq7BkKnSmv47upksf6dKqy4npjlYAQn+QR14UM9qO9AD\n",
       "7+QfdkcR73T+Q2XsxBK0bM2Q/+ep+pcuhr8aWw1mT13hL/TLDERokzYv7TOfHwdwKY4LlLMA/CcB\n",
       "UOI6zNY4nKzYGTSVep5a8RkudjUfEnFXuqx8UFIAAAMBwvENSeQaxEt+fi980XdkqPZfh+xnTA3O\n",
       "sRsbwzalJTOqTEVYthK6zoyp41UPPBT843hDgd59DvqyAXf4HdWeT/n7jXvz91mqzBRYCFQGfvpZ\n",
       "FFV3B0rOYCx//VdOaW+uPCuu+Wzg60/UU6e4YjsChh3yDPHlFqlbjnBD7Gx2zqHjVdSWXYYlxr69\n",
       "m/JjS+CtJQW8NHvXA0eK3fKTygfy070dbpUpaO41yCcMJHYvOy1EczGvoi/vJb5a6wTiUZrrXWgO\n",
       "+SMMRjVzptlzYTkYHPmswCT3EnQL2xCfynj5HctehkqOz0+5BM+yA2qvl/oLLbnScDegoHuUfLwb\n",
       "jAPPIGG5IstvqT7bRR+sOcsnrs3ROonQMzUaFLJ/VQnRAlRk96JfRSwQ1TOnFmTutkD2oV8Fo2Lz\n",
       "9/7Ghj9MR8OIxqFP16kUCx3zMu5NpQQwQo+MNMsCxxbmwh6aEeUILMloBVePYKf2xc8K7YODnSfe\n",
       "RrzgJLSaUv/oCgw9AZpZAOu2cDjMs0nifJjcMB/jzX9TQ4wV3Mx+tnYwFlW6Ut6QF4u7Mr4wKcQe\n",
       "w/+ItTkt933fRAOfUYNY5ZWUfdfNbY3b6YlXviVy8XYQjaqiD7Tf5gc9gL7aydXGC4zvOCtSeZOz\n",
       "ULH+l7o+HtIOdTKoMJlDW1EMW6/Njyp9bmj32KF7l0jto6BgnOfl4l5UYIoFWGRD0A7qowS7MqhD\n",
       "RXD6jz8+7ODmM2zRp6LeK9WlXIXWF/b4+s18o1+t94oWseuARwPduXDSwa5UiE+o6GFvgI0jv4Lo\n",
       "ubAVdzga3K5YtyHaTOZ4S0TJzV2dWtgABMv/q3twIAtbCRX4MbyQfn9p0T9J4fyP5dBX+s7YRbjD\n",
       "6kLj7egubZiMCvA8ob8gbn9uOO03UAAAAaRBn4NFFSwr/wMWvUR0gjXQgAb4kd7THr9pEKshMc0e\n",
       "1gnRUB48w87vghnHxonkJ5i8gGm1ubeBweqYrgE6yjU6quVARtFRxyWZjq+m8KggkNeqrm+bOGkc\n",
       "nv2tnvy+JiHwU5xG+nojWfb+Vm9YOHNFZSXKvK/PF2P8Z8ErfoeQIqUc6kYEwXg5y+rK0IkoGkjG\n",
       "YXx4ulCfMlSTF6lXtz1ZBM9D/9f0/iAS8QEiqfWCKMsrgRZhBq+hd/c6oHHhmFEFsHuKP/ZEoNwK\n",
       "kppaI+9e+qsIMnKaQChnrtcO72S14LospTsOtwF7IaUvCas2JS+w+3Eh1Z0Vs8seufp6e+vfC6id\n",
       "oHLY8uDSfFRLKgLJNeRhy6IPKGkcQe2YXRkPJ/eu1mkW1RM2wkKnLU3ErGDqvCqxHAZGY6/LgQoq\n",
       "BZegPPY4ogEHimHUmc7nPwcAz+0fIpTZ9v6SbQxbRFuDwarIXw+NeqesBhIvzIuDqhrwwrjbqRdO\n",
       "zC7ex4DbfIifmue10Ah5AstLLqANmSOsPr7Y4BshA/rp0tRcMHc8PKrVoubrubEAAAGuAZ+kakK/\n",
       "AUS0yjHeS4APxHPxYweRZ9nUylkuaVcoHhpp+Re9tBhoNuHw7qkEjcnlP1YtaOIzgLQAXkDUsSrz\n",
       "gRE2THHGm/tFe/5JmyE8hQocgAKQJ4OdMKCajJIKDXNeD7ctEfe+DQboQ6o2wHlN1mogKUOGclG2\n",
       "Ho9NLspIoD0Tsj+l30QVLCwCpqsfaBH6CWL9idNYO75R7EWq8RoJa5uulfejRNNyG1EMRbNUTJ5O\n",
       "2mdl/YAB6lw7yyQAUJUfDY7z2uwWU2WdUOQhyT4PPr49R2noYtsCuo1FKQtF2CrZ+uyxaeEPweBM\n",
       "dMovjkdriM58UZhYWtLgT8IyQhrX1MEuttjvYs7C55qarqiuIU5mP2geCaTDNmJ944ac5c+gVod0\n",
       "1ICJ/zgrkLC/Dsc5NP2x/B1M7EciQbcpOfv5GvKckZKe9UWFXGAjJA1go+bbqXsY4jJrE7HsqN5S\n",
       "wOUuG6025WcmnzfkJc99vTMGtCQ792EDCsyWZcgQl98Qit5UUTGAw7SFSz/dzx43qvhoIQXZo+52\n",
       "BL28ClG3xEnBQXso6t93nD6nl0cVl+dQYQAAA1hBm6hJqEFsmUwIb//+p4QBsrEfhF4vXMAoEZCn\n",
       "1exYIRbmLE+3e+80Te7mrJXX/IMSXB57JNq0bs1wm1Yj+MsNwS3h9Md362d+VSGCIH2PEfO8GMmG\n",
       "FppziCEImAQEqU2kNiWzFqIRi5ARxvx9J0RGa+q1e46XqQ1xv/gkH01DqekE65ZVJhXo7/Kj3nTL\n",
       "TDk59BQuSmsNpccu1bdoas67AB9NftOpraHsqSKeEx5sFJqBSqyDCKj8wa1eAQ15seW/q/xgNX/r\n",
       "pv6603FY6G8o3TfTBTTZ2jPk2ufmpJ0txUfgs/fWBLMjGG6Aeq5+gNYolkKG95hGf1aG7A1DvDA8\n",
       "Ol9uQqfAOjhxp/xeI+pdoWDV3Ls65heF1bXh5N6axiDxmeik20BQvI4epZALMTq6MGbYYIrVo9eN\n",
       "PzzxThOeBjRWtfrQ+lzyXPyTKSI3CeAKJDeKVnpQ+laLSkFPeK/OWwc9SLZcmFVu6yIrN7Z7IS6b\n",
       "zA5RC2qye94nmk8sdqnI7zVDjP0MWr1gx/U3s9DK3G58tMsKSYGbIwqMj0L9Ml+82po684qpDMU9\n",
       "qiGURkxo8tmDnT+E33GrufC0pMaocWjNX1r6SW3JH28IYMcvgZJfglduH6MogTlryGx2CM3NqBtq\n",
       "Ebn35cJpnxEWS+pT2OAgKVGRjIekpjHnYjRHZTJqPgrnUravhF5hdNJgw6Y7TuqscCxcwpa/yj0Q\n",
       "GIz2hRyqiWGeHgE6ZYx4pNwM/z9BGg2gqxs9OJpVpCmBByjHDqdw7ZDdNutJ+n40Jcarrpzavo7q\n",
       "5ZmQrKYvw4Rqt6dOL5rz1wtkRQk3Q7mAlHg4m58pgqIB7pgfcARheifBvIS8s/tQ5iYuH6G2l450\n",
       "bAoIseNrclf6IqVIkLhKJsSO1GdM9v9MhpPXXu0JRAeyfmuQQQp8PumPA/7wMM369cRrj2M3xRLl\n",
       "vmgTaVlwcCZ3d9hhE9NOEAOwhpLsX0eI/ryq9vbdwq5CcB1P+zgwI+/D4avF5r7hn/aSvYuFgXA/\n",
       "yWjz7lH8zMsS3GTPQXi8a+1mRI8QhCGq4eRXPBu5ZCVakk6QkP6b89dhIs1NSScqOTMMGlj/aKzz\n",
       "bmrRIdER4T26Z8sFr9Kr97Xv2QuW1uH+vG5n4vRBAAABiUGfxkUVLCv/Axa9Iy5mX7yGNAAtKMdC\n",
       "UeTrQV4tJKIu7iJ2gCRWFq5So0tS37cUZ/p61l1XfJ5q3Cv3fBIFeNBiEbCJDPhrSwt2DIiWLgCM\n",
       "oTW1n5z0Uh98JplbEh1f1kzH3F4xjzAIcuF+pI/pj+2enBhUgGi8eGr1tre6r4hyiyLgSnBlBH9N\n",
       "oYFBck4xQI3PWD4WnMa6ggKixZ6IDYgIOJcamABmlU++o2pPH6cKq7gXQxaQ8fGFkSmsA5igOakP\n",
       "/Do72UwaJ5p9wkp9IMiQ7ojr+vDtbkBrrT4TCwGw/VSrdUA2PJF4r8DT3F6T7I7W8k+PEwNuiVs8\n",
       "qTAyVvqWXvymSzZofR81u5iHh2pfbTFnqfy6+wG7v2LYY0bLheXX49Hl/e+H1lI9I6wLSQmFX/YH\n",
       "yOwZSz80cec7uf38GEQ5r1rrRKR9rA8ifNYzwMGnn7NQ5+VIpFomez7S1jY41XvSB8kyT07Qs6PG\n",
       "F89LDtXqUJ1PEoCK1yZCYymfywDebvIlj+jPQQAAAa4Bn+dqQr8BPquZBoADQpF9EvBFXJFt3lQv\n",
       "qtMYiaqXZODszIWBuGh/tlRlSFv3S2wGmPh1zrZvfsnGn0ISdzIoSjscq39ZIrBYzpk3eVmKqhi3\n",
       "ACRDY70Uj6JTEj0P1JQA8sxP9wyPXZooScxblumaT5X9SH10Omr01g0hAlmAGCz9LgvPG2Ol7sxZ\n",
       "t53dCN2uLE8qRYUak9HERQZ3uTl6FTQKuBS5dkmQR1isVwIx8uofr9WqzmUl/Hqu2WgYpfUi0utL\n",
       "eSfoia671q0g9shOb1B8a/gUTxgpLif/UFqSD4WvTXAgC7bu+CxQd2OCA33Z7mLvf/wxK4KSiwfZ\n",
       "9g53aeW2GzaxVv3xmpt6ZHfsGiWaa8AoBuRAOSyhl0OBMAAgpy3y/dM/6LLWMBwCMIcPcESJGmT2\n",
       "pjeIV7IAZXslZQneFn3UHg78D+IzZ7imaZqQWnnX7505qTaj2DTxSDR55vXuBkPKz3h6xueRaiqZ\n",
       "0j8MWJMDrvuTsmDmVXDCqvyUmj6J/QAwP52ogtwzWFGYvT8HaUr+xokVZRz0sBv6dkNavxs7OsOD\n",
       "EBbY/+VwAAADfkGb60moQWyZTAhn//6eEAaHT+IFzQ/CehHf++T8+n12GDzO/tHoMzgXf1foQjFa\n",
       "S+o4f5BmvUhtC4hqQJWKAAIqzZJ4DdgTpYWB4nVpdLglkj8RB2JnMopDDw7chq00dUXUMSx9knX3\n",
       "rvLhREi3Ft/5SRr90w/M5oR0/G9iM95gbZpm1r1vP3aZkcdbk60bDtf6fwt4uRHttbF/c7akesye\n",
       "5ERlv2ePVowLeb23UhTiGD+tZx6gZZf4ndG+ar6wUP8cfgIm5VIVFuxwCPUHBhcKCN29X+HpM+nz\n",
       "AKEeafrLfEAdeRhwygaVqoCz7KKG5avCoAg8y3KUWXgwmA2DFhv7sisqeCEjaQDvBLzDvIZjPUUr\n",
       "rgPNakQ2EOcBUtt3rM+dyAcAPErrl7eCzf01loVCDgm4VJ+7zC+zPvBJezai+YBhRdcon+yBTvg1\n",
       "Kyb/SVzJZdubCsBXV0pfs7AYXS9PTdpd9CDRWez/iF+IzwGblECMjQXmUfe+byix1tP8R9n0weT0\n",
       "i8QNvqE+Ecn9vk4M/XscA4usUzl3cqhZoPFXoZOSTa6v/eQ9wWNAWqh963GUQk/gopU0Vm+u+dJS\n",
       "iXPiz50SjTe88tT/VvmtoJZjW6+K94aMhsO5K4rEUeJxgn3rFyauzcH5YsOJFN+9dPgjIp6ybUbC\n",
       "cxpzPxY0JTtIUO67BUOIjTc9zjr24tj5wTcxrLDezo52W9e2pw/gpa2QGfidIwPWkh5/5xdRAqcO\n",
       "STej/g03abm15cTEu6N/xsBkv0iT9FVHUrh7pjIRlW3cmQKSMFk9I/AtVkeWdQedfHnV0gpZiYqW\n",
       "erlwYH0jsBo3uQzO+TQrcwjrpbXkJCaKMjmHJEsMwvdjpw7inAch4OtCnq8B80e6IJ3zIRgRPf+6\n",
       "bL59BIBB2GZSTTccT4+wmYUv/Q8//P3V4S3U1wVy1L2Zui39MnGHvqN262UlbVCQ7OfnQcu9Rswa\n",
       "CJpSWsXwlAVr17akc9hiuvDkeAODYvLapoUjtacK5r0ckNNP5K01g0fckmGTbdh9aEnA9N00U8NJ\n",
       "YdnkTMAGNWXNS67DWG9c0pmDx1KjrpJ8LeZedskPuWSiPlToTLFfjl7Zg/S3w0CdbJupUdMeSdpD\n",
       "pHYHDFNjlIvsx3DJc4umIUNdErAgG2CLbSB4NsvlEByv18fT3O2H4GD2wFZt82ZvgAAAAZdBnglF\n",
       "FSwr/wMWvSQ1VeXwDTMAG1GLVO41Eo5IdMvYUijezaN7Vg9XiG0OvSNiXgAvOLXGePN1/EcEZoe3\n",
       "XRoKhXNmbTCat/JNtX8qyxHcOqLhxtCN7jNDCyCWrTQyly+vHcAIQ40OYexch/7Rn3tCxNX5umb3\n",
       "7WutcAd0qR/dMI5Ml9onI/bTOLCy+7ylVpavARvE/Pdkf9Js8lsF/vXdSlqfxDRFbm++ZVKkM2Ip\n",
       "huglRb4w46v8Q3OdO+xwEmoVVKZxZQX3ACqn7uDhPsWstRQSYO/f+/5PUbJTeiCEDqAKQg1HMK3L\n",
       "GEP15m3KUfTZBR0yLECTG1nIOSu48HDoM9YWexUwLz6hYokTxcgHWmFK3qaKBu3w/iablKDegLAO\n",
       "J0h9MA6YSXSc33yAIGdg1VuKJgfBa4Fq6nHY3MtFYNRJNwGGb/3wMwIo82dkHjUCGIP8mYSdrqjH\n",
       "GiyTXcEKde1JVZfKx9C0V3bGPFCtV/090XUuFp70kEzI5JFfL3hVTGckZcdE/xv3tOMOI6AoDiOo\n",
       "JvIDtwAAAbQBnipqQr8BPuWSDQAHjTn439fzFIEoJo3EcUeOcl7mmOiYn+erUdBvX6WFBlFmSVPe\n",
       "LqZ6RRmjntn6brifp2STtbb5K8QBQFkCIY4lnSji+qJm+jyJwSBT81hTmW6b3zdcR2Db2jzAFhLZ\n",
       "AITzzVxfK0Jw6f9oLuBO2w9a1q7zF/Z9fQgYuYDKZIwruz7OcQuC3VdJ/du4KHgEaQmP1+GRzn+1\n",
       "M4RCUUbpAXH83lCHYVl6Jh5hbwf43DFBMYTw9ct1fUdyK1d/aCz5qKZBAa/K49CAV6Jw0gf5eKWJ\n",
       "+xWAiq21dm3AFto2KcZ1RZ1KdiUg9jodsDmr3vMib7piBvihwEhced5+IiD1zJF8PsMs1l2O4/XR\n",
       "gwJqwwfOGfWeA59B/1bHdhtWsT7Wc8qmRFxHSFpukRixXjykCjCtGqmay630jTSy21LZG2Q4CHiU\n",
       "+U0PnnC92PkQlvQmoOAOIheWasrdZ3eihDYgEeOIAGnu6WRxfkako3rpH3upDfVLzUVjD0Yjy/YG\n",
       "jsKIxIkBexz6IYPRqQ05sBQN6T/+ttO9Y9VHs8BUENvIkEB0CMPSXFUViJYQAAADckGaLEmoQWyZ\n",
       "TAhn//6eEAZDvFScAFFq7/1ZYTYj0nUnMl+UFlnN39kxsIZqFE102us2qBPeh8VtyoR9/vPDNBIg\n",
       "AOnQxwAd4wFGb+9eYa0iOcP9pOHQ9qGxzTeIIgn2f/b0Z8tX8r1Z2RcgxvzU9w1fvx5Z57fyqawK\n",
       "mMOf2GqLji/XSSRFo/3t7N3Vwv311o4TYPFg17NtOQE0YgTTNXsB0PxwXe38PaARqyLDomPgdlQL\n",
       "k8aIAkEcgW0Cm5CFhzOE+8CZBZXoQZmrWR9jpGmrzdI37FYOt56CXQJ1+7Z9zenFuuboa9Rz/C1u\n",
       "iRFgkGx39bUQy5/bsUHHzxWUg8TJh1gh84x/6730ejabVdUUDXLjJ6iTnVN+Cv+UdefJaPK8tXuZ\n",
       "3KzT9fb8e/MbIWH2LbNJm1/MqUdGOp+82TlPwWcESOaQq3gcADiAsUzs2gpWcyaxBi2BLUaYNP/A\n",
       "ifojcLyodlDakdl2GBFUukkkJJGcVGG1E8F8uAuP4BwOrs8Ir2SJqFag1AWBOSDg/5o5DbN6y/aP\n",
       "9KjvX1P4xVpAycwsHj0nv8Q/pQmCspToKDbxikDVgbXs5cGVj527wGkYDhYx5/UlzrNwUQdvnPD2\n",
       "/V79IgQugoRlHwUY1Q01CBJJ99YO8NAln1WyeaQQq33t/PS/FBe71sVNsVf2ifekZn9XU9jr7hl4\n",
       "Jj/yo81g/2TH3NayUP/HPEZbLg4isLEEB1NCzTLTjxzoIbLDyu/bzIISztoh/xT/na/GF3urrn6U\n",
       "UIS9d0pFfKl3+q71QWB5TLRG5dwHgLVT8Rp7RXCW9Sl94S/lJuapQctGHXdFo717agwWKe7PerDs\n",
       "te8+Dzrr/WttWkUWHTSzn5GXsT2dghf9k1q1J5ZPbZsD+tsD4Gd3eB64F/WJyWuNI0WlB104V44o\n",
       "CZjxChtnkoEiJCvdJhx0O4joMSEkYVibSk8upFhmdr+hDS4Hd7wNjgVrA8ewH9kHh7ApxuYYWGS0\n",
       "oILnL/hUp1F23cRH1MSXlbl46TsspaUivTkoRe9+qSuo2g4Pv+WqBp+Iq3/m9TOCBzH/kR2xuWW8\n",
       "Ttedt9xwFivrGS1uR7e7qR5nfM3qfKzm+PAna/k4KZOHTGWR1tlTd+ukr5t34+D7S5vpvsytCkQa\n",
       "MpC5/9Tl4ZnUntTImD/1t3n84AAAA6ZBmk1J4QpSZTAhn/6eEAY3OBwAsPrvfBjfh8sygGs2tnLP\n",
       "YNqdobr9Kw0ECOwEvt4TzK/VKLKmqniCPrryzRvCssEWiGV/blW4+/lO8D+GdOopf//X7MdT8/tu\n",
       "aRykrSJ9P/AbCCJ2773TYgLtlUECUx7Yt759x47e1HZ62zqAVPo0JoHg57zZiUO0U3TgUToDEZXK\n",
       "qSFx/0OYMUF1ODqHJDrm1Vz56553fQOyMAmvtAvlKy/MT5qBUOOnnGfp2VQwPV+D65VUo2kARLRk\n",
       "fSVEjvhKW+DXI8JfLtYYZGmJAY3Lvrd27Ozog4zGS7xyNt2SL8njNUG27zGLJIKKb71fCnj42sEX\n",
       "NqJjJTTWbdy6mxGD8LOsfF/hMjehIpsZmeLclffOuzoH7jM9obIuFAfc1ym7RrU4x0VDcZWnxqvh\n",
       "CheOlmaoKVCB349cepj9rB47BUzyaYky2uUXpndQT9agntGhVLO1YmSR/DagEG4inl9rwe3rZdBf\n",
       "G6G012oeVJedPqC+u/tXTDEdtmKjcG1JjUZ2M0l8cbufInC2jkjFjcZkIM1ST57TU/y+7y6hLwWq\n",
       "aRaSaTfPjlDJNwhbgBly9vStqkwsif0SjILmj5hZ6yZhOhrW4kwDHOochivdUbFqCMNtjiK8q3/8\n",
       "6g6ux0ajsUAISw/qziG23Vz+/aTuyNjHzZDKfHNLf5/QfuKEMYCqGFKzlDTcUZqM78019cViezUT\n",
       "cTd3QofKN8HArRdDwzOV7OTpSVwowWmIBalEdUtJJVjCJxzydeVbnD/Tg188cM03z5CJdhn6zDlX\n",
       "vHwIAb0kRuvkY0msYw5eSwyeZ3aElz1Nscgc5wNi1cLP9wdIFAB4c576bR4ZdxF0XStgpElz0C6j\n",
       "yOaiJsWrhdBvU36DoQLzK+XFQM6TOX54Kn0nDXvN4sclJB/prs4bDuAIBmxyb1K8DlYHzv6zjrp8\n",
       "2BiC47fJqKB0nGmlt90IPTtttAciS94+hwXMh9CCfu0vnO9GHK3tiNe3j4PrYwAfJoe8Ko8N1W2u\n",
       "GPO4NUVoUGCRS45ldcvsnf/QSmg2VvoSQ1w21B5PIUS2i4b3lGon3GP1pY1oN8UVWww4IDi5opvv\n",
       "2FB8kgBKC9asrg7Em7K3vCGwjMAbg1XKcBRGo9NXgtIRId7XPQ0hMqA6IkCKSsyGqjPLvsVgAg63\n",
       "q2GD+AnPehTLdNiFXL8M82CKH1g0vLIYcBY9vdDJuxF4wooUyTe6oF25H8ohAAACrEGabknhDomU\n",
       "wIZ//p4QBjc4HAFBt2rMAcNF2LumXYfrJHvOH9PrI3F4SU2JPD6T2zZkBacnxtEfgbxG/vJnTr6Q\n",
       "JZhSd/7LUY48C0WZtJE7gP6Q7uaYuI8x3FSh5vLnv1xqAe83ZZjzB1tdDnxuITh95ECkOA3D0C8T\n",
       "kMYcZ0il6Yh9Pw7y9tMtbdgxtwiMH0Pale1ZdnpCcrfnlZm9TAotVh8WITG4vtIRNjDJkO4mcd+1\n",
       "V8MwL3k+Sxz4WrXkUcBL4VCRKo3SXy4FQKi0cymhFh7ZsFykwlzI0BSMoy/tQ3vY97tXVH05FFFj\n",
       "1fNrgbVy1JNfklbk6H+w8xL0QxVu/GZxPlj82A1JnTdxVkG8rRkhbh8DzZq+9gt9KeRy70lLF+DN\n",
       "xVkHYM39l5c53fwdgfZlcRkYcMLDF26QgEUNrI4LJxzel5JJMWDR93lBqqeNWswViuXuXH0nNrCr\n",
       "Difx9oHPMgBPDeLrmh9obkDS4i+mAkRRdni3JOxv3PqIjYhhOjADa2xhIWYpD7c8uJUj8Ff0JVXx\n",
       "ZgnaBRg742Z47L3N14xt4ugjKfzanz73w0DNUYLDexh9sYrPay9ZmuG6ysFQy1fXsV7Lbg38OYSp\n",
       "ZISr++50Tzn/0aX3zd2Z+A7667uKXgttDc5Iqlv9qrPiMEx9bO+s/T6miHMi73PYyfqq5+6rX88Z\n",
       "P1DG7sCMZv0ojvVLUCv0HLFx0ujP+0xtiJJp7JGFJcUHbe9Gjuz32t4a25FHqUChpMGkEVoKdrlB\n",
       "f7pDM3teyMGP56fq1mM3pHr1ZPu5zflAu7C9eszcFoJOEAQrYjjR/4rRxmc+skm0hwBO3c41EplC\n",
       "+t77i6HBiWX3TQCk/lIpuf3hL41XAQM5RdHBkV7lCanPbDVXjPVd6x1AgXkDf8wucQAAAxZBmo9J\n",
       "4Q8mUwIZ//6eEAZGv/+QThJAG04B/9wGNrImajphzKK3jblOntjobcTFbzc1qS2RS7TH6WrL1re6\n",
       "P9tDJ/X+72rBqcjeY/HruaDlTCW6xQEn/euPkN+mQiYUiov8L5rMSn0P0clCa9pOf3+Ks1fPOLxh\n",
       "UNHTeXiGdR5RbX2a7hJSLYynNXVk8Gad1so7JRtsc2uWrclFcQLYLFgsKtWGI3EzzYzpcrkQ8gYB\n",
       "9QGLbGL+5ldgsA6YNq59e/rlaFQxrMvuP3pjkOGPszxhVydjXMXRnmI+NAORRJsdy8u7B5AC/LaC\n",
       "iRzVZ/2KXOwPcFjGJHL+u0Vjqer2CYoprnUQvaXVj+Ipy4+8HQWQRnZD+9B9GRfTm/N66ltdzcMG\n",
       "F5ocAowtZfvgPlXte19rXBpN30mrIt01DYq/8/I/nXyrhGmOSU2WnNQjMNjBINQ8lgrZEB5mO0Gj\n",
       "L6pUT8j6F77BUaqaCuiwFJ7zDizgHcZ3ZBu63eCBlci70ItBYO9t0eTBll9HWmFPF+qe7VcfQw5L\n",
       "J5GoF9cod5XqcTm15M5sqaHMUBzxLnB+pv0n48dVspAHdCbNZHglyxF+WyvRkqjJu9HHi0ZDek8r\n",
       "ddBcuk9cMI0tI9ZzhT7mPFb4j1HOZv7HtTeMy6hzCPGpg3Pgeos2PbYKs+dlTS3b61chv3WmzUxc\n",
       "U6riiRJYW9omN3I8/6sCYDPH5lJrH3GJ3DSj5W+4BcRGQQ/oYas+zrrjGHqQGZRgzk71wWrSk/qd\n",
       "8TANgoT2AAuXdPo+jo5lN1z+VOrdsZ0wr38fqUk1RhJXWyUGNqx3CienFm7Wcc/JMjR3qMaFPNRZ\n",
       "EIhJXhzOFoAEsd91q2h7rT9IsngyrPchbBkiSXA+vhMDfF6KFLRdRrY4U7Qo4ATR35ArkLeYHWSF\n",
       "U+rW485SR7iopii3B45N5XE5iv5noYc+GQi1sr1HVyIzmy8LjNUB30vmgdUjM8KpCAgOcjTpdBFl\n",
       "VjZaxslqt9rrUCXsbI9fc0yf8RTH8CKDWxrfT1wK44hW3C6iv5abCiNZq8fVAAACq0GasEnhDyZT\n",
       "Ahn//p4QBjdB4ANpBmtG/5hWLyJzW3H261R4sTQz1jpg6Gbur+wNGXk/ypB3sJCxfb4E0GGR7mns\n",
       "jRhwbCf4+Wy//HL0ANgrl0sgOoENWKhDaBf44parNZ17OAgK8n5qPj9qmC8I44VqKj8dtOEUhujQ\n",
       "ABmgYEPmv+qu3CpkA6RREPfxS4Ilq0R4u2nbBtaCNJypfjetraezHsKir6Nfb53F0r2MPQBbelbG\n",
       "mUVRg6jXvWpgjsYD1ui5Bm3QlQqYjIW8Jy8+b8Oh5GT8q2G6DqA0uuDgUfaARWtUDQWMB63IHFS0\n",
       "4cE6FYNGsBMI754k9eEZDF5U7uCzBAOFDFQoUIC5j5VQKG22kwUfmyPPmOOnw8aGZSzuiQkcPh4n\n",
       "LOMbtzHyPUlhizsXcE9/wOcGil+5qOcz4YdK9pwGHF0wJGH2A6cc1mfBWmtLRcQderFQN1tsX0BB\n",
       "3TMP/tXa/ISsKPVNzFiOLKnsYymqwEFOfCGsiOsqz+hRwwgvrPlhCxBQUghaKt1sBS4maq2/RAig\n",
       "IP9+5BOJcuSzQqq1/520Bec1UTuNkHO9lOo1l2I7IaySngxXoDFADS8Uq9wBSyEcy5She0Fuqyba\n",
       "PkeKUi2/93yQz9T5k6+vwQOnc6Yg2vFDTt4DUQ66A74hR6ud7a7MionrFBmr8cWGIAB3FHUFxJe6\n",
       "WdmzUMB6NhwPXpy+k/c8503ZpZPakSObmYQSzwbSvUtfsXh+lewELB7SBnvUrYX1S3jaU9YZJDjP\n",
       "AzTPwh93Tq7G0a8qN7WC3zrSbzenSgwgwFluGNQythiqKoaTVtEtTUNxjKW0qFg94BXIdEP+PT9i\n",
       "ki0tGWpkzugvc01c0pUTf1GSQhwSgf25JitE1jD6rnBwM9iwyliHAC1n6NrZfdrAAAACo0Ga0Unh\n",
       "DyZTAhn//p4QBf6TGd4AIyH/c7ZHTrCFd9PvW2xRjAiCKjceVJ2qcLfptwQzCgpufKQBr6QLfIZJ\n",
       "+z5/7D5xTEH4qQuzuNMMSpuMbIzTXLn+bxaTXb4ymmF1/3TGHTzWrVW8/7Ormbdrp2YMaQ9s5bYS\n",
       "JuqC8pH+q+UsMiwUOfHqVZjP7sQV+Y6qcCHe4/CumaRyt99RzWdhir5tyUDe2rU8uul2rM1VMdiV\n",
       "eshWwkyyu3UjWIKoJpwqHJjYZwjIcMmpCJStwg2/Ue/YUR1s+DLyw6kU1HMYoqnOFApAcfT3fvL6\n",
       "EaE2gZ8VMq6WpD02YqWKM3jv2AvsBZ0s6kzQmpmsAs2BdfmeMELJVlW81B8D19OfcHMQct/EcdUb\n",
       "G47xjFDJ3Qrotoa1mw7yDUAfOVIC5XC373q20CDFBMDpwwcnLC5JhPl3XEWSK865GRLTF7ztnQNs\n",
       "XIXIJeq8ClD6WtddGN4HrJwH6BxOWu8bGLOh9K/5myPFZEE719B47e1opQgX3P/HljiVA9kFmTBz\n",
       "METY59wOd0wKhpIgauYr7+k/c3J7bZ502GINit3ln6t5ESWa+nJ/t+bINSJMmSZ4jxM7YT7gY1NL\n",
       "yZyPwMia5nHkeq1miW3+qKKfjgW90nPlb8xO37BnLwRvETJlUlVQI5F79a+7lCQ9fnLV0VUv6U5L\n",
       "eF1O8xxfexeRHAI4zglTp2zk12+9c4GzSn6e2/DYE6+ZGtMhwslitUnrculhWYUN3EHGHEnxQIiP\n",
       "J34k2FfKMV4+id450n1Mf9x5SEEFiKP8NoKnX0qP/f8MKm+I8wV/OFmWBYO7ciHCDouOSphJsnLp\n",
       "XT1JH+xMvigFEZSRGzp2oo8F5ibVetL9xZ8csRUiQDNyFt95EgLuZeyXQAAAAqFBmvJJ4Q8mUwIZ\n",
       "//6eEAX+GQXgYL7NvHw9F6gRygAccCjIUPUbd6yplNjyFgq5kOf0VxdpGdqGWdahxndpWZfetHtN\n",
       "ZEt0gvKkaX8/qu4aWD+KiyskxC40y9kwc60MI8URqYoNGn4eoXcKLz1KrpYKFj1IiQ21MbonumLB\n",
       "R6GsIEYP93YeZ6v3toPwmTRw+dJqMsq2mqG86rju7arsxw2Um6HwBZsuN+AD43XP2LOe8YvGn5Al\n",
       "KfcmudPjFd2JZG7rWn5jwGhcNqVFQp7sPnR9YAHzxkm+NJmgNrTwNAKAstNSJUNEiE5syqPmxkAx\n",
       "y/TbYo5nQnlivOmg+Slq8ldp12NNR0asBWr+JZS7Pw0vie22zPQKDYLqDHlANx1J7IAh9ZmfGcFV\n",
       "UyiQ8AN2AaeXckywgiLhc3JyxgtlHSOI3FAV4eVahd2qvOvytdwpcsBR5RJR9G1ldZdH4sCvpJ6l\n",
       "yhs2EXvSNqp3BzxUhG28vrIz+K7xFjSFk4TyupCgph0hnKIQlKfP5ZtJ2I528T4rNNJKuhvziUNO\n",
       "9W9ncQA8E8rXgesIhsWJ30sp1aL+qIpegP2MlR7uW2QvQ7ebPkIhgbXMr1teuZ2aeOuQNm70g1oj\n",
       "6OqKLHTckR21uYYdQWXiwJsD98W2ZKK57nqgYPyYUmnMjV905ifjksXjwO065nmM7PgkPFuL+isB\n",
       "cnMuJ1PEJu1SIXNlpqDPs46ct2HWKVk2uon60hSkgio/zvn28fniKf4DHl2eM0Y+WXgDrLPd7eAt\n",
       "NHEz385ujivDp4JSvHlUqQeGXoROJFK6EG/BgsO3g3aJDm26VKhf6w85euaDVDVXDj69AtlNN2wl\n",
       "MpJxAbadBn4AelmCe/DbkyphdVnIEkdrPC4GkSoqzy4ouK3RAAACfEGbE0nhDyZTAhn//p4QBf4Z\n",
       "BfPPom8FDivjgCJciasVZcRvPuDtRhPtAbfhftMBufi/UF14up9AkltwC9Dhws830I8k3I2z0Pqv\n",
       "6HAOipv5vr7oPLdXmpaGs5yWaMFxnOIzFnmJiIH260yrQjWfNq2Fioe9mUT+FMV0QFjp2+pVyroV\n",
       "injGUh78kfmkNdUbev8zx0/obrgyssU97OhTqRyZIisLeJ/ytsIXO6laID/itkJ8sQ2aFdMAQ9G1\n",
       "GdIDhXzkfdYFX+gTbevJX6h+kojj6EaigBfeqCof8q3Mp6/hvC9+g+V5Ama6dc8Yvz7ynH+nbBMb\n",
       "QNvj6Y511sroF27BhXPhbPvtnGcdFffFEvVs08smvZgdB59g1lVKClHJ3jfJdQ2n/y2Oz3va8XpC\n",
       "to6OqVw/MU8C8dA73LAjL2xK050y5TkSpC1H81CBomFQLyE5Tgvd25x+I/7bUip30em2y1He9HjG\n",
       "oaovfDG7c5XlpTK81L2upZYPOUp5Yk5vPcqv1pe0f5DRdXZuTADdwIOo+x55dmSXXVxBjyRunv5C\n",
       "ZNW8iO+sf+crLOhzM3cXT2W3Z+BeAK0X9ReFwyBtrneTN4g/Xx8HUI31bu1i+5wFGx5NLyDwj1Uy\n",
       "8+bjU1s7SHbB0fMar8glAdUHoqqaTw5JAC3/BCUgGmIx1SE3sp9cz9vIgC3eARYrK4RKL5ZRzcuF\n",
       "vw+Y40Ov0va6a6m1/MI95xT5umpfAviS1IREDRRDy0XpQQ49hOlV4adqPf6tsB2/QCwSArp3s46m\n",
       "A+wg/c8ozjds7vrxOmC/dtyD4XQj3St4E+cmtR+vPw1ADPGUyNy6y8fYbBldjRGMawAAApFBmzRJ\n",
       "4Q8mUwIZ//6eEAX+kxTmQa/MGLhQvrz6NzsSdagBEl1LNy1L7239n2ORrbmHrKsVHfN34W9ypv2Q\n",
       "7azF5jEzvPGo4ldb6HZH5qPSTblPMx2o6runK3PLejP2/T3gPyTNv/mHPLaGzNR/Wc2pInTJaTPJ\n",
       "RWjgszverA5ePKMvJ0/ocE465QToZMYx+v3pZ/BwbU17VmdR01suQU0LkkOhrX2Qrf9htCaDhOZx\n",
       "crtbfdCtizvLfHrUPuX7sL4rb/WnKoWsliVywiLbfenoSVCBUXc/jj/dduSzrlT1voTpEfWNhz9U\n",
       "0ud/ZPqNT5VrpYJrURdoz3lnb511VfcG7Ny5kVXTwFbFwN6zuki6N3qNnaqbecNWtW/c1nFYVDQR\n",
       "j8jASURySChXz9Az3C+GHUKCUHxk2jGxx0ntHtsd0OL48ID0Ou6g+Mtu2xyrBkGb3h2Sfmcp89BP\n",
       "fVwUh+bHxY1mmvV9pF+1hjYelVOEMvlIQABxA6UD93nRL9ZbAvYPgYZgnq759i6x0lDWwOYZ1Obl\n",
       "377YPLNi5qal5p7nMfFDpa6pDt+J3cTirMzr1PMOALZ/fq+2SUOqitkIBFLsT4Nth2IjtNAnKhmt\n",
       "8k4TjWvphvEB5ly1TvSzyTZC2iAzbHyECaD5AWF8X5g3vQuQ6pSkpS0zLw1m4L0Iln63y73Piy7b\n",
       "XcL0WRDAA6wEoqiicqtxvLYdVt5deQLNkSfvkyf+Z7AzlOf7D8Wys3m5YtNxs5TqdQYgrlUPws3d\n",
       "2FO7O7H8nu1HlYXvixVHutoXXsMQqBSnqCgTmjGCV+o6GbsUQTuaIhnYuYuZFw3OszPzepdk2+69\n",
       "Gjd62Ljt8PqE5a1MnDds+oWKfA4swG85y8AAAAJ+QZtVSeEPJlMCGf/+nhAF/J1JRIaMr7x8dkAN\n",
       "QgQVdlQwebtebyJotxVz6ggmuspVaBjpeq5flBCqEC/9Py/s96XTkV96hrg0/j8wEcIVvi059XFr\n",
       "AkHkcRDiKvzJ0WQZzX1r1JSY6YUKPJd4OlhBLQrrc1B5wm9yepX7KpTTf5V4Ob6CeRcp8PO/ZU/s\n",
       "eczIRphq8i0RU4OTf+GlfKSirPRS/tviBikImCEL31bZsLw2KwRh6JAzkizMedkPvbdMEiXrrT+h\n",
       "5YISvmLQMLJo3OhD30z0PsqRKax6YrpqrPzPCcBgMpNtQRN+KK361et8JM8FTr81DRqMjulHxwG5\n",
       "nejX1PPf+5A0JR5O4ohe5DBWsBtk3z+qcfWQstsyejpMqYvlmeFQy2Fv1NYZ7yN6h2I/r4taGQuV\n",
       "qbnnNsZpOLBynP1ZMbRdyeMG7YlFur/34wGkIW4r7PV0BVn8rVLCtDITh/VC5KB8Oegk5WeR57cR\n",
       "u6Tov0pe+WnlRVyxLgFLyRWLjcSlQL0lHx21Ud1ZevGPy4yvd3qGLTIC57Pmv+iuskOgw9w70CqT\n",
       "EukVHlVSkmFmcvTVlEmvm7m9Qw6M0cNd/OyoMDMbduJ/JnBhlpu/6bk0c498Wj8h0nSXx/s2aHbK\n",
       "NhqfCYDqwBzRJ4ykM1xRibTIlakAV5mSZVi5ZYy4A37wvTf9ezXeX3yv7A8i6zfw21TxZCReJ9Yl\n",
       "HIxUXj+sYRH4dmgZVoRO7OEAhXXNQ+pgIsHScOukELPsi6SoKKeUn7+pBstKRzcGev+35gyUNPlJ\n",
       "23vH2iu1N0lgnBjMRkwGI2+YnbPzVfGIM8f3CSERuIK/C80QgmS+Ek0AAAKIQZt2SeEPJlMCGf/+\n",
       "nhAF/JceQT4G9Bm3O/QAri1UhN+K+1fczLP3/vcyYyd6R5mKH2SeGC8pkPgJ7P50G+l5QWFDVKzq\n",
       "4QWAkzaft874PyZILAGcMVdNRUfCh5rfQiEZsMOvv0L5Yn/595rsGtzAoaBpFW6CQebLCijyZ9q/\n",
       "TDDm5672ToVEIS0liCMyMh4bYVsB5uFq6KeK3N13KKwqfwIIfTdzm/BqEQq5KnurgUkePlqq5nC0\n",
       "D0IWwbLIbsgJbKAVz+FN19YBpCt8F8tFdBgl2CTh8hQj4m4PwiHiF/W31ibYi+iEez8SrIXE4dpc\n",
       "H56pE5PBe394uyHlBCjQmShrdFAEV7ZvJexaBVa2vLMAFN/VVRJ3jyx0r1IGGALIgIHAMLC1jekM\n",
       "Pl/mWVZR3ZWcHvJJ8+zEsEYepQQiEZ46KoMUDCo/Yu2nz99T+Y93weHD4eSIgGwzJaIt8jtqfIJ9\n",
       "fhAwPQunO5pfQtdAfoD484eo8Td4l7aPbwrBXImcsv7EYLE/1Bg8TvTCt+xVO4IpVbKS2+H+Am68\n",
       "sXtC0MbaEWMr0ULU6k1A5O3f4aL7SJJycXHkAXO6PtVUDFFAQlDWINV9Cno+wFZ5V4FF6UHh0jwm\n",
       "BczCttuFr+4BxD6DsPQ1Jt+TRM7Cx85DOAfmQIB3tyvLZyXMgeuO6S1JYYnXWi2DhkFBgmNLF9Vd\n",
       "7X3Fe7caARAjwGZyODKZeH0+TKyQ2/bXUC3d21al9bpCMXP1IQxySUdwh0Of2A0Bg3CfZ+rtFndX\n",
       "TK95f0xVK2KbTlkPABulQ98Wk043T1RArt9ddzRKIm3zqXeZlg6/eu5t/rjBKl6OLvQxCtajiQ4a\n",
       "l/FV/UjqE+a6AAACn0Gbl0nhDyZTAhn//p4QBfydMtD7wGFaAEcQD1YTJ5g5V7/AhBiEG1uX9IT3\n",
       "5xUkvzlSX++6krqxvRG8Cr+etUiIsmIT52YL9zTCIayWSOe81W/LszffB+TziZB1VsdWUIOv7L2h\n",
       "BjS3gJKzMW8zDelOzMtCAIa98xSpoOo/RNxtPiSoF6WWBNjQ6EL0w83rWYgujaqUXfEzwOihKHIs\n",
       "vqNoHl6mYxsFS+YqOK3MGU3IHTdrJaBBHOvvVqOjQc/nzXtrHRl+bjiMX7fa466jkFL4qM4Z87l4\n",
       "LYQWZxJ27Zk+8kEZ6stbl7EJM1Ar8BFg5l4oH9eLBPyRJ2YKBeJ0WNuewVl9AaSk5tPaA/ihXvb3\n",
       "mgxHmxhZBcrQ9qoVQmmP6WDwOVE30wYY9Zx72i/viCcNyyOaJAjrxVQ0FUoYc7h+0vlmhOxxXhlm\n",
       "aXL5D7n5QY3wanslw2qgSLVDaQOUJcyw25JZI5Cb01OEpcZWUucIhV4V5NrPN4Y/PoBP/yy4vOUL\n",
       "A/r7dWW/YZg2dQXjdj8rTyj9stxc/Evj0FezfUBWfeErfgnaGrBIHuX11T76aI+3CerDUQU/G69+\n",
       "O2zJQldOKDZ6AiIU7HiU08nikxxVGPPNfLVbieUBNdTLW1OHcsFU8DfmBw8HFBSvNnasPtGqMJQo\n",
       "7UqYqNbdNkQogEz7ONhhzapEcCxW6BMvvmhqC5F1PnzvszyfraEBDB+d46Wv/cC/6N3LZUSb3AKy\n",
       "YcB5LyVAUxlYtGLtvPSQYkCyTrSoYEQ0Deb5fccVyh31RoTLMeuXSeyip7xdxn7iuJq5EZ6soyjL\n",
       "XRzF+tvYX0PQwhL0RJXdT4yo+YLF2swLbuK+e74CuEN1oRG0TAdurq1Yd+e65Hht+u6BpJHA5KLB\n",
       "AAACyEGbuEnhDyZTAhn//p4QBfydOu+PTqF/+Cuv4FQtYLaeI8uTEx6yObch9I0diQCqHUIF3koK\n",
       "1aeELEZX2rClyJ74cSOszEnhfWaUqyFv11jfuNP/dE1e3qwOczeM/wz7F2m49b5cZA+0vLGV4MB4\n",
       "y5Xf6NyzFLAITsegJjPKKXfiACcgtck3Ps20UYrHsGb/CyeljNFePu7Dqsj7PmwzAfoJbfPjVoRZ\n",
       "CwwsUwCm+ozffV/enFPCtWL7a4TmfBdk0yIP8MqI6voU+iJnhMs+q1isZNZGmUMckHjQo55sVhDB\n",
       "+6gngnymdnnlsS8jD2i2t7XEPl7pKQA27g4hA3VO9Zv58ScRbEyEGEMi4fN5DrJ6NndjnPLIkCnU\n",
       "mvD+huWzcMXNSwZ4TOV8ySrkxuN0yt5/hqYKV0cmOlUDqGOf4q/hVYyMAZJoigGs2e4GC1TdWhJZ\n",
       "BpuN/uzlL4cc55zPFUjPttmVKSBqDky91SFfSTWUoK3HXc7yB73bIkj9vh2LSE85XnEn4inmhHEM\n",
       "Edl21rHHXLrD7fBFsGMk1I4MWS4yNpM8lUdi6k0bLChe0b+ld+AzMPmf25VNj+cKFVNC+Z0msJLm\n",
       "Hz5d8s13F0Qhbi9B0Xk5I7j8g4BDqLPEMKFWVz/Q04FBe4Al9WaTb0+c7PRMAfQaxNCc6q/AY2QI\n",
       "HEfaZZzHVN1A662+TKkVO5amejSy6dYmGuq5Rx6hO1/xozlFjJeZQUng3PgzmzQrqxJ1oUwc5uxd\n",
       "3M/b7FSTSwV5i9bduIDsS7rwaJbBVmtbAnAvHe2bOqoGwxEXC3ErOmQ1ig65QJD4sVcmlS1fvxF+\n",
       "C7vk26kLHtjOH6pVQCfE4EUOYqIP2uX2vrq8WtXXkxwC3DtoPaxE4+TTylaWoRfas0RkQOi5dJ6W\n",
       "vH17l+Vn9iXtmOk2PND6EyaxSPdKdQJYoc3a+AC1zckAAAKaQZvZSeEPJlMCG//+p4QBjcp1Y2+6\n",
       "RpGkmdNbHbkV/Bgqg8VsqrAB/r1y+qsikgba5WXMuXsREOdw19Fio6lFeW6LX5CsejYIMpX+048d\n",
       "UOXQDia0vaGauGA9SlWcE+6NH3Fntau7LwzmSZ6lsxB4HgD24SAUDbRjIgw746sya3z6eNV7affH\n",
       "eq53rrs7e1Levw4KpscdxtQL5r5q2HQ0QD22GkiWwma1XlOFivXmf+W+mF8XlxpkXE6xLH5xDDKa\n",
       "wEGy2qv00C/0js6+ERIzdJR0nXudVN24CbcPbI2e1sWs+g76AayAU7d0bUCcWOU2hc5uOD26mlEd\n",
       "QDmjyOIWfEhKXf+8Sgvy8TlMMz6WTv0XYj9tVchrsLgcvuFzOCsunU7QpwWLw/1H6u7loQ52Jxbe\n",
       "ibN9iD/JlcWrp+v5HW+VHVocKD2MClk6F7rpoco4B4akoi8WajkdJyAvs5DfC7XfOuzuzENHkWMA\n",
       "tIEgFs6kexUhBroWUqWzWyaMpe8+sRHoy5iEvXveBJYceZI+pYqrQqypEhmanMrdkkDqVgWtmwHj\n",
       "NAgl4jtYsDnBJTuc/GKQKyDkoBiwffc4ua9HMUEdWGg2AMAgWU25OyX0TMOjIFNZVAK7XT18r8w8\n",
       "E96Rc4HL55S03xi3RhvFy1OdCg4E6X5z5BvN4xVvGDRaznM6m9VUuKrp7Y7+U7AhDHbK3xpFdyg0\n",
       "D5WObkxhGKPS5PMR1vV0uB8xxMiUhvOKbmfgzDmKE7rY9cI4NaIfe5kZ7wEzsjVmEdWL6w3PegnB\n",
       "y5lnxwoJbwCu1nE66tHKWLfvCBSkDB/h72ZcA5UntWt2o+1tqoJTs5jxJwlbFGaPjvgTGrLfCtCS\n",
       "i/MClnF5hmeNxd79shHMxg8IAAADLUGb/EnhDyZTAhn//p4QBgvPyg+Hjh1T3dGsbe1Rj9xgiSh5\n",
       "crB0YNnBMD2nrydG0D/l51x1nzpVPwcCZaMZPekE5ulUTHPjprlGD8DWPepIvX4bbkqBBZOvfq/9\n",
       "rbOmFPArQ08XSmtLextsToUW+D4m5mjy61SSu5Bk1SuaEsRRAfqzy/+nPecUdmxHNQUQSuO5273H\n",
       "koq+cDm8g4Qb3Z/kdFxsFTD4y4Zrk3tmBvrCodrmrrVgwuMio5uNx+IYawHs/HIxjhpq21smMY3R\n",
       "8wvXe/Fe1U6pmhUkPC+e/EOtMBoRCCA4vQslHJqFGrj8TlM/p8NxNNu/4N9Kd23+RbdDmw+Yctw/\n",
       "S1AmcmK7pVqDR6PXnVV23kj8ab7zFNmofduh/HGYd7uEG26OMwgHShKJWN+naic/2ZelGvpgB6Lr\n",
       "k6+H6zO/gefsaktKc9I8aCu9kcBQ7LfR0I6Yls8u+zW3Jn+61VFjBPaXqcflBkkkaTP1o/3jXpnJ\n",
       "TNviti42+Itokw5bPWFOh3Tsza+ws4cflaBnp6jil196PzCU7Q14XBT1qtqbArgJNeKERywp95QO\n",
       "CBcB2XRwnKHqUxmVrSC4WlgEUYMsbPIbiAjsPOaIWVbYGcCRDDIz5GXh850tdHM8NlsyYNBVm6xt\n",
       "YvlyZNwBkUWYkf2t9JUaZcvP+iEKLDfas/vYqTKrbH1i/uWtHNjiEVUIwBRK+2JcsgiHL1s4t8+x\n",
       "XLrmtE2WNNTwr25jZnrhvsrKbCtekOeUNWNqievjOE4KywYgnekyzKThKp8LfC2kcPeeCcdduOv9\n",
       "FYzhFcdGRGQWor7h6KaLQUMx0fUKN2mMVH7Iy71ws1ySA75ODKg9QVw8rT7tlROH16qsZ28XyM/X\n",
       "ZHiqaGB2QankyTP/DcP52ezTQ+3aYA3AC4HacSKB43LE1CFRt2ByS6M21I0gPJmAk+H/QN9KH9mn\n",
       "Y/WuLnmS7mS/MeW4slhRgEC7HlJ473KWD/3/hhA2EnnV8J1hMkQGrInzj1AwMkMoVeVMRG0tuqXp\n",
       "9V3MiaEi4N2s6OhTuza9FaaZIpGbazgABjLLeVmbg1e8kPv+wQAAAW9BnhpFETwr/wMUrwGYrnXU\n",
       "H5slutMAJXX7C/9Yr9PAYJMkXYpxaoKWGYInpQsqcP0iqJ+RLqmuOckEmcbTpVlhMqpm1wVAQA6w\n",
       "k5mnJ4xUhfvfZQyHxong4hSkTU+6UrvJrwF/YADDT7c2ByCKGa+yP7HOhIz69eVQu7FOa9hx9/3T\n",
       "vo2MZ2XUwoFbRJlop0Enwh/6B4Atxi0qnzXsWb8ClB2I49jCnPt/ebFK2IoNl3KxvraMsq3mnYwt\n",
       "bJPRVnB1Z9/BHRdTmsByEMEg3JsNwPwhGeZSTy6dmSDdAzPmFRzXSAciTsF1g4zT/4VaHkHtKRwI\n",
       "t/BDpHG7AUEdz2DmHf757CkVDLnf+Udr5J8aqjQVhZIgg001pFE1YfSZbihrl3TJLDzH0C7jM+dy\n",
       "eJNkc58F1qZjEGfd+A/cgpDs1uB3ooRR6qhEfLeJji8rO1u8vp0FkPPcvkGoUj4KRv6XziUQQoRT\n",
       "qhS1IyoMKfeAAAABpAGeO2pCvwEzWSbHC5udc93ACZ73xbiiQv7QumYEDSIWJiijcQFOt9lYueW1\n",
       "cl7BASFqDFe1wjd2O1ypTXi1IW9ciT1DWi4RRdXgg69tkS/E2p6upjoMDpDXDI6+LNJP7hfrZrN6\n",
       "3aISRlHdDGp3zY4tfKmSlwABLjhlSCuBJlGYm4BL12eQdsk0TLJyMCKFFjrnGx41OgSLdlugbbqK\n",
       "ZYDNE/yIL/iaZgWMEBfQoujDH+NSWQa5O2vKdGBgT3ncsKX3EOm9LYEOi5KuLOiJDDmZG0FtVSp8\n",
       "fgredbz/KRTKSaunrxdvPHo7XU5om4plrJSZj3wcEmkiiD6FgLDqpzXCACeFNBDVID/MPpr8Byx0\n",
       "ah5G5s2Ms9mG8vnzzEucZ1qlr0WLzSbU/GfqhTcfBPqLDa1DLsk0xFmpkyZcxnkEnCYVE/Z8Dq83\n",
       "PB/4bQ4qDchFj/bmnYp9g4/03aQVwRC2Ygl5XU3F2KkkYP7wKI/P79D4B2v/QvEc+jv2GAbE+lc9\n",
       "pB7u9IBETtK9YYXQWO3Gh/ZOToNXNJHitbMhhlpPVL7iKQAAAsZBmj1JqEFomUwIZ//+nhAGC8/K\n",
       "Av4UlXxtobL234L7v8jWO1YXXALJlYdSTmEHxO5joTJ8skM2jFAwVm3/PoraZm5zv1oOioFTvk8d\n",
       "0PZL2csXiSNbpyVfxijaBSrmaY+trYQel55AMEFSHp0muPsJj1w0k2aurZ+nzFFb8mE1DeU776fO\n",
       "sG4obYjZz6zlmaJ/+xKZ6STIdl9a9udQwlkr1jn7m/rvGt+rIsjt0wfil19CFRXXb5FYCBIw66rW\n",
       "7mtYjhVIjilyiYMcOe4rCiP7Eekb2hGrnmijk/8pnOJIxi/HLJM0X81ePIkHYom/iEmFbxNXJ57P\n",
       "NuyYZRcOeVfZfqCuS5n9I22YJ/3pfa6+3YMUuvY+YIbifLEHwO/XTX7k0XbBpQJCcRiXXkWLxkkn\n",
       "Tp04qwbhupI3jBxIN+y6diLXm7D/DgB2bSt7Xv75xaFBNipulDJdb/OubArf19kWJtY3EnQTGmaC\n",
       "Djgy1eG4JXkAbiwqr/z+00klrS/uAs1LOLi8YkEi3zG7nKdD1mK8WkY+Rb3ufu8v6UyLdCs+329w\n",
       "VQ7IVNwect3ZOWgzC3lpVQ/eJNdTHH6IKrEjCF4DBHOWERQzgveAm5a5agd+MKboVomPSgUv2Xnb\n",
       "QS4i8KsQdfn9MEdbXs9if5SaW+aYB8v8UGzFgHIm51To/GJtL/cduS5l5vbf3DYPtQYX9pqbSyS8\n",
       "FbItaGVWKAqB0DXAl/fRHqSMM6n6lGry227D0KjUv75LWTE0iARm0P8iVlsU5Qlg1UoYxf8sqsjc\n",
       "cM9ZR68TMEq0PPGT4VtPOedwdib2ntUayxJ4mVlN1Z1nsByZxkBgL0aNOLHSKW8Ag0vXl7gtaaii\n",
       "jD1T3bNRsdJiHY4I8m14vY4aAIijT9b4KZ7dtTNgTj0haAwezu3GySqBxqOYA5mcX6ajHzDboTjL\n",
       "URyHsZCdYQAAA/9Bml5J4QpSZTAhn/6eEC7aNWGlKDj2Hfju0ANzXZ4UqlB7DUIsLpAY6n9I6teY\n",
       "UbPpX8KM+4z6dWz+p51m636+5x0L/Wf/JKg1+ELeOemtay+H5C+62X2p3TOVmMG8JFddKpKNNoaI\n",
       "ei1S6k9P+d1n762zy3HS5mPVkd8nr8ucXWE5GZ1DlPPmEWyxd6O/uu/Sqs2s+OKCMNRC++FQcYPi\n",
       "czb+cYPt9d0TBLlb8BuWLCVMmEzjOxahTxoU3KZlTwfTI69TWvw4qcp6Bz7MotIaWP7P/RQDSm0Q\n",
       "fh4WhLu0L0ke3vNXwT1q9pDfxjliC/v3yfDh65ASu+j41LxWvDE6TZ1rwj178XXl/WhvMRKro8rg\n",
       "kdptlUAWQzGDCCUNw5QEcCNGry5z0XWcBE824SI2kGR2uuo2X74LgjwFVVwqjSReTWClzX864rg+\n",
       "PEKDG6x5Ir5tClIfx0dwi35PtozEEY4VZ9f586aXp628MwgbZ2jL6Er+wiFFB2/hwps10NZQU4ry\n",
       "kfO+HXOpQZIqPDSKhPEuW7Y9xQS/3imvvquovYiZC3IWUEMiRnUhG0z/coQB2gzoMKOttRPEggQb\n",
       "K2e+VNBpr0dMEiRAgTM2MCfaNy0tcLNuLf8LsArGYNZRHOoUVww+Z4z3PB7S6rQEMf8KRxUMc9Dm\n",
       "Ppnr5cBjT2Hc3aPJg0/iaWwT9JG3CnZxchL80MfLy0HXu07/tv+96DXFS5Xe7+ZpMLZn2KCCU88o\n",
       "HIds0tDwiaFdGU/kcyaMqlxl5XBRt4Rqd9DpI/j11VNzxdKOni68lFuVPh1lzU3vjLpVgqDHO2RE\n",
       "OXAs8hlx2hZVTwYwwxwGfwSXiWr0gxY4j13T34CmklYWAn4DR4ZseI18gqA2NAZ22D99DSG1mtbx\n",
       "CosjLEnwyCYCzHpUZvdTMCY3+EcSsrlrSD18F0c2EGtiGMXzDy2rpLBwYPX5G0hs6/Sj1LO9ekmF\n",
       "Wku+1ukZArLcneoJFNuBDkoXzVz+xVDq7nGVVDYISvTMZBOR1YuYnk3m50py49zOX524MEbS0Izy\n",
       "YeaOBrCZDoBw/pyS/lmiquYHTheGdXay64CNJuWFY7gDl4dYFLKBBFv78WkQtqJzv0Rn7ws8DrnG\n",
       "Y4S6bA+++1hEercbSReQ7EuOB3DNPzPoEE3su+HTQU2MmtQZlcs/uKwp0ULRlvOxfLnknJ7qhZBC\n",
       "68poIO3tIZgCtEaDVLMv90PtnLpO9PFmitsxYY9lov6OEfePDaKHCzr+g3a5QD7p87xlKPzZ0iEE\n",
       "mU0EMxldOXPrRxn2f6j1sc3jciqW9A7bW9smOqJXX4A7atkixzk3Y49bJKJeaN0wn1PG/IRfGh+u\n",
       "WEeNpRE8ZEAAAALwQZp/SeEOiZTAhv/+p4QBf0J1H8pAC3THzb47qhGl4z34IQqNPBr+9rdUMoGx\n",
       "3PFMGUW/GvBJz9eRempBrZvCUU3zdozXYIV5t78SnF3sq0foKiPaQaW8HhTVuuT7MhgV/SADAzgp\n",
       "VkccbPEriHyZDt996C8+M0sJG1ilzXmBEV0+DaMaOUeWx5qBlCuC6IyhXllbZw85elJiJ/+r2UuS\n",
       "ItqOnHDMnQOSrAC53RSluTtjWu6hWq+LiW3BCd+kVfUdSa2138gbVwaXlX0H1B1TJoyjBc9ZYGhI\n",
       "M+u1RGRNV745nuB27z3UL55fK1Km0MdIxsKmRZ+9fkDVs5lbTh+R6qYlN8WpuOmQJXSfMsFYw1Hx\n",
       "vDz7EHJ0ucP00BdAMjsXZcGz0uldDx2VS1R9tcYvLkBRfTVmC/wQskYAI4lx3y3Vf+ie4C2zmekY\n",
       "igl5wPkPnuHgfOLyob5s7zPxhifGHde91+uKQNgZlNdeiREIsHVvyrYcK/XHllrh2Dsnwk/r7Pbu\n",
       "ThBS/3TlLNIxIo9c/YVO2BVnol78qdq0HYBYGkBQ8YzngkbO5EBlyoSo71NZVsyWRwkuCx0Tpy8x\n",
       "ilqkdfdRydFSXfjHRzJSP4SSsllwmD2jQfhdLbFZHkjHVJ20lS4FGDpGltZfqB5CdcNOybwSufdh\n",
       "R4vofML46O76gvdKdcA0xXQHWqb7NP8YLhLhWQx/cU9GtiL2eLgRvqU9eVryPRDuKps17AHpsQt0\n",
       "y/1byIMTfVcf5d5/K57bZpYzTxSyOMSWltbPGn1o0mPri4sW27EqgGKTWn3NuLeMwZotdGcHMnYp\n",
       "5QLMK5SZRCjcYwYINahB4QsiktJ/DfShDUmLZK5n+f/R1ZvjEAXTmS5gog8yH26nFVAjl4RAVS4O\n",
       "ghDlqlexAoZ66IUiDIZciKFYO11MApeUxC8O9SxCpbxPOde0xAQ5liLDsiJxRL6gpEnhfRtLa5Sz\n",
       "LulTlA7FOXZrKG54uXgYgKxmrsDLkiQAAAK2QZqASeEPJlMCG//+p4QBf0QBWHCAC6T/dt/RsAGe\n",
       "ktRQCzHwHQhLLwQ9TQoTj19G73FgUhrP4KOOG0fIlAe6ndpYr5z5Hk5lmduhpHm7cxuFKHZKJcSv\n",
       "RXnLdNH7JAUFhERyhDnMYVH4GRpxYrTM5YJJDykt39E6cnLFatvbKVDscH8vRlr/6DfrTzclNt2m\n",
       "w21O7RyHJkMCwz4WoZGL9x1fga/H0PgS3s4EjIOCPJt1g7ijEZNHgNbXZzhm7SSXD/aHa8DD9NaF\n",
       "4gOHiDsQX6GwUrXJw1QNI8zq+F4yIMraDvOrBR+UH8LDI92Coy/vJTiniACuNMkRtReGOkJUaXdc\n",
       "9mLNULLpaU0/5TtFwDFBu9Bt9xGyX01auLaRcLYmZNz4FHGUFKvz57lG8NqCTPF9L6XrCkygaBTE\n",
       "jLuT7gjQ21yeHFBvfgaXwvjQ+hJBOU3Vf+UD+ZumN45rulYdJBoM4hfp0SRuHXd1Jjb/lzhWjxPU\n",
       "nJ3T4zjZEzK+vwxxXIS3+DVn9mBnlh3kAhSdlT6FFpLzNHXKv2Dm+4X0n8WilSZh4qavD2FAFzFx\n",
       "ZAZ5XBBTqGfqSB+Dik7kqjmsiIAyJ9dEMOvYzLHueB5wSu7K7BOzGLtQlyJRjyE6HnWm/t8IYBEd\n",
       "Wny6PVvpf8cR+o5Jaa7YBRiVDH8LzN0mcx4ov/aGDGz/hJ/zn2Vtf3dyhfQFcoWyO/U0DFzWSlsK\n",
       "+hekPtubt8YhfM/DOV7U6Oq0KuX8SRjs0pdbypRbRFlnC1yebSJPR9H/rfX3clURPsEIRrnxYhZX\n",
       "GTCUnTXd6HLTv0eQf9mK6/66/A49drA/LZWXijxDFvpRz5MM6EwQahm9h27zr+Zl/79Rr1ZFNkH9\n",
       "pb/+LuyEkHJNucuZGTIXZLTToRq5oVpbRKisUDypsCMXNv4W2QAAA41BmqNJ4Q8mUwIb//6nhAF/\n",
       "Oz4XPK8FqQAtgBHWKZ+3MNbw6hnJQcfNBd37cSxBMfrcSqTIUbkfjA53VHk0umjJDDcE/7GcmyFB\n",
       "2z//gSFHdWP8JzZry8gkOul4t9Li04MBPV4Fwl/n/25TbkNNUfyt0PmReNYbbELZvbNDfxY+DD0g\n",
       "MocBpnryhClm2QMdf+3qw+VTz7m8sMw3NFDi99cKZrTE5R6ypMUL7AJDsThC5waGkdbzrsjJvARv\n",
       "PA45QAO/0BVoUaijMjlCBk/EnGqsKWJDAbXHfhafF8zdwzfiXxe3D6rgj8P0+l7QR8ofS146On6t\n",
       "LfmofeYNF66JFf4AJXvj6SYHRusdUAkI4PK7FKYmMWwXWoUseDuClB+Lw0SDOWnND5L19hPmy9jn\n",
       "JJxC4A5mwmxWdmoKvlaz8hk5DozWE/asxAsFQcsaPNh6r0VPbJEdpDyyXc0yNa/qBQehJG8ljidw\n",
       "RA37PqEuh0lTvUxtSFRaFwNm8dp5jJrOH+V7X1GnCPgD2IE2K8H9L5UNZojHBZyYCLjgS7i7bhjJ\n",
       "uf1W9HtLNNulTfoxTprnSLO56KZ7DNe7c8Xn/rhOsmi7pFmOw3C4h0t0Ez7atTnLYvUVdmHAfiuP\n",
       "xqRIlCpzbSq2nP3SMmPHB3VsVmyQe6dvNjehaonb7WJHFRZzlOcGxEz8BW9u6j2VTLAzFqcw3Lzj\n",
       "8dyVPdPhBn0IH+DA9MMLv0YqR7shukzs7IoqIzcLRlSEQk1sh9taKGBvTmFIhwcOsDA2SbkklRgO\n",
       "GsrPMh+tb362QA34EOIyRzcucXCA/yBl/MUsNrOlDqJsCmhdYmq95yzghj1nWMAsQoy1bFwkjRIx\n",
       "7/K4d6g1NT8j3Evj93Rby3l96UG9baPQSGhWR//+Xzi4TwKKrd1SSvO3l1uOk6Dq2fNAaW+gQM8L\n",
       "GQ8wp40sSKqQ7ym0doQvJnprNnBXaMTN7g4LR/CAMAtvi0ZmBSsirkcYafA6mXuydT4r0pf7e/tm\n",
       "27XFnuehtDXKngEweUkmksCj0MwLoGeKZsRsfIBrj0OuaLbdnWD7UgDobLWkKqKHEJnNY2IoZWiv\n",
       "1NJIL122aHlZLiGpRV2lb3sp/QOAA5FZNleNlvf+EeLWbnYgZGG6JERkiqdepp5Hrqr9TUugyz4E\n",
       "gOp1YkmsSCUo3jNe3lQl+294OJm4Z2jLgUyvsp9/NYjC0+Y3hoAAAAFiQZ7BRRE8K/8DFK8AGuRn\n",
       "xvOXYALKL+PcffqxNws28U4Ya+M/BBfK+XBsndm9nnvPU5v/zVMfKshseIzdfNho+KFyN7S1DW31\n",
       "jPkO2Pg9ZSddehPcKErzOlhhWoOO9vxrHNfa/Z/TXlQNDxVX06FJ5ywKioWd3k8Te25lXeDiFpih\n",
       "dTX5G4fGybaRmUwR1lUGiWSkT7PFXvCRh45bwAphv8Ii2hzUczHjZhGDrpItiHy48s1DtXBqPfN6\n",
       "auNTEAWaEqC8tzqa62BQ2e/RJyusYvXCLas1Q4prVcLGJfZy75ICf3E7QXemjgpChG79xShxJn7Y\n",
       "VyUBZanoVosfJyNAKCl/P6/OcQPHrmXLIg3Iz99P6e1eGpm1Q9QuJY0Nhi31vyoabZjamsqIkK3y\n",
       "XX6Hj/pJsTsJ7RE/UUN9xIT6TXkrMziiaU5GV8wlI5B8rPRVVIYDsMm4M3VMPnKeZ6xRoGUxAAAB\n",
       "vwGe4mpCvwEuzyPsIhymgATaGIDed+owADtyQr7/GXQaBGWMj6OZeFcgJohhUnPfudgC8UnvWX8L\n",
       "y/+njBxjE0eoCX8Nbfz3TTxrPzjHM9EW3qROmgltGdvAHzS20YS7ZQzRUoZONopg6tAARqWjZ6yx\n",
       "QDh2hyk4kbRMhB07IUB0FPqJ9fgNgVACDgR+WsgrO95Hig8b0vgpb87FnzfZgPuP1mYhTCXZnPg2\n",
       "HrhZj+day8scJ17eEDg33AnsPPhOdevAFUfPnvR9KAaCnJka+y2fIXxLNVUmwmQ1R04UzZ5EkjNW\n",
       "baInpmhJTn+Qn3RloEG8RjY301VkxeR1B7HxfAy4eMhLGKiO8Dcl83Hk2XqArKJlyFQOJPC1dgwG\n",
       "ghdHkWfQY5Cr3oDTO9YWhTMvCz5oezQlBVLHo1Wxe+q0K+cdBlxwR38wjneh5O463o7WP5BSU40R\n",
       "b5TzA8MPpEhd0DrG7OXNJg8IWH09G7WSggJjjRORW/eLczNwvTAo4B6xG8H1UTBqD33M43EGvQbV\n",
       "dVpowoofOBiiRSyAT9tI4y9L6W3gi+1Xf7Zecln4FGhaVYthyAcf+eBUC1M88Op+IAAAA1pBmuZJ\n",
       "qEFomUwIb//+p4QIsBmoGoqgT/kS8fQAODGZwdMFzsG8Vr6Q0xY/gcrJL6VTD3/CLxe2fogEXHr+\n",
       "r9N0Gp6V7+co0ARzjG3KlP/pwfG4XVF9GfM2RS0sHNlk9WPoIJgHLoIU12TmI+1mL3Yn7vaCAsVP\n",
       "7gLmmGbYgMncWpnEcGD95WwYs4HSZVoV64YHOGd9hhO3EU0dN/cNhsDyhy9mrh9addBVm/iZciww\n",
       "+U3uf7Smd63pJjHTtYLS5HcXx7rMcMCdBsfDWkFDOJlxiI0Z++BzorfzG8B5SsYObFQpgmkPA0kV\n",
       "iCL7mwrmmGkAevutxQrtRMb2gAmVg2ROyFivGA5NIAQ95ivr63KzEtmr5yMSvNnEvCaI5DlUj1zq\n",
       "HplaTizSnsARfLbWgFwdJXrXvJcLrR9lhec4dQfR+7xa6B5sZh5AYQD90Yfsaw3RCA8nvy+ccUrL\n",
       "deeea4RUxXMqTgFR7OJRTww6LvZVdlwnQykOqcmuAg7sqJ0scIxnEP8ysxowez6rQssx3KrNkbVN\n",
       "/sd7lXsxJ4Acyqucs0nPcbzCR8lQRe8w9MotJzYTQCMqRoGInIDXqiB54GMCs9pGMX5AIntqYfSA\n",
       "KalB5elf1sNKQfzHQC4E720ciTmQUZ3qxTT3sVy91CxLJ67MEH0/FFF9Fyga4yaa4Qn7AYmtFa5y\n",
       "Gw2lIzy/jBnkebf90/fndyiCKHZoTt8jjsSImvOecxLHKYF4nNYU+m+4ND81/AG8BcuxDe690fog\n",
       "AjvWYr1lLGCJrmu8PcvIqQHhBLP2H/3Jc/lhqjxi0kuTZot2Gd2li+RhoyGIpWzjNbREkom9tEg+\n",
       "gK4RQKzcVAg1/Rg27obIDmXtlxbjJQNyZZKcGZgJfnrA2eExoZGw2waIBM5YHevhPOn0ZfeOQM28\n",
       "yy9TpyikV7hswuIjTdFWcRRuPIzNF9iOfvzgRxGVfzQPPZtjPGdZmf3/u5kbdebn5UcP0me7+qrH\n",
       "LCpmHz/AQ9U/FvKpsSdVNIXa1nOTgRUJ46Gaqtrtp1H5GRX1OTsMP3YVpQxwgpqRrY3ysolXSUWr\n",
       "ebaG6loSmwjXyMdBHLy6Yn15JRs3drTw/oonpsQI9NaowoAZvD7hGkDRZfcoqScNLsQ6vba5ekEA\n",
       "AAFWQZ8ERREsK/8DFr0sjsWjjO9F1jxP0AHBCxTPaI8ripEoyGxZUytmvF6DoBOuGnUDAtANT2Lv\n",
       "1GkpqnVdQI5Tr3oSbrwTF3CL3NHUEI1NXzPmptLp22X+ImxbHFJ2n1uu7b1kw4Tr1wNiTp5+MjAL\n",
       "N0jpiS/80aRCYobm/xdr8Fddm+yeTXRol28iZ1+ugSzUY/s8eQg/CdJluircZyKQ1kQIjr5Nn3Xv\n",
       "585la/TigBMAqbY1b5AKGUzuoiou+ADkbuxFmYHM9IOXD2yVK9wdyvpiUW5jyw/16YKLUCWsUIV8\n",
       "afy4ph52LHix7AWLayhF30/LdOeEz//DJtg7NQJf4IiRjn4dV7i7C9CBCaT2L2FHawB1OmmM6a+I\n",
       "OxIu58AavjTn/Umg96rZ1kLoWxf6tX0uk1+7ubMfM3P+kr1GdKQQ6W4ozej8w7ThZDkBlWACiNe+\n",
       "EMxRAAABhgGfJWpCvwEuzyM3E714ATCGIDeHwOrx9mG0tQcy09hKIESBWWz3EZO/EI3MNZ16OV0j\n",
       "N1SYw1wBr9uW3SG2oNr6gV4LUacqpEqOBPPX482jq+24EVwhTICR1NU31Qok1+iydSRhh14xduFn\n",
       "sQ8kjFAsaLJBEmdi4NAos46lh5g5DBNuQLFxbHDQAbcpgBePaINod/3kJZx7LEhxoPm4TnQUgUrX\n",
       "YSKSpQAJderysZEH0ul88NwkRg8O+aspbTWu8FVYIexo5cEoW16ll6BIYpV7OxHYvXyszY97Sxdp\n",
       "Os4v8Q6OwQHCRF3660P1FCrapRla3U16HuBpbRVdhWFpvd15stvyQGIVAWT+rwrj0Jnu35zH9IAV\n",
       "zLg1y0Kx4p0oDRm9H7hEv3lNSsIX/nPCDp1k4Xl8/1DvmRe1hxZFAM6/V2plk/8ekTm1n3rtCu//\n",
       "tJnEWZL1yUazIA11iJNFtpq/8IZMmKCocewP2fMl3XKQzIni0JUlouarzY3fu7XqwkjbGGxRQQAA\n",
       "AzBBmydJqEFsmUwIb//+p4QBfzxj4Vmw0gBaS2P6/5mZU12u8agHlIcPDZPbAv+BSv80FNSKl9c1\n",
       "te/q3AJt8Ujve383QTi1S49SlX/Dqo9kh9eCi5fLqGutlrDf5xRtsbwFRJaGZsABeAZtYTbTq1Mw\n",
       "nde8LfQF5htZN/kHdaYB0P2H7jRE87f7rVLBh5embQxO5AtmQJHIh3W/ERGXHq/U5cv1MHtQnl0M\n",
       "irojBQJrTyR6guVEGTyXU4ObX1BaFe5i0PBgYz3tfOx4jesCWpD3bj1CczAezVrnhSJkP6+xAcHl\n",
       "BkTB3rCb4JBo0f4ywMqFCSyR4pk506rd02qFbO1/iZjaTmT71UGfgBmanShxrVQ3yQqjIjtTdx9R\n",
       "xZcda+gAInXJ5vLo9s5PmtRJEfcEDcGjprbujA9ewmt8SlhrEDakbGj9NwwqgtVB3O6uhxjfNCCf\n",
       "Bf6WEDPus3Mx8f/NLDCIAK0FSuZwtABuBxUxr4HsgJpEgRnIzflV6wa6r1kuW2BwCj2uesufFIDw\n",
       "yeYEadojBzkDHPx/ggnjcGjKpXU9NquWfvfNKa9O0jyV2jibtLKV3k182FgkAIFzEwdbH51Fct0d\n",
       "PnoZ2gTrsRiJ0sFT40379pVgFXSXQv6WipSzG6mHMLbQhZC8pwqw6d+Abx4Uw/HFUE3i1+Opc7HH\n",
       "T2nd6OVM/SVzBDFDBvZcAiEq7whMxPSrBAVPRWsJjvYfm4B8Rf1vMgKi4lBsI9uK3n2JiaRBe49f\n",
       "DokYFa/6cqmMzIdD+0bbGmr33HovaK5n91kyT9VUJlPhSIOor/HYWGTL6fLPXBGksPNKvv3ubcSi\n",
       "9ynH5mL/jiLlIXK9P8+zI6tZEPMglRglAk3xxW/zlMFEHq8+e1zbUepWk9EWiEoHa8+sOZGPPoVX\n",
       "19M3AdFo4icng92AAqQCAoypyNPhfZX35FLy5MUDY2gVYER1ruvzXABayU6kQQK4XpBhVvrxI2EM\n",
       "wmIV8T3EUHuY8N51UDx15FcPpClLlhOsHz148ATUtsgcKWq0xNT/r1Lre9wa3scaNl7+/z3dHrrH\n",
       "n/Ld/KvzcdYSsN6DO1ri/LBqEoEAAANuQZtKSeEKUmUwIb/+p4QCBW5PwA49yXa3h8Fu9NPzP1jr\n",
       "CMeLkYAvms8SSMKQaww54185xcpKoPhaB6CFLI6PRsZg26PmZ20NIJxlWHUhEO8fkj+l4l/Zs2Fr\n",
       "36BG2fr9i7EB3Wc3dYQm7lAKJ62Tgz8mC/m6965+VAeDY+KBpCSN4pnnEMckaGU09IP3E7D04twU\n",
       "Q/BbnPdR3OkPjwsFmrJbVmul/NdyfguQuUPHZ7P1I2lStV8cD9F8Nf9YT7moWwtESAsVuZYJXA6W\n",
       "AaP8H//wSGxs3/ps8qUjAnUSHPSedOSA87Gb09z1fNIsTdV2mKYBZRe4lQWFiaxJyCF8oFgsshS9\n",
       "1DN0R3yleN/5n3uAmj8d6NQlELqxSAqVMJYZGhmvJhhEz9lx+7xqEORPEEq43bBzoc1hkjUpZPLr\n",
       "crpi1z8bgqlP33z8eSS2YQ8nB3S3EwEB8TXldW+NXFEuoxkST+7eFPEzhegknytNTKpcTZdO/y/n\n",
       "CgfLv7TftfNjLs5hHH1mG5PuQjGWAqj330FhLT7JyVJkBP4/G94zBum8Mp+M5rZiQ+3TkKjP5fGx\n",
       "VNGjeyww6IRrE8O89bOF1CFLoeTtyXQZpCPnZvOVrYrsSqm7maBqIjFvgJD/cUPENEElBeLLjM2V\n",
       "een20IqgYxzcRaXylIDMB7GrYBJxk/o+cC9df7YBldD+xmhd8VxwoV0wunhD7r1D/ZGr2xtn2qi+\n",
       "4WZTtB72ooggtl9cc5aVR+FVror023SE5/GKlrrqmGPQameOWZ6Iv612wyHh8F6dz9NmB3WMbb1n\n",
       "p/+0kGcuVeTUXMoVonhHMB6ICRKb9NDqf2aKqxXzZ+3Dmdifi2wO7eU8bW3WgYOH/n83aY9qxPM4\n",
       "pNI3yPcRUobtDtuc7DXpVnCVtWC9hVwYKOORK6FJXpReptIOzHyuwSyuLc10xcnbxYaKLXahh1t7\n",
       "S54FoL5JnFanKzNfGL/zaRZFDL9Lf8ELUsNoHpSprktDaqdhlWO76tFbKvbNFypaODYsNTmIM7Jq\n",
       "Y/+Z86wRPHhpCpINK5cJ0Bq3DRA8upYEqp0Dd1nnUxfcpmWJjtpLYVsTW9llxn5xyxVMx3xzxMIQ\n",
       "oBaVMcRbFu586WjjZnkwFg3D3wiiBZ6U53XKEcgm+p26UllTPlxXk+Kym4OhUvwAAAI7QZ9oRTRM\n",
       "K/8DFjd5JXa8AJq83/5yY499097wzVeYY9UKCCdSfTIBOVsMbfHy0ziLFZ2QMtTtrAgZKsBiwe16\n",
       "Wr3AFtx0QY++cUUx1HqYYwztQ8AfEVe5EZrdHwHCUT3Ky1fSTtPEN2FCFINaNV28Ilyp3RsaOgQ4\n",
       "OlgAABAQ2iZKuAchVR1goA4CMRICLCpPiszca4Nj/k/XzB6eszDu3WCVZ4Hij0SigWEUbTY6Vaey\n",
       "REOnRoQqLnHXxW+Ulb5tNG3Cj/I6CGFFcMP2aDk0FuYnn8RRsn/2zuct+aNpaLPh/LhRrG5cZw9q\n",
       "uDfG0pr9OtHryfcZEzSIVrG74GmpTRl1S4bxyjvtdkpbs0rh4ibqfAArTcMpCOZTq1eWOYY+d7el\n",
       "ONqsWW81JMIw5OVcsLWLOxHti0ZMY4k7ZRT3tH/582eJ+SjWGwUcCkOf21lhkyJdLQXoOq8wRRpH\n",
       "/L1OiRRJpeiywYWqMImooV8hc04TlV0G89kLvZr/kkkA8tj+CTicB+7NJKUZf66A8qMye3DhU7jo\n",
       "RwE51hNS74RWEbHT7PWgp8SPDoDOURtO2nPpujHgkvXLPbwmZl/Y4V0R4tHuMPDsxVNtKB+iSd93\n",
       "qy6WhgjVXyDLc1XVogbip3TeKerOoLmKlSTo964EYCPRtGazbXPySVBOHB0YEEGCCK+knwWnmV4B\n",
       "3knR5kAyJjWTvorV1+M7mZoDzwlHok/zji4J84RqXfgfSRLnlda4v8sszyNDoD6cu+i5lAAAAZYB\n",
       "n4lqQr8Dnmfae+Xyrp/W3ZiQAgsMThWdzYzddkp5aU9NHBsKhpdasLkWjPH+bYQvEVJvNZmlA+H6\n",
       "+/LJ+hLh6PDU82BRxXRrHaXwg0iLjnCgg/yipZjsW1QYr2ePQW9kODerX1Nwgj0rod6F2W+Y4l0J\n",
       "6SIi/39zI89SWFeKdmegNx9ODs642zF+IgMrEH+2Mq+l8xq1VCUy06cVxj+2+51WHv7OGuScI9NT\n",
       "8IQEQpfxiCwl+qa2QTBuGpTs69533n5ljqdNTq3vAKxboL702cL5bn0RhMAOfGZpr2XV1/OqmnBM\n",
       "QDQ6YOEdkOx4jiokGYAlhUCalycNTVwlh/HJIMHqvmTDpmv1Bbuj3n+yyCkm8eL7m1Zp092IadO+\n",
       "njjsIAmSyIEvFqHqEVoLZ4uiqz6+0HeyfPXrnegYzhxwdYuL0NXu1zwJeEADZt47jfXXmarxKxBx\n",
       "6U2JYbv2ojGVX4QZSIIDdB8y0eF9EgHXDniJ3/Mp9GqR0aQNM1D+6pNDlRIMKgvpT1cae616ROSr\n",
       "fD61fh0RAAADgkGbjUmoQWiZTAhv//6nhAIHD0NACMrkuNI3YfWq34CIBGLf9Q7kYPodN6DiWyfI\n",
       "k3rQTthaUCcbxWzVAhbkBNReuPG6Ejel1sAzR4W6xI28R3RfFKD1jRMYW9I9K5tmFYHNXJgcXKmJ\n",
       "Oahxm3Fs8Ppvy7J6E+j8S5Dex+BUKSgOwibLxh2pgl8pqPYkDY61/qtR1ZEuqmxNx9S1R9T1+iD/\n",
       "/8fHPuQZa8/m7YN2jwRU89tHxdsz216Q6AghEwLkmQzAKw5Gc6AWrxXF8YC7j0z+kTWIdJpdshXU\n",
       "adBXeh+zWYrY+t7v06P50flhaa7VDWND2Oia6Y5bSk3ZS2Yr06q+nj6gj/6N7fFW6kuv1PFIzxos\n",
       "Zx3pPl3MnhGYEzAtjRTOC55cpe6Tguf1jEu2+/tZ6ByjATKDQX56vKWozU7GM4v6sIWKCs/5PEVO\n",
       "vFYCFRDL6Q92kV12K7Ulrudary16A0s/Z2ZfgR/2g5GKHtcIyB1y5ij3/Gi/twZmakQk4+OIpE6g\n",
       "T0fNoIfsPNwkfEvw1wew5y2Qmmnv+zZmD88zmHqGZ3ZAmSfG8ddYBTGPZeJF4w838eBLxIaSco9y\n",
       "LwljwTU7oekVxVAr7UfDFJwlLgTfnpFEQJ4pdG/TcRmH+hR0yiK/vqqHr+Tj7SjuepfiXSyuzRTZ\n",
       "Fct+0PHDNTmCBHfoRGv+fZg8WbvsFuG8YthGgNp9sHLEtGrhJnCYkAzbh90m4m4bkv7bLmXkrN0H\n",
       "cT6UZIBJbUvnS+chG9CfZdAdry8gSM+kg0KRBB8d/V+MFokW4zSnSdJCJcAMsvQo8yF2ija40mc7\n",
       "oeoZVxnr005zp+aT9CLoYJscx4aQrmIGNj16kOFjTAiLnH29ZARECrYN/0UIWLWB7hw3YC5yqJUk\n",
       "+fub4Gv/mxY83tUMrn93tG7xmb50207Rw46ILjknLYzH25DsdZlfub/QyrVNZzok5aMqVtTpoPN7\n",
       "4hqNfrfVLo/uYMeF3SV3g4MYPWTAa8zwCCSN04F5bQA0sYA48sl3nbjClRv1RFlhLeBFxcCQfHAc\n",
       "jjfUA+siX4/PYt2q5jiuujv8Q4unstKvmiqPQEcD0kDcPec0LqO4BNqy1+7qNXGxdDVAhYMUcvYv\n",
       "c8SWmCU37oA3xO893GUgCLGYkb0fNDtaOjZgxQWdFCm6qEqU5R3bsphPW54Alo+Db7d67+gAAAGx\n",
       "QZ+rRREsK/8DFK8RnIAy7VRWvsAE7eSUHlTQu95ftTWxOWnv+hEaQJ8ZpOyJSlNQTVUKfy3LyROY\n",
       "WaUoqHePf7rwFgXG7UAbV3vpipd3JmJyTFPhqAUeEVlMw3kAA37eRlaFuHCPOjS5Z6HHvEVLffzt\n",
       "/ZA6N4DRCLTV10ORO37+SjEUS5rc5Xn16Vta75Cm3ZorcXKfRtUmEoNeA4h9hVRgB/XVP3CiqsSb\n",
       "oo+9egB+RW0y0uhKKdoKGyJD1FNzHU+wsExxjAKyLTIU7+VAxWlNdtnlfAE2GJ+7sMkqOQnmR/J0\n",
       "JQgyvGDgKBfIAXV2GYC+H4SFxAFWd0YU9tB9lQSn4mZORub/a6zrpD13VFfyutmMa6TXp0/0mPzV\n",
       "j74H4igycfTaWcqP4dClHfgpHdkIWa9AG8tR+XDBBjjLggTJ+FRXz26EUoqXX+V6NfJxfm/CPBWm\n",
       "Hk3yCqRyfea8IW2w657+hGKi0DUJr2cVFQUqvC18/cUqyLwjl0eZ1r+5FoeS8+EpisuCWUPJv1Ad\n",
       "MlAPooRfq/sKNrgUec1W+2laPb0gs24hof7bqm+w1YDPQAAAAbMBn8xqQr8Ba8ur3+jW+r6ABO1+\n",
       "Xi/U8BS2DYHVA+qCSzEiflXbswS4/Q72VXajt2j9UxiotgHkgMj+lowMIo2JzPdYT0UfHluq9DWU\n",
       "jPEpzuztR1RmkNaxqUf/wHR3/ESuWdz4cMJShwMOLer+K9dtsscziGKPrg/MQvUIEzKMcY4Jb5q1\n",
       "Xwb71lQzH2eiGAuHjSfvedsrQe7OMWu+ZAK4V4/yzzlZXTey7G+pmSdxKtcszI9+sasgSAXl/GzS\n",
       "j9r0Jj/uSAunMidlt/Faz95MsiSoi9Rv/4Mud0uR7Z3TnMQgmrDO8byjbJ9vYJ6PwLay6ws5Aq1Y\n",
       "6i+d3jLUa22rkidTy1MkEm2R4bcj9+aBwSdfDyQIQAJcyMtdYzGDt+BRYBTOWhMKZmH4bKFyYjhq\n",
       "AB9GU7Rdlwgx0lgWKfI7DStNJUHq3S0a1L68jc622yBLEHQj7TGMHnj/c92WyEmaszKW4ka7GQzX\n",
       "CrPIZlaLcpBVVgLb1hjL9AngoB+8eoqoskz3wHhskSsV31diQkHSUuRfstVkG5cnjvQxrASGe5vg\n",
       "8s7QrCSW2ztRdRiOhmUAF/0AAAN3QZvQSahBbJlMCGf//p4QB6uudjbPjAFbREnf272Pi/ZrONtJ\n",
       "bTDVUnsN46KriRfzYrL7bZUZPfWLL74ph6WtSpJRYjc3sQrBE/p1dWWW9+nb3XwuvaZ3AGjSUrbb\n",
       "jrhXtu2Ld7b36nby89E3i9XZBnMDVLuj5Be2zdfiPVVDaGFb3SsDCw3fx7nDu1oT8MiHfxl9CIdM\n",
       "AtHYHEIxA+Jrr9utGvm+1gdTUwhuWurRm0Jd6TaK9m+0jFm2ejgO04bM0Nl2o3elEqMVb4td4pNx\n",
       "JJsYforegnuyNJI+3jcjzq3LY0qgG/E2EpjYhpShIR4OKgTlVa9/tCfRfK/fVR7On0iFeAx9zVNT\n",
       "oUnL3JqiHckYR3s3JW6yT4Xdu8Ygs1bTe34iY/oSLyVQO1QnGOMTuTsS7VjIkAfFipe7zxxT+Mnn\n",
       "qag3FR3zPS57ANhqUf/ZIIspIDTIVcjs6ZYuCxxMUsBdzbnuvxQYTP/GXNY0FxtJVy/bvBdRlU7X\n",
       "XQCRZwmMqpscekYkqzNyRqbjvLtKYtkV4Dgk0UJIsT10GEK1ETFTXBeB/Jgm/tL3O76ngzqSSR6k\n",
       "qoyBBBtoLn0USvafBleGErJTct491Hyfdtc8QiK802PDwYK56F6XHTKrQ+6ss6ihyZW4uNudSQja\n",
       "7rBo4XKtxqVFmKhBca1aq4s+x/XKy7lCWzec/jhSqFKXfXu80iQ0I8hYTxSV0XdvHjrerbGU20oR\n",
       "LOd7ntACMVVzrKovus+wfcCD4JEtj4nMK1e4RUDtxHQ6sUCnz0hN7XcI5CZpQQ1mgm9xsWMHNbxL\n",
       "/amlXS9GxJIPao+gi2oprrgsEJ8Y0pMl/23f2dfdfQKZ+j1ZZu06TaYWRCQM0+6QBM1CxjZoZqOO\n",
       "vjP3sPAeWPfFgcGUfMg3+VWcZPoQyR8jWBDl4tEEN87o0pPc9hZlyiKzgU62wsSpI6TovcvH/E24\n",
       "gaDEA3gMZmNyOfXekUaWIqPcFgzylZkcLeUzpaynOOWEtdsI5Jb+MO6X9fZCtgmvX2ysK9B3X7f5\n",
       "+imyc+BWbBwStA8MVbbVg1Pb4SYodp4InBE2gaQ7eQ6vOM7vwPdS5TLJwYFFcXggzzgPRODjKuD9\n",
       "8iMhD+RUJlcTzukdraDr70NiyiDmXllgdd2L9vx+AjxIY8BR/na13Gu9gWxcLWxFIqvTWBUAAAF5\n",
       "QZ/uRRUsK/8DFr3vIaYpQKnqRXMwGMCaYo85qb4MreYTr/QEAavnJWmOAG0OWy4yR1ecJ5iuhCRY\n",
       "zZ64sS47hd2PZRTL7AxNOTYgivmoIlh2FKBLzYw1AUP0YRdlXLwVAy9pdwMCqJFoJ0fKnBy/1DPY\n",
       "PmsamcuAqw//qqTBsJV9jSfxa+ach9ajqUve+nWb28ZriAnSABjMo5twRGHoQdxY5G2sGhS6ERGp\n",
       "o5yWc5Ur+mXUfGKqy7n3sDhbGk96vtV32aRhC3X+n6EMPmAH49jnWDPGnZuy9Ka+f7FUWk0UGd1G\n",
       "QrzhrkW8E3Ew7R/YuYeeS1DDhtML3BrRMPejOMIHsmDEwlgVw+kg9BixivKDKB2VxK+kJX30mxJF\n",
       "876aL0h4Do5t7vrHR0uNdUh8tGZQE07baZo8CHN2G1yo6E7LpNC42Sgx0I8qyHd9yuUfnyfFsNAa\n",
       "QRDsYeGlVvNkZz82JPFJC9fq2pB4/uSn92HA6nVJv4jf/rUAAAGxAZ4PakK/AWmVzHMAARBygGiE\n",
       "2T9szGbPewmHTEjdQupUXvyA1rfkGatV5siD8FKjSKTLz3Bo2c7RckI/KOKhsIzxq1t3RNH0SZJj\n",
       "goSSbWRTuQEFz0v1+XUexz7bBxaSCSgyzlnGoamRYtl2XCqhQYmS+lvl7tiJmY+v/j/iUA/3SNKp\n",
       "v19dqXLkgOZN3uwLu18gjaBvQi9Btf0dSMPsCo/9jyyQs1HJvm2JcqPU+XzWk1zuS/RaColYsPxz\n",
       "X68EgEEKCuEOhoqobteKpCKsxk9L+HRsE0PwqazaJlATLKr+WpEOLPKyCcfvc/KqIUt7q43lib3n\n",
       "VpcUh0CWCawIwja6YN2W1yRlvL5Z2hNbkbj7X+HHWEfmlwgMbYWKoIvpRx1FvJEMnZSixhwqJeI8\n",
       "wrrZF5vNMCIDZkBW61etzA3Ov1vp8UCup3W84YwTWbxOmdqJklbMfgjfTxSt3oAgde4mfEI549YU\n",
       "sHi55610Lr9J3KuSHAJP/XJx2GeJ9gTRXkviTjF/3S4uxEsFEyzqd0Rn0K9pqohue9d7Eb3aIIT+\n",
       "ZPwW/GT2973uW2nn5iVaYAAAA2FBmhFJqEFsmUwIZ//+nhAHtgZoBACt+vAUNmAZ4maI2C6pzoKu\n",
       "mghuSQQy0lgPgQ2EUICWm1L2DEUFRNP33nrW2RLOHJJ3YtRXcE9k6PNNcX870SmUYLzBFNve1nmE\n",
       "cRVdNJV7V5cBXwX3CcaJmr1pSgFMyJ2HhbdGpta2hgA6gVj/G2LxQKcn/j+8KKqHIK7gj9lMVzmG\n",
       "BAG//6h0Wx2y9x/SWbU/vVN2Jb4AHvELgjhfRMYzVSCnTobJtYuT/deVSG93cxqu/GJinBe7LFFA\n",
       "P5jHLYsYxIMNyQgr1GhBX9fNB95a/7lN/QegphCV10gfdZflNx/ZdqXlj+S7zY3jNoQQv6vY64BU\n",
       "TZeC3xvxsc/7/whCzasHuggpEdt8Pji1g0QyfVhlyudinFwudAwE0DA+iZhKQ41XgEA8gxgBX3s8\n",
       "vno0JvgRKRnPI0OH4Uyz7POpS7zzLriC2igmi0p6YgTz/h+InggzicS2hFxB9qUR/abr1GcaXj5j\n",
       "TxSsyuWQJVl+jQV/IxaGznmduSF3t5iEg+hz6fmJRkLUlj38XRUtjQw89MqHCqqowHABo5+GXI9p\n",
       "Tmx4BIf3+phd/MGxoRu8phEHXWP0R7vB94paOTNQF3IG6TCSmcfETc0OZmkYZCt7b6WTEMHRpO3t\n",
       "iMFEN6Ci4lIeRwKM/IT5dfWPnbCZIAY31CWbtJqZyOWbIdRf2R6oyLrhcWhhLjH05HGPtrznrhxk\n",
       "fP4e1kC/Br0drY3zfUBtGOfLmw6wYglRkXPJ7Y0oJKRPkvEEeHr/vt39gloDhmy14LUnP9nijODx\n",
       "aIkjur5N4a0dMQhieRISO+UvTHctFZSic5caZFP40dG6h9ghnzb0qPXkwnDSwtSNlCmOxNKsZvIZ\n",
       "2vXx3N73JTlNFwrnIWzjicYfSHZPENtUupm75dfJ0DMm317FBT7WO+Hhz+d4FObKssghXc3emQkm\n",
       "LV8dTVc8+lJPm6gvyHISL9sa15QQJK7+6JHJLMKvsewX3jI7ft3muQ5y/5L3e5Ibzr9AEJOmWSNd\n",
       "nTFtDiBaYmpEvs1vtfZ6CxZUwBtglmoiGoBM8vSvZkgDV2s64iHspHcjO2t1FppFaOgK72o3LKzF\n",
       "ME92qfdJC8QwDmDroc+ct0iYWj2gxzCmoG9siGmhAAAED0GaMknhClJlMCG//qeEAgOXV8AeQBEz\n",
       "YupHsu5PqMk7Hy3eA6Lo7R+Glsz43PJrQh67wV7vpTOFd+QXbt0RKDIV+cavGrhe4NZM20xDHQvQ\n",
       "hyhUmdOPoZ/+kFCm4dntysF4Th+lAhcXJU2x+Qnhw3QyQeJsuA1IljhVtvc4EqsyzfSdmKONzn8n\n",
       "W9jhxlshHRHZbf6KpTl4bdyErmZgEINhefGt3XhZlr8taLYHdjRdP9f0WODE01oP8Hy9oa0/5Vyj\n",
       "s2GMpPlaSK1/EFH6YlLyrRII4YTNmuJtmdDaVWcynqyTEwO3RCjINgQVgFwOKTsQGZHkcd23YyTZ\n",
       "u4suTFbioONIF0BiwD7x5ZZJDCa+vOeriI0FWUArGlio4I1H02l8CRc7DRosBXlV/ukjgwNueRSa\n",
       "ERRtOoyPpuAjFSl66AS5KhLI/ZIoi4VWx2y4KCY1z1ZKo/UerCzMKyhDbIkuhZ9mdNUOp2BX9OZP\n",
       "6vuVg8hIvzB4udBuP9gJ57Ig4dHdIrjfKfY+4tnUuod4e6gnSiknLyPGlFZ0Lko8dmURyasuLUnf\n",
       "hwZTOlhs1vyG8vr8dHD+s2LJR+uHWHHLG2pvb0B5dM34/ndRXSAZbnpzwcb97yMZrFdbkTO48W+e\n",
       "f9Fj/Bg6GBWFAKnZXKjxQrZpkri99x5h///eQbH1Cdduzvuffm/GPEWCDeqzFZhH1i9DY0gqyqOo\n",
       "uEbFDGzA7/rgn0boIGEwBid3PICC7tRapz4UUHhXH9oHs6siSsVp48m2p4dFX/Mvv32BlXYpJPcw\n",
       "YiqIoPPoLoZm2XqnZ64B9+9ij2YoSZaOoFPqYCohR66Haf9wsTTjyJ+gGFTmMvEpcoU15NiKSVcj\n",
       "E9WMOLU0/yZP46SNMllNKLl6Fvj9wxpOZglDIh06LRLoLz7ipvUpv+RJzCoHvq30J2EW7iLXTZLW\n",
       "KAxIk/f1Gf1GpfYHZfHfAXg2lnPVeUkVPxh8/gLg3TWZZGm0A0Uc0QPvUmpEvBj7Y6VGp+vrqa4c\n",
       "dSx+fhQJ5ww8BF3l2Zv7tfNEvzavn26KoYTfzcziikbv8uU0n7DqXkkHA6554H1cNOpUB3iZVDgH\n",
       "JtCJoBgnZEGtOx9zmCVu6cRVstlfqqmYbk9uc0cuqqRdm2xF1xTZv7mViYpEvoCduYcaH5ubQ/rS\n",
       "A4LDyQzl5OWc2uYxJtLOhmvseUfA9HSWC7YbKek3GR4UCy5SQJDoPBlhTnuQIMbV0U6HWqL7YNyD\n",
       "2WQ0SS+iP0bDCGUBOAfo4uq11kyVExvPyztx4Ibh6klJlN/Apxy5mABZZo6CzYJQU+AqZtCpAhZ1\n",
       "T5f5k9bwcWEYcnS3THOt+TyTk0yhnob9+RZIwt119e4BSLbMuebZi6n/GUpXmCsAAAMHQZpTSeEO\n",
       "iZTAhv/+p4QCBpVbMgCJS6hmHj03Ii64JtQik50PoOLrDV+PqXwvXbzbOsQXl445XUxOf9UyVg8l\n",
       "LE3MBv7mZXns5d33IuR0KOlevAunRiVJ2W26N0PzBmOhRPSFSERXP8pWCtLMDJXXKTmHsQyR9w7M\n",
       "lmwhdBF37zShgxmHqDC3zDS/OcyXIgxP/nGtIIoJUjKtT98/D9O1eU/UhMvC4xAcd9XqLheEp7EE\n",
       "UANd/E+uZkC1HhocxKGcEchkHJ/2sq1uSzhLwImRALKUYufERxE81/1iO25U2FLV2xOe2/QThp27\n",
       "PIkC1RYTCLVlALbyOrI6IB6mL5QyfX/MzBlgG4mcOyAFr9O83PleZx61lZqCq398FbPFz+COu+NZ\n",
       "l/D7NnNman+yV+OrkbACt83Fl/wQ9YQS0cucIBfnf2lTzRXYSmstrqZnxikSTY/+e9WSghS9JRCf\n",
       "+L38tlUqhC5IQqAJejV4gf86JRha7lvqmKoJQOKU9n879PNJsalgE0ZKwp19YTcRF5DrQGk3W9Rj\n",
       "VdSklvHMhOhutq4Zyn/e5gIg0z7BKiYL8dyN/8ToyosnsRs5ynk6T9WKEpeEFkas+Qr6kMrTd9Cj\n",
       "l0xuA33jHk6HGAsl9ifMcSnj8k6LXpKV2gz6k6dotVxKeTiC1XhnhxdStCZ21OjGD+XlyDs8EHG+\n",
       "k6dX05Ace5gctcXu6izqsvKIypVkLaEoEjSR76mc6z03zO0+SuHLhPHuJyp8STIyjUXQKbid2FBF\n",
       "0KJIN1DnElcZEE63CjnwqkWWfu59yXyKThcDuHYxhi2YHeQS0WCPI0PLLGkLFARTjL17n7Sn4CKO\n",
       "H6ymR8P/QQTbOC+tINJEtNd+gBjvAfR72+65uh9qp/XnB6q2pTHQQZzH0pzqpIy85WFSBWKgxCHv\n",
       "n0K8nGxe3onknvTRhDhkijxazXKlgSLvK0YbnkGUD6rvqIVMczBzl+DZ6uRejCg7l7gkrhLbiwS9\n",
       "aftuHSVbUAWZQgOnbXvosmvVV3fMS8O9pk2a/AAAAzRBmnZJ4Q8mUwIb//6nhAIDn981aRABRKgX\n",
       "m1P2Uiowis1T+ieSjNT8Yxyz+D+ttaO7Ud0Zh0DdxaEy396mrnnGUb+nCaP1xC/muPCkKQsDSehp\n",
       "E+JPTV7n2mls0iwA1aLbsxiTSXfqBxBQckqnbZsY1JrlAGhY5pgUsyzZG8roKAAlRhLykrhOPMrU\n",
       "XVIc8LJZSz1e8Q/r/Nwen8LjD7g/uQJp8yQQbkuKWJA5Ndz7r7Ary9ZmAze8BTcr/IDKiuQLEVJ1\n",
       "lRK63RGSq2PfPgp9QXYCjQSjelvuzNdmxa+1jepfPnV3toczdws9SQgOCrqfgBkas7j3GS8vzCfG\n",
       "GyEf3XXo50COn/gvuHCpb1adybRnLSDtIu5G/KMtvS9rsLRDkSNuv18e6IWDWFqstkvKW4j+vrbl\n",
       "lRHA8UlRWJael2ogx9p+8uKEVtJHEPxl7zW6IqtTFF/nKpr7mnRM5adt7z1WLe/EhKXPJ70cpyVQ\n",
       "Zb9jpsT2uTddn6NtQfQW5dizQ2XBcYQk10E5WQQ9gntNZDhFh+97SjLFQR5TrjPpSjskwV1BX86p\n",
       "h75X1bSQrote1IPwZCgf7NV9PIXEgk9jC0gEZemZkMrLkJ4+X7DdszwPO2JJoVwzCDi+tLcFD3Bm\n",
       "w2WrFQebIuGgfab4fvGReIwNI0gY15GaBAxBC8PGYQ0ImjTatSRj7vK0x28p1f3pg4WvOFAXMowe\n",
       "x21L7TS+C/3H9T8hrYw3lqVg5o/hLXQHWDStz5CJTIi2CkusbNumVtLcv6400O51erlnKx+/SBo+\n",
       "jq9H//XVyfH8AN2mnJFc3dUvLSclXbFj8cV8nLb6U+BZ0LxAukbWawUq6UQ3LxCyBcbzXvBkTQ0i\n",
       "hubi5PixxrQ1PDZemgTwlTaIAIpLRKfuQxyyVOFJVaxcrqd25R1UBIm+5zfXhgSRe7fadbMS86OY\n",
       "8hK0h037be7j+9le5AG5YFBJulj6jFT7h0v7I9T1TmdUSwNaMTe48IicN4Bkd+/FU+vpdfau4gMz\n",
       "WkwYGhDFjmgr1ZM80Qso+3Yu9w2Nm/nlUfk68fU0HFaRkW05cOandRdj/CxE7YLp1SFX30vnAAAB\n",
       "hEGelEURPCv/AxSvEZx+HSXn5N2l8pWI6JN9F4943otOdp7KMFL6l18PEybb7huLy8AlM4CWUAJF\n",
       "raMc1FoLrQCXN3LBJR2X9Yd/EG6JL4lxOF0Rmd9uonW+By3D1XPJPrs6wyZNZ2R7mqnujEJkiO/r\n",
       "n0GLD+MLjTb5AnanW41oSwzgHrkql2iAMPK1KvrxE8g3L9NIHW1wBYG2STzO1ppMgXo+avhdHwX6\n",
       "GOBxwRuq5Ka5lUd9uTFrhZRoKaPJ4czu77q4O5KvOMMN9cCHvEBM7Td2xsihvdWY608E9aBvGJOY\n",
       "8eHaOnOc88kohyo+UbjUs4OCjhnzFZtw3wL6t17KHHKIuxSKaQ6ozwG87/FVVv5/DF6vKMrwIOKD\n",
       "FsbOB6oE3VjDP2wr3Cr5S6xUNghxwWeG/lgo7R4WebBG/1IrV3GNJya8JixI5YYlm99S9PEHdHFn\n",
       "ZARz2ZthrXGZBj2aepM27h93MqMpApU7o4uq687E13AQ8d4vQQxlMIiB9+j49XEAAAFkAZ61akK/\n",
       "AWvLq3AexkvZakMOEgN6pUmR7TAdVGw1FHsuz5UkAYkpPzm93mjVouhfsNvPZrRkFnXUo5L+Jstx\n",
       "7TdY4d54AP2lqCiBWCkuEmEJwIiEUcLw1ayWEzFVkI/yV3GUk6CKDGtEHfP4rE8vaWw8MyJmQEzt\n",
       "k/zrDKOf5LquNpIvN8QmJ1uVY+Tl19TF/wRicNyt3swpFaGkAB7k8jdTsuye/Jg+4oJNTnd5dKy5\n",
       "YraZaSDUML2IlL9lid3E3+V4gZ3USc0En3yIpKhUdg3/ZWsEFyxTiQWZjHdvicwezh0xdNjHThvd\n",
       "mAq926lsmZIVZv5IM15XI5f6+lsBg8Xi9sAb2oKEG4qwNexeGqXex9TZ0kXQ1F141S6oszgvQURs\n",
       "nRy9kKixOPE2Bf8TXm40TYvxHDVUzQL/iC+XQO2zAsFkGRe7DKE92lnDyP/YGqXjsrolPFBGsQj7\n",
       "SWedwBXenbAAAAMfQZq5SahBaJlMCG///qeEAgaVWCQAIyuQlhkOZoYcI3ZzaCtYsNn7sV32iqHN\n",
       "jxi502rlKYnsOcne2jxYPYiAsZyRN3mCySyQRm15ZWS0Q/cWMZNxMfcBenKzwCwWa1hxiGt5WJfw\n",
       "DZKqZxLTkgd4qQjDxQiPCOMaY/LCV+YQmfItenml5th1Bn2UTf6CalsrjRgZfzxWnJPxWY1GqyVa\n",
       "A7qtieCZKDEzTb/6T+J843hceqO46a0KHFVq4GEm0HfRF/oqFPGuPYwBBJntRrrx9YFfwqBCVqcq\n",
       "EBaLL3E3+9PgPyUe/37RY+aR8BlVLE/WfZ7azCl5SpbAEjJUxsWf0yUOuiBVM20g4DK+FlvoiFr1\n",
       "12NWBx900CKtQF/1bMAaLhAfAqROSiIkXoer0GHFYCOTTeQ1v2MrQQ42cdYrzF/rPMDPvjk270hu\n",
       "2tGvVBiu22UVV6ix9b9MA9RrvxAedtrWKzTFRCTnr9BJyALo3IFsifDGSDTC0VlRY7AoZwRI2O8P\n",
       "LEoKIPc2PtD0Okb769w6GUDcbs2M0+dFBm2I8ZLsT9HHQ1PlsKgsy1w3nFrZ9RO6+LmIA46RbDm3\n",
       "Lc5fRVBLoKZ/85hh+DTpwWK/67a4mD/IreOjajGhwn55our4+JiOPigwHW/qMlBOLaxD0Vrun/GX\n",
       "JUb67fhxlB7825pts8zx9/WT+Jyc9HKcMfZXC7AtaZdfamFt7G217xVfzTMvtKVHyUWcZlWI06+f\n",
       "s8zQrqpev5eDlC5JrnvagdN5mNjOA+rvWdTiGsnvPk4Wivx3yyiUWcRq3FBc0hjmxCGBSC5oa70c\n",
       "L4hVTUU9pT54SDfQ3m31vrkXFcZhpQXElnGY6KcRSKfAzQwccqWsEmOnwYaN6It7j0R5t+hUlj8b\n",
       "kQ1Q5lUPM6zfTlyjWIicOpE54mu0i3U7eLlWdtisPCDhFV1dRkxO6yCsiBKRppZDAqVV7Kp8hPIJ\n",
       "W6XGrBSXPUjBSyoSvVynKd+laNCLEWHRer4ba/NnBxYx9oEVRy9RwBgjzdzu8iS+GiuxQ1vK1Lxe\n",
       "Q/gpFUpOXhJgkkLDyQAAAYxBntdFESwr/wMWvSxYCtsUiLxQuMsdeZ7hMG31wl3DfscTz+/xZwlD\n",
       "Z1x2L04VYXjqnVq3tXxqG6iAEy1sZxCO9ZI5gPe734WZ691lQeTooATmPWt85OOtGC0Sy0BBCuwP\n",
       "w3+9qkiKqcOFIYSs8mbUD9CsuTXBM9VDhtwU40A96mtzv5y7LphmpJ3LnvU9O4pW1nY9ZvxOmeYT\n",
       "HR4/DKXeLhiNVxDud6LKlpbvIIWc6vnOxf0Rvwf5FPlhGfhGG8uLevALtdkcO3/B4PYhOtyZRx6P\n",
       "kzc1S0UFZdqmHuVWmKvHV+jrI5nxZwwSh4JAqxwYIugDg6BoSmKlkM6M5wsL9L355UX0c1HOGSWZ\n",
       "nWtMQqdIxoH9ik4f0/YIVppu76i11SleRCOVcXUpMpIrEfWKCuOACmlzG2y599n7ya3LPx9Nu5QT\n",
       "LLP2iA0caBhSy6P+OUMQNP5bEzYIX563BUAV3cBtkCkDBABLmXwJzJ2tr+PjLAca2mUIJ4I6+GzQ\n",
       "JU02F8PrvcdqpswIEDEAAAGQAZ74akK/AWNVhUilW41nxNqJ8oAJzhySVwIX2SCLYtKqQ/W/f7C2\n",
       "iQFtKJ98nCpoyNZY/RExDIg8ja/OA1kl2NlYVGtAZfKNLtGz41W5sf6m/q3pAmXoU+FqEIs+OcPb\n",
       "DFNadfogZjO/P/xdDqCIJ7ZzZVZg8g8kwoJFOiTVNqxQEHDbWMzvosskJ2uCG4DyAXVYAy5ekiR1\n",
       "NDdaJ7JhQY+NQwk3z4RPLH2kkAcO7U1EnrOU8AV05Pu88pdv1Xc7KRVw2ZeBRSojbYcDLfRXG9Id\n",
       "TyCMPM5GA+Amj6WuxG4MQIuiyArt3GzsZOFugeSkJMGxyrTP5PR8PefrmHWTv4Q3leqFPhPBkcqg\n",
       "NwoLSmWCnhcboMTJRoXjWotjNPmdCis+CwfFQ2sQ6Bx2CEDT9uyZ8NhXqbBDzNiUObZ0vYku2EgY\n",
       "p/a5FfR1dJwH+SG4nmIGcTh//GsFEaHQ+hm77W6iwlfyvicfVwHfnE2M7PH8sl0Bk/Ia27ympg5l\n",
       "8V2VSV5u1p/i4kFcUWdT+KVnRAAAAuZBmvxJqEFsmUwIZ//+nhAHVtLdK74q4F7DMAE60uFegxqF\n",
       "HCvnTjhRcxHtd+5vLbaihxWBBf+IcRaookTm90vlItkpl6lanrjYk3aXXcr4rK+GY2DoJ/lG6/dE\n",
       "mzl+y0pjGzpHbTd7CLQAuHl0dTgDKpOD6RsZ+4zuumisW/VRWt/GbngOlFoa0Jn5UiKmhNr8bHu8\n",
       "G8Ro+SsLWNYnpXXyRLI/BNvWduP37C/IlcFzNXQTf8vEm1nOeUzL0q01X5I/7/B2wCieUq0PYMuo\n",
       "GE9z5pxofXhlYU0QpADww6aRqXNHAv3NSpbD2sWhm6jzINJXyueZ8GF/orzscPRN7icQ6yzWQ4xW\n",
       "S1FT11Sw9IOH8l3lReEZh5mnYMYsmyG2eJoVEZ/v8z4ZIKoL6hzKmtvGvdWD1Jeid0d92OlawYWn\n",
       "Swg9CyIe2W4togFICmUkrctj+ZOglTLM69ClOli0tg3KpYq/CNKdCiqkW72MSXWGEt80GEu619ew\n",
       "aRv7lBVjGZ/514M7KiBaPxX/REU/WC4Y/nBnew8JlH7N6ng6fSKkpiqRLoNUG5IZWjgdSCjPxUZM\n",
       "IomRohs/tSekkjr8c9pjeaV/qJc0qAEeJjKxeswtxn5pAV83QM/VMxoc/lShUzERpZaYG8piHbmD\n",
       "FiWWhtUZVk7XcehA/MwXpAZ9WHoq18w/Vuf/mudF3QGr5VDtfONovJfCAuz4zA35pKLZ5JHUa7+e\n",
       "pSEMjUmDnk+YSB6kKPOkV48lZIR/ecl9iIjQlVx+CuPt5ybOMYc+IxwPtK7RxX9C3eJ2lgOac3Ba\n",
       "DHpx4X1vJjtKXeUhX13P5/xfK4OfYbE7+YFbfRnMYGZgWPYHclHiFTXNbzzdw7PtcAFbX+14RAK1\n",
       "9pjxHAFspeQ5+1ISjmnf5BWEN4TPUqH9JKZqHYXZTcSUh9rJktDC6ggaNjPw8HXN/9pn3GcqIzTt\n",
       "q1jBcoG4PDvqK7yS6Ol8Xyh65XC/vJRZAAABrUGfGkUVLCv/Axa9KaOaD4R7cV8inc89aDpHeJYA\n",
       "PxGkI4t5AitkhA1CwNvSYhIa2ZzRSUmFYSOjac+r3IGTLpoJf0RH+sz1kCgkdU7oPRpQpP+g71mn\n",
       "xXb8v0P7hXr1qL4NK7y5Q2b3dcwXYRDsxkOBiUvSIVRLJbAtaj7addahcZprl9uFzVNTKStXbxoQ\n",
       "Ofl/B7QiZXYXdVDGf5jICV/JMxs1dapUh1vowEgA0H3ctpt0Zn2hoGvITi7YmJrCdy1Hupm8RwuI\n",
       "F9EjjqtekEVLPsmTXa3S5bfq9c/B9G6HHRNP2agQeOUFmcn5Oux06mUnBXj4v/nAade0bck//6xm\n",
       "lfzOT7HlWGQEgh4bEuVZz+Q5kf+WNMzaol2XW612MblL1g5i6Qa04vTA7oPtzdb6GFk4olor1tAH\n",
       "P+PZ9q11a5/3JjnI6gVj7YvqM985eccfIEy+zywICHM6U65uR35OvVDj5jh6/RFNDaUi39qDTHHE\n",
       "XwfyxgUhsoBlUIOV2Xc2DfiDanYtH+flDeCB0vgO1u2BOEr7xUFICTg8e1orN/knHgKybkc5edBG\n",
       "QAAAAZEBnztqQr8BY1V8Zlv4e+jqJ0gy6MOAECRzJ+vlekETiNsiBnLf6YS3pxX6R80R21rWIXoo\n",
       "PSj39dKFOAwCufUctIckdstLKHwjE7+jzGYhSWhXXkvNsO3Z5u0tZklCvRaKQl8yjOT34YlGjk1W\n",
       "yOCvuLvTenOYHp4OyhW6COx35Y+163OLx3oC1QaXzjG9Y2eYkQU1699h9wRnmBfwH6aRStGlbqe5\n",
       "ALnujGXFQsMQD1lho+1LkekkGrFMy3GI/azfIm2lgKsmsOU1BM9QcWlCB09c5nIXv3lYwMChU8uC\n",
       "VNgHhzthPtwn6t+tqpm84EdhvwroxXRHaj1NMBdio10F2dTDUEcidpwnGg0aBQOeak9bahnXuSf4\n",
       "4lWmCF7FLk7e5R1iDx1ndfDeSo3tC+/QdTPcFHXmkUGF0H8HTevj19Ed5646wKQA/r62kCreychZ\n",
       "mBMR/Df9JVg4HrrQ31M+g84rAXVSP792kUJV6MOv10sPU/aGAu7OL2JsKJ1mIMoVSRuiBQAn4gdK\n",
       "MWdp+yTH+QAAAtJBmz1JqEFsmUwIZ//+nhAHWW8Q3BUewAsdwAAnWWKdfVCYInwLZU3j3oRxk4ct\n",
       "XA5TIo+celjySSPSIjysWq3/slU1dXeTQpsztIw/77LSFE/5L2zIWP9910J6iLir9Oq7HpHw7hNQ\n",
       "ESl24pWftjAlCcjt6vucUQXI1EYfcZHcDDGC+1SYZtOR8VYJ8OGeIfP0DrD86P65FCiUznlyxetV\n",
       "48Z9vnV5sGSi3ct0FNy1zdNf+SgLicMQ3WqO99QZLbcXQ9L1PnNZdb6UIz7JqbDvI4gGkfQTBE7x\n",
       "qPC21SfnLP6l8xG9JxVLv+8iPV8pevewUje0wM+zNjFquJ+4j49nTUXhDBDJtolsJBTNwjM+8GdY\n",
       "Jt+pPnoopDh9AOYDjWSAPnTgJjn2ZYrFKL+b/7o00/yOvYmW9A1SjA7V+0MZ5fVyCRVAq1cOefj4\n",
       "YyG//ddrGxytZwX0t2+0/eTOZkQqpyCQvPzO5v4AtWN4IVgVcexBqfxSPJ0ymYQze6lU1mjQUF6j\n",
       "UAUV4KFtTsuUvImagbzc8V+GCZZ7o++b9AU0o2oxjCP/QNzbre0CV9G+shG5uhMZPu/wROeLI22A\n",
       "tbiVCBqO+K5IGYVpbYdIC1kOBmTwPNTlkIgEoxs+BXEM+zqSHN6jVsl1zsyefQPtQ+cD8XwSHRDR\n",
       "PmTpPBaCCZc93ew3cCY2/54uB+M6tkzbf2ZeRu7d89Dire7QPNp0fkGn35NHovSxhHhHQnHcehF8\n",
       "BaufW2mrqenr5JPDMLsH+BkBtONZO0oHJjFG4sXuSN7vwXGaI2ow6xuYEw9diiisiwViqE1nYh3Y\n",
       "7679MJb9v+gLWWtApZe5Wie/ki49AVPuZco3cwo5l2dllDKLBfimbTMQPD4Ftz+pzXzvXWIAhd4f\n",
       "HfkU3VxtBaa7HWDS9KvlDkwVjwnXb24ROCjb0dL9nMqsd4lLyD7OSxfOuYCXYAwO6QAAAxZBm15J\n",
       "4QpSZTAhn/6eEAdZaQvAvfMl5oPqgAfggt+/ubN4UkYCG2/9KQ0TmJU/OB6tFHG47SD2+unJe+y0\n",
       "Js292wqUtaylavk+e860Pq+MK/3XduqlHFnquy2JeGajVWZ7y4xTo4vdU9Nw7iIqfK62VVAoFxfN\n",
       "iVwEM68znOOztHfImajUpgy5lIO1/i/xnzNgRYAR3ou0Rqmv3BpYYvVJGUzOhXKJeKNOOZG/dYO0\n",
       "VjxoWcut1zmS3UgvqjaHKMhiR8wb8U0dwGWcOIjuNP1Ky8b/ZvgCUThovdwyhpbtph8vAG0pSpKG\n",
       "e18/subt0zfyU4LdyjYhrluz/GQeICFrkweA6Iz4Nqiasy3gAUKwRR1PIDXUy0Du5O1ekHtLCS4r\n",
       "dosS9RDa81tiWD2xJdrNU0WHu4X+aNGaVNTMcnwXOBDjxZog623ew0NcI9F/e0k7sQMBPBvnkg15\n",
       "FJr8ChWfoLdSy3jaUyCDB4YDhMj6Mg51I1Gjw/V6vt+8pre4x+jEOo7SZaMQRv90B23ifl0kxITM\n",
       "ZxZtHFA0+sV+pWdbgFN7Q5qkGZaOYlnPLZGftz8CwageHNNA4QRxUSBhQdcOtcgmGqBa/Rf8yw1V\n",
       "aoRCFVFUWfUf130fDajHeZcXNhGan4VYk8+TePsVFFj5DWeMnWPKYYujB6lT7Ayy2OWRzYPQPOHh\n",
       "Ugt+eS3dTRqQGhvcBJXdvSvr+ObUdq+0Xv/iIilfd/f7wf8GlamaQgVER71S+LFSeIJDS83n/5Sp\n",
       "ULKTN3jGI14FG9ZqT6wg5WNagnQroAVu0nCtUDnqOIDlneUpWM/o9OqgF5j2p1D/872S+qf2LMZp\n",
       "7ey6LTV9JkQnWlB9eFC1LuGFyp4s1DHZnnUylr6UJLcWCiwo20Dgjx8iyYj5dtHDfkfsCtpOTW5g\n",
       "6S1zR1f2+5rMZw0TD1B6twI+VEG0BFRkHun7ZyDel2gSIOx0ur3lKqCImQxSUn5xX7IuhrkjPrQ5\n",
       "vl8xiBpqR08cGSRk8ZLKA7iANU0hcB7C4Efd5KTxHv2AiwPpNHHv0it3vFw8AAACR0Gbf0nhDomU\n",
       "wIZ//p4QDJcWM+lSFd8+VqqBZ81+EAJxNO5R73H2xv3jw66IMVgQQ7uazZWsTlaM1NWBmYjCck3t\n",
       "9hsyCRbbMjPb3dPI5a19AVMI76Vqg/S40dpW7P/GNqjdfkV6Uev8Aiz5iK9lAc+/Wlic4mOD9Xt5\n",
       "G20J32H64ltmh5vDBGvz07zF/ExSler1PwZmzNeQRDpBc8KIyOxk3gvdTov/JLkmwgAETVxPK102\n",
       "twi/oJEnYm+TuZ49VkeYDQPM3mZi1RIdCv/jd+ABpbbuqXaQFhMv0nb5TxWR5Lb3z0F1WogZGBy2\n",
       "BwLMluxuHGO7HJnBmdg3i3N+1r3iaYsR5wcn/3EA91Honzs64VyexUt1rWrtzpl6TfIcsluuPE80\n",
       "DqJBBr+OAGlxuF3xiEsqfq8btl4vH1KneCuPuw+uDTxQbUS/mFEXEJ8YPVq4YFPtQkdwldJ854Vd\n",
       "FX1rYAaFCNxVn1zcVrjP6251D4o7TaqLkOut/0dfz6Qo7ljTevz7RqHsmA2m3s7yvKyWi2+Qfu2f\n",
       "Qi6yg3oYX+DDFA5HXc149wXIgAUh3MaYRFuRnBgRP6eYD5AkOsSWODVbK/OfG9xAwJFnjNwAiFsn\n",
       "3NEj5xzijlpClu3yfOlQ7JknqkDsIAu+KTidO5ERlvTvwlDGnQUJ54PDFtyi0hzTTmETuEAO2PgQ\n",
       "HkMTJ4/Tqet69tgRndlVh9E2UNCQNdAn3TQVAYnOFHR37qdughiWirgXuyY0Ds0hvsa81SpH4jaO\n",
       "OXduSjQAAAIGQZuASeEPJlMCGf/+nhAHWWkNt/FjhYieakACcTTqG3iKaL7zOuC/f4MrQiIl0HHV\n",
       "hmGxsnEaNGM3rOSSEZn4S99xyBZxGhFO64j6vXy5NDZU1yZ1thC5gBy4psLgSjAWuyIntNMvN7os\n",
       "cmONNKs+CWvx+3Fs/rkOUYKXuHzyDi5JS0aukou+Ar7OmN34m6Rnh+5DTONn8qzijv9ACxcnbGfM\n",
       "/ojc/WeJwocZwyKoDqqkI1QaO4lBAHlW7fbTNiEDKMmQ6fk6TFVCrhvBfJXD++KL8dBhAo4BIcWq\n",
       "mjvYnSVziSPf1z+u/E3JOed3n/WCb4LteuHYCeLa3gx/KOkoooPFLUfzkKpLl7J8d+6OH3uTOfqf\n",
       "oiKBS+3v4xU00/XBMU/kFhJdrJQmMfq+LbObsacsPF2dpUilVMnV+2hdCUvehaoA0gMQTm7OV1Y4\n",
       "eVZavpCZsBLnNwTs/fdYBBMxOUwiRTAT0k1Ndv+pjLIhR1+bpX0Xth7yhSoCGezLIB+Jca6rCVUV\n",
       "Wpmk88WiDjC07eiba+c+vW7OVXm4yoUro2E0uLjTIzaCVWuFp4t3Umx3/e5NaqE/ogkZbTWGdv6b\n",
       "1fbGfcbDGQUdOldg1QSKu9zkIfVj7J93iuZhwW/kf8OjdG0hCJABrRBRyV5JpEcpwDveav19lH/9\n",
       "aLxhKRpsi+BOiAUhob0AAAIZQZuhSeEPJlMCGf/+nhAHVws8Xx6B4OHf7tAA/BB1f6d+zraTE4Pd\n",
       "+MoyPCTTW7kii+BaubeAuJYvTHUh9WYiXmuEJO7UTCT8B73KDC5gJ324i6If3R+eTRO5RnZE6h+5\n",
       "N0vmW81DslP8sWhQ+uJavygtEmUvUWg5yHwUh3lhFNWe0Ued+N30r2CS8NBFEFXGkyoAr2yrTmmH\n",
       "cS5kyOdxrAoP1oycZEw2EFcx1bmGk7QJUiXnTx4gMPgAbc/jI8tTnK0bl1TuURr80ovBj+CjRfet\n",
       "5IOsYjO/50A+bjLnki5J0lgf0tpWYXsrMT2UGm0LlBO3GqU9dvquieNyWjLdLBpX4FFM+xOBxwnY\n",
       "ZiDPvKBgX6j7AYfYUDbs26VEkb+JoC9Z7opHYtCK50UbrjweZQelqUz7TUHDjbBDUaYyl5PihzYj\n",
       "rasx7CeHSLmYsZzO/ooKmPPxkymuLZLUbr02aYoCeqq8ju6BhBEgX+/8Gn1X6t17Y4eMNfYhKsSL\n",
       "g02KciVBrqts8cwV0Qbrb/iwypS7XDjldg2HhlRQfdkVtOGkFYVu3tuSAFjGeDrW9QJSIANtkygw\n",
       "q7+tXEOgMK15qwToE6MhcU1biTxM2tfNTkvqRCO6yqzL8q42ppso66ga6cW0uSDTrLe1Ok+f3aYL\n",
       "MPFt05uM/4APIHBq8vZDDJrXejTLbgf4q24gNvGdfQb9eqTZwlgNKR2uAAAB2kGbw0nhDyZTBRE8\n",
       "K//+OEAcCGlHCWoQB9qYAIbCxY708bGCIPgk12qHIuxbMbOQsjMPAd46AcMYdPeOSDgaORpq+eqV\n",
       "J4aa4N0jbsqUZ5BaTCssB8QayUP60WGJ/zvdkPEYIqibMV0qhMNQKTwdNNG4XdkaLvqf+t/zeMt0\n",
       "MAAFktZs0CmrHa2pirWpkIbp9IWcjspp16EbD6SoaqFeEIOLKxCr5OKGLT7Y3HMIhif3cJQM849U\n",
       "IDIOU7WSWUk8OaPQ/2vH/pMR6hPVXqOTAirca8OD2M3ds29p59wM5+un738aszqMRNX7Svj0EkYB\n",
       "NQBTpveg1c1ctbYNvav0k8lnEjpiuPCBHhmKD59RQHX7a+IxTPVaJ3gTDoxcDhke3d7eZ/kdwEyG\n",
       "Li7yyaw21w0fWcH+Ff1+ycTX56L0PWX97aliU1TwCJh2oiTmR/8T2bmGrkulWS/Ps1eiVo731Lpb\n",
       "uKT3d8tQk5JSJU5+biyMqW7yvn3QLTNglMoSMXDxxlUFXuXviuaPoubkYGM0cbo9RgFzvsJLCcay\n",
       "8w5VdmgEEdeLElCaXmUyPTar2/4rQY4S5vn+jiZX9LdLU2tbNSTun8QWAFYOX/I/ihmumabAV4KN\n",
       "RvjAURwI2QAAAbEBn+JqQr8DFK8NNldsR00i0w0AELhi5N4S3ZXP3015CxJGMDLsxOPaBN4ocRaf\n",
       "P8JIeyoPy1C8tZhaOKshmeGNQXUtrEBb+DWHjVcfTg7J8VZ7qlt68wcTDjdSEDSCdkcnVxqNvD+e\n",
       "RSHy5DtqcVoKWBmzbJdR9stwLou68yAdzR2HUR7llHxcLxYDM6giHJvAcepZW6RyrmWmX0xDJ53q\n",
       "G90VKdU73wLcIjwoGxaUJ3B3Jp9NDkIKr5MtACP9/iswf31gU5musestACtSCrhOb7qcsLVKfQt6\n",
       "8CE7QlpGh+vYSnlnlena3BesndA7AOH5GssPGJOgXuWlf4B0zPpEgZBkVVWVl8OIuUBJrSEl9X5Z\n",
       "nIYPYHRCA/pT/gNxagd5gpN4SZYar+KWrUFjaoXLtV24+txHfHM2zSobYDAZaloBmcXPYiLjc3tz\n",
       "FM4+Nd5Rj4No1uiva/VaD22WYY6lo1Fxf+FJA2SwXHqhKeRLaKPgbtAjZqiqzBBk1o7zWXBaQOx/\n",
       "utKNozHlkRaIwXxRhpFqkUGJYeBfeCNfMsovBoNp/2fYIsNKEL897CinU414AAAGXm1vb3YAAABs\n",
       "bXZoZAAAAAAAAAAAAAAAAAAAA+gAAA+gAAEAAAEAAAAAAAAAAAAAAAABAAAAAAAAAAAAAAAAAAAA\n",
       "AQAAAAAAAAAAAAAAAAAAQAAAAAAAAAAAAAAAAAAAAAAAAAAAAAAAAAAAAAAAAAIAAAWIdHJhawAA\n",
       "AFx0a2hkAAAAAwAAAAAAAAAAAAAAAQAAAAAAAA+gAAAAAAAAAAAAAAAAAAAAAAABAAAAAAAAAAAA\n",
       "AAAAAAAAAQAAAAAAAAAAAAAAAAAAQAAAAAGwAAABIAAAAAAAJGVkdHMAAAAcZWxzdAAAAAAAAAAB\n",
       "AAAPoAAABAAAAQAAAAAFAG1kaWEAAAAgbWRoZAAAAAAAAAAAAAAAAAAAMgAAAMgAVcQAAAAAAC1o\n",
       "ZGxyAAAAAAAAAAB2aWRlAAAAAAAAAAAAAAAAVmlkZW9IYW5kbGVyAAAABKttaW5mAAAAFHZtaGQA\n",
       "AAABAAAAAAAAAAAAAAAkZGluZgAAABxkcmVmAAAAAAAAAAEAAAAMdXJsIAAAAAEAAARrc3RibAAA\n",
       "ALNzdHNkAAAAAAAAAAEAAACjYXZjMQAAAAAAAAABAAAAAAAAAAAAAAAAAAAAAAGwASAASAAAAEgA\n",
       "AAAAAAAAAQAAAAAAAAAAAAAAAAAAAAAAAAAAAAAAAAAAAAAAAAAAABj//wAAADFhdmNDAWQAFf/h\n",
       "ABhnZAAVrNlBsJaEAAADAAQAAAMAyDxYtlgBAAZo6+PLIsAAAAAcdXVpZGtoQPJfJE/FujmlG88D\n",
       "I/MAAAAAAAAAGHN0dHMAAAAAAAAAAQAAAGQAAAIAAAAAFHN0c3MAAAAAAAAAAQAAAAEAAAGwY3R0\n",
       "cwAAAAAAAAA0AAAAAQAABAAAAAABAAAIAAAAAAIAAAIAAAAAAQAABAAAAAABAAAIAAAAAAIAAAIA\n",
       "AAAAAgAABAAAAAABAAAIAAAAAAIAAAIAAAAAAQAABAAAAAABAAAIAAAAAAIAAAIAAAAABgAABAAA\n",
       "AAABAAAIAAAAAAIAAAIAAAAAAQAACAAAAAACAAACAAAAAAEAAAgAAAAAAgAAAgAAAAABAAAIAAAA\n",
       "AAIAAAIAAAAAAQAACAAAAAACAAACAAAAAAEAAAgAAAAAAgAAAgAAAAABAAAIAAAAAAIAAAIAAAAA\n",
       "DgAABAAAAAABAAAIAAAAAAIAAAIAAAAABAAABAAAAAABAAAIAAAAAAIAAAIAAAAAAQAACAAAAAAC\n",
       "AAACAAAAAAEAAAQAAAAAAQAACAAAAAACAAACAAAAAAEAAAgAAAAAAgAAAgAAAAABAAAIAAAAAAIA\n",
       "AAIAAAAAAwAABAAAAAABAAAIAAAAAAIAAAIAAAAAAQAACAAAAAACAAACAAAAAAEAAAgAAAAAAgAA\n",
       "AgAAAAAFAAAEAAAAAAEAAAYAAAAAAQAAAgAAAAAcc3RzYwAAAAAAAAABAAAAAQAAAGQAAAABAAAB\n",
       "pHN0c3oAAAAAAAAAAAAAAGQAACbrAAAGqwAAAp8AAAHgAAAElwAABCcAAAI/AAAB7gAAA6EAAAR4\n",
       "AAADvAAAAhwAAAINAAADhAAAA38AAAICAAABxAAABAEAAAQuAAADGgAAAuIAAAMPAAADZwAAA7kA\n",
       "AAF1AAABpAAAA78AAAGLAAABxQAAA8UAAAGOAAABkwAAA6gAAAGYAAABhgAAA5EAAAGoAAABsgAA\n",
       "A1wAAAGNAAABsgAAA4IAAAGbAAABuAAAA3YAAAOqAAACsAAAAxoAAAKvAAACpwAAAqUAAAKAAAAC\n",
       "lQAAAoIAAAKMAAACowAAAswAAAKeAAADMQAAAXMAAAGoAAACygAABAMAAAL0AAACugAAA5EAAAFm\n",
       "AAABwwAAA14AAAFaAAABigAAAzQAAANyAAACPwAAAZoAAAOGAAABtQAAAbcAAAN7AAABfQAAAbUA\n",
       "AANlAAAEEwAAAwsAAAM4AAABiAAAAWgAAAMjAAABkAAAAZQAAALqAAABsQAAAZUAAALWAAADGgAA\n",
       "AksAAAIKAAACHQAAAd4AAAG1AAAAFHN0Y28AAAAAAAAAAQAAACwAAABidWR0YQAAAFptZXRhAAAA\n",
       "AAAAACFoZGxyAAAAAAAAAABtZGlyYXBwbAAAAAAAAAAAAAAAAC1pbHN0AAAAJal0b28AAAAdZGF0\n",
       "YQAAAAEAAAAATGF2ZjU4LjEyLjEwMA==\n",
       "\">\n",
       "  Your browser does not support the video tag.\n",
       "</video>"
      ],
      "text/plain": [
       "<matplotlib.animation.FuncAnimation at 0x7efc885b0a20>"
      ]
     },
     "execution_count": 172,
     "metadata": {},
     "output_type": "execute_result"
    }
   ],
   "source": [
    "fig, ax = plt.subplots()\n",
    "plt.grid()\n",
    "plt.title('onda viajera')\n",
    "plt.xlabel('x');\n",
    "plt.close();\n",
    "ax.set_xlim(( 0, 2))\n",
    "ax.set_ylim((-1.1, 1.1))\n",
    "\n",
    "line1, = ax.plot([], [], '-')\n",
    "#line2, = ax.plot([], [], '.', markerSize=20)\n",
    "\n",
    "lam  = 0.8\n",
    "freq = 1/4\n",
    "\n",
    "def animate(i):\n",
    "    t = i/25\n",
    "    line1.set_data(x,wave(lam,freq,x,t))\n",
    "    #line2.set_data(1,f(lam,freq,1,t))\n",
    "    return ()\n",
    "\n",
    "animation.FuncAnimation(fig, animate, frames=100, interval=1000/25, blit=True)"
   ]
  },
  {
   "cell_type": "markdown",
   "metadata": {
    "heading_collapsed": true,
    "hidden": true
   },
   "source": [
    "### Data frames"
   ]
  },
  {
   "cell_type": "markdown",
   "metadata": {
    "hidden": true
   },
   "source": [
    "El módulo `pandas` proporciona el tipo \"dataframe\", muy utilizado en análisis de datos. Permite leer conjuntos de datos almacenados en archivos que pueden estar incluso en una máquina remota."
   ]
  },
  {
   "cell_type": "code",
   "execution_count": 173,
   "metadata": {
    "hidden": true
   },
   "outputs": [
    {
     "data": {
      "text/html": [
       "<div>\n",
       "<style scoped>\n",
       "    .dataframe tbody tr th:only-of-type {\n",
       "        vertical-align: middle;\n",
       "    }\n",
       "\n",
       "    .dataframe tbody tr th {\n",
       "        vertical-align: top;\n",
       "    }\n",
       "\n",
       "    .dataframe thead th {\n",
       "        text-align: right;\n",
       "    }\n",
       "</style>\n",
       "<table border=\"1\" class=\"dataframe\">\n",
       "  <thead>\n",
       "    <tr style=\"text-align: right;\">\n",
       "      <th></th>\n",
       "      <th>V(km/s)</th>\n",
       "      <th>Redshift</th>\n",
       "      <th>Magnitud</th>\n",
       "    </tr>\n",
       "  </thead>\n",
       "  <tbody>\n",
       "    <tr>\n",
       "      <th>0</th>\n",
       "      <td>18287</td>\n",
       "      <td>0.060998</td>\n",
       "      <td>17.62</td>\n",
       "    </tr>\n",
       "    <tr>\n",
       "      <th>1</th>\n",
       "      <td>5691</td>\n",
       "      <td>0.018983</td>\n",
       "      <td>15.00</td>\n",
       "    </tr>\n",
       "    <tr>\n",
       "      <th>2</th>\n",
       "      <td>26382</td>\n",
       "      <td>0.088000</td>\n",
       "      <td>18.59</td>\n",
       "    </tr>\n",
       "    <tr>\n",
       "      <th>3</th>\n",
       "      <td>5996</td>\n",
       "      <td>0.020000</td>\n",
       "      <td>15.54</td>\n",
       "    </tr>\n",
       "    <tr>\n",
       "      <th>4</th>\n",
       "      <td>19202</td>\n",
       "      <td>0.064051</td>\n",
       "      <td>15.30</td>\n",
       "    </tr>\n",
       "    <tr>\n",
       "      <th>5</th>\n",
       "      <td>23684</td>\n",
       "      <td>0.079000</td>\n",
       "      <td>16.56</td>\n",
       "    </tr>\n",
       "    <tr>\n",
       "      <th>6</th>\n",
       "      <td>11702</td>\n",
       "      <td>0.039034</td>\n",
       "      <td>17.14</td>\n",
       "    </tr>\n",
       "    <tr>\n",
       "      <th>7</th>\n",
       "      <td>17284</td>\n",
       "      <td>0.057653</td>\n",
       "      <td>13.50</td>\n",
       "    </tr>\n",
       "    <tr>\n",
       "      <th>8</th>\n",
       "      <td>13491</td>\n",
       "      <td>0.045000</td>\n",
       "      <td>17.80</td>\n",
       "    </tr>\n",
       "    <tr>\n",
       "      <th>9</th>\n",
       "      <td>10566</td>\n",
       "      <td>0.035244</td>\n",
       "      <td>15.25</td>\n",
       "    </tr>\n",
       "    <tr>\n",
       "      <th>10</th>\n",
       "      <td>14718</td>\n",
       "      <td>0.049094</td>\n",
       "      <td>15.60</td>\n",
       "    </tr>\n",
       "    <tr>\n",
       "      <th>11</th>\n",
       "      <td>13491</td>\n",
       "      <td>0.045000</td>\n",
       "      <td>14.52</td>\n",
       "    </tr>\n",
       "    <tr>\n",
       "      <th>12</th>\n",
       "      <td>16325</td>\n",
       "      <td>0.054453</td>\n",
       "      <td>15.30</td>\n",
       "    </tr>\n",
       "    <tr>\n",
       "      <th>13</th>\n",
       "      <td>20686</td>\n",
       "      <td>0.069000</td>\n",
       "      <td>16.80</td>\n",
       "    </tr>\n",
       "    <tr>\n",
       "      <th>14</th>\n",
       "      <td>1808</td>\n",
       "      <td>0.006031</td>\n",
       "      <td>11.16</td>\n",
       "    </tr>\n",
       "    <tr>\n",
       "      <th>15</th>\n",
       "      <td>7603</td>\n",
       "      <td>0.025361</td>\n",
       "      <td>15.18</td>\n",
       "    </tr>\n",
       "    <tr>\n",
       "      <th>16</th>\n",
       "      <td>1018</td>\n",
       "      <td>0.003395</td>\n",
       "      <td>12.24</td>\n",
       "    </tr>\n",
       "    <tr>\n",
       "      <th>17</th>\n",
       "      <td>321</td>\n",
       "      <td>0.001071</td>\n",
       "      <td>13.00</td>\n",
       "    </tr>\n",
       "    <tr>\n",
       "      <th>18</th>\n",
       "      <td>3106</td>\n",
       "      <td>0.010360</td>\n",
       "      <td>12.49</td>\n",
       "    </tr>\n",
       "    <tr>\n",
       "      <th>19</th>\n",
       "      <td>9426</td>\n",
       "      <td>0.031442</td>\n",
       "      <td>14.53</td>\n",
       "    </tr>\n",
       "    <tr>\n",
       "      <th>20</th>\n",
       "      <td>7464</td>\n",
       "      <td>0.024897</td>\n",
       "      <td>15.21</td>\n",
       "    </tr>\n",
       "    <tr>\n",
       "      <th>21</th>\n",
       "      <td>15143</td>\n",
       "      <td>0.050512</td>\n",
       "      <td>17.40</td>\n",
       "    </tr>\n",
       "    <tr>\n",
       "      <th>22</th>\n",
       "      <td>407</td>\n",
       "      <td>0.001358</td>\n",
       "      <td>10.87</td>\n",
       "    </tr>\n",
       "    <tr>\n",
       "      <th>23</th>\n",
       "      <td>7257</td>\n",
       "      <td>0.024207</td>\n",
       "      <td>14.60</td>\n",
       "    </tr>\n",
       "    <tr>\n",
       "      <th>24</th>\n",
       "      <td>9193</td>\n",
       "      <td>0.030664</td>\n",
       "      <td>15.10</td>\n",
       "    </tr>\n",
       "    <tr>\n",
       "      <th>25</th>\n",
       "      <td>12137</td>\n",
       "      <td>0.040485</td>\n",
       "      <td>14.75</td>\n",
       "    </tr>\n",
       "    <tr>\n",
       "      <th>26</th>\n",
       "      <td>4264</td>\n",
       "      <td>0.014224</td>\n",
       "      <td>14.98</td>\n",
       "    </tr>\n",
       "    <tr>\n",
       "      <th>27</th>\n",
       "      <td>4381</td>\n",
       "      <td>0.014615</td>\n",
       "      <td>14.15</td>\n",
       "    </tr>\n",
       "    <tr>\n",
       "      <th>28</th>\n",
       "      <td>22484</td>\n",
       "      <td>0.075000</td>\n",
       "      <td>17.43</td>\n",
       "    </tr>\n",
       "    <tr>\n",
       "      <th>29</th>\n",
       "      <td>15162</td>\n",
       "      <td>0.050575</td>\n",
       "      <td>16.50</td>\n",
       "    </tr>\n",
       "    <tr>\n",
       "      <th>30</th>\n",
       "      <td>30000</td>\n",
       "      <td>0.101000</td>\n",
       "      <td>18.90</td>\n",
       "    </tr>\n",
       "    <tr>\n",
       "      <th>31</th>\n",
       "      <td>12981</td>\n",
       "      <td>0.043300</td>\n",
       "      <td>15.23</td>\n",
       "    </tr>\n",
       "    <tr>\n",
       "      <th>32</th>\n",
       "      <td>8803</td>\n",
       "      <td>0.029364</td>\n",
       "      <td>14.90</td>\n",
       "    </tr>\n",
       "  </tbody>\n",
       "</table>\n",
       "</div>"
      ],
      "text/plain": [
       "    V(km/s)  Redshift  Magnitud\n",
       "0     18287  0.060998     17.62\n",
       "1      5691  0.018983     15.00\n",
       "2     26382  0.088000     18.59\n",
       "3      5996  0.020000     15.54\n",
       "4     19202  0.064051     15.30\n",
       "5     23684  0.079000     16.56\n",
       "6     11702  0.039034     17.14\n",
       "7     17284  0.057653     13.50\n",
       "8     13491  0.045000     17.80\n",
       "9     10566  0.035244     15.25\n",
       "10    14718  0.049094     15.60\n",
       "11    13491  0.045000     14.52\n",
       "12    16325  0.054453     15.30\n",
       "13    20686  0.069000     16.80\n",
       "14     1808  0.006031     11.16\n",
       "15     7603  0.025361     15.18\n",
       "16     1018  0.003395     12.24\n",
       "17      321  0.001071     13.00\n",
       "18     3106  0.010360     12.49\n",
       "19     9426  0.031442     14.53\n",
       "20     7464  0.024897     15.21\n",
       "21    15143  0.050512     17.40\n",
       "22      407  0.001358     10.87\n",
       "23     7257  0.024207     14.60\n",
       "24     9193  0.030664     15.10\n",
       "25    12137  0.040485     14.75\n",
       "26     4264  0.014224     14.98\n",
       "27     4381  0.014615     14.15\n",
       "28    22484  0.075000     17.43\n",
       "29    15162  0.050575     16.50\n",
       "30    30000  0.101000     18.90\n",
       "31    12981  0.043300     15.23\n",
       "32     8803  0.029364     14.90"
      ]
     },
     "execution_count": 173,
     "metadata": {},
     "output_type": "execute_result"
    }
   ],
   "source": [
    "import pandas as pd\n",
    "\n",
    "df = pd.read_table('https://robot.inf.um.es/material/data/ConstanteHubbleDatos-1.txt', sep='\\s+', comment='#')\n",
    "df"
   ]
  },
  {
   "cell_type": "markdown",
   "metadata": {
    "hidden": true
   },
   "source": [
    "Puede convertirse en un array normal:"
   ]
  },
  {
   "cell_type": "code",
   "execution_count": 174,
   "metadata": {
    "hidden": true
   },
   "outputs": [
    {
     "data": {
      "text/plain": [
       "array([[1.8287e+04, 6.0998e-02, 1.7620e+01],\n",
       "       [5.6910e+03, 1.8983e-02, 1.5000e+01],\n",
       "       [2.6382e+04, 8.8000e-02, 1.8590e+01],\n",
       "       [5.9960e+03, 2.0000e-02, 1.5540e+01],\n",
       "       [1.9202e+04, 6.4051e-02, 1.5300e+01],\n",
       "       [2.3684e+04, 7.9000e-02, 1.6560e+01],\n",
       "       [1.1702e+04, 3.9034e-02, 1.7140e+01],\n",
       "       [1.7284e+04, 5.7653e-02, 1.3500e+01],\n",
       "       [1.3491e+04, 4.5000e-02, 1.7800e+01],\n",
       "       [1.0566e+04, 3.5244e-02, 1.5250e+01],\n",
       "       [1.4718e+04, 4.9094e-02, 1.5600e+01],\n",
       "       [1.3491e+04, 4.5000e-02, 1.4520e+01],\n",
       "       [1.6325e+04, 5.4453e-02, 1.5300e+01],\n",
       "       [2.0686e+04, 6.9000e-02, 1.6800e+01],\n",
       "       [1.8080e+03, 6.0310e-03, 1.1160e+01],\n",
       "       [7.6030e+03, 2.5361e-02, 1.5180e+01],\n",
       "       [1.0180e+03, 3.3950e-03, 1.2240e+01],\n",
       "       [3.2100e+02, 1.0710e-03, 1.3000e+01],\n",
       "       [3.1060e+03, 1.0360e-02, 1.2490e+01],\n",
       "       [9.4260e+03, 3.1442e-02, 1.4530e+01],\n",
       "       [7.4640e+03, 2.4897e-02, 1.5210e+01],\n",
       "       [1.5143e+04, 5.0512e-02, 1.7400e+01],\n",
       "       [4.0700e+02, 1.3580e-03, 1.0870e+01],\n",
       "       [7.2570e+03, 2.4207e-02, 1.4600e+01],\n",
       "       [9.1930e+03, 3.0664e-02, 1.5100e+01],\n",
       "       [1.2137e+04, 4.0485e-02, 1.4750e+01],\n",
       "       [4.2640e+03, 1.4224e-02, 1.4980e+01],\n",
       "       [4.3810e+03, 1.4615e-02, 1.4150e+01],\n",
       "       [2.2484e+04, 7.5000e-02, 1.7430e+01],\n",
       "       [1.5162e+04, 5.0575e-02, 1.6500e+01],\n",
       "       [3.0000e+04, 1.0100e-01, 1.8900e+01],\n",
       "       [1.2981e+04, 4.3300e-02, 1.5230e+01],\n",
       "       [8.8030e+03, 2.9364e-02, 1.4900e+01]])"
      ]
     },
     "execution_count": 174,
     "metadata": {},
     "output_type": "execute_result"
    }
   ],
   "source": [
    "A = np.array(df)\n",
    "A"
   ]
  },
  {
   "cell_type": "code",
   "execution_count": 175,
   "metadata": {
    "hidden": true
   },
   "outputs": [
    {
     "data": {
      "image/png": "[encoded data removed]",
      "text/plain": [
       "<Figure size 432x288 with 1 Axes>"
      ]
     },
     "metadata": {
      "needs_background": "light"
     },
     "output_type": "display_data"
    }
   ],
   "source": [
    "x = A[:,0]\n",
    "y = A[:,2]\n",
    "\n",
    "# x,_,y = A.T\n",
    "\n",
    "plt.plot(x,y,'.');"
   ]
  },
  {
   "cell_type": "markdown",
   "metadata": {
    "heading_collapsed": true
   },
   "source": [
    "## Cálculo científico"
   ]
  },
  {
   "cell_type": "markdown",
   "metadata": {
    "heading_collapsed": true,
    "hidden": true
   },
   "source": [
    "### Números pseudoaleatorios y estadística elemental"
   ]
  },
  {
   "cell_type": "markdown",
   "metadata": {
    "hidden": true
   },
   "source": [
    "`numpy` permite generar arrays de números pseudoaleatorios con diferentes tipos de distribuciones (uniforme, normal, etc.).\n",
    "\n",
    "Tiene también funciones de estadística descriptiva para calcular características de conjuntos de datos tales como la media, mediana, desviación típica, máximo y mínimo, etc."
   ]
  },
  {
   "cell_type": "markdown",
   "metadata": {
    "hidden": true
   },
   "source": [
    "Como ejemplo, podemos estudiar la distribución de puntuaciones al lanzar 3 dados."
   ]
  },
  {
   "cell_type": "code",
   "execution_count": 176,
   "metadata": {
    "hidden": true
   },
   "outputs": [
    {
     "data": {
      "text/plain": [
       "array([[3, 6, 1],\n",
       "       [6, 1, 1],\n",
       "       [4, 4, 2],\n",
       "       [4, 5, 2],\n",
       "       [5, 5, 4],\n",
       "       [2, 3, 2],\n",
       "       [1, 6, 6],\n",
       "       [4, 1, 2],\n",
       "       [2, 3, 3],\n",
       "       [2, 1, 1]])"
      ]
     },
     "execution_count": 176,
     "metadata": {},
     "output_type": "execute_result"
    }
   ],
   "source": [
    "dados = np.random.randint(1,6+1,(100,3))\n",
    "dados[:10]"
   ]
  },
  {
   "cell_type": "code",
   "execution_count": 177,
   "metadata": {
    "hidden": true
   },
   "outputs": [
    {
     "data": {
      "text/plain": [
       "array([10,  8, 10, 11, 14,  7, 13,  7,  8,  4, 14, 16, 10, 11, 14, 17,  8,\n",
       "       11,  9, 14, 17,  3, 14,  6, 14, 10,  7,  8, 12,  9,  9, 14, 11, 11,\n",
       "        8, 13, 12,  7, 12,  9,  9,  9,  7,  9, 12,  4, 13, 14, 17,  7,  9,\n",
       "        9, 11,  6, 13, 15, 11,  8, 14, 14, 12,  5,  9, 13, 13,  4,  8, 16,\n",
       "       13, 12, 11, 14,  7,  7,  7, 10, 10, 13, 11, 11, 10,  8, 11, 10,  7,\n",
       "       14, 13, 13, 10, 16,  6, 15,  9, 18, 11, 16,  7,  4,  7, 16])"
      ]
     },
     "execution_count": 177,
     "metadata": {},
     "output_type": "execute_result"
    }
   ],
   "source": [
    "s = np.sum(dados,axis=1)\n",
    "s"
   ]
  },
  {
   "cell_type": "code",
   "execution_count": 178,
   "metadata": {
    "hidden": true
   },
   "outputs": [
    {
     "data": {
      "image/png": "[encoded data removed]",
      "text/plain": [
       "<Figure size 432x288 with 1 Axes>"
      ]
     },
     "metadata": {
      "needs_background": "light"
     },
     "output_type": "display_data"
    }
   ],
   "source": [
    "plt.hist(s,bins=np.arange(2,19)+0.5);"
   ]
  },
  {
   "cell_type": "code",
   "execution_count": 179,
   "metadata": {
    "hidden": true
   },
   "outputs": [
    {
     "data": {
      "text/plain": [
       "10.6"
      ]
     },
     "execution_count": 179,
     "metadata": {},
     "output_type": "execute_result"
    }
   ],
   "source": [
    "s.mean()"
   ]
  },
  {
   "cell_type": "code",
   "execution_count": 180,
   "metadata": {
    "hidden": true
   },
   "outputs": [
    {
     "data": {
      "text/plain": [
       "3.3763886032268267"
      ]
     },
     "execution_count": 180,
     "metadata": {},
     "output_type": "execute_result"
    }
   ],
   "source": [
    "s.std()"
   ]
  },
  {
   "cell_type": "markdown",
   "metadata": {
    "heading_collapsed": true,
    "hidden": true
   },
   "source": [
    "### Implementación eficiente"
   ]
  },
  {
   "cell_type": "markdown",
   "metadata": {
    "hidden": true
   },
   "source": [
    "Las operaciones de `numpy` están \"optimizadas\" (escritas internamente en código C eficiente)."
   ]
  },
  {
   "cell_type": "code",
   "execution_count": 181,
   "metadata": {
    "hidden": true
   },
   "outputs": [],
   "source": [
    "x = np.random.rand(10**8)"
   ]
  },
  {
   "cell_type": "code",
   "execution_count": 182,
   "metadata": {
    "hidden": true
   },
   "outputs": [
    {
     "data": {
      "text/plain": [
       "array([0.39520383, 0.36193568, 0.16302059, ..., 0.66497153, 0.07501657,\n",
       "       0.8121129 ])"
      ]
     },
     "execution_count": 182,
     "metadata": {},
     "output_type": "execute_result"
    }
   ],
   "source": [
    "x"
   ]
  },
  {
   "cell_type": "code",
   "execution_count": 183,
   "metadata": {
    "hidden": true
   },
   "outputs": [
    {
     "name": "stdout",
     "output_type": "stream",
     "text": [
      "CPU times: user 129 ms, sys: 465 µs, total: 130 ms\n",
      "Wall time: 127 ms\n"
     ]
    },
    {
     "data": {
      "text/plain": [
       "0.500018403633832"
      ]
     },
     "execution_count": 183,
     "metadata": {},
     "output_type": "execute_result"
    }
   ],
   "source": [
    "%%time\n",
    "\n",
    "np.mean(x)"
   ]
  },
  {
   "cell_type": "code",
   "execution_count": 184,
   "metadata": {
    "hidden": true
   },
   "outputs": [
    {
     "name": "stdout",
     "output_type": "stream",
     "text": [
      "85.5 ms ± 8.76 ms per loop (mean ± std. dev. of 7 runs, 10 loops each)\n"
     ]
    }
   ],
   "source": [
    "%%timeit\n",
    "\n",
    "np.mean(x)"
   ]
  },
  {
   "cell_type": "code",
   "execution_count": 185,
   "metadata": {
    "hidden": true
   },
   "outputs": [
    {
     "name": "stdout",
     "output_type": "stream",
     "text": [
      "87.1 ms ± 6.98 ms per loop (mean ± std. dev. of 7 runs, 10 loops each)\n"
     ]
    }
   ],
   "source": [
    "%%timeit\n",
    "\n",
    "x @ x"
   ]
  },
  {
   "cell_type": "markdown",
   "metadata": {
    "hidden": true
   },
   "source": [
    "Si la misma operación se realiza \"manualmente\" con instrucciones normales de Python requiere mucho más tiempo:"
   ]
  },
  {
   "cell_type": "code",
   "execution_count": 186,
   "metadata": {
    "hidden": true
   },
   "outputs": [
    {
     "name": "stdout",
     "output_type": "stream",
     "text": [
      "0.5000184036336627\n",
      "CPU times: user 17.2 s, sys: 0 ns, total: 17.2 s\n",
      "Wall time: 17.2 s\n"
     ]
    }
   ],
   "source": [
    "%%time\n",
    "\n",
    "s = 0\n",
    "for e in x:\n",
    "    s += e\n",
    "print(s/len(x))"
   ]
  },
  {
   "cell_type": "markdown",
   "metadata": {
    "hidden": true
   },
   "source": [
    "Por tanto, si usamos los módulos apropiados los programas en Python no tienen por qué ser más lentos que los de otros lenguajes de programación. Python es \"glue code\", un pegamento para combinar bibliotecas de funciones, escritas en cualquier lenguaje, que resuelven eficientemente problemas específicos."
   ]
  },
  {
   "cell_type": "markdown",
   "metadata": {
    "heading_collapsed": true,
    "hidden": true
   },
   "source": [
    "### Álgebra lineal"
   ]
  },
  {
   "cell_type": "markdown",
   "metadata": {
    "hidden": true
   },
   "source": [
    "El submódulo `linalg` ofrece las operaciones usuales de álgebra lineal."
   ]
  },
  {
   "cell_type": "code",
   "execution_count": 187,
   "metadata": {
    "hidden": true
   },
   "outputs": [],
   "source": [
    "import scipy.linalg as la"
   ]
  },
  {
   "cell_type": "markdown",
   "metadata": {
    "hidden": true
   },
   "source": [
    "Por ejemplo, podemos calcular fácilmente el módulo de un vector:"
   ]
  },
  {
   "cell_type": "code",
   "execution_count": 188,
   "metadata": {
    "hidden": true
   },
   "outputs": [
    {
     "data": {
      "text/plain": [
       "7.416198487095663"
      ]
     },
     "execution_count": 188,
     "metadata": {},
     "output_type": "execute_result"
    }
   ],
   "source": [
    "la.norm([1,2,3,4,5])"
   ]
  },
  {
   "cell_type": "markdown",
   "metadata": {
    "hidden": true
   },
   "source": [
    "o el determinante de una matriz:"
   ]
  },
  {
   "cell_type": "code",
   "execution_count": 189,
   "metadata": {
    "hidden": true
   },
   "outputs": [
    {
     "data": {
      "text/plain": [
       "-2.0"
      ]
     },
     "execution_count": 189,
     "metadata": {},
     "output_type": "execute_result"
    }
   ],
   "source": [
    "la.det([[1,2],\n",
    "        [3,4]])"
   ]
  },
  {
   "cell_type": "markdown",
   "metadata": {
    "hidden": true
   },
   "source": [
    "Observa que muchas de las funciones que trabajan con arrays admiten también otros contenedores como listas o tuplas, que son transformadas automáticamente en arrays."
   ]
  },
  {
   "cell_type": "markdown",
   "metadata": {
    "hidden": true
   },
   "source": [
    "Un problema muy importante es la resolución de sistemas de ecuaciones lineales. Si tenemos que resolver un sistema como"
   ]
  },
  {
   "cell_type": "markdown",
   "metadata": {
    "hidden": true
   },
   "source": [
    "$$\n",
    "\\begin{align*}\n",
    "x + 2y &= 3\\\\\n",
    "3x+4y  &= 5\n",
    "\\end{align*}\n",
    "$$"
   ]
  },
  {
   "cell_type": "markdown",
   "metadata": {
    "hidden": true
   },
   "source": [
    "Lo expresamos en forma matricial $AX=B$ y podemos resolverlo con la inversa de $A$, o directamente con `solve`."
   ]
  },
  {
   "cell_type": "code",
   "execution_count": 190,
   "metadata": {
    "hidden": true
   },
   "outputs": [],
   "source": [
    "m = np.array([[1,2],\n",
    "              [3,4]])"
   ]
  },
  {
   "cell_type": "code",
   "execution_count": 191,
   "metadata": {
    "hidden": true
   },
   "outputs": [
    {
     "data": {
      "text/plain": [
       "array([[1, 2],\n",
       "       [3, 4]])"
      ]
     },
     "execution_count": 191,
     "metadata": {},
     "output_type": "execute_result"
    }
   ],
   "source": [
    "m"
   ]
  },
  {
   "cell_type": "code",
   "execution_count": 192,
   "metadata": {
    "hidden": true
   },
   "outputs": [
    {
     "data": {
      "text/plain": [
       "array([[-2. ,  1. ],\n",
       "       [ 1.5, -0.5]])"
      ]
     },
     "execution_count": 192,
     "metadata": {},
     "output_type": "execute_result"
    }
   ],
   "source": [
    "la.inv(m)"
   ]
  },
  {
   "cell_type": "code",
   "execution_count": 193,
   "metadata": {
    "hidden": true
   },
   "outputs": [
    {
     "data": {
      "text/plain": [
       "array([-1.,  2.])"
      ]
     },
     "execution_count": 193,
     "metadata": {},
     "output_type": "execute_result"
    }
   ],
   "source": [
    "la.inv(m) @ np.array([3,5])"
   ]
  },
  {
   "cell_type": "markdown",
   "metadata": {
    "hidden": true
   },
   "source": [
    "Es mejor (más eficiente y numéricamente estable) usar la función `solve`:"
   ]
  },
  {
   "cell_type": "code",
   "execution_count": 194,
   "metadata": {
    "hidden": true
   },
   "outputs": [
    {
     "data": {
      "text/plain": [
       "array([-1.,  2.])"
      ]
     },
     "execution_count": 194,
     "metadata": {},
     "output_type": "execute_result"
    }
   ],
   "source": [
    "la.solve(m,[3,5])"
   ]
  },
  {
   "cell_type": "markdown",
   "metadata": {
    "hidden": true
   },
   "source": [
    "La solución se debería mostrar como una columna, pero en Python los arrays de una dimensión se imprimen como una fila porque no siempre representan vectores matemáticos. Si lo preferimos podemos usar matrices de una sola columna."
   ]
  },
  {
   "cell_type": "code",
   "execution_count": 195,
   "metadata": {
    "hidden": true
   },
   "outputs": [
    {
     "data": {
      "text/plain": [
       "array([[-1.],\n",
       "       [ 2.]])"
      ]
     },
     "execution_count": 195,
     "metadata": {},
     "output_type": "execute_result"
    }
   ],
   "source": [
    "x = la.solve(m,[[3],\n",
    "                [5]])\n",
    "\n",
    "x"
   ]
  },
  {
   "cell_type": "code",
   "execution_count": 196,
   "metadata": {
    "hidden": true
   },
   "outputs": [
    {
     "data": {
      "text/plain": [
       "array([[3.],\n",
       "       [5.]])"
      ]
     },
     "execution_count": 196,
     "metadata": {},
     "output_type": "execute_result"
    }
   ],
   "source": [
    "m @ x"
   ]
  },
  {
   "cell_type": "markdown",
   "metadata": {
    "hidden": true
   },
   "source": [
    "Si el lado derecho de la ecuación matricial $A X = B$ es una matriz, la solución $X$ también lo será."
   ]
  },
  {
   "cell_type": "markdown",
   "metadata": {
    "heading_collapsed": true,
    "hidden": true
   },
   "source": [
    "### Computación matricial"
   ]
  },
  {
   "cell_type": "markdown",
   "metadata": {
    "hidden": true
   },
   "source": [
    "Python proporciona una [amplia colección](https://docs.scipy.org/doc/scipy/reference/linalg.html) de funciones de álgebra lineal numérica."
   ]
  },
  {
   "cell_type": "code",
   "execution_count": 197,
   "metadata": {
    "hidden": true
   },
   "outputs": [
    {
     "data": {
      "text/plain": [
       "(array([-0.23606798,  4.23606798]), array([[-0.85065081,  0.52573111],\n",
       "        [ 0.52573111,  0.85065081]]))"
      ]
     },
     "execution_count": 197,
     "metadata": {},
     "output_type": "execute_result"
    }
   ],
   "source": [
    "la.eigh([[1,2],\n",
    "         [2,3]])"
   ]
  },
  {
   "cell_type": "markdown",
   "metadata": {
    "heading_collapsed": true,
    "hidden": true
   },
   "source": [
    "### Mínimos cuadrados"
   ]
  },
  {
   "cell_type": "markdown",
   "metadata": {
    "hidden": true
   },
   "source": [
    "Como ejemplo de uso de las herramientas de álgebra lineal realizaremos el ajuste de un modelo polinomial a unas observaciones ficticias. Encontraremos la solución de mínimo error cuadrático a un sistema de ecuaciones sobredeterminado.\n",
    "\n",
    "En primer lugar generamos unos datos de prueba artificiales que simulan observaciones contaminadas con ruido de una función no lineal."
   ]
  },
  {
   "cell_type": "code",
   "execution_count": 198,
   "metadata": {
    "hidden": true,
    "scrolled": true
   },
   "outputs": [
    {
     "data": {
      "image/png": "[encoded data removed]",
      "text/plain": [
       "<Figure size 432x288 with 1 Axes>"
      ]
     },
     "metadata": {
      "needs_background": "light"
     },
     "output_type": "display_data"
    }
   ],
   "source": [
    "import matplotlib.pyplot as plt\n",
    "%matplotlib inline\n",
    "\n",
    "x = np.linspace(0,2,30)\n",
    "\n",
    "y = np.sin(x) + 0.05*np.random.randn(x.size)\n",
    "\n",
    "plt.plot(x,y,'.');"
   ]
  },
  {
   "cell_type": "markdown",
   "metadata": {
    "hidden": true
   },
   "source": [
    "Vamos a ajustar un modelo del tipo $y = ax^2 + bx + c$. Los coeficientes desconocidos $a$, $b$ y $c$ se pueden obtener resolviendo un sistema de ecuaciones lineales."
   ]
  },
  {
   "cell_type": "markdown",
   "metadata": {
    "hidden": true
   },
   "source": [
    "La matriz de coeficientes tiene potencias de $x$ hasta el grado que nos interesa."
   ]
  },
  {
   "cell_type": "code",
   "execution_count": 199,
   "metadata": {
    "hidden": true
   },
   "outputs": [
    {
     "data": {
      "text/plain": [
       "array([[0.        , 0.        , 1.        ],\n",
       "       [0.00475624, 0.06896552, 1.        ],\n",
       "       [0.01902497, 0.13793103, 1.        ],\n",
       "       [0.04280618, 0.20689655, 1.        ],\n",
       "       [0.07609988, 0.27586207, 1.        ],\n",
       "       [0.11890606, 0.34482759, 1.        ],\n",
       "       [0.17122473, 0.4137931 , 1.        ],\n",
       "       [0.23305589, 0.48275862, 1.        ],\n",
       "       [0.30439952, 0.55172414, 1.        ],\n",
       "       [0.38525565, 0.62068966, 1.        ],\n",
       "       [0.47562426, 0.68965517, 1.        ],\n",
       "       [0.57550535, 0.75862069, 1.        ],\n",
       "       [0.68489893, 0.82758621, 1.        ],\n",
       "       [0.80380499, 0.89655172, 1.        ],\n",
       "       [0.93222354, 0.96551724, 1.        ],\n",
       "       [1.07015458, 1.03448276, 1.        ],\n",
       "       [1.2175981 , 1.10344828, 1.        ],\n",
       "       [1.3745541 , 1.17241379, 1.        ],\n",
       "       [1.54102259, 1.24137931, 1.        ],\n",
       "       [1.71700357, 1.31034483, 1.        ],\n",
       "       [1.90249703, 1.37931034, 1.        ],\n",
       "       [2.09750297, 1.44827586, 1.        ],\n",
       "       [2.3020214 , 1.51724138, 1.        ],\n",
       "       [2.51605232, 1.5862069 , 1.        ],\n",
       "       [2.73959572, 1.65517241, 1.        ],\n",
       "       [2.97265161, 1.72413793, 1.        ],\n",
       "       [3.21521998, 1.79310345, 1.        ],\n",
       "       [3.46730083, 1.86206897, 1.        ],\n",
       "       [3.72889417, 1.93103448, 1.        ],\n",
       "       [4.        , 2.        , 1.        ]])"
      ]
     },
     "execution_count": 199,
     "metadata": {},
     "output_type": "execute_result"
    }
   ],
   "source": [
    "A = np.vstack([x**2, x, np.ones(x.size)]).T\n",
    "\n",
    "A"
   ]
  },
  {
   "cell_type": "markdown",
   "metadata": {
    "hidden": true
   },
   "source": [
    "El lado derecho del sistema es directamente el vector con los valores de $y$, la variable independiente del modelo."
   ]
  },
  {
   "cell_type": "code",
   "execution_count": 200,
   "metadata": {
    "hidden": true
   },
   "outputs": [
    {
     "data": {
      "text/plain": [
       "array([-0.03376601,  0.1262018 ,  0.10308713,  0.22008185,  0.22293447,\n",
       "        0.36197156,  0.33667892,  0.34638041,  0.51909713,  0.65396166,\n",
       "        0.60524298,  0.6565335 ,  0.80283792,  0.80984674,  0.90612391,\n",
       "        0.86432539,  0.82420153,  0.8831923 ,  0.96355321,  0.95857022,\n",
       "        1.00002704,  1.00481373,  0.99556629,  0.97193459,  0.9837597 ,\n",
       "        1.01496467,  0.95858499,  1.00338407,  0.92323694,  0.91704651])"
      ]
     },
     "execution_count": 200,
     "metadata": {},
     "output_type": "execute_result"
    }
   ],
   "source": [
    "B = np.array(y)\n",
    "\n",
    "B"
   ]
  },
  {
   "cell_type": "markdown",
   "metadata": {
    "hidden": true
   },
   "source": [
    "El sistema que hay que resolver está sobredeterminado: tiene solo tres incógnitas y tantas ecuaciones como observaciones de la función.\n",
    "\n",
    "$$A \\begin{bmatrix}a\\\\b\\\\c\\end{bmatrix}= B$$\n",
    "\n",
    "La solución de [mínimo error cuadrático](https://en.wikipedia.org/wiki/Least_squares) para los coeficientes del modelo se obtiene de manera directa:"
   ]
  },
  {
   "cell_type": "code",
   "execution_count": 201,
   "metadata": {
    "hidden": true
   },
   "outputs": [
    {
     "data": {
      "text/plain": [
       "array([-0.39434454,  1.28360329, -0.05193268])"
      ]
     },
     "execution_count": 201,
     "metadata": {},
     "output_type": "execute_result"
    }
   ],
   "source": [
    "sol = la.lstsq(A,B)[0]\n",
    "\n",
    "sol"
   ]
  },
  {
   "cell_type": "code",
   "execution_count": 202,
   "metadata": {
    "hidden": true
   },
   "outputs": [
    {
     "data": {
      "image/png": "[encoded data removed]",
      "text/plain": [
       "<Figure size 432x288 with 1 Axes>"
      ]
     },
     "metadata": {
      "needs_background": "light"
     },
     "output_type": "display_data"
    }
   ],
   "source": [
    "ye = A @ sol\n",
    "\n",
    "plt.plot(x,y,'.',x,ye,'r');"
   ]
  },
  {
   "cell_type": "markdown",
   "metadata": {
    "hidden": true
   },
   "source": [
    "Se puede experimentar con polinomios de mayor o menor grado."
   ]
  },
  {
   "cell_type": "markdown",
   "metadata": {
    "heading_collapsed": true,
    "hidden": true
   },
   "source": [
    "### Solución numérica de ecuaciones no lineales"
   ]
  },
  {
   "cell_type": "markdown",
   "metadata": {
    "hidden": true
   },
   "source": [
    "Resuelve \n",
    "\n",
    "$$x^4=16$$"
   ]
  },
  {
   "cell_type": "code",
   "execution_count": 203,
   "metadata": {
    "hidden": true
   },
   "outputs": [
    {
     "data": {
      "text/plain": [
       "array([-2.00000000e+00+0.j,  1.66533454e-16+2.j,  1.66533454e-16-2.j,\n",
       "        2.00000000e+00+0.j])"
      ]
     },
     "execution_count": 203,
     "metadata": {},
     "output_type": "execute_result"
    }
   ],
   "source": [
    "import scipy as sci\n",
    "\n",
    "sci.roots([1,0,0,0,-16])"
   ]
  },
  {
   "cell_type": "markdown",
   "metadata": {
    "hidden": true
   },
   "source": [
    "Resuelve\n",
    "\n",
    "$$sin(x)+cos(2x)=0$$"
   ]
  },
  {
   "cell_type": "code",
   "execution_count": 204,
   "metadata": {
    "hidden": true
   },
   "outputs": [
    {
     "data": {
      "text/plain": [
       "array([-0.52359878])"
      ]
     },
     "execution_count": 204,
     "metadata": {},
     "output_type": "execute_result"
    }
   ],
   "source": [
    "import scipy.optimize as opt\n",
    "\n",
    "opt.fsolve(lambda x: sci.sin(x) + sci.cos(2*x), 0)"
   ]
  },
  {
   "cell_type": "markdown",
   "metadata": {
    "hidden": true
   },
   "source": [
    "Resuelve\n",
    "\n",
    "$$\n",
    "\\begin{align*}\n",
    "x^2 - 3y &= 10\\\\\n",
    "sin(x)+y &= 5\n",
    "\\end{align*}\n",
    "$$"
   ]
  },
  {
   "cell_type": "code",
   "execution_count": 205,
   "metadata": {
    "hidden": true,
    "scrolled": true
   },
   "outputs": [
    {
     "data": {
      "text/plain": [
       "array([5.2511881 , 5.85832548])"
      ]
     },
     "execution_count": 205,
     "metadata": {},
     "output_type": "execute_result"
    }
   ],
   "source": [
    "def fun(z):\n",
    "    x,y = z\n",
    "    return [ x**2 - 3*y - 10\n",
    "           , sci.sin(x) + y - 5]\n",
    "\n",
    "opt.fsolve(fun,[0.1,-0.1])"
   ]
  },
  {
   "cell_type": "markdown",
   "metadata": {
    "heading_collapsed": true,
    "hidden": true
   },
   "source": [
    "### Minimización"
   ]
  },
  {
   "cell_type": "markdown",
   "metadata": {
    "hidden": true
   },
   "source": [
    "Encuentra $(x,y)$ que minimiza $(x-1)^2 + (y-2)^2-x+3y$"
   ]
  },
  {
   "cell_type": "code",
   "execution_count": 206,
   "metadata": {
    "hidden": true
   },
   "outputs": [
    {
     "data": {
      "text/plain": [
       "      fun: 2.500000000000014\n",
       " hess_inv: array([[ 0.57758622, -0.18103452],\n",
       "       [-0.18103452,  0.92241375]])\n",
       "      jac: array([ 0.00000000e+00, -2.38418579e-07])\n",
       "  message: 'Optimization terminated successfully.'\n",
       "     nfev: 12\n",
       "      nit: 2\n",
       "     njev: 3\n",
       "   status: 0\n",
       "  success: True\n",
       "        x: array([1.49999999, 0.49999988])"
      ]
     },
     "execution_count": 206,
     "metadata": {},
     "output_type": "execute_result"
    }
   ],
   "source": [
    "def fun(z):\n",
    "    x,y = z\n",
    "    return (x-1)**2 + (y-2)**2 - x + 3*y\n",
    "\n",
    "opt.minimize(fun,[0.1,-0.1])"
   ]
  },
  {
   "cell_type": "markdown",
   "metadata": {
    "heading_collapsed": true,
    "hidden": true
   },
   "source": [
    "### Derivación numérica"
   ]
  },
  {
   "cell_type": "markdown",
   "metadata": {
    "hidden": true
   },
   "source": [
    "Calcula una aproximación numérica para $f'(2)$ cuando $f(x) = \\sin(2x)*\\exp(\\cos(x))$"
   ]
  },
  {
   "cell_type": "code",
   "execution_count": 207,
   "metadata": {
    "hidden": true
   },
   "outputs": [
    {
     "data": {
      "text/plain": [
       "-0.40836700757052036"
      ]
     },
     "execution_count": 207,
     "metadata": {},
     "output_type": "execute_result"
    }
   ],
   "source": [
    "from scipy.misc import derivative\n",
    "\n",
    "derivative(lambda x: sci.sin(2*x)*sci.exp(sci.cos(x)),2,1E-6)"
   ]
  },
  {
   "cell_type": "code",
   "execution_count": 208,
   "metadata": {
    "hidden": true
   },
   "outputs": [
    {
     "data": {
      "text/plain": [
       "-0.40836700756782335"
      ]
     },
     "execution_count": 208,
     "metadata": {},
     "output_type": "execute_result"
    }
   ],
   "source": [
    "(lambda x: (-np.sin(x)*np.sin(2*x) + 2*np.cos(2*x))*np.exp(np.cos(x)))(2)"
   ]
  },
  {
   "cell_type": "markdown",
   "metadata": {
    "heading_collapsed": true,
    "hidden": true
   },
   "source": [
    "### Integración numérica"
   ]
  },
  {
   "cell_type": "markdown",
   "metadata": {
    "hidden": true
   },
   "source": [
    "Calcula una aproximación numérica a la integral definida\n",
    "\n",
    "$$\\int_0^1 \\frac{4}{1+x^2}dx$$"
   ]
  },
  {
   "cell_type": "code",
   "execution_count": 209,
   "metadata": {
    "hidden": true
   },
   "outputs": [
    {
     "data": {
      "text/plain": [
       "(3.1415926535897936, 3.4878684980086326e-14)"
      ]
     },
     "execution_count": 209,
     "metadata": {},
     "output_type": "execute_result"
    }
   ],
   "source": [
    "from scipy.integrate import quad\n",
    "\n",
    "quad(lambda x: 4/(1+x**2),0,1)"
   ]
  },
  {
   "cell_type": "markdown",
   "metadata": {
    "heading_collapsed": true,
    "hidden": true
   },
   "source": [
    "### ecuaciones diferenciales"
   ]
  },
  {
   "cell_type": "markdown",
   "metadata": {
    "hidden": true
   },
   "source": [
    "Resuelve\n",
    "\n",
    "$$\\ddot{x}+0.95x+0.1\\dot{x}=0$$\n",
    "\n",
    "para $x(0)=10$, $\\dot{x}(0)=0, t\\in[0,20]$"
   ]
  },
  {
   "cell_type": "code",
   "execution_count": 210,
   "metadata": {
    "hidden": true
   },
   "outputs": [
    {
     "data": {
      "image/png": "[encoded data removed]",
      "text/plain": [
       "<Figure size 432x288 with 1 Axes>"
      ]
     },
     "metadata": {
      "needs_background": "light"
     },
     "output_type": "display_data"
    }
   ],
   "source": [
    "from scipy.integrate import odeint\n",
    "\n",
    "def xdot(z,t):\n",
    "    x,v = z\n",
    "    return [v,-0.95*x-0.1*v]\n",
    "\n",
    "t = np.linspace(0,20,1000)\n",
    "r = odeint(xdot,[10,0],t)\n",
    "# plt.plot(r);\n",
    "plt.plot(t,r[:,0],t,r[:,1]);"
   ]
  },
  {
   "cell_type": "code",
   "execution_count": 211,
   "metadata": {
    "hidden": true
   },
   "outputs": [
    {
     "data": {
      "image/png": "[encoded data removed]",
      "text/plain": [
       "<Figure size 432x288 with 1 Axes>"
      ]
     },
     "metadata": {
      "needs_background": "light"
     },
     "output_type": "display_data"
    }
   ],
   "source": [
    "plt.plot(r[:,0],r[:,1]);"
   ]
  },
  {
   "cell_type": "markdown",
   "metadata": {
    "heading_collapsed": true,
    "hidden": true
   },
   "source": [
    "### Cálculo simbólico"
   ]
  },
  {
   "cell_type": "markdown",
   "metadata": {
    "hidden": true
   },
   "source": [
    "[sympy](http://www.sympy.org/en/index.html)"
   ]
  },
  {
   "cell_type": "code",
   "execution_count": 212,
   "metadata": {
    "hidden": true
   },
   "outputs": [],
   "source": [
    "import sympy\n",
    "\n",
    "x = sympy.Symbol('x')"
   ]
  },
  {
   "cell_type": "code",
   "execution_count": 213,
   "metadata": {
    "hidden": true
   },
   "outputs": [
    {
     "data": {
      "text/plain": [
       "6*x**2*cos(2*x**3)"
      ]
     },
     "execution_count": 213,
     "metadata": {},
     "output_type": "execute_result"
    }
   ],
   "source": [
    "sympy.diff( sympy.sin(2*x**3) , x)"
   ]
  },
  {
   "cell_type": "code",
   "execution_count": 214,
   "metadata": {
    "hidden": true
   },
   "outputs": [
    {
     "data": {
      "text/plain": [
       "log(x + 1)"
      ]
     },
     "execution_count": 214,
     "metadata": {},
     "output_type": "execute_result"
    }
   ],
   "source": [
    "sympy.integrate(1/(1+x))"
   ]
  },
  {
   "cell_type": "markdown",
   "metadata": {
    "heading_collapsed": true
   },
   "source": [
    "## Varios"
   ]
  },
  {
   "cell_type": "markdown",
   "metadata": {
    "heading_collapsed": true,
    "hidden": true
   },
   "source": [
    "### Vídeos"
   ]
  },
  {
   "cell_type": "code",
   "execution_count": 215,
   "metadata": {
    "hidden": true
   },
   "outputs": [],
   "source": [
    "from IPython.display import YouTubeVideo"
   ]
  },
  {
   "cell_type": "code",
   "execution_count": 216,
   "metadata": {
    "hidden": true
   },
   "outputs": [
    {
     "data": {
      "image/jpeg": "[encoded data removed]",
      "text/html": [
       "\n",
       "        <iframe\n",
       "            width=\"400\"\n",
       "            height=\"300\"\n",
       "            src=\"https://www.youtube.com/embed/p7bzE1E5PMY\"\n",
       "            frameborder=\"0\"\n",
       "            allowfullscreen\n",
       "        ></iframe>\n",
       "        "
      ],
      "text/plain": [
       "<IPython.lib.display.YouTubeVideo at 0x7fa8329bf940>"
      ]
     },
     "execution_count": 216,
     "metadata": {},
     "output_type": "execute_result"
    }
   ],
   "source": [
    "YouTubeVideo('p7bzE1E5PMY')"
   ]
  },
  {
   "cell_type": "markdown",
   "metadata": {
    "heading_collapsed": true,
    "hidden": true
   },
   "source": [
    "### xkcd"
   ]
  },
  {
   "cell_type": "code",
   "execution_count": 2,
   "metadata": {
    "hidden": true
   },
   "outputs": [
    {
     "data": {
      "image/png": "[encoded data removed]",
      "text/plain": [
       "<Figure size 432x288 with 1 Axes>"
      ]
     },
     "metadata": {},
     "output_type": "display_data"
    }
   ],
   "source": [
    "plt.xkcd()\n",
    "plt.plot(np.sin(np.linspace(0, 10)))\n",
    "plt.title('Whoo Hoo!!!');"
   ]
  },
  {
   "cell_type": "markdown",
   "metadata": {
    "heading_collapsed": true,
    "hidden": true
   },
   "source": [
    "### Estilo del notebook"
   ]
  },
  {
   "cell_type": "code",
   "execution_count": 218,
   "metadata": {
    "hidden": true
   },
   "outputs": [],
   "source": [
    "# podemos \"tunearlo\"\n",
    "#from IPython.display import HTML\n",
    "#HTML(open('../css/nb1.css').read())"
   ]
  }
 ],
 "metadata": {
  "hide_input": false,
  "kernelspec": {
   "display_name": "Python 3 (ipykernel)",
   "language": "python",
   "name": "python3"
  },
  "language_info": {
   "codemirror_mode": {
    "name": "ipython",
    "version": 3
   },
   "file_extension": ".py",
   "mimetype": "text/x-python",
   "name": "python",
   "nbconvert_exporter": "python",
   "pygments_lexer": "ipython3",
   "version": "3.8.5"
  },
  "varInspector": {
   "cols": {
    "lenName": 16,
    "lenType": 16,
    "lenVar": 40
   },
   "kernels_config": {
    "python": {
     "delete_cmd_postfix": "",
     "delete_cmd_prefix": "del ",
     "library": "var_list.py",
     "varRefreshCmd": "print(var_dic_list())"
    },
    "r": {
     "delete_cmd_postfix": ") ",
     "delete_cmd_prefix": "rm(",
     "library": "var_list.r",
     "varRefreshCmd": "cat(var_dic_list()) "
    }
   },
   "types_to_exclude": [
    "module",
    "function",
    "builtin_function_or_method",
    "instance",
    "_Feature"
   ],
   "window_display": false
  }
 },
 "nbformat": 4,
 "nbformat_minor": 1
}
