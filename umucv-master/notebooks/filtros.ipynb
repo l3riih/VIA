{
 "cells": [
  {
   "cell_type": "markdown",
   "metadata": {},
   "source": [
    "# Filtros de imagen"
   ]
  },
  {
   "cell_type": "markdown",
   "metadata": {},
   "source": [
    "Son operaciones que modifican una imagen teniendo en cuenta, para cada pixel del resultado, solo un pequeño entorno de la imagen de entrada.\n",
    "\n",
    "Los filtros **lineales** se pueden expresar como la *convolución* de la imagen con una *máscara*.\n",
    "\n",
    "Los no lineales son cualquier operación algorítmica sobre el entorno."
   ]
  },
  {
   "cell_type": "markdown",
   "metadata": {
    "heading_collapsed": true
   },
   "source": [
    "### Bibliotecas y utilidades"
   ]
  },
  {
   "cell_type": "code",
   "execution_count": null,
   "metadata": {
    "hidden": true
   },
   "outputs": [],
   "source": [
    "import numpy             as np\n",
    "import cv2               as cv\n",
    "import matplotlib.pyplot as plt\n",
    "import scipy.signal      as signal\n",
    "\n",
    "%matplotlib inline"
   ]
  },
  {
   "cell_type": "code",
   "execution_count": null,
   "metadata": {
    "hidden": true
   },
   "outputs": [],
   "source": [
    "def fig(w,h):\n",
    "    plt.figure(figsize=(w,h))\n",
    "\n",
    "def readrgb(file):\n",
    "    return cv.cvtColor( cv.imread(\"../images/\"+file), cv.COLOR_BGR2RGB) \n",
    "\n",
    "def rgb2gray(x):\n",
    "    return cv.cvtColor(x,cv.COLOR_RGB2GRAY)\n",
    "\n",
    "def gray2float(x):\n",
    "    return x.astype(float) / 255\n",
    "\n",
    "# para ver imágenes monocromas autoescalando el rango\n",
    "def imshowg(x):\n",
    "    plt.imshow(x, 'gray')\n",
    "\n",
    "# para ver imágenes monocromas de float con rango fijo\n",
    "def imshowf(x):\n",
    "    plt.imshow(x, 'gray', vmin = 0, vmax=1)\n",
    "\n",
    "# para ver imágenes con signo\n",
    "def imshows(x,r=1):\n",
    "    plt.imshow(x, 'bwr', vmin = -r, vmax=r)\n",
    "\n",
    "# ojo: filter2D no hace flip de la máscara (realmente hace correlación)\n",
    "# (da igual en máscaras simétricas)\n",
    "def conv(k,x):\n",
    "    return cv.filter2D(x,-1,k)\n",
    "\n",
    "# esta versión es correcta\n",
    "def cconv(k,x):\n",
    "    return signal.convolve2d(x, k, boundary='symm', mode='same')"
   ]
  },
  {
   "cell_type": "markdown",
   "metadata": {
    "heading_collapsed": true
   },
   "source": [
    "### Convolución"
   ]
  },
  {
   "cell_type": "markdown",
   "metadata": {
    "hidden": true
   },
   "source": [
    "Usamos una imagen cualquiera para ver el resultado"
   ]
  },
  {
   "cell_type": "code",
   "execution_count": null,
   "metadata": {
    "hidden": true
   },
   "outputs": [],
   "source": [
    "rgb = readrgb(\"cube3.png\")\n",
    "g = rgb2gray(rgb)\n",
    "f = gray2float(g)\n",
    "\n",
    "plt.imshow(rgb);"
   ]
  },
  {
   "cell_type": "markdown",
   "metadata": {
    "hidden": true
   },
   "source": [
    "Esta función recibe una máscara de convolución y compara la imagen original con el resultado del filtro."
   ]
  },
  {
   "cell_type": "code",
   "execution_count": null,
   "metadata": {
    "hidden": true
   },
   "outputs": [],
   "source": [
    "def democonv(k,x):\n",
    "    print(k)\n",
    "    fig(12,4)\n",
    "    plt.subplot(1,2,1); imshowf(x); plt.title('original')\n",
    "    plt.subplot(1,2,2); imshowf(cconv(k,x)); plt.title('resultado')"
   ]
  },
  {
   "cell_type": "markdown",
   "metadata": {
    "hidden": true
   },
   "source": [
    "A partir de aquí probamos el efecto de diferentes máscaras:"
   ]
  },
  {
   "cell_type": "code",
   "execution_count": null,
   "metadata": {
    "hidden": true
   },
   "outputs": [],
   "source": [
    "ker = np.array([[ 0, 0, 0]\n",
    "               ,[ 0, 1, 0]\n",
    "               ,[ 0, 0, 0]])\n",
    "democonv(ker,f)"
   ]
  },
  {
   "cell_type": "code",
   "execution_count": null,
   "metadata": {
    "hidden": true
   },
   "outputs": [],
   "source": [
    "ker = np.array([[ 0, 0, 0]\n",
    "               ,[ 0, 3, 0]\n",
    "               ,[ 0, 0, 0]])\n",
    "democonv(ker,f)"
   ]
  },
  {
   "cell_type": "code",
   "execution_count": null,
   "metadata": {
    "hidden": true
   },
   "outputs": [],
   "source": [
    "ker = np.array([[ 0, 0, 0]\n",
    "               ,[ 0, .3, 0]\n",
    "               ,[ 0, 0, 0]])\n",
    "democonv(ker,f)"
   ]
  },
  {
   "cell_type": "code",
   "execution_count": null,
   "metadata": {
    "hidden": true
   },
   "outputs": [],
   "source": [
    "ker = np.zeros([11,11])\n",
    "ker[0,0] = 1\n",
    "ker[10,10] = 1\n",
    "ker = ker/np.sum(ker)\n",
    "\n",
    "democonv(ker,f)"
   ]
  },
  {
   "cell_type": "code",
   "execution_count": null,
   "metadata": {
    "hidden": true
   },
   "outputs": [],
   "source": [
    "ker = np.array([[ 0, 0, 0]\n",
    "               ,[ -1, 0, 1]\n",
    "               ,[ 0, 0, 0]])\n",
    "democonv(ker,f)"
   ]
  },
  {
   "cell_type": "markdown",
   "metadata": {
    "hidden": true
   },
   "source": [
    "Para visualizar mejor arrays cuyos elementos son floats con signo usamos un mapa de color (azul es negativo, blanco cero, y rojo positivo)."
   ]
  },
  {
   "cell_type": "code",
   "execution_count": null,
   "metadata": {
    "hidden": true
   },
   "outputs": [],
   "source": [
    "def democonvs(k,x,s=1):\n",
    "    print(k)\n",
    "    plt.figure(figsize=(12,4))\n",
    "    plt.subplot(1,2,1); imshowf(x); plt.title('original')\n",
    "    plt.subplot(1,2,2); imshows(cconv(k,x),s); plt.title('resultado')"
   ]
  },
  {
   "cell_type": "markdown",
   "metadata": {
    "hidden": true
   },
   "source": [
    "Derivada en dirección horizontal:"
   ]
  },
  {
   "cell_type": "code",
   "execution_count": null,
   "metadata": {
    "hidden": true
   },
   "outputs": [],
   "source": [
    "ker = np.array([[ 0, 0, 0]\n",
    "               ,[ -1, 0, 1]\n",
    "               ,[ 0, 0, 0]])\n",
    "democonvs(ker,f,0.2)"
   ]
  },
  {
   "cell_type": "markdown",
   "metadata": {
    "hidden": true
   },
   "source": [
    "Derivada en dirección vertical:"
   ]
  },
  {
   "cell_type": "code",
   "execution_count": null,
   "metadata": {
    "hidden": true
   },
   "outputs": [],
   "source": [
    "democonvs(ker.T,f,0.2)"
   ]
  },
  {
   "cell_type": "markdown",
   "metadata": {
    "hidden": true
   },
   "source": [
    "Podemos combinar los dos anteriores para conseguir una medida de \"borde\" en cualquier orientación:"
   ]
  },
  {
   "cell_type": "code",
   "execution_count": null,
   "metadata": {
    "hidden": true
   },
   "outputs": [],
   "source": [
    "def bordes(x):\n",
    "    kx = np.array([[ 0, 0, 0]\n",
    "                  ,[-1, 0, 1]\n",
    "                  ,[ 0, 0, 0]])\n",
    "    ky = kx.T\n",
    "    gx = cconv(kx,x)\n",
    "    gy = cconv(ky,x)\n",
    "    return abs(gx)+abs(gy)"
   ]
  },
  {
   "cell_type": "code",
   "execution_count": null,
   "metadata": {
    "hidden": true
   },
   "outputs": [],
   "source": [
    "imshowf(3*bordes(f))"
   ]
  },
  {
   "cell_type": "markdown",
   "metadata": {
    "hidden": true
   },
   "source": [
    "El operador Laplaciano es la suma de las segundas derivadas respecto a cada variable:\n",
    "\n",
    "$$\\nabla^2 I = \\frac{\\partial^2 I}{\\partial x^2} + \\frac{\\partial^2 I}{\\partial y^2}$$\n",
    "\n",
    "Su efecto es amplificar las frecuencias altas:"
   ]
  },
  {
   "cell_type": "code",
   "execution_count": null,
   "metadata": {
    "hidden": true
   },
   "outputs": [],
   "source": [
    "imshows(cv.Laplacian(f,-1),0.05)"
   ]
  },
  {
   "cell_type": "markdown",
   "metadata": {
    "hidden": true
   },
   "source": [
    "La siguiente máscara produce una aproximación al Laplaciano:"
   ]
  },
  {
   "cell_type": "code",
   "execution_count": null,
   "metadata": {
    "hidden": true
   },
   "outputs": [],
   "source": [
    "democonvs(([[ 0, -1,  0]\n",
    "           ,[ -1, 4, -1]\n",
    "           ,[ 0, -1,  0]]), f, 0.05)"
   ]
  },
  {
   "cell_type": "markdown",
   "metadata": {
    "hidden": true
   },
   "source": [
    "Se deduce de la aproximación a la derivada por diferencias finitas:\n",
    "\n",
    "$$\\frac{\\partial I}{\\partial x} \\simeq I(x+1,y) - I(x,y)$$"
   ]
  },
  {
   "cell_type": "code",
   "execution_count": null,
   "metadata": {
    "hidden": true
   },
   "outputs": [],
   "source": [
    "Dx = np.array([[-1,1]])\n",
    "\n",
    "signal.convolve2d(Dx,Dx)"
   ]
  },
  {
   "cell_type": "markdown",
   "metadata": {
    "hidden": true
   },
   "source": [
    "La suma de los coeficientes en las dos direcciones produce la máscara anterior."
   ]
  },
  {
   "cell_type": "markdown",
   "metadata": {
    "hidden": true
   },
   "source": [
    "Para calcular la derivadas suele utilizarse el operador de Sobel, cuyos coeficientes combinan automáticamente la diferencia de pixels con un leve suavizado de la imagen."
   ]
  },
  {
   "cell_type": "markdown",
   "metadata": {
    "heading_collapsed": true
   },
   "source": [
    "### Filtros de suavizado"
   ]
  },
  {
   "cell_type": "markdown",
   "metadata": {
    "hidden": true
   },
   "source": [
    "La siguiente máscara calcula la **media** de un entorno de radio 5."
   ]
  },
  {
   "cell_type": "code",
   "execution_count": null,
   "metadata": {
    "hidden": true
   },
   "outputs": [],
   "source": [
    "ker = np.ones([11,11])\n",
    "ker = ker/np.sum(ker)\n",
    "\n",
    "democonv(ker,f)"
   ]
  },
  {
   "cell_type": "markdown",
   "metadata": {
    "hidden": true
   },
   "source": [
    "Se consigue exactamente el mismo efecto con un \"box filter\"."
   ]
  },
  {
   "cell_type": "code",
   "execution_count": null,
   "metadata": {
    "hidden": true
   },
   "outputs": [],
   "source": [
    "same = -1 # para que la imagen de salida sea del mismo tipo que la de entrada\n",
    "\n",
    "imshowg(cv.boxFilter(f,same,(11,11)))"
   ]
  },
  {
   "cell_type": "markdown",
   "metadata": {
    "hidden": true
   },
   "source": [
    "Lo interesante es que está implementado internamente usando \"imágenes integrales\", por lo que el tiempo de cómputo es constante, independientemente del tamaño de la región que se promedia."
   ]
  },
  {
   "cell_type": "code",
   "execution_count": null,
   "metadata": {
    "hidden": true
   },
   "outputs": [],
   "source": [
    "imshowg(cv.boxFilter(f,same,(30,30)))"
   ]
  },
  {
   "cell_type": "code",
   "execution_count": null,
   "metadata": {
    "hidden": true
   },
   "outputs": [],
   "source": [
    "imshowg(cv.boxFilter(f,same,(300,300)))"
   ]
  },
  {
   "cell_type": "markdown",
   "metadata": {
    "hidden": true
   },
   "source": [
    "No obstante, promediar un entorno abrupto de cada pixel produce \"artefactos\". La forma correcta de eliminar detalles es usar el filtro **gaussiano**, donde los pixels cercanos tienen más peso en el promedio."
   ]
  },
  {
   "cell_type": "code",
   "execution_count": null,
   "metadata": {
    "hidden": true
   },
   "outputs": [],
   "source": [
    "auto = (0,0) # tamaño de la máscara automático, dependiendo de sigma\n",
    "sigma = 3\n",
    "\n",
    "imshowg(cv.GaussianBlur(f, auto, sigma))"
   ]
  },
  {
   "cell_type": "code",
   "execution_count": null,
   "metadata": {
    "hidden": true
   },
   "outputs": [],
   "source": [
    "imshowg(cv.GaussianBlur(f, auto, 20))"
   ]
  },
  {
   "cell_type": "markdown",
   "metadata": {
    "hidden": true
   },
   "source": [
    "Es interesante observar el efecto en la imagen considerada como una superficie de niveles de gris:"
   ]
  },
  {
   "cell_type": "code",
   "execution_count": null,
   "metadata": {
    "hidden": true
   },
   "outputs": [],
   "source": [
    "from mpl_toolkits.mplot3d import Axes3D\n",
    "\n",
    "fig = plt.figure(figsize=(13,5))\n",
    "ax = fig.add_subplot(121, projection='3d')\n",
    "\n",
    "r,c = g.shape\n",
    "x,y = np.meshgrid(np.arange(c), np.arange(r))\n",
    "\n",
    "# la coordenada z del gráfico 3D es el nivel de gris de la imagen anterior.\n",
    "z = 255-g\n",
    "\n",
    "ax.plot_surface(x,y,z, cmap='coolwarm', linewidth=0);\n",
    "ax.view_init(60, 20)\n",
    "\n",
    "ax = fig.add_subplot(122, projection='3d')\n",
    "z = cv.GaussianBlur(255-g, auto, 10)\n",
    "\n",
    "ax.plot_surface(x,y,z, cmap='coolwarm', linewidth=0);\n",
    "ax.view_init(60, 20)"
   ]
  },
  {
   "cell_type": "markdown",
   "metadata": {
    "heading_collapsed": true
   },
   "source": [
    "### Espacio de escala"
   ]
  },
  {
   "cell_type": "markdown",
   "metadata": {
    "hidden": true
   },
   "source": [
    "El filtro gaussiano tiene varias características importantes:\n",
    "\n",
    "- separable\n",
    "- no introduce detalles: espacio de escala\n",
    "- cascading\n",
    "- Fourier\n",
    "- analogía física\n",
    "\n",
    "<video src='https://raw.githubusercontent.com/albertoruiz/umucv/master/images/demos/diffusion.mp4' controls='play'>scale space 1 </video>\n",
    "\n",
    "<video src='https://raw.githubusercontent.com/albertoruiz/umucv/master/images/demos/gaucir.mp4' controls='play'>scale space 2 </video>"
   ]
  },
  {
   "cell_type": "markdown",
   "metadata": {
    "hidden": true
   },
   "source": [
    "![scale space](http://raw.githubusercontent.com/albertoruiz/umucv/master/images/demos/scalespace.png)"
   ]
  },
  {
   "cell_type": "markdown",
   "metadata": {
    "hidden": true
   },
   "source": [
    "![pyramid](http://raw.githubusercontent.com/albertoruiz/umucv/master/images/demos/pyramid.png)"
   ]
  },
  {
   "cell_type": "markdown",
   "metadata": {
    "heading_collapsed": true
   },
   "source": [
    "### Convolución 1D como operación matricial"
   ]
  },
  {
   "cell_type": "markdown",
   "metadata": {
    "hidden": true
   },
   "source": [
    "La operación de convolución con una máscara es realmente una forma compacta de expresar una operación lineal tradicional. En el caso unidimensional la correspondencia es sencilla:"
   ]
  },
  {
   "cell_type": "code",
   "execution_count": null,
   "metadata": {
    "hidden": true
   },
   "outputs": [],
   "source": [
    "x = np.arange(12)\n",
    "f = x % 4\n",
    "plt.plot(f);\n",
    "h = np.array([-1,2,-1])\n",
    "r = np.convolve(h,f)\n",
    "plt.plot(r[1:]);"
   ]
  },
  {
   "cell_type": "code",
   "execution_count": null,
   "metadata": {
    "hidden": true
   },
   "outputs": [],
   "source": [
    "M = np.zeros([len(x)-2,len(x)])\n",
    "for k in range(len(x)-2):\n",
    "    M[k,k:k+3] = h\n",
    "M"
   ]
  },
  {
   "cell_type": "code",
   "execution_count": null,
   "metadata": {
    "hidden": true
   },
   "outputs": [],
   "source": [
    "plt.plot(M @ f);"
   ]
  },
  {
   "cell_type": "markdown",
   "metadata": {
    "hidden": true
   },
   "source": [
    "Eso significa que en teoría es posible deshacer el efecto de un filtro lineal resolviendo un sistema de ecuaciones."
   ]
  },
  {
   "cell_type": "markdown",
   "metadata": {
    "heading_collapsed": true
   },
   "source": [
    "### Filtros no lineales"
   ]
  },
  {
   "cell_type": "markdown",
   "metadata": {
    "hidden": true
   },
   "source": [
    "El filtro de **mediana** es no lineal. Es útil para eliminar ruido de \"sal y pimienta\", suavizando la imagen sin destruir los bordes. (Requiere pixels de tipo byte.)"
   ]
  },
  {
   "cell_type": "code",
   "execution_count": null,
   "metadata": {
    "hidden": true
   },
   "outputs": [],
   "source": [
    "imshowg(cv.medianBlur(g,17))"
   ]
  },
  {
   "cell_type": "markdown",
   "metadata": {
    "hidden": true
   },
   "source": [
    "El filtro **bilateral** solo promedia pixels cercanos que además tienen un valor similar."
   ]
  },
  {
   "cell_type": "code",
   "execution_count": null,
   "metadata": {
    "hidden": true
   },
   "outputs": [],
   "source": [
    "imshowg(cv.bilateralFilter(g,0,10,10))"
   ]
  },
  {
   "cell_type": "code",
   "execution_count": null,
   "metadata": {
    "hidden": true
   },
   "outputs": [],
   "source": [
    "imshowg(cv.bilateralFilter(rgb,0,10,10))"
   ]
  },
  {
   "cell_type": "markdown",
   "metadata": {
    "hidden": true
   },
   "source": [
    "Filtros de máximo y mínimo"
   ]
  },
  {
   "cell_type": "code",
   "execution_count": null,
   "metadata": {},
   "outputs": [],
   "source": [
    "from scipy.ndimage import minimum_filter, maximum_filter"
   ]
  },
  {
   "cell_type": "code",
   "execution_count": null,
   "metadata": {},
   "outputs": [],
   "source": [
    "imshowg(minimum_filter(g,11))"
   ]
  },
  {
   "cell_type": "code",
   "execution_count": null,
   "metadata": {},
   "outputs": [],
   "source": [
    "imshowg(maximum_filter(g,11))"
   ]
  },
  {
   "cell_type": "markdown",
   "metadata": {
    "heading_collapsed": true
   },
   "source": [
    "### Operadores morfológicos"
   ]
  },
  {
   "cell_type": "markdown",
   "metadata": {
    "hidden": true
   },
   "source": [
    "(demo interactiva)\n",
    "\n",
    "[ejemplos opencv](https://docs.opencv.org/master/d9/d61/tutorial_py_morphological_ops.html#gsc.tab=0)\n",
    "\n",
    "[ejemplos skcikit image](http://scikit-image.org/docs/dev/auto_examples/applications/plot_morphology.html)"
   ]
  }
 ],
 "metadata": {
  "hide_input": false,
  "kernelspec": {
   "display_name": "Python 3 (ipykernel)",
   "language": "python",
   "name": "python3"
  },
  "language_info": {
   "codemirror_mode": {
    "name": "ipython",
    "version": 3
   },
   "file_extension": ".py",
   "mimetype": "text/x-python",
   "name": "python",
   "nbconvert_exporter": "python",
   "pygments_lexer": "ipython3",
   "version": "3.10.8"
  },
  "varInspector": {
   "cols": {
    "lenName": 16,
    "lenType": 16,
    "lenVar": 40
   },
   "kernels_config": {
    "python": {
     "delete_cmd_postfix": "",
     "delete_cmd_prefix": "del ",
     "library": "var_list.py",
     "varRefreshCmd": "print(var_dic_list())"
    },
    "r": {
     "delete_cmd_postfix": ") ",
     "delete_cmd_prefix": "rm(",
     "library": "var_list.r",
     "varRefreshCmd": "cat(var_dic_list()) "
    }
   },
   "types_to_exclude": [
    "module",
    "function",
    "builtin_function_or_method",
    "instance",
    "_Feature"
   ],
   "window_display": false
  }
 },
 "nbformat": 4,
 "nbformat_minor": 4
}
